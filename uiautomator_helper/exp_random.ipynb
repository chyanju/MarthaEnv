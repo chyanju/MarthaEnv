{
 "cells": [
  {
   "cell_type": "markdown",
   "metadata": {},
   "source": [
    "## Feature Extraction Functions"
   ]
  },
  {
   "cell_type": "code",
   "execution_count": 1,
   "metadata": {},
   "outputs": [],
   "source": [
    "from xml.dom import minidom\n",
    "from collections import defaultdict \n",
    "import numpy as np\n",
    "import editdistance\n",
    "import pickle\n",
    "import random\n",
    "import time\n",
    "\n",
    "EMBEDDING_DIM = 8\n",
    "MAX_TARGET_LENGTH = 30\n",
    "\n",
    "MAXN_STATE_NODES = 100 # maximum number of state nodes used\n",
    "MAX_TOKEN_LENGTH = 60 # maximum token length padded to\n",
    "\n",
    "NODE_KEY_LIST = [ \n",
    "    # slot names (keys) of a node to add as features\n",
    "    \"index\", # integer\n",
    "    \"bounds\", # interval\n",
    "    \"resource-id\", \"class\", # formatted string\n",
    "]\n",
    "NODE_KEY_DICT = {NODE_KEY_LIST[i]:i for i in range(len(NODE_KEY_LIST))}\n",
    "\n",
    "CHAR_LIST = [\"<PAD>\", \"<UNK>\"] +\\\n",
    "list(\"ABCDEFGHIJKLMNOPQRSTUVWXYZ\") +\\\n",
    "list(\"abcdefghijklmnopqrstuvwxyz\") +\\\n",
    "list(\"0123456789\") +\\\n",
    "list(\"`~!@#$%^&*()_+-={}|[]:;'',.<>/?\") +\\\n",
    "[\"\\\\\"] + ['\"']\n",
    "CHAR_DICT = defaultdict(\n",
    "    lambda:CHAR_LIST.index(\"<UNK>\"), \n",
    "    {CHAR_LIST[i]:i for i in range(len(CHAR_LIST))}\n",
    ")\n",
    "\n",
    "PADDING_NODE_VECTOR = [ [CHAR_DICT[\"<PAD>\"] for _ in range(MAX_TOKEN_LENGTH)] for _ in range(len(NODE_KEY_LIST))]"
   ]
  },
  {
   "cell_type": "markdown",
   "metadata": {},
   "source": [
    "## Pipeline Utils"
   ]
  },
  {
   "cell_type": "code",
   "execution_count": 2,
   "metadata": {},
   "outputs": [],
   "source": [
    "class Tracker(object):\n",
    "    def __init__(self):\n",
    "        self.tracker = {}\n",
    "        \n",
    "    def add_space(self, context, space):\n",
    "        # add new space to a context\n",
    "        # if the context exists already, ignore the request and do nothing\n",
    "        if context in self.tracker.keys():\n",
    "            pass\n",
    "        else:\n",
    "            self.tracker[context] = space\n",
    "            \n",
    "    def get_space(self, context):\n",
    "        return self.tracker[context]\n",
    "    \n",
    "    def update_space(self, context):\n",
    "        # provide a context, remove it from tracker\n",
    "        # and propagate the changes to all sub-contexts\n",
    "        action = context[-1] # last element is the action\n",
    "        prefix = context[:-1] # others are the context\n",
    "        self.tracker[prefix].remove(action) # prefix should exist, otherwise exception\n",
    "        if len(self.tracker[prefix]) == 0:\n",
    "            # propagate if exhausted\n",
    "            self.update_space(prefix)\n",
    "        \n",
    "    def count_space(self):\n",
    "        cnt = 0\n",
    "        for dkey in self.tracker.keys():\n",
    "            cnt += len(self.tracker[dkey])\n",
    "        return cnt"
   ]
  },
  {
   "cell_type": "code",
   "execution_count": 3,
   "metadata": {},
   "outputs": [],
   "source": [
    "class Logger(object):\n",
    "    def __init__(self, path, interval=10):\n",
    "        self.path = path\n",
    "        self.interval = interval\n",
    "        self.history = []\n",
    "        \n",
    "    def add(self, entry):\n",
    "        self.history.append(entry)\n",
    "        if len(self.history) % self.interval == 0:\n",
    "            with open(self.path, \"wb\") as f:\n",
    "                pickle.dump(self.history, f)"
   ]
  },
  {
   "cell_type": "code",
   "execution_count": 4,
   "metadata": {},
   "outputs": [],
   "source": [
    "def action_filter(arg_alist):\n",
    "    return arg_alist\n",
    "    # remove system Back/Home gui elements\n",
    "#     tmp0 = [\n",
    "#         arg_alist[i] \n",
    "#         for i in range(len(arg_alist)) \n",
    "#         if arg_alist[i].attributes[\"resource-id\"] not in\n",
    "#         [\"com.android.systemui:id/back\", \"com.android.systemui:id/home\", \"com.android.systemui:id/menu_container\"]\n",
    "#     ]\n",
    "#     if len(tmp0)>0:\n",
    "#         return tmp0\n",
    "#     else:\n",
    "#         tmp1 = [\n",
    "#             arg_alist[i] \n",
    "#             for i in range(len(arg_alist)) \n",
    "#             if arg_alist[i].attributes[\"resource-id\"] not in\n",
    "#             [\"com.android.systemui:id/home\", \"com.android.systemui:id/menu_container\"]\n",
    "#         ]\n",
    "#         if len(tmp1)>0:\n",
    "#             return tmp1\n",
    "#         else:\n",
    "#             return arg_alist\n",
    "#     tmp1 = [\n",
    "#         tmp0[i] \n",
    "#         for i in range(len(tmp0)) \n",
    "#         if \"android.widget.EditText\" not in tmp0[i].attributes[\"class\"]\n",
    "#     ]\n",
    "#     return tmp1"
   ]
  },
  {
   "cell_type": "code",
   "execution_count": 5,
   "metadata": {},
   "outputs": [],
   "source": [
    "def rollout(arg_config):\n",
    "    \n",
    "    for ep in range(arg_config[\"n_episodes\"]):\n",
    "        print(\"# episode {}\".format(ep))\n",
    "        \n",
    "        # reset\n",
    "        # arg_config[\"environment\"].clear_user_data()\n",
    "        arg_config[\"environment\"].launch_app()\n",
    "        time.sleep(2)\n",
    "        \n",
    "        rollout_action_ids = []\n",
    "        \n",
    "\n",
    "        for i in range(arg_config[\"maxn_steps\"]):\n",
    "            current_context = tuple(rollout_action_ids)\n",
    "\n",
    "            i_observation = arg_config[\"environment\"].get_current_state()\n",
    "            i_ids = action_filter(\n",
    "                arg_config[\"environment\"].get_available_actionable_elements(i_observation)\n",
    "            )\n",
    "            \n",
    "            ## FIXME: This is not a real fix, we need to have a way to know whether next activity is loaded. Since,\n",
    "            ## sometimes dumping window xml happens before even next activity or the screen is loaded. Now, we simply\n",
    "            ## introduce a delay of 2 sec if available actions are empty and dump the window hierarchy again. However,\n",
    "            ## even if i_ids still contains actions, that may be stale actions from previous activity. So, we should have\n",
    "            ## a way to know that the next activity or screen is actually loaded before window xml is dumped\n",
    "\n",
    "            if len(i_ids) == 0:\n",
    "                time.sleep(2)\n",
    "                i_observation = arg_config[\"environment\"].get_current_state()\n",
    "                i_ids = action_filter(\n",
    "                    arg_config[\"environment\"].get_available_actionable_elements(i_observation)\n",
    "                )\n",
    "            \n",
    "            # tracker\n",
    "            action_maskings = [0 for _ in range(len(i_ids))]\n",
    "            if arg_config[\"tracker\"] is not None:\n",
    "                # print(\"# add space: {}, {}\".format(current_context, list(range(len(i_ids)))))\n",
    "                arg_config[\"tracker\"].add_space(current_context, list(range(len(i_ids))))\n",
    "                tmp_av = arg_config[\"tracker\"].get_space(current_context)\n",
    "                # print(\"# tmp_av: {}\".format(tmp_av))\n",
    "                # print(\"# action_maskings: {}\".format(action_maskings))\n",
    "                # set maskings\n",
    "                for q in tmp_av:\n",
    "                    action_maskings[q] = 1\n",
    "            else:\n",
    "                action_maskings = [1 for _ in range(len(action_maskings))]\n",
    "\n",
    "            # explore\n",
    "            selected_action_id = random.choices(list(range(len(i_ids))), weights=action_maskings, k=1)[0]\n",
    "            rollout_action_ids.append(selected_action_id) # action is action_id in this case\n",
    "            arg_config[\"environment\"].perform_action(i_ids[selected_action_id])\n",
    "            \n",
    "            rlist = arg_config[\"environment\"].get_reached_goal_states(\"train\")\n",
    "            rlist = [p for p in rlist if p != '<com.zoffcc.applications.aagtl.ImageManager: void DownloadFromUrl(java.lang.String,java.lang.String)> : 11'] # 4s done\n",
    "            arg_config[\"logger\"].add({\n",
    "                \"ts\":time.time(), \"run\": arg_config[\"run_tracker\"], \"episode\": ep, \"step\": i,\n",
    "                \"actions\": len(i_ids), \"selected_id\": selected_action_id, \"selected_action\": i_ids[selected_action_id],\n",
    "                \"goal\": rlist, \n",
    "            })\n",
    "            if len(rlist)>0:\n",
    "                # goal state!\n",
    "                print(\"# rlist: {}\".format(rlist))\n",
    "                print(\"# goal state!\")\n",
    "                return\n",
    "        \n",
    "        if arg_config[\"tracker\"] is not None:\n",
    "            # mark the action sequence taken\n",
    "            arg_config[\"tracker\"].update_space(tuple(rollout_action_ids))\n",
    "        print(\"  steps={}, actions={}\".format(i, rollout_action_ids))\n",
    "        print(\"  tracker_space={}\".format(arg_config[\"tracker\"].count_space()))"
   ]
  },
  {
   "cell_type": "markdown",
   "metadata": {},
   "source": [
    "## set up environment"
   ]
  },
  {
   "cell_type": "code",
   "execution_count": 6,
   "metadata": {},
   "outputs": [
    {
     "name": "stderr",
     "output_type": "stream",
     "text": [
      "[INFO] | 2021-02-25 09:13:11 AM | analyzer.testapp_1 | Adb is running with root priviledges now!\n"
     ]
    },
    {
     "name": "stdout",
     "output_type": "stream",
     "text": [
      "\u001b[36m[#] Analysis started at: 2021-02-25 09:13:11 AM\u001b[0m\n"
     ]
    },
    {
     "name": "stderr",
     "output_type": "stream",
     "text": [
      "[INFO] | 2021-02-25 09:13:11 AM | analyzer.testapp_1 | Old logcat messages cleared!\n",
      "[INFO] | 2021-02-25 09:13:12 AM | analyzer.testapp_1 | APK installtion done for testapp_1.apk\n",
      "[INFO] | 2021-02-25 09:13:12 AM | analyzer.testapp_1 | Kill the current app if already spawned!\n",
      "[INFO] | 2021-02-25 09:13:12 AM | analyzer.testapp_1 | APK is already killed\n",
      "[INFO] | 2021-02-25 09:13:12 AM | analyzer.testapp_1 | Spawning the current app\n",
      "[INFO] | 2021-02-25 09:13:13 AM | analyzer.testapp_1 | Apk spawned successfully!\n",
      "[INFO] | 2021-02-25 09:13:15 AM | analyzer.testapp_1 | Old logcat messages cleared!\n"
     ]
    }
   ],
   "source": [
    "from main import *\n",
    "\n",
    "CURR_DIR = os.path.dirname(os.getcwd())\n",
    "OUTPUT_DIR = os.path.join(CURR_DIR, \"results\")\n",
    "\n",
    "args = {\n",
    "#     \"path\": \"../test/com.github.cetoolbox_11/app_simple0.apk\",\n",
    "#     \"path\": \"/Users/joseph/Desktop/UCSB/20summer/MarthaEnv/tmp/Wordpress_394/Wordpress_394.apk\",\n",
    "#     \"path\": \"/Users/joseph/Desktop/UCSB/20summer/MarthaEnv/tmp/com.zoffcc.applications.aagtl_31/com.zoffcc.applications.aagtl_31.apk\",\n",
    "#     \"path\": \"/Users/joseph/Desktop/UCSB/20summer/MarthaEnv/tmp/Translate/Translate.apk\",\n",
    "#     \"path\": \"/Users/joseph/Desktop/UCSB/20summer/MarthaEnv/tmp/com.chmod0.manpages_3/com.chmod0.manpages_3.apk\",\n",
    "#     \"path\": \"/Users/joseph/Desktop/UCSB/20summer/MarthaEnv/tmp/Book-Catalogue/Book-Catalogue.apk\",\n",
    "#     \"path\": \"/Users/joseph/Desktop/UCSB/20summer/MarthaEnv/test/out.andFHEM.apk\",\n",
    "#     \"path\": \"/Users/joseph/Desktop/UCSB/20summer/MarthaEnv/test/out.blue-chat.apk\",\n",
    "#     \"path\": \"/Users/joseph/Desktop/UCSB/20summer/MarthaEnv/test/out.CallMeter3G-debug.apk\",\n",
    "#     \"path\": \"/Users/joseph/Desktop/UCSB/20summer/MarthaEnv/test/out.Lucid-Browser.apk\",\n",
    "    \"path\": \"../results/test_app_1/testapp_1.apk\",\n",
    "    \"output\": \"../results/\",\n",
    "}\n",
    "\n",
    "if args[\"path\"] is not None:\n",
    "    pyaxmlparser_apk = APK(args[\"path\"])\n",
    "    apk_base_name = os.path.splitext(os.path.basename(args[\"path\"]))[0]\n",
    "\n",
    "else:\n",
    "    parser.print_usage()\n",
    "\n",
    "if args[\"output\"] is not None:\n",
    "    OUTPUT_DIR = args[\"output\"]\n",
    "\n",
    "output_dir = os.path.join(OUTPUT_DIR, apk_base_name)\n",
    "\n",
    "if os.path.exists(output_dir):\n",
    "    rmtree(output_dir)\n",
    "\n",
    "if not os.path.exists(output_dir):\n",
    "    os.mkdir(output_dir)\n",
    "\n",
    "# Setting the path for log file\n",
    "log_path = os.path.join(output_dir, 'analysis.log')\n",
    "log = init_logging('analyzer.%s' % apk_base_name, log_path, file_mode='w', console=True)\n",
    "\n",
    "# Record analysis start time\n",
    "now = datetime.datetime.now()\n",
    "analysis_start_time = now.strftime(DATE_FORMAT)\n",
    "info('Analysis started at: %s' % analysis_start_time)\n",
    "start_time = time.time()\n",
    "\n",
    "# Get the serial for the device attached to ADB\n",
    "device_serial = get_device_serial(log)\n",
    "\n",
    "if device_serial is None:\n",
    "    log.warning(\"Device is not connected!\")\n",
    "    sys.exit(1)\n",
    "\n",
    "# Initialize the uiautomator device object using the device serial\n",
    "uiautomator_device = u2.connect(device_serial)\n",
    "run_adb_as_root(log)\n",
    "apk = Apk(args[\"path\"], uiautomator_device, output_dir, log)\n",
    "apk.launch_app()\n",
    "# to track some goal state at startup, you don't have to do this\n",
    "apk.clean_logcat()"
   ]
  },
  {
   "cell_type": "code",
   "execution_count": 7,
   "metadata": {
    "scrolled": true
   },
   "outputs": [
    {
     "name": "stderr",
     "output_type": "stream",
     "text": [
      "[INFO] | 2021-02-25 09:13:15 AM | analyzer.testapp_1 | Kill the current app if already spawned!\n"
     ]
    },
    {
     "name": "stdout",
     "output_type": "stream",
     "text": [
      "# episode 0\n"
     ]
    },
    {
     "name": "stderr",
     "output_type": "stream",
     "text": [
      "[INFO] | 2021-02-25 09:13:15 AM | analyzer.testapp_1 | APK killed\n",
      "[INFO] | 2021-02-25 09:13:16 AM | analyzer.testapp_1 | Spawning the current app\n",
      "[INFO] | 2021-02-25 09:13:16 AM | analyzer.testapp_1 | Apk spawned successfully!\n"
     ]
    },
    {
     "ename": "IndexError",
     "evalue": "list index out of range",
     "output_type": "error",
     "traceback": [
      "\u001b[0;31m---------------------------------------------------------------------------\u001b[0m",
      "\u001b[0;31mIndexError\u001b[0m                                Traceback (most recent call last)",
      "\u001b[0;32m<ipython-input-7-75619a665c2c>\u001b[0m in \u001b[0;36m<module>\u001b[0;34m\u001b[0m\n\u001b[1;32m     11\u001b[0m \u001b[0mstart_time\u001b[0m \u001b[0;34m=\u001b[0m \u001b[0mtime\u001b[0m\u001b[0;34m.\u001b[0m\u001b[0mtime\u001b[0m\u001b[0;34m(\u001b[0m\u001b[0;34m)\u001b[0m\u001b[0;34m\u001b[0m\u001b[0;34m\u001b[0m\u001b[0m\n\u001b[1;32m     12\u001b[0m \u001b[0;32mwhile\u001b[0m \u001b[0;32mTrue\u001b[0m\u001b[0;34m:\u001b[0m\u001b[0;34m\u001b[0m\u001b[0;34m\u001b[0m\u001b[0m\n\u001b[0;32m---> 13\u001b[0;31m     \u001b[0mrollout\u001b[0m\u001b[0;34m(\u001b[0m\u001b[0mconfig\u001b[0m\u001b[0;34m)\u001b[0m\u001b[0;34m\u001b[0m\u001b[0;34m\u001b[0m\u001b[0m\n\u001b[0m\u001b[1;32m     14\u001b[0m \u001b[0;31m#     try:\u001b[0m\u001b[0;34m\u001b[0m\u001b[0;34m\u001b[0m\u001b[0;34m\u001b[0m\u001b[0m\n\u001b[1;32m     15\u001b[0m \u001b[0;31m#         rollout(config)\u001b[0m\u001b[0;34m\u001b[0m\u001b[0;34m\u001b[0m\u001b[0;34m\u001b[0m\u001b[0m\n",
      "\u001b[0;32m<ipython-input-5-b3a8ac90d6aa>\u001b[0m in \u001b[0;36mrollout\u001b[0;34m(arg_config)\u001b[0m\n\u001b[1;32m     48\u001b[0m \u001b[0;34m\u001b[0m\u001b[0m\n\u001b[1;32m     49\u001b[0m             \u001b[0;31m# explore\u001b[0m\u001b[0;34m\u001b[0m\u001b[0;34m\u001b[0m\u001b[0;34m\u001b[0m\u001b[0m\n\u001b[0;32m---> 50\u001b[0;31m             \u001b[0mselected_action_id\u001b[0m \u001b[0;34m=\u001b[0m \u001b[0mrandom\u001b[0m\u001b[0;34m.\u001b[0m\u001b[0mchoices\u001b[0m\u001b[0;34m(\u001b[0m\u001b[0mlist\u001b[0m\u001b[0;34m(\u001b[0m\u001b[0mrange\u001b[0m\u001b[0;34m(\u001b[0m\u001b[0mlen\u001b[0m\u001b[0;34m(\u001b[0m\u001b[0mi_ids\u001b[0m\u001b[0;34m)\u001b[0m\u001b[0;34m)\u001b[0m\u001b[0;34m)\u001b[0m\u001b[0;34m,\u001b[0m \u001b[0mweights\u001b[0m\u001b[0;34m=\u001b[0m\u001b[0maction_maskings\u001b[0m\u001b[0;34m,\u001b[0m \u001b[0mk\u001b[0m\u001b[0;34m=\u001b[0m\u001b[0;36m1\u001b[0m\u001b[0;34m)\u001b[0m\u001b[0;34m[\u001b[0m\u001b[0;36m0\u001b[0m\u001b[0;34m]\u001b[0m\u001b[0;34m\u001b[0m\u001b[0;34m\u001b[0m\u001b[0m\n\u001b[0m\u001b[1;32m     51\u001b[0m             \u001b[0mrollout_action_ids\u001b[0m\u001b[0;34m.\u001b[0m\u001b[0mappend\u001b[0m\u001b[0;34m(\u001b[0m\u001b[0mselected_action_id\u001b[0m\u001b[0;34m)\u001b[0m \u001b[0;31m# action is action_id in this case\u001b[0m\u001b[0;34m\u001b[0m\u001b[0;34m\u001b[0m\u001b[0m\n\u001b[1;32m     52\u001b[0m             \u001b[0marg_config\u001b[0m\u001b[0;34m[\u001b[0m\u001b[0;34m\"environment\"\u001b[0m\u001b[0;34m]\u001b[0m\u001b[0;34m.\u001b[0m\u001b[0mperform_action\u001b[0m\u001b[0;34m(\u001b[0m\u001b[0mi_ids\u001b[0m\u001b[0;34m[\u001b[0m\u001b[0mselected_action_id\u001b[0m\u001b[0;34m]\u001b[0m\u001b[0;34m)\u001b[0m\u001b[0;34m\u001b[0m\u001b[0;34m\u001b[0m\u001b[0m\n",
      "\u001b[0;32m~/anaconda3/lib/python3.6/random.py\u001b[0m in \u001b[0;36mchoices\u001b[0;34m(self, population, weights, cum_weights, k)\u001b[0m\n\u001b[1;32m    360\u001b[0m             \u001b[0;32mraise\u001b[0m \u001b[0mValueError\u001b[0m\u001b[0;34m(\u001b[0m\u001b[0;34m'The number of weights does not match the population'\u001b[0m\u001b[0;34m)\u001b[0m\u001b[0;34m\u001b[0m\u001b[0;34m\u001b[0m\u001b[0m\n\u001b[1;32m    361\u001b[0m         \u001b[0mbisect\u001b[0m \u001b[0;34m=\u001b[0m \u001b[0m_bisect\u001b[0m\u001b[0;34m.\u001b[0m\u001b[0mbisect\u001b[0m\u001b[0;34m\u001b[0m\u001b[0;34m\u001b[0m\u001b[0m\n\u001b[0;32m--> 362\u001b[0;31m         \u001b[0mtotal\u001b[0m \u001b[0;34m=\u001b[0m \u001b[0mcum_weights\u001b[0m\u001b[0;34m[\u001b[0m\u001b[0;34m-\u001b[0m\u001b[0;36m1\u001b[0m\u001b[0;34m]\u001b[0m\u001b[0;34m\u001b[0m\u001b[0;34m\u001b[0m\u001b[0m\n\u001b[0m\u001b[1;32m    363\u001b[0m         \u001b[0mhi\u001b[0m \u001b[0;34m=\u001b[0m \u001b[0mlen\u001b[0m\u001b[0;34m(\u001b[0m\u001b[0mcum_weights\u001b[0m\u001b[0;34m)\u001b[0m \u001b[0;34m-\u001b[0m \u001b[0;36m1\u001b[0m\u001b[0;34m\u001b[0m\u001b[0;34m\u001b[0m\u001b[0m\n\u001b[1;32m    364\u001b[0m         return [population[bisect(cum_weights, random() * total, 0, hi)]\n",
      "\u001b[0;31mIndexError\u001b[0m: list index out of range"
     ]
    }
   ],
   "source": [
    "tr = Tracker()\n",
    "lg = Logger(\"../results/log.pkl\")\n",
    "config = {\n",
    "    \"environment\": apk,\n",
    "    \"maxn_steps\": 3,\n",
    "    \"n_episodes\": 1000000,\n",
    "    \"tracker\": tr,\n",
    "    \"logger\": lg,\n",
    "    \"run_tracker\": 0\n",
    "}\n",
    "start_time = time.time()\n",
    "while True:\n",
    "    rollout(config)\n",
    "#     try:\n",
    "#         rollout(config)\n",
    "#     except:\n",
    "#         config[\"run_tracker\"] += 1\n",
    "#         continue\n",
    "    # break\n",
    "end_time = time.time()\n",
    "print(\"# total time: {}\".format(end_time-start_time))"
   ]
  },
  {
   "cell_type": "code",
   "execution_count": null,
   "metadata": {},
   "outputs": [],
   "source": []
  },
  {
   "cell_type": "code",
   "execution_count": null,
   "metadata": {},
   "outputs": [],
   "source": [
    "apk.clear_user_data()"
   ]
  },
  {
   "cell_type": "code",
   "execution_count": null,
   "metadata": {},
   "outputs": [],
   "source": [
    "i_observation = apk.get_current_state()\n",
    "# apk.get_available_actionable_elements(i_observation)\n",
    "action_filter(apk.get_available_actionable_elements(i_observation))"
   ]
  },
  {
   "cell_type": "code",
   "execution_count": null,
   "metadata": {},
   "outputs": [],
   "source": [
    "apk.get_reached_goal_states(\"train\")"
   ]
  },
  {
   "cell_type": "code",
   "execution_count": null,
   "metadata": {},
   "outputs": [],
   "source": [
    "apk.get_available_actionable_elements(i_observation)[-2].attributes"
   ]
  },
  {
   "cell_type": "code",
   "execution_count": null,
   "metadata": {},
   "outputs": [],
   "source": [
    "action_filter(apk.get_available_actionable_elements(i_observation))[-1].attributes"
   ]
  },
  {
   "cell_type": "code",
   "execution_count": null,
   "metadata": {},
   "outputs": [],
   "source": [
    "apk.perform_action(\n",
    "    action_filter(apk.get_available_actionable_elements(i_observation))[-6]\n",
    ")"
   ]
  },
  {
   "cell_type": "code",
   "execution_count": null,
   "metadata": {},
   "outputs": [],
   "source": [
    "tk = Tracker()"
   ]
  },
  {
   "cell_type": "code",
   "execution_count": null,
   "metadata": {},
   "outputs": [],
   "source": [
    "tk.add_space((), [1,2,3,4])"
   ]
  },
  {
   "cell_type": "code",
   "execution_count": null,
   "metadata": {},
   "outputs": [],
   "source": [
    "tk.add_space((1,), [11,12,13,14])"
   ]
  },
  {
   "cell_type": "code",
   "execution_count": null,
   "metadata": {},
   "outputs": [],
   "source": [
    "tk.update_space((1,14))"
   ]
  },
  {
   "cell_type": "code",
   "execution_count": null,
   "metadata": {},
   "outputs": [],
   "source": [
    "tk.tracker"
   ]
  },
  {
   "cell_type": "code",
   "execution_count": null,
   "metadata": {},
   "outputs": [],
   "source": []
  }
 ],
 "metadata": {
  "kernelspec": {
   "display_name": "Python 3",
   "language": "python",
   "name": "python3"
  },
  "language_info": {
   "codemirror_mode": {
    "name": "ipython",
    "version": 3
   },
   "file_extension": ".py",
   "mimetype": "text/x-python",
   "name": "python",
   "nbconvert_exporter": "python",
   "pygments_lexer": "ipython3",
   "version": "3.6.9"
  }
 },
 "nbformat": 4,
 "nbformat_minor": 4
}

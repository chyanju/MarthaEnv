{
 "cells": [
  {
   "cell_type": "markdown",
   "metadata": {},
   "source": [
    "## Feature Extraction Functions"
   ]
  },
  {
   "cell_type": "code",
   "execution_count": 1,
   "metadata": {},
   "outputs": [],
   "source": [
    "from xml.dom import minidom\n",
    "from collections import defaultdict \n",
    "import numpy as np\n",
    "import editdistance\n",
    "import random\n",
    "\n",
    "EMBEDDING_DIM = 8\n",
    "MAX_TARGET_LENGTH = 30\n",
    "\n",
    "MAXN_STATE_NODES = 100 # maximum number of state nodes used\n",
    "MAX_TOKEN_LENGTH = 60 # maximum token length padded to\n",
    "\n",
    "NODE_KEY_LIST = [ \n",
    "    # slot names (keys) of a node to add as features\n",
    "    \"index\", # integer\n",
    "    \"bounds\", # interval\n",
    "    \"resource-id\", \"class\", # formatted string\n",
    "]\n",
    "NODE_KEY_DICT = {NODE_KEY_LIST[i]:i for i in range(len(NODE_KEY_LIST))}\n",
    "\n",
    "CHAR_LIST = [\"<PAD>\", \"<UNK>\"] +\\\n",
    "list(\"ABCDEFGHIJKLMNOPQRSTUVWXYZ\") +\\\n",
    "list(\"abcdefghijklmnopqrstuvwxyz\") +\\\n",
    "list(\"0123456789\") +\\\n",
    "list(\"`~!@#$%^&*()_+-={}|[]:;'',.<>/?\") +\\\n",
    "[\"\\\\\"] + ['\"']\n",
    "CHAR_DICT = defaultdict(\n",
    "    lambda:CHAR_LIST.index(\"<UNK>\"), \n",
    "    {CHAR_LIST[i]:i for i in range(len(CHAR_LIST))}\n",
    ")\n",
    "\n",
    "PADDING_NODE_VECTOR = [ [CHAR_DICT[\"<PAD>\"] for _ in range(MAX_TOKEN_LENGTH)] for _ in range(len(NODE_KEY_LIST))]"
   ]
  },
  {
   "cell_type": "markdown",
   "metadata": {},
   "source": [
    "## Pipeline Utils"
   ]
  },
  {
   "cell_type": "code",
   "execution_count": 2,
   "metadata": {},
   "outputs": [],
   "source": [
    "def action_filter(arg_alist):\n",
    "    # remove system Back/Home gui elements\n",
    "    tmp0 = [\n",
    "        arg_alist[i] \n",
    "        for i in range(len(arg_alist)) \n",
    "        if \"com.android.systemui\" not in arg_alist[i].attributes[\"resource-id\"]\n",
    "    ]\n",
    "    return tmp0\n",
    "#     tmp1 = [\n",
    "#         tmp0[i] \n",
    "#         for i in range(len(tmp0)) \n",
    "#         if \"android.widget.EditText\" not in tmp0[i].attributes[\"class\"]\n",
    "#     ]\n",
    "#     return tmp1"
   ]
  },
  {
   "cell_type": "code",
   "execution_count": 3,
   "metadata": {},
   "outputs": [],
   "source": [
    "def rollout(arg_config):\n",
    "    \n",
    "    for ep in range(arg_config[\"n_episodes\"]):\n",
    "        print(\"# episode {}\".format(ep))\n",
    "        \n",
    "        # reset\n",
    "        arg_config[\"environment\"].launch_app()\n",
    "        \n",
    "        rollout_action_ids = []\n",
    "\n",
    "        for i in range(arg_config[\"maxn_steps\"]):\n",
    "\n",
    "            i_observation = arg_config[\"environment\"].get_current_state()\n",
    "            i_ids = action_filter(\n",
    "                arg_config[\"environment\"].get_available_actionable_elements(i_observation)\n",
    "            )\n",
    "\n",
    "            # explore\n",
    "            selected_action_id = random.choice(list(range(len(i_ids))))\n",
    "            rollout_action_ids.append(selected_action_id) # action is action_id in this case\n",
    "            arg_config[\"environment\"].perform_action(i_ids[selected_action_id])\n",
    "            rlist = arg_config[\"environment\"].get_reached_goal_states(\"train\")\n",
    "            if len(rlist)>0:\n",
    "                # goal state!\n",
    "                input(\"PAUSE: goal state!\")\n",
    "                break\n",
    "                \n",
    "        print(\"  steps={}, actions={}\".format(i, rollout_action_ids))"
   ]
  },
  {
   "cell_type": "markdown",
   "metadata": {},
   "source": [
    "## set up environment"
   ]
  },
  {
   "cell_type": "code",
   "execution_count": 4,
   "metadata": {},
   "outputs": [
    {
     "name": "stderr",
     "output_type": "stream",
     "text": [
      "[INFO] | 2020-12-29 01:46:51 PM | analyzer.app_simple0 | Adb is running with root priviledges now!\n"
     ]
    },
    {
     "name": "stdout",
     "output_type": "stream",
     "text": [
      "\u001b[36m[#] Analysis started at: 2020-12-29 01:46:51 PM\u001b[0m\n"
     ]
    },
    {
     "name": "stderr",
     "output_type": "stream",
     "text": [
      "[INFO] | 2020-12-29 01:46:51 PM | analyzer.app_simple0 | Old logcat messages cleared!\n"
     ]
    },
    {
     "name": "stdout",
     "output_type": "stream",
     "text": [
      "\n",
      "\n"
     ]
    },
    {
     "name": "stderr",
     "output_type": "stream",
     "text": [
      "[INFO] | 2020-12-29 01:46:52 PM | analyzer.app_simple0 | APK installtion done for app_simple0.apk\n",
      "[INFO] | 2020-12-29 01:46:52 PM | analyzer.app_simple0 | Kill the current app if already spawned!\n",
      "[INFO] | 2020-12-29 01:46:52 PM | analyzer.app_simple0 | APK is already killed\n",
      "[INFO] | 2020-12-29 01:46:52 PM | analyzer.app_simple0 | Spawning the current app\n",
      "[INFO] | 2020-12-29 01:46:54 PM | analyzer.app_simple0 | Old logcat messages cleared!\n"
     ]
    },
    {
     "name": "stdout",
     "output_type": "stream",
     "text": [
      "\n",
      "\n"
     ]
    }
   ],
   "source": [
    "from main import *\n",
    "\n",
    "CURR_DIR = os.path.dirname(os.getcwd())\n",
    "OUTPUT_DIR = os.path.join(CURR_DIR, \"results\")\n",
    "\n",
    "args = {\n",
    "    \"path\": \"../test/com.github.cetoolbox_11/app_simple0.apk\",\n",
    "    \"output\": \"../results/\",\n",
    "}\n",
    "\n",
    "if args[\"path\"] is not None:\n",
    "    pyaxmlparser_apk = APK(args[\"path\"])\n",
    "    apk_base_name = os.path.splitext(os.path.basename(args[\"path\"]))[0]\n",
    "\n",
    "else:\n",
    "    parser.print_usage()\n",
    "\n",
    "if args[\"output\"] is not None:\n",
    "    OUTPUT_DIR = args[\"output\"]\n",
    "\n",
    "output_dir = os.path.join(OUTPUT_DIR, apk_base_name)\n",
    "\n",
    "if os.path.exists(output_dir):\n",
    "    rmtree(output_dir)\n",
    "\n",
    "if not os.path.exists(output_dir):\n",
    "    os.mkdir(output_dir)\n",
    "\n",
    "# Setting the path for log file\n",
    "log_path = os.path.join(output_dir, 'analysis.log')\n",
    "log = init_logging('analyzer.%s' % apk_base_name, log_path, file_mode='w', console=True)\n",
    "\n",
    "# Record analysis start time\n",
    "now = datetime.datetime.now()\n",
    "analysis_start_time = now.strftime(DATE_FORMAT)\n",
    "info('Analysis started at: %s' % analysis_start_time)\n",
    "start_time = time.time()\n",
    "\n",
    "# Get the serial for the device attached to ADB\n",
    "device_serial = get_device_serial(log)\n",
    "\n",
    "if device_serial is None:\n",
    "    log.warning(\"Device is not connected!\")\n",
    "    sys.exit(1)\n",
    "\n",
    "# Initialize the uiautomator device object using the device serial\n",
    "uiautomator_device = u2.connect(device_serial)\n",
    "run_adb_as_root(log)\n",
    "apk = Apk(args[\"path\"], uiautomator_device, log)\n",
    "apk.launch_app()\n",
    "# to track some goal state at startup, you don't have to do this\n",
    "apk.clean_logcat()"
   ]
  },
  {
   "cell_type": "code",
   "execution_count": null,
   "metadata": {
    "scrolled": true
   },
   "outputs": [
    {
     "name": "stderr",
     "output_type": "stream",
     "text": [
      "[INFO] | 2020-12-29 01:46:54 PM | analyzer.app_simple0 | Kill the current app if already spawned!\n"
     ]
    },
    {
     "name": "stdout",
     "output_type": "stream",
     "text": [
      "# episode 0\n"
     ]
    },
    {
     "name": "stderr",
     "output_type": "stream",
     "text": [
      "[INFO] | 2020-12-29 01:46:55 PM | analyzer.app_simple0 | APK killed\n",
      "[INFO] | 2020-12-29 01:46:55 PM | analyzer.app_simple0 | Spawning the current app\n",
      "[INFO] | 2020-12-29 01:47:03 PM | analyzer.app_simple0 | Kill the current app if already spawned!\n"
     ]
    },
    {
     "name": "stdout",
     "output_type": "stream",
     "text": [
      "  steps=3, actions=[10, 0, 3, 0]\n",
      "# episode 1\n"
     ]
    },
    {
     "name": "stderr",
     "output_type": "stream",
     "text": [
      "[INFO] | 2020-12-29 01:47:03 PM | analyzer.app_simple0 | APK killed\n",
      "[INFO] | 2020-12-29 01:47:03 PM | analyzer.app_simple0 | Spawning the current app\n",
      "[INFO] | 2020-12-29 01:47:11 PM | analyzer.app_simple0 | Kill the current app if already spawned!\n"
     ]
    },
    {
     "name": "stdout",
     "output_type": "stream",
     "text": [
      "  steps=3, actions=[2, 1, 7, 11]\n",
      "# episode 2\n"
     ]
    },
    {
     "name": "stderr",
     "output_type": "stream",
     "text": [
      "[INFO] | 2020-12-29 01:47:11 PM | analyzer.app_simple0 | APK killed\n",
      "[INFO] | 2020-12-29 01:47:11 PM | analyzer.app_simple0 | Spawning the current app\n",
      "[INFO] | 2020-12-29 01:47:19 PM | analyzer.app_simple0 | Kill the current app if already spawned!\n"
     ]
    },
    {
     "name": "stdout",
     "output_type": "stream",
     "text": [
      "  steps=3, actions=[9, 2, 0, 0]\n",
      "# episode 3\n"
     ]
    },
    {
     "name": "stderr",
     "output_type": "stream",
     "text": [
      "[INFO] | 2020-12-29 01:47:19 PM | analyzer.app_simple0 | APK killed\n",
      "[INFO] | 2020-12-29 01:47:19 PM | analyzer.app_simple0 | Spawning the current app\n",
      "[INFO] | 2020-12-29 01:47:28 PM | analyzer.app_simple0 | Kill the current app if already spawned!\n"
     ]
    },
    {
     "name": "stdout",
     "output_type": "stream",
     "text": [
      "  steps=3, actions=[7, 0, 9, 5]\n",
      "# episode 4\n"
     ]
    },
    {
     "name": "stderr",
     "output_type": "stream",
     "text": [
      "[INFO] | 2020-12-29 01:47:28 PM | analyzer.app_simple0 | APK killed\n",
      "[INFO] | 2020-12-29 01:47:28 PM | analyzer.app_simple0 | Spawning the current app\n",
      "[INFO] | 2020-12-29 01:47:36 PM | analyzer.app_simple0 | Kill the current app if already spawned!\n"
     ]
    },
    {
     "name": "stdout",
     "output_type": "stream",
     "text": [
      "  steps=3, actions=[10, 10, 1, 11]\n",
      "# episode 5\n"
     ]
    },
    {
     "name": "stderr",
     "output_type": "stream",
     "text": [
      "[INFO] | 2020-12-29 01:47:36 PM | analyzer.app_simple0 | APK killed\n",
      "[INFO] | 2020-12-29 01:47:36 PM | analyzer.app_simple0 | Spawning the current app\n",
      "[INFO] | 2020-12-29 01:47:44 PM | analyzer.app_simple0 | Kill the current app if already spawned!\n"
     ]
    },
    {
     "name": "stdout",
     "output_type": "stream",
     "text": [
      "  steps=3, actions=[2, 1, 11, 8]\n",
      "# episode 6\n"
     ]
    },
    {
     "name": "stderr",
     "output_type": "stream",
     "text": [
      "[INFO] | 2020-12-29 01:47:44 PM | analyzer.app_simple0 | APK killed\n",
      "[INFO] | 2020-12-29 01:47:44 PM | analyzer.app_simple0 | Spawning the current app\n",
      "[INFO] | 2020-12-29 01:47:52 PM | analyzer.app_simple0 | Kill the current app if already spawned!\n"
     ]
    },
    {
     "name": "stdout",
     "output_type": "stream",
     "text": [
      "  steps=3, actions=[4, 9, 6, 0]\n",
      "# episode 7\n"
     ]
    },
    {
     "name": "stderr",
     "output_type": "stream",
     "text": [
      "[INFO] | 2020-12-29 01:47:52 PM | analyzer.app_simple0 | APK killed\n",
      "[INFO] | 2020-12-29 01:47:52 PM | analyzer.app_simple0 | Spawning the current app\n",
      "[INFO] | 2020-12-29 01:48:00 PM | analyzer.app_simple0 | Kill the current app if already spawned!\n"
     ]
    },
    {
     "name": "stdout",
     "output_type": "stream",
     "text": [
      "  steps=3, actions=[13, 7, 11, 2]\n",
      "# episode 8\n"
     ]
    },
    {
     "name": "stderr",
     "output_type": "stream",
     "text": [
      "[INFO] | 2020-12-29 01:48:01 PM | analyzer.app_simple0 | APK killed\n",
      "[INFO] | 2020-12-29 01:48:01 PM | analyzer.app_simple0 | Spawning the current app\n",
      "[INFO] | 2020-12-29 01:48:09 PM | analyzer.app_simple0 | Kill the current app if already spawned!\n"
     ]
    },
    {
     "name": "stdout",
     "output_type": "stream",
     "text": [
      "  steps=3, actions=[0, 10, 0, 6]\n",
      "# episode 9\n"
     ]
    },
    {
     "name": "stderr",
     "output_type": "stream",
     "text": [
      "[INFO] | 2020-12-29 01:48:09 PM | analyzer.app_simple0 | APK killed\n",
      "[INFO] | 2020-12-29 01:48:09 PM | analyzer.app_simple0 | Spawning the current app\n",
      "[INFO] | 2020-12-29 01:48:17 PM | analyzer.app_simple0 | Kill the current app if already spawned!\n"
     ]
    },
    {
     "name": "stdout",
     "output_type": "stream",
     "text": [
      "  steps=3, actions=[3, 7, 10, 4]\n",
      "# episode 10\n"
     ]
    },
    {
     "name": "stderr",
     "output_type": "stream",
     "text": [
      "[INFO] | 2020-12-29 01:48:18 PM | analyzer.app_simple0 | APK killed\n",
      "[INFO] | 2020-12-29 01:48:18 PM | analyzer.app_simple0 | Spawning the current app\n",
      "[INFO] | 2020-12-29 01:48:26 PM | analyzer.app_simple0 | Kill the current app if already spawned!\n"
     ]
    },
    {
     "name": "stdout",
     "output_type": "stream",
     "text": [
      "  steps=3, actions=[2, 1, 1, 8]\n",
      "# episode 11\n"
     ]
    },
    {
     "name": "stderr",
     "output_type": "stream",
     "text": [
      "[INFO] | 2020-12-29 01:48:26 PM | analyzer.app_simple0 | APK killed\n",
      "[INFO] | 2020-12-29 01:48:26 PM | analyzer.app_simple0 | Spawning the current app\n",
      "[INFO] | 2020-12-29 01:48:34 PM | analyzer.app_simple0 | Kill the current app if already spawned!\n"
     ]
    },
    {
     "name": "stdout",
     "output_type": "stream",
     "text": [
      "  steps=3, actions=[11, 3, 3, 10]\n",
      "# episode 12\n"
     ]
    },
    {
     "name": "stderr",
     "output_type": "stream",
     "text": [
      "[INFO] | 2020-12-29 01:48:34 PM | analyzer.app_simple0 | APK killed\n",
      "[INFO] | 2020-12-29 01:48:34 PM | analyzer.app_simple0 | Spawning the current app\n",
      "[INFO] | 2020-12-29 01:48:42 PM | analyzer.app_simple0 | Kill the current app if already spawned!\n"
     ]
    },
    {
     "name": "stdout",
     "output_type": "stream",
     "text": [
      "  steps=3, actions=[12, 8, 9, 10]\n",
      "# episode 13\n"
     ]
    },
    {
     "name": "stderr",
     "output_type": "stream",
     "text": [
      "[INFO] | 2020-12-29 01:48:43 PM | analyzer.app_simple0 | APK killed\n",
      "[INFO] | 2020-12-29 01:48:43 PM | analyzer.app_simple0 | Spawning the current app\n",
      "[INFO] | 2020-12-29 01:48:51 PM | analyzer.app_simple0 | Kill the current app if already spawned!\n"
     ]
    },
    {
     "name": "stdout",
     "output_type": "stream",
     "text": [
      "  steps=3, actions=[3, 10, 7, 10]\n",
      "# episode 14\n"
     ]
    },
    {
     "name": "stderr",
     "output_type": "stream",
     "text": [
      "[INFO] | 2020-12-29 01:48:51 PM | analyzer.app_simple0 | APK killed\n",
      "[INFO] | 2020-12-29 01:48:51 PM | analyzer.app_simple0 | Spawning the current app\n",
      "[INFO] | 2020-12-29 01:48:59 PM | analyzer.app_simple0 | Kill the current app if already spawned!\n"
     ]
    },
    {
     "name": "stdout",
     "output_type": "stream",
     "text": [
      "  steps=3, actions=[8, 2, 1, 10]\n",
      "# episode 15\n"
     ]
    },
    {
     "name": "stderr",
     "output_type": "stream",
     "text": [
      "[INFO] | 2020-12-29 01:48:59 PM | analyzer.app_simple0 | APK killed\n",
      "[INFO] | 2020-12-29 01:48:59 PM | analyzer.app_simple0 | Spawning the current app\n",
      "[INFO] | 2020-12-29 01:49:08 PM | analyzer.app_simple0 | Kill the current app if already spawned!\n"
     ]
    },
    {
     "name": "stdout",
     "output_type": "stream",
     "text": [
      "  steps=3, actions=[0, 0, 11, 1]\n",
      "# episode 16\n"
     ]
    },
    {
     "name": "stderr",
     "output_type": "stream",
     "text": [
      "[INFO] | 2020-12-29 01:49:08 PM | analyzer.app_simple0 | APK killed\n",
      "[INFO] | 2020-12-29 01:49:08 PM | analyzer.app_simple0 | Spawning the current app\n",
      "[INFO] | 2020-12-29 01:49:16 PM | analyzer.app_simple0 | Kill the current app if already spawned!\n"
     ]
    },
    {
     "name": "stdout",
     "output_type": "stream",
     "text": [
      "  steps=3, actions=[8, 1, 1, 2]\n",
      "# episode 17\n"
     ]
    },
    {
     "name": "stderr",
     "output_type": "stream",
     "text": [
      "[INFO] | 2020-12-29 01:49:16 PM | analyzer.app_simple0 | APK killed\n",
      "[INFO] | 2020-12-29 01:49:16 PM | analyzer.app_simple0 | Spawning the current app\n",
      "[INFO] | 2020-12-29 01:49:24 PM | analyzer.app_simple0 | Kill the current app if already spawned!\n"
     ]
    },
    {
     "name": "stdout",
     "output_type": "stream",
     "text": [
      "  steps=3, actions=[13, 12, 9, 12]\n",
      "# episode 18\n"
     ]
    },
    {
     "name": "stderr",
     "output_type": "stream",
     "text": [
      "[INFO] | 2020-12-29 01:49:25 PM | analyzer.app_simple0 | APK killed\n",
      "[INFO] | 2020-12-29 01:49:25 PM | analyzer.app_simple0 | Spawning the current app\n",
      "[INFO] | 2020-12-29 01:49:33 PM | analyzer.app_simple0 | Kill the current app if already spawned!\n"
     ]
    },
    {
     "name": "stdout",
     "output_type": "stream",
     "text": [
      "  steps=3, actions=[13, 4, 8, 6]\n",
      "# episode 19\n"
     ]
    },
    {
     "name": "stderr",
     "output_type": "stream",
     "text": [
      "[INFO] | 2020-12-29 01:49:33 PM | analyzer.app_simple0 | APK killed\n",
      "[INFO] | 2020-12-29 01:49:33 PM | analyzer.app_simple0 | Spawning the current app\n",
      "[INFO] | 2020-12-29 01:49:41 PM | analyzer.app_simple0 | Kill the current app if already spawned!\n"
     ]
    },
    {
     "name": "stdout",
     "output_type": "stream",
     "text": [
      "  steps=3, actions=[2, 0, 11, 8]\n",
      "# episode 20\n"
     ]
    },
    {
     "name": "stderr",
     "output_type": "stream",
     "text": [
      "[INFO] | 2020-12-29 01:49:41 PM | analyzer.app_simple0 | APK killed\n",
      "[INFO] | 2020-12-29 01:49:42 PM | analyzer.app_simple0 | Spawning the current app\n",
      "[INFO] | 2020-12-29 01:49:49 PM | analyzer.app_simple0 | Kill the current app if already spawned!\n"
     ]
    },
    {
     "name": "stdout",
     "output_type": "stream",
     "text": [
      "  steps=3, actions=[0, 10, 6, 0]\n",
      "# episode 21\n"
     ]
    },
    {
     "name": "stderr",
     "output_type": "stream",
     "text": [
      "[INFO] | 2020-12-29 01:49:50 PM | analyzer.app_simple0 | APK killed\n",
      "[INFO] | 2020-12-29 01:49:50 PM | analyzer.app_simple0 | Spawning the current app\n",
      "[INFO] | 2020-12-29 01:49:58 PM | analyzer.app_simple0 | Kill the current app if already spawned!\n"
     ]
    },
    {
     "name": "stdout",
     "output_type": "stream",
     "text": [
      "  steps=3, actions=[4, 0, 10, 5]\n",
      "# episode 22\n"
     ]
    },
    {
     "name": "stderr",
     "output_type": "stream",
     "text": [
      "[INFO] | 2020-12-29 01:49:58 PM | analyzer.app_simple0 | APK killed\n",
      "[INFO] | 2020-12-29 01:49:58 PM | analyzer.app_simple0 | Spawning the current app\n",
      "[INFO] | 2020-12-29 01:50:06 PM | analyzer.app_simple0 | Kill the current app if already spawned!\n"
     ]
    },
    {
     "name": "stdout",
     "output_type": "stream",
     "text": [
      "  steps=3, actions=[11, 7, 9, 9]\n",
      "# episode 23\n"
     ]
    },
    {
     "name": "stderr",
     "output_type": "stream",
     "text": [
      "[INFO] | 2020-12-29 01:50:06 PM | analyzer.app_simple0 | APK killed\n",
      "[INFO] | 2020-12-29 01:50:06 PM | analyzer.app_simple0 | Spawning the current app\n",
      "[INFO] | 2020-12-29 01:50:15 PM | analyzer.app_simple0 | Kill the current app if already spawned!\n"
     ]
    },
    {
     "name": "stdout",
     "output_type": "stream",
     "text": [
      "  steps=3, actions=[8, 7, 12, 5]\n",
      "# episode 24\n"
     ]
    },
    {
     "name": "stderr",
     "output_type": "stream",
     "text": [
      "[INFO] | 2020-12-29 01:50:15 PM | analyzer.app_simple0 | APK killed\n",
      "[INFO] | 2020-12-29 01:50:15 PM | analyzer.app_simple0 | Spawning the current app\n",
      "[INFO] | 2020-12-29 01:50:23 PM | analyzer.app_simple0 | Kill the current app if already spawned!\n"
     ]
    },
    {
     "name": "stdout",
     "output_type": "stream",
     "text": [
      "  steps=3, actions=[4, 9, 10, 13]\n",
      "# episode 25\n"
     ]
    },
    {
     "name": "stderr",
     "output_type": "stream",
     "text": [
      "[INFO] | 2020-12-29 01:50:23 PM | analyzer.app_simple0 | APK killed\n",
      "[INFO] | 2020-12-29 01:50:23 PM | analyzer.app_simple0 | Spawning the current app\n",
      "[INFO] | 2020-12-29 01:50:32 PM | analyzer.app_simple0 | Kill the current app if already spawned!\n"
     ]
    },
    {
     "name": "stdout",
     "output_type": "stream",
     "text": [
      "  steps=3, actions=[3, 1, 11, 7]\n",
      "# episode 26\n"
     ]
    },
    {
     "name": "stderr",
     "output_type": "stream",
     "text": [
      "[INFO] | 2020-12-29 01:50:32 PM | analyzer.app_simple0 | APK killed\n",
      "[INFO] | 2020-12-29 01:50:32 PM | analyzer.app_simple0 | Spawning the current app\n",
      "[INFO] | 2020-12-29 01:50:40 PM | analyzer.app_simple0 | Kill the current app if already spawned!\n"
     ]
    },
    {
     "name": "stdout",
     "output_type": "stream",
     "text": [
      "  steps=3, actions=[3, 0, 4, 7]\n",
      "# episode 27\n"
     ]
    },
    {
     "name": "stderr",
     "output_type": "stream",
     "text": [
      "[INFO] | 2020-12-29 01:50:40 PM | analyzer.app_simple0 | APK killed\n",
      "[INFO] | 2020-12-29 01:50:40 PM | analyzer.app_simple0 | Spawning the current app\n",
      "[INFO] | 2020-12-29 01:50:48 PM | analyzer.app_simple0 | Kill the current app if already spawned!\n"
     ]
    },
    {
     "name": "stdout",
     "output_type": "stream",
     "text": [
      "  steps=3, actions=[3, 12, 6, 2]\n",
      "# episode 28\n"
     ]
    },
    {
     "name": "stderr",
     "output_type": "stream",
     "text": [
      "[INFO] | 2020-12-29 01:50:48 PM | analyzer.app_simple0 | APK killed\n",
      "[INFO] | 2020-12-29 01:50:48 PM | analyzer.app_simple0 | Spawning the current app\n",
      "[INFO] | 2020-12-29 01:50:56 PM | analyzer.app_simple0 | Kill the current app if already spawned!\n"
     ]
    },
    {
     "name": "stdout",
     "output_type": "stream",
     "text": [
      "  steps=3, actions=[1, 10, 6, 1]\n",
      "# episode 29\n"
     ]
    },
    {
     "name": "stderr",
     "output_type": "stream",
     "text": [
      "[INFO] | 2020-12-29 01:50:56 PM | analyzer.app_simple0 | APK killed\n",
      "[INFO] | 2020-12-29 01:50:56 PM | analyzer.app_simple0 | Spawning the current app\n",
      "[INFO] | 2020-12-29 01:51:04 PM | analyzer.app_simple0 | Kill the current app if already spawned!\n"
     ]
    },
    {
     "name": "stdout",
     "output_type": "stream",
     "text": [
      "  steps=3, actions=[12, 6, 2, 5]\n",
      "# episode 30\n"
     ]
    },
    {
     "name": "stderr",
     "output_type": "stream",
     "text": [
      "[INFO] | 2020-12-29 01:51:04 PM | analyzer.app_simple0 | APK killed\n",
      "[INFO] | 2020-12-29 01:51:04 PM | analyzer.app_simple0 | Spawning the current app\n",
      "[INFO] | 2020-12-29 01:51:12 PM | analyzer.app_simple0 | Kill the current app if already spawned!\n"
     ]
    },
    {
     "name": "stdout",
     "output_type": "stream",
     "text": [
      "  steps=3, actions=[2, 0, 11, 10]\n",
      "# episode 31\n"
     ]
    },
    {
     "name": "stderr",
     "output_type": "stream",
     "text": [
      "[INFO] | 2020-12-29 01:51:13 PM | analyzer.app_simple0 | APK killed\n",
      "[INFO] | 2020-12-29 01:51:13 PM | analyzer.app_simple0 | Spawning the current app\n",
      "[INFO] | 2020-12-29 01:51:21 PM | analyzer.app_simple0 | Kill the current app if already spawned!\n"
     ]
    },
    {
     "name": "stdout",
     "output_type": "stream",
     "text": [
      "  steps=3, actions=[8, 5, 0, 7]\n",
      "# episode 32\n"
     ]
    },
    {
     "name": "stderr",
     "output_type": "stream",
     "text": [
      "[INFO] | 2020-12-29 01:51:21 PM | analyzer.app_simple0 | APK killed\n",
      "[INFO] | 2020-12-29 01:51:21 PM | analyzer.app_simple0 | Spawning the current app\n",
      "[INFO] | 2020-12-29 01:51:29 PM | analyzer.app_simple0 | Kill the current app if already spawned!\n"
     ]
    },
    {
     "name": "stdout",
     "output_type": "stream",
     "text": [
      "  steps=3, actions=[1, 8, 7, 14]\n",
      "# episode 33\n"
     ]
    },
    {
     "name": "stderr",
     "output_type": "stream",
     "text": [
      "[INFO] | 2020-12-29 01:51:30 PM | analyzer.app_simple0 | APK killed\n",
      "[INFO] | 2020-12-29 01:51:30 PM | analyzer.app_simple0 | Spawning the current app\n",
      "[INFO] | 2020-12-29 01:51:38 PM | analyzer.app_simple0 | Kill the current app if already spawned!\n"
     ]
    },
    {
     "name": "stdout",
     "output_type": "stream",
     "text": [
      "  steps=3, actions=[9, 4, 12, 4]\n",
      "# episode 34\n"
     ]
    },
    {
     "name": "stderr",
     "output_type": "stream",
     "text": [
      "[INFO] | 2020-12-29 01:51:38 PM | analyzer.app_simple0 | APK killed\n",
      "[INFO] | 2020-12-29 01:51:38 PM | analyzer.app_simple0 | Spawning the current app\n",
      "[INFO] | 2020-12-29 01:51:46 PM | analyzer.app_simple0 | Kill the current app if already spawned!\n"
     ]
    },
    {
     "name": "stdout",
     "output_type": "stream",
     "text": [
      "  steps=3, actions=[1, 4, 9, 6]\n",
      "# episode 35\n"
     ]
    },
    {
     "name": "stderr",
     "output_type": "stream",
     "text": [
      "[INFO] | 2020-12-29 01:51:46 PM | analyzer.app_simple0 | APK killed\n",
      "[INFO] | 2020-12-29 01:51:46 PM | analyzer.app_simple0 | Spawning the current app\n",
      "[INFO] | 2020-12-29 01:51:54 PM | analyzer.app_simple0 | Kill the current app if already spawned!\n"
     ]
    },
    {
     "name": "stdout",
     "output_type": "stream",
     "text": [
      "  steps=3, actions=[2, 1, 12, 4]\n",
      "# episode 36\n"
     ]
    },
    {
     "name": "stderr",
     "output_type": "stream",
     "text": [
      "[INFO] | 2020-12-29 01:51:55 PM | analyzer.app_simple0 | APK killed\n",
      "[INFO] | 2020-12-29 01:51:55 PM | analyzer.app_simple0 | Spawning the current app\n",
      "[INFO] | 2020-12-29 01:52:03 PM | analyzer.app_simple0 | Kill the current app if already spawned!\n"
     ]
    },
    {
     "name": "stdout",
     "output_type": "stream",
     "text": [
      "  steps=3, actions=[13, 5, 11, 8]\n",
      "# episode 37\n"
     ]
    },
    {
     "name": "stderr",
     "output_type": "stream",
     "text": [
      "[INFO] | 2020-12-29 01:52:03 PM | analyzer.app_simple0 | APK killed\n",
      "[INFO] | 2020-12-29 01:52:03 PM | analyzer.app_simple0 | Spawning the current app\n",
      "[INFO] | 2020-12-29 01:52:11 PM | analyzer.app_simple0 | Kill the current app if already spawned!\n"
     ]
    },
    {
     "name": "stdout",
     "output_type": "stream",
     "text": [
      "  steps=3, actions=[0, 9, 11, 3]\n",
      "# episode 38\n"
     ]
    },
    {
     "name": "stderr",
     "output_type": "stream",
     "text": [
      "[INFO] | 2020-12-29 01:52:11 PM | analyzer.app_simple0 | APK killed\n",
      "[INFO] | 2020-12-29 01:52:11 PM | analyzer.app_simple0 | Spawning the current app\n",
      "[INFO] | 2020-12-29 01:52:20 PM | analyzer.app_simple0 | Kill the current app if already spawned!\n"
     ]
    },
    {
     "name": "stdout",
     "output_type": "stream",
     "text": [
      "  steps=3, actions=[5, 11, 3, 3]\n",
      "# episode 39\n"
     ]
    },
    {
     "name": "stderr",
     "output_type": "stream",
     "text": [
      "[INFO] | 2020-12-29 01:52:20 PM | analyzer.app_simple0 | APK killed\n",
      "[INFO] | 2020-12-29 01:52:20 PM | analyzer.app_simple0 | Spawning the current app\n",
      "[INFO] | 2020-12-29 01:52:28 PM | analyzer.app_simple0 | Kill the current app if already spawned!\n"
     ]
    },
    {
     "name": "stdout",
     "output_type": "stream",
     "text": [
      "  steps=3, actions=[12, 4, 1, 0]\n",
      "# episode 40\n"
     ]
    },
    {
     "name": "stderr",
     "output_type": "stream",
     "text": [
      "[INFO] | 2020-12-29 01:52:28 PM | analyzer.app_simple0 | APK killed\n",
      "[INFO] | 2020-12-29 01:52:28 PM | analyzer.app_simple0 | Spawning the current app\n",
      "[INFO] | 2020-12-29 01:52:36 PM | analyzer.app_simple0 | Kill the current app if already spawned!\n"
     ]
    },
    {
     "name": "stdout",
     "output_type": "stream",
     "text": [
      "  steps=3, actions=[2, 0, 11, 1]\n",
      "# episode 41\n"
     ]
    },
    {
     "name": "stderr",
     "output_type": "stream",
     "text": [
      "[INFO] | 2020-12-29 01:52:36 PM | analyzer.app_simple0 | APK killed\n",
      "[INFO] | 2020-12-29 01:52:36 PM | analyzer.app_simple0 | Spawning the current app\n",
      "[INFO] | 2020-12-29 01:52:44 PM | analyzer.app_simple0 | Kill the current app if already spawned!\n"
     ]
    },
    {
     "name": "stdout",
     "output_type": "stream",
     "text": [
      "  steps=3, actions=[5, 0, 5, 6]\n",
      "# episode 42\n"
     ]
    },
    {
     "name": "stderr",
     "output_type": "stream",
     "text": [
      "[INFO] | 2020-12-29 01:52:45 PM | analyzer.app_simple0 | APK killed\n",
      "[INFO] | 2020-12-29 01:52:45 PM | analyzer.app_simple0 | Spawning the current app\n",
      "[INFO] | 2020-12-29 01:52:53 PM | analyzer.app_simple0 | Kill the current app if already spawned!\n"
     ]
    },
    {
     "name": "stdout",
     "output_type": "stream",
     "text": [
      "  steps=3, actions=[6, 1, 5, 5]\n",
      "# episode 43\n"
     ]
    },
    {
     "name": "stderr",
     "output_type": "stream",
     "text": [
      "[INFO] | 2020-12-29 01:52:53 PM | analyzer.app_simple0 | APK killed\n",
      "[INFO] | 2020-12-29 01:52:53 PM | analyzer.app_simple0 | Spawning the current app\n",
      "[INFO] | 2020-12-29 01:53:01 PM | analyzer.app_simple0 | Kill the current app if already spawned!\n"
     ]
    },
    {
     "name": "stdout",
     "output_type": "stream",
     "text": [
      "  steps=3, actions=[7, 6, 1, 12]\n",
      "# episode 44\n"
     ]
    },
    {
     "name": "stderr",
     "output_type": "stream",
     "text": [
      "[INFO] | 2020-12-29 01:53:01 PM | analyzer.app_simple0 | APK killed\n",
      "[INFO] | 2020-12-29 01:53:01 PM | analyzer.app_simple0 | Spawning the current app\n",
      "[INFO] | 2020-12-29 01:53:10 PM | analyzer.app_simple0 | Kill the current app if already spawned!\n"
     ]
    },
    {
     "name": "stdout",
     "output_type": "stream",
     "text": [
      "  steps=3, actions=[4, 5, 3, 7]\n",
      "# episode 45\n"
     ]
    },
    {
     "name": "stderr",
     "output_type": "stream",
     "text": [
      "[INFO] | 2020-12-29 01:53:10 PM | analyzer.app_simple0 | APK killed\n",
      "[INFO] | 2020-12-29 01:53:10 PM | analyzer.app_simple0 | Spawning the current app\n",
      "[INFO] | 2020-12-29 01:53:18 PM | analyzer.app_simple0 | Kill the current app if already spawned!\n"
     ]
    },
    {
     "name": "stdout",
     "output_type": "stream",
     "text": [
      "  steps=3, actions=[11, 8, 4, 9]\n",
      "# episode 46\n"
     ]
    },
    {
     "name": "stderr",
     "output_type": "stream",
     "text": [
      "[INFO] | 2020-12-29 01:53:18 PM | analyzer.app_simple0 | APK killed\n",
      "[INFO] | 2020-12-29 01:53:18 PM | analyzer.app_simple0 | Spawning the current app\n",
      "[INFO] | 2020-12-29 01:53:26 PM | analyzer.app_simple0 | Kill the current app if already spawned!\n"
     ]
    },
    {
     "name": "stdout",
     "output_type": "stream",
     "text": [
      "  steps=3, actions=[4, 0, 4, 2]\n",
      "# episode 47\n"
     ]
    },
    {
     "name": "stderr",
     "output_type": "stream",
     "text": [
      "[INFO] | 2020-12-29 01:53:27 PM | analyzer.app_simple0 | APK killed\n",
      "[INFO] | 2020-12-29 01:53:27 PM | analyzer.app_simple0 | Spawning the current app\n",
      "[INFO] | 2020-12-29 01:53:35 PM | analyzer.app_simple0 | Kill the current app if already spawned!\n"
     ]
    },
    {
     "name": "stdout",
     "output_type": "stream",
     "text": [
      "  steps=3, actions=[13, 3, 10, 7]\n",
      "# episode 48\n"
     ]
    },
    {
     "name": "stderr",
     "output_type": "stream",
     "text": [
      "[INFO] | 2020-12-29 01:53:35 PM | analyzer.app_simple0 | APK killed\n",
      "[INFO] | 2020-12-29 01:53:35 PM | analyzer.app_simple0 | Spawning the current app\n",
      "[INFO] | 2020-12-29 01:53:43 PM | analyzer.app_simple0 | Kill the current app if already spawned!\n"
     ]
    },
    {
     "name": "stdout",
     "output_type": "stream",
     "text": [
      "  steps=3, actions=[0, 3, 8, 6]\n",
      "# episode 49\n"
     ]
    },
    {
     "name": "stderr",
     "output_type": "stream",
     "text": [
      "[INFO] | 2020-12-29 01:53:43 PM | analyzer.app_simple0 | APK killed\n",
      "[INFO] | 2020-12-29 01:53:43 PM | analyzer.app_simple0 | Spawning the current app\n",
      "[INFO] | 2020-12-29 01:53:51 PM | analyzer.app_simple0 | Kill the current app if already spawned!\n"
     ]
    },
    {
     "name": "stdout",
     "output_type": "stream",
     "text": [
      "  steps=3, actions=[10, 2, 1, 8]\n",
      "# episode 50\n"
     ]
    },
    {
     "name": "stderr",
     "output_type": "stream",
     "text": [
      "[INFO] | 2020-12-29 01:53:52 PM | analyzer.app_simple0 | APK killed\n",
      "[INFO] | 2020-12-29 01:53:52 PM | analyzer.app_simple0 | Spawning the current app\n",
      "[INFO] | 2020-12-29 01:54:00 PM | analyzer.app_simple0 | Kill the current app if already spawned!\n"
     ]
    },
    {
     "name": "stdout",
     "output_type": "stream",
     "text": [
      "  steps=3, actions=[0, 3, 7, 10]\n",
      "# episode 51\n"
     ]
    },
    {
     "name": "stderr",
     "output_type": "stream",
     "text": [
      "[INFO] | 2020-12-29 01:54:00 PM | analyzer.app_simple0 | APK killed\n",
      "[INFO] | 2020-12-29 01:54:00 PM | analyzer.app_simple0 | Spawning the current app\n",
      "[INFO] | 2020-12-29 01:54:08 PM | analyzer.app_simple0 | Kill the current app if already spawned!\n"
     ]
    },
    {
     "name": "stdout",
     "output_type": "stream",
     "text": [
      "  steps=3, actions=[4, 11, 8, 2]\n",
      "# episode 52\n"
     ]
    },
    {
     "name": "stderr",
     "output_type": "stream",
     "text": [
      "[INFO] | 2020-12-29 01:54:08 PM | analyzer.app_simple0 | APK killed\n",
      "[INFO] | 2020-12-29 01:54:09 PM | analyzer.app_simple0 | Spawning the current app\n",
      "[INFO] | 2020-12-29 01:54:17 PM | analyzer.app_simple0 | Kill the current app if already spawned!\n"
     ]
    },
    {
     "name": "stdout",
     "output_type": "stream",
     "text": [
      "  steps=3, actions=[9, 0, 11, 0]\n",
      "# episode 53\n"
     ]
    },
    {
     "name": "stderr",
     "output_type": "stream",
     "text": [
      "[INFO] | 2020-12-29 01:54:17 PM | analyzer.app_simple0 | APK killed\n",
      "[INFO] | 2020-12-29 01:54:17 PM | analyzer.app_simple0 | Spawning the current app\n",
      "[INFO] | 2020-12-29 01:54:25 PM | analyzer.app_simple0 | Kill the current app if already spawned!\n"
     ]
    },
    {
     "name": "stdout",
     "output_type": "stream",
     "text": [
      "  steps=3, actions=[13, 2, 1, 7]\n",
      "# episode 54\n"
     ]
    },
    {
     "name": "stderr",
     "output_type": "stream",
     "text": [
      "[INFO] | 2020-12-29 01:54:25 PM | analyzer.app_simple0 | APK killed\n",
      "[INFO] | 2020-12-29 01:54:25 PM | analyzer.app_simple0 | Spawning the current app\n",
      "[INFO] | 2020-12-29 01:54:33 PM | analyzer.app_simple0 | Kill the current app if already spawned!\n"
     ]
    },
    {
     "name": "stdout",
     "output_type": "stream",
     "text": [
      "  steps=3, actions=[4, 11, 2, 2]\n",
      "# episode 55\n"
     ]
    },
    {
     "name": "stderr",
     "output_type": "stream",
     "text": [
      "[INFO] | 2020-12-29 01:54:33 PM | analyzer.app_simple0 | APK killed\n",
      "[INFO] | 2020-12-29 01:54:33 PM | analyzer.app_simple0 | Spawning the current app\n",
      "[INFO] | 2020-12-29 01:54:41 PM | analyzer.app_simple0 | Kill the current app if already spawned!\n"
     ]
    },
    {
     "name": "stdout",
     "output_type": "stream",
     "text": [
      "  steps=3, actions=[8, 1, 12, 5]\n",
      "# episode 56\n"
     ]
    },
    {
     "name": "stderr",
     "output_type": "stream",
     "text": [
      "[INFO] | 2020-12-29 01:54:42 PM | analyzer.app_simple0 | APK killed\n",
      "[INFO] | 2020-12-29 01:54:42 PM | analyzer.app_simple0 | Spawning the current app\n",
      "[INFO] | 2020-12-29 01:54:50 PM | analyzer.app_simple0 | Kill the current app if already spawned!\n"
     ]
    },
    {
     "name": "stdout",
     "output_type": "stream",
     "text": [
      "  steps=3, actions=[2, 0, 3, 9]\n",
      "# episode 57\n"
     ]
    },
    {
     "name": "stderr",
     "output_type": "stream",
     "text": [
      "[INFO] | 2020-12-29 01:54:50 PM | analyzer.app_simple0 | APK killed\n",
      "[INFO] | 2020-12-29 01:54:50 PM | analyzer.app_simple0 | Spawning the current app\n",
      "[INFO] | 2020-12-29 01:54:58 PM | analyzer.app_simple0 | Kill the current app if already spawned!\n"
     ]
    },
    {
     "name": "stdout",
     "output_type": "stream",
     "text": [
      "  steps=3, actions=[7, 13, 7, 0]\n",
      "# episode 58\n"
     ]
    },
    {
     "name": "stderr",
     "output_type": "stream",
     "text": [
      "[INFO] | 2020-12-29 01:54:58 PM | analyzer.app_simple0 | APK killed\n",
      "[INFO] | 2020-12-29 01:54:58 PM | analyzer.app_simple0 | Spawning the current app\n",
      "[INFO] | 2020-12-29 01:55:06 PM | analyzer.app_simple0 | Kill the current app if already spawned!\n"
     ]
    },
    {
     "name": "stdout",
     "output_type": "stream",
     "text": [
      "  steps=3, actions=[2, 0, 8, 10]\n",
      "# episode 59\n"
     ]
    },
    {
     "name": "stderr",
     "output_type": "stream",
     "text": [
      "[INFO] | 2020-12-29 01:55:06 PM | analyzer.app_simple0 | APK killed\n",
      "[INFO] | 2020-12-29 01:55:06 PM | analyzer.app_simple0 | Spawning the current app\n",
      "[INFO] | 2020-12-29 01:55:14 PM | analyzer.app_simple0 | Kill the current app if already spawned!\n"
     ]
    },
    {
     "name": "stdout",
     "output_type": "stream",
     "text": [
      "  steps=3, actions=[4, 6, 1, 9]\n",
      "# episode 60\n"
     ]
    },
    {
     "name": "stderr",
     "output_type": "stream",
     "text": [
      "[INFO] | 2020-12-29 01:55:15 PM | analyzer.app_simple0 | APK killed\n",
      "[INFO] | 2020-12-29 01:55:15 PM | analyzer.app_simple0 | Spawning the current app\n",
      "[INFO] | 2020-12-29 01:55:23 PM | analyzer.app_simple0 | Kill the current app if already spawned!\n"
     ]
    },
    {
     "name": "stdout",
     "output_type": "stream",
     "text": [
      "  steps=3, actions=[10, 2, 0, 10]\n",
      "# episode 61\n"
     ]
    },
    {
     "name": "stderr",
     "output_type": "stream",
     "text": [
      "[INFO] | 2020-12-29 01:55:23 PM | analyzer.app_simple0 | APK killed\n",
      "[INFO] | 2020-12-29 01:55:23 PM | analyzer.app_simple0 | Spawning the current app\n",
      "[INFO] | 2020-12-29 01:55:31 PM | analyzer.app_simple0 | Kill the current app if already spawned!\n"
     ]
    },
    {
     "name": "stdout",
     "output_type": "stream",
     "text": [
      "  steps=3, actions=[7, 8, 0, 5]\n",
      "# episode 62\n"
     ]
    },
    {
     "name": "stderr",
     "output_type": "stream",
     "text": [
      "[INFO] | 2020-12-29 01:55:31 PM | analyzer.app_simple0 | APK killed\n",
      "[INFO] | 2020-12-29 01:55:31 PM | analyzer.app_simple0 | Spawning the current app\n",
      "[INFO] | 2020-12-29 01:55:39 PM | analyzer.app_simple0 | Kill the current app if already spawned!\n"
     ]
    },
    {
     "name": "stdout",
     "output_type": "stream",
     "text": [
      "  steps=3, actions=[11, 1, 0, 7]\n",
      "# episode 63\n"
     ]
    },
    {
     "name": "stderr",
     "output_type": "stream",
     "text": [
      "[INFO] | 2020-12-29 01:55:39 PM | analyzer.app_simple0 | APK killed\n",
      "[INFO] | 2020-12-29 01:55:39 PM | analyzer.app_simple0 | Spawning the current app\n",
      "[INFO] | 2020-12-29 01:55:47 PM | analyzer.app_simple0 | Kill the current app if already spawned!\n"
     ]
    },
    {
     "name": "stdout",
     "output_type": "stream",
     "text": [
      "  steps=3, actions=[0, 6, 0, 12]\n",
      "# episode 64\n"
     ]
    },
    {
     "name": "stderr",
     "output_type": "stream",
     "text": [
      "[INFO] | 2020-12-29 01:55:48 PM | analyzer.app_simple0 | APK killed\n",
      "[INFO] | 2020-12-29 01:55:48 PM | analyzer.app_simple0 | Spawning the current app\n",
      "[INFO] | 2020-12-29 01:55:55 PM | analyzer.app_simple0 | Kill the current app if already spawned!\n"
     ]
    },
    {
     "name": "stdout",
     "output_type": "stream",
     "text": [
      "  steps=3, actions=[7, 4, 8, 3]\n",
      "# episode 65\n"
     ]
    },
    {
     "name": "stderr",
     "output_type": "stream",
     "text": [
      "[INFO] | 2020-12-29 01:55:56 PM | analyzer.app_simple0 | APK killed\n",
      "[INFO] | 2020-12-29 01:55:56 PM | analyzer.app_simple0 | Spawning the current app\n",
      "[INFO] | 2020-12-29 01:56:04 PM | analyzer.app_simple0 | Kill the current app if already spawned!\n"
     ]
    },
    {
     "name": "stdout",
     "output_type": "stream",
     "text": [
      "  steps=3, actions=[8, 4, 3, 0]\n",
      "# episode 66\n"
     ]
    },
    {
     "name": "stderr",
     "output_type": "stream",
     "text": [
      "[INFO] | 2020-12-29 01:56:04 PM | analyzer.app_simple0 | APK killed\n",
      "[INFO] | 2020-12-29 01:56:04 PM | analyzer.app_simple0 | Spawning the current app\n",
      "[INFO] | 2020-12-29 01:56:12 PM | analyzer.app_simple0 | Kill the current app if already spawned!\n"
     ]
    },
    {
     "name": "stdout",
     "output_type": "stream",
     "text": [
      "  steps=3, actions=[3, 11, 5, 0]\n",
      "# episode 67\n"
     ]
    },
    {
     "name": "stderr",
     "output_type": "stream",
     "text": [
      "[INFO] | 2020-12-29 01:56:12 PM | analyzer.app_simple0 | APK killed\n",
      "[INFO] | 2020-12-29 01:56:12 PM | analyzer.app_simple0 | Spawning the current app\n",
      "[INFO] | 2020-12-29 01:56:20 PM | analyzer.app_simple0 | Kill the current app if already spawned!\n"
     ]
    },
    {
     "name": "stdout",
     "output_type": "stream",
     "text": [
      "  steps=3, actions=[13, 11, 5, 2]\n",
      "# episode 68\n"
     ]
    },
    {
     "name": "stderr",
     "output_type": "stream",
     "text": [
      "[INFO] | 2020-12-29 01:56:20 PM | analyzer.app_simple0 | APK killed\n",
      "[INFO] | 2020-12-29 01:56:20 PM | analyzer.app_simple0 | Spawning the current app\n",
      "[INFO] | 2020-12-29 01:56:28 PM | analyzer.app_simple0 | Kill the current app if already spawned!\n"
     ]
    },
    {
     "name": "stdout",
     "output_type": "stream",
     "text": [
      "  steps=3, actions=[1, 1, 0, 9]\n",
      "# episode 69\n"
     ]
    },
    {
     "name": "stderr",
     "output_type": "stream",
     "text": [
      "[INFO] | 2020-12-29 01:56:29 PM | analyzer.app_simple0 | APK killed\n",
      "[INFO] | 2020-12-29 01:56:29 PM | analyzer.app_simple0 | Spawning the current app\n",
      "[INFO] | 2020-12-29 01:56:37 PM | analyzer.app_simple0 | Kill the current app if already spawned!\n"
     ]
    },
    {
     "name": "stdout",
     "output_type": "stream",
     "text": [
      "  steps=3, actions=[3, 0, 7, 5]\n",
      "# episode 70\n"
     ]
    },
    {
     "name": "stderr",
     "output_type": "stream",
     "text": [
      "[INFO] | 2020-12-29 01:56:37 PM | analyzer.app_simple0 | APK killed\n",
      "[INFO] | 2020-12-29 01:56:37 PM | analyzer.app_simple0 | Spawning the current app\n",
      "[INFO] | 2020-12-29 01:56:45 PM | analyzer.app_simple0 | Kill the current app if already spawned!\n"
     ]
    },
    {
     "name": "stdout",
     "output_type": "stream",
     "text": [
      "  steps=3, actions=[9, 9, 13, 2]\n",
      "# episode 71\n"
     ]
    },
    {
     "name": "stderr",
     "output_type": "stream",
     "text": [
      "[INFO] | 2020-12-29 01:56:45 PM | analyzer.app_simple0 | APK killed\n",
      "[INFO] | 2020-12-29 01:56:45 PM | analyzer.app_simple0 | Spawning the current app\n",
      "[INFO] | 2020-12-29 01:56:53 PM | analyzer.app_simple0 | Kill the current app if already spawned!\n"
     ]
    },
    {
     "name": "stdout",
     "output_type": "stream",
     "text": [
      "  steps=3, actions=[13, 12, 0, 7]\n",
      "# episode 72\n"
     ]
    },
    {
     "name": "stderr",
     "output_type": "stream",
     "text": [
      "[INFO] | 2020-12-29 01:56:54 PM | analyzer.app_simple0 | APK killed\n",
      "[INFO] | 2020-12-29 01:56:54 PM | analyzer.app_simple0 | Spawning the current app\n",
      "[INFO] | 2020-12-29 01:57:02 PM | analyzer.app_simple0 | Kill the current app if already spawned!\n"
     ]
    },
    {
     "name": "stdout",
     "output_type": "stream",
     "text": [
      "  steps=3, actions=[1, 2, 1, 2]\n",
      "# episode 73\n"
     ]
    },
    {
     "name": "stderr",
     "output_type": "stream",
     "text": [
      "[INFO] | 2020-12-29 01:57:02 PM | analyzer.app_simple0 | APK killed\n",
      "[INFO] | 2020-12-29 01:57:02 PM | analyzer.app_simple0 | Spawning the current app\n",
      "[INFO] | 2020-12-29 01:57:10 PM | analyzer.app_simple0 | Kill the current app if already spawned!\n"
     ]
    },
    {
     "name": "stdout",
     "output_type": "stream",
     "text": [
      "  steps=3, actions=[8, 2, 1, 9]\n",
      "# episode 74\n"
     ]
    },
    {
     "name": "stderr",
     "output_type": "stream",
     "text": [
      "[INFO] | 2020-12-29 01:57:10 PM | analyzer.app_simple0 | APK killed\n",
      "[INFO] | 2020-12-29 01:57:10 PM | analyzer.app_simple0 | Spawning the current app\n",
      "[INFO] | 2020-12-29 01:57:18 PM | analyzer.app_simple0 | Kill the current app if already spawned!\n"
     ]
    },
    {
     "name": "stdout",
     "output_type": "stream",
     "text": [
      "  steps=3, actions=[11, 8, 3, 1]\n",
      "# episode 75\n"
     ]
    },
    {
     "name": "stderr",
     "output_type": "stream",
     "text": [
      "[INFO] | 2020-12-29 01:57:18 PM | analyzer.app_simple0 | APK killed\n",
      "[INFO] | 2020-12-29 01:57:18 PM | analyzer.app_simple0 | Spawning the current app\n",
      "[INFO] | 2020-12-29 01:57:27 PM | analyzer.app_simple0 | Kill the current app if already spawned!\n"
     ]
    },
    {
     "name": "stdout",
     "output_type": "stream",
     "text": [
      "  steps=3, actions=[12, 2, 2, 7]\n",
      "# episode 76\n"
     ]
    },
    {
     "name": "stderr",
     "output_type": "stream",
     "text": [
      "[INFO] | 2020-12-29 01:57:27 PM | analyzer.app_simple0 | APK killed\n",
      "[INFO] | 2020-12-29 01:57:27 PM | analyzer.app_simple0 | Spawning the current app\n",
      "[INFO] | 2020-12-29 01:57:35 PM | analyzer.app_simple0 | Kill the current app if already spawned!\n"
     ]
    },
    {
     "name": "stdout",
     "output_type": "stream",
     "text": [
      "  steps=3, actions=[4, 8, 6, 1]\n",
      "# episode 77\n"
     ]
    },
    {
     "name": "stderr",
     "output_type": "stream",
     "text": [
      "[INFO] | 2020-12-29 01:57:35 PM | analyzer.app_simple0 | APK killed\n",
      "[INFO] | 2020-12-29 01:57:35 PM | analyzer.app_simple0 | Spawning the current app\n",
      "[INFO] | 2020-12-29 01:57:43 PM | analyzer.app_simple0 | Kill the current app if already spawned!\n"
     ]
    },
    {
     "name": "stdout",
     "output_type": "stream",
     "text": [
      "  steps=3, actions=[5, 12, 7, 3]\n",
      "# episode 78\n"
     ]
    },
    {
     "name": "stderr",
     "output_type": "stream",
     "text": [
      "[INFO] | 2020-12-29 01:57:43 PM | analyzer.app_simple0 | APK killed\n",
      "[INFO] | 2020-12-29 01:57:43 PM | analyzer.app_simple0 | Spawning the current app\n",
      "[INFO] | 2020-12-29 01:57:52 PM | analyzer.app_simple0 | Kill the current app if already spawned!\n"
     ]
    },
    {
     "name": "stdout",
     "output_type": "stream",
     "text": [
      "  steps=3, actions=[7, 0, 13, 3]\n",
      "# episode 79\n"
     ]
    },
    {
     "name": "stderr",
     "output_type": "stream",
     "text": [
      "[INFO] | 2020-12-29 01:57:52 PM | analyzer.app_simple0 | APK killed\n",
      "[INFO] | 2020-12-29 01:57:52 PM | analyzer.app_simple0 | Spawning the current app\n",
      "[INFO] | 2020-12-29 01:58:00 PM | analyzer.app_simple0 | Kill the current app if already spawned!\n"
     ]
    },
    {
     "name": "stdout",
     "output_type": "stream",
     "text": [
      "  steps=3, actions=[11, 7, 2, 1]\n",
      "# episode 80\n"
     ]
    },
    {
     "name": "stderr",
     "output_type": "stream",
     "text": [
      "[INFO] | 2020-12-29 01:58:00 PM | analyzer.app_simple0 | APK killed\n",
      "[INFO] | 2020-12-29 01:58:00 PM | analyzer.app_simple0 | Spawning the current app\n",
      "[INFO] | 2020-12-29 01:58:08 PM | analyzer.app_simple0 | Kill the current app if already spawned!\n"
     ]
    },
    {
     "name": "stdout",
     "output_type": "stream",
     "text": [
      "  steps=3, actions=[8, 12, 9, 10]\n",
      "# episode 81\n"
     ]
    },
    {
     "name": "stderr",
     "output_type": "stream",
     "text": [
      "[INFO] | 2020-12-29 01:58:09 PM | analyzer.app_simple0 | APK killed\n",
      "[INFO] | 2020-12-29 01:58:09 PM | analyzer.app_simple0 | Spawning the current app\n",
      "[INFO] | 2020-12-29 01:58:17 PM | analyzer.app_simple0 | Kill the current app if already spawned!\n"
     ]
    },
    {
     "name": "stdout",
     "output_type": "stream",
     "text": [
      "  steps=3, actions=[2, 0, 2, 0]\n",
      "# episode 82\n"
     ]
    },
    {
     "name": "stderr",
     "output_type": "stream",
     "text": [
      "[INFO] | 2020-12-29 01:58:17 PM | analyzer.app_simple0 | APK killed\n",
      "[INFO] | 2020-12-29 01:58:17 PM | analyzer.app_simple0 | Spawning the current app\n",
      "[INFO] | 2020-12-29 01:58:25 PM | analyzer.app_simple0 | Kill the current app if already spawned!\n"
     ]
    },
    {
     "name": "stdout",
     "output_type": "stream",
     "text": [
      "  steps=3, actions=[6, 0, 12, 8]\n",
      "# episode 83\n"
     ]
    },
    {
     "name": "stderr",
     "output_type": "stream",
     "text": [
      "[INFO] | 2020-12-29 01:58:25 PM | analyzer.app_simple0 | APK killed\n",
      "[INFO] | 2020-12-29 01:58:25 PM | analyzer.app_simple0 | Spawning the current app\n",
      "[INFO] | 2020-12-29 01:58:33 PM | analyzer.app_simple0 | Kill the current app if already spawned!\n"
     ]
    },
    {
     "name": "stdout",
     "output_type": "stream",
     "text": [
      "  steps=3, actions=[8, 5, 1, 13]\n",
      "# episode 84\n"
     ]
    },
    {
     "name": "stderr",
     "output_type": "stream",
     "text": [
      "[INFO] | 2020-12-29 01:58:34 PM | analyzer.app_simple0 | APK killed\n",
      "[INFO] | 2020-12-29 01:58:34 PM | analyzer.app_simple0 | Spawning the current app\n",
      "[INFO] | 2020-12-29 01:58:42 PM | analyzer.app_simple0 | Kill the current app if already spawned!\n"
     ]
    },
    {
     "name": "stdout",
     "output_type": "stream",
     "text": [
      "  steps=3, actions=[7, 12, 0, 8]\n",
      "# episode 85\n"
     ]
    },
    {
     "name": "stderr",
     "output_type": "stream",
     "text": [
      "[INFO] | 2020-12-29 01:58:42 PM | analyzer.app_simple0 | APK killed\n",
      "[INFO] | 2020-12-29 01:58:42 PM | analyzer.app_simple0 | Spawning the current app\n",
      "[INFO] | 2020-12-29 01:58:50 PM | analyzer.app_simple0 | Kill the current app if already spawned!\n"
     ]
    },
    {
     "name": "stdout",
     "output_type": "stream",
     "text": [
      "  steps=3, actions=[0, 1, 5, 1]\n",
      "# episode 86\n"
     ]
    },
    {
     "name": "stderr",
     "output_type": "stream",
     "text": [
      "[INFO] | 2020-12-29 01:58:50 PM | analyzer.app_simple0 | APK killed\n",
      "[INFO] | 2020-12-29 01:58:50 PM | analyzer.app_simple0 | Spawning the current app\n",
      "[INFO] | 2020-12-29 01:58:58 PM | analyzer.app_simple0 | Kill the current app if already spawned!\n"
     ]
    },
    {
     "name": "stdout",
     "output_type": "stream",
     "text": [
      "  steps=3, actions=[12, 7, 4, 3]\n",
      "# episode 87\n"
     ]
    },
    {
     "name": "stderr",
     "output_type": "stream",
     "text": [
      "[INFO] | 2020-12-29 01:58:59 PM | analyzer.app_simple0 | APK killed\n",
      "[INFO] | 2020-12-29 01:58:59 PM | analyzer.app_simple0 | Spawning the current app\n",
      "[INFO] | 2020-12-29 01:59:07 PM | analyzer.app_simple0 | Kill the current app if already spawned!\n"
     ]
    },
    {
     "name": "stdout",
     "output_type": "stream",
     "text": [
      "  steps=3, actions=[6, 0, 10, 3]\n",
      "# episode 88\n"
     ]
    },
    {
     "name": "stderr",
     "output_type": "stream",
     "text": [
      "[INFO] | 2020-12-29 01:59:07 PM | analyzer.app_simple0 | APK killed\n",
      "[INFO] | 2020-12-29 01:59:07 PM | analyzer.app_simple0 | Spawning the current app\n",
      "[INFO] | 2020-12-29 01:59:15 PM | analyzer.app_simple0 | Kill the current app if already spawned!\n"
     ]
    },
    {
     "name": "stdout",
     "output_type": "stream",
     "text": [
      "  steps=3, actions=[1, 11, 2, 1]\n",
      "# episode 89\n"
     ]
    },
    {
     "name": "stderr",
     "output_type": "stream",
     "text": [
      "[INFO] | 2020-12-29 01:59:15 PM | analyzer.app_simple0 | APK killed\n",
      "[INFO] | 2020-12-29 01:59:15 PM | analyzer.app_simple0 | Spawning the current app\n",
      "[INFO] | 2020-12-29 01:59:23 PM | analyzer.app_simple0 | Kill the current app if already spawned!\n"
     ]
    },
    {
     "name": "stdout",
     "output_type": "stream",
     "text": [
      "  steps=3, actions=[2, 0, 11, 2]\n",
      "# episode 90\n"
     ]
    },
    {
     "name": "stderr",
     "output_type": "stream",
     "text": [
      "[INFO] | 2020-12-29 01:59:23 PM | analyzer.app_simple0 | APK killed\n",
      "[INFO] | 2020-12-29 01:59:23 PM | analyzer.app_simple0 | Spawning the current app\n",
      "[INFO] | 2020-12-29 01:59:31 PM | analyzer.app_simple0 | Kill the current app if already spawned!\n"
     ]
    },
    {
     "name": "stdout",
     "output_type": "stream",
     "text": [
      "  steps=3, actions=[7, 9, 7, 13]\n",
      "# episode 91\n"
     ]
    },
    {
     "name": "stderr",
     "output_type": "stream",
     "text": [
      "[INFO] | 2020-12-29 01:59:31 PM | analyzer.app_simple0 | APK killed\n",
      "[INFO] | 2020-12-29 01:59:31 PM | analyzer.app_simple0 | Spawning the current app\n",
      "[INFO] | 2020-12-29 01:59:39 PM | analyzer.app_simple0 | Kill the current app if already spawned!\n"
     ]
    },
    {
     "name": "stdout",
     "output_type": "stream",
     "text": [
      "  steps=3, actions=[9, 12, 6, 0]\n",
      "# episode 92\n"
     ]
    },
    {
     "name": "stderr",
     "output_type": "stream",
     "text": [
      "[INFO] | 2020-12-29 01:59:40 PM | analyzer.app_simple0 | APK killed\n",
      "[INFO] | 2020-12-29 01:59:40 PM | analyzer.app_simple0 | Spawning the current app\n",
      "[INFO] | 2020-12-29 01:59:48 PM | analyzer.app_simple0 | Kill the current app if already spawned!\n"
     ]
    },
    {
     "name": "stdout",
     "output_type": "stream",
     "text": [
      "  steps=3, actions=[13, 6, 1, 9]\n",
      "# episode 93\n"
     ]
    },
    {
     "name": "stderr",
     "output_type": "stream",
     "text": [
      "[INFO] | 2020-12-29 01:59:48 PM | analyzer.app_simple0 | APK killed\n",
      "[INFO] | 2020-12-29 01:59:48 PM | analyzer.app_simple0 | Spawning the current app\n",
      "[INFO] | 2020-12-29 01:59:56 PM | analyzer.app_simple0 | Kill the current app if already spawned!\n"
     ]
    },
    {
     "name": "stdout",
     "output_type": "stream",
     "text": [
      "  steps=3, actions=[2, 0, 2, 0]\n",
      "# episode 94\n"
     ]
    },
    {
     "name": "stderr",
     "output_type": "stream",
     "text": [
      "[INFO] | 2020-12-29 01:59:56 PM | analyzer.app_simple0 | APK killed\n",
      "[INFO] | 2020-12-29 01:59:56 PM | analyzer.app_simple0 | Spawning the current app\n",
      "[INFO] | 2020-12-29 02:00:04 PM | analyzer.app_simple0 | Kill the current app if already spawned!\n"
     ]
    },
    {
     "name": "stdout",
     "output_type": "stream",
     "text": [
      "  steps=3, actions=[6, 1, 5, 10]\n",
      "# episode 95\n"
     ]
    },
    {
     "name": "stderr",
     "output_type": "stream",
     "text": [
      "[INFO] | 2020-12-29 02:00:05 PM | analyzer.app_simple0 | APK killed\n",
      "[INFO] | 2020-12-29 02:00:05 PM | analyzer.app_simple0 | Spawning the current app\n",
      "[INFO] | 2020-12-29 02:00:12 PM | analyzer.app_simple0 | Kill the current app if already spawned!\n"
     ]
    },
    {
     "name": "stdout",
     "output_type": "stream",
     "text": [
      "  steps=3, actions=[3, 9, 7, 7]\n",
      "# episode 96\n"
     ]
    },
    {
     "name": "stderr",
     "output_type": "stream",
     "text": [
      "[INFO] | 2020-12-29 02:00:13 PM | analyzer.app_simple0 | APK killed\n",
      "[INFO] | 2020-12-29 02:00:13 PM | analyzer.app_simple0 | Spawning the current app\n",
      "[INFO] | 2020-12-29 02:00:21 PM | analyzer.app_simple0 | Kill the current app if already spawned!\n"
     ]
    },
    {
     "name": "stdout",
     "output_type": "stream",
     "text": [
      "  steps=3, actions=[7, 13, 9, 3]\n",
      "# episode 97\n"
     ]
    },
    {
     "name": "stderr",
     "output_type": "stream",
     "text": [
      "[INFO] | 2020-12-29 02:00:21 PM | analyzer.app_simple0 | APK killed\n",
      "[INFO] | 2020-12-29 02:00:21 PM | analyzer.app_simple0 | Spawning the current app\n",
      "[INFO] | 2020-12-29 02:00:29 PM | analyzer.app_simple0 | Kill the current app if already spawned!\n"
     ]
    },
    {
     "name": "stdout",
     "output_type": "stream",
     "text": [
      "  steps=3, actions=[10, 11, 5, 5]\n",
      "# episode 98\n"
     ]
    },
    {
     "name": "stderr",
     "output_type": "stream",
     "text": [
      "[INFO] | 2020-12-29 02:00:29 PM | analyzer.app_simple0 | APK killed\n",
      "[INFO] | 2020-12-29 02:00:29 PM | analyzer.app_simple0 | Spawning the current app\n",
      "[INFO] | 2020-12-29 02:00:37 PM | analyzer.app_simple0 | Kill the current app if already spawned!\n"
     ]
    },
    {
     "name": "stdout",
     "output_type": "stream",
     "text": [
      "  steps=3, actions=[2, 1, 1, 12]\n",
      "# episode 99\n"
     ]
    },
    {
     "name": "stderr",
     "output_type": "stream",
     "text": [
      "[INFO] | 2020-12-29 02:00:37 PM | analyzer.app_simple0 | APK killed\n",
      "[INFO] | 2020-12-29 02:00:37 PM | analyzer.app_simple0 | Spawning the current app\n",
      "[INFO] | 2020-12-29 02:00:45 PM | analyzer.app_simple0 | Kill the current app if already spawned!\n"
     ]
    },
    {
     "name": "stdout",
     "output_type": "stream",
     "text": [
      "  steps=3, actions=[2, 1, 9, 4]\n",
      "# episode 100\n"
     ]
    },
    {
     "name": "stderr",
     "output_type": "stream",
     "text": [
      "[INFO] | 2020-12-29 02:00:46 PM | analyzer.app_simple0 | APK killed\n",
      "[INFO] | 2020-12-29 02:00:46 PM | analyzer.app_simple0 | Spawning the current app\n",
      "[INFO] | 2020-12-29 02:00:54 PM | analyzer.app_simple0 | Kill the current app if already spawned!\n"
     ]
    },
    {
     "name": "stdout",
     "output_type": "stream",
     "text": [
      "  steps=3, actions=[10, 6, 0, 13]\n",
      "# episode 101\n"
     ]
    },
    {
     "name": "stderr",
     "output_type": "stream",
     "text": [
      "[INFO] | 2020-12-29 02:00:54 PM | analyzer.app_simple0 | APK killed\n",
      "[INFO] | 2020-12-29 02:00:54 PM | analyzer.app_simple0 | Spawning the current app\n",
      "[INFO] | 2020-12-29 02:01:02 PM | analyzer.app_simple0 | Kill the current app if already spawned!\n"
     ]
    },
    {
     "name": "stdout",
     "output_type": "stream",
     "text": [
      "  steps=3, actions=[10, 3, 9, 3]\n",
      "# episode 102\n"
     ]
    },
    {
     "name": "stderr",
     "output_type": "stream",
     "text": [
      "[INFO] | 2020-12-29 02:01:02 PM | analyzer.app_simple0 | APK killed\n",
      "[INFO] | 2020-12-29 02:01:02 PM | analyzer.app_simple0 | Spawning the current app\n",
      "[INFO] | 2020-12-29 02:01:10 PM | analyzer.app_simple0 | Kill the current app if already spawned!\n"
     ]
    },
    {
     "name": "stdout",
     "output_type": "stream",
     "text": [
      "  steps=3, actions=[4, 11, 0, 2]\n",
      "# episode 103\n"
     ]
    },
    {
     "name": "stderr",
     "output_type": "stream",
     "text": [
      "[INFO] | 2020-12-29 02:01:11 PM | analyzer.app_simple0 | APK killed\n",
      "[INFO] | 2020-12-29 02:01:11 PM | analyzer.app_simple0 | Spawning the current app\n",
      "[INFO] | 2020-12-29 02:01:19 PM | analyzer.app_simple0 | Kill the current app if already spawned!\n"
     ]
    },
    {
     "name": "stdout",
     "output_type": "stream",
     "text": [
      "  steps=3, actions=[11, 2, 2, 8]\n",
      "# episode 104\n"
     ]
    },
    {
     "name": "stderr",
     "output_type": "stream",
     "text": [
      "[INFO] | 2020-12-29 02:01:19 PM | analyzer.app_simple0 | APK killed\n",
      "[INFO] | 2020-12-29 02:01:19 PM | analyzer.app_simple0 | Spawning the current app\n",
      "[INFO] | 2020-12-29 02:01:27 PM | analyzer.app_simple0 | Kill the current app if already spawned!\n"
     ]
    },
    {
     "name": "stdout",
     "output_type": "stream",
     "text": [
      "  steps=3, actions=[9, 11, 9, 0]\n",
      "# episode 105\n"
     ]
    },
    {
     "name": "stderr",
     "output_type": "stream",
     "text": [
      "[INFO] | 2020-12-29 02:01:27 PM | analyzer.app_simple0 | APK killed\n",
      "[INFO] | 2020-12-29 02:01:27 PM | analyzer.app_simple0 | Spawning the current app\n",
      "[INFO] | 2020-12-29 02:01:35 PM | analyzer.app_simple0 | Kill the current app if already spawned!\n"
     ]
    },
    {
     "name": "stdout",
     "output_type": "stream",
     "text": [
      "  steps=3, actions=[2, 0, 13, 0]\n",
      "# episode 106\n"
     ]
    },
    {
     "name": "stderr",
     "output_type": "stream",
     "text": [
      "[INFO] | 2020-12-29 02:01:36 PM | analyzer.app_simple0 | APK killed\n",
      "[INFO] | 2020-12-29 02:01:36 PM | analyzer.app_simple0 | Spawning the current app\n",
      "[INFO] | 2020-12-29 02:01:44 PM | analyzer.app_simple0 | Kill the current app if already spawned!\n"
     ]
    },
    {
     "name": "stdout",
     "output_type": "stream",
     "text": [
      "  steps=3, actions=[0, 6, 0, 3]\n",
      "# episode 107\n"
     ]
    },
    {
     "name": "stderr",
     "output_type": "stream",
     "text": [
      "[INFO] | 2020-12-29 02:01:44 PM | analyzer.app_simple0 | APK killed\n",
      "[INFO] | 2020-12-29 02:01:44 PM | analyzer.app_simple0 | Spawning the current app\n",
      "[INFO] | 2020-12-29 02:01:52 PM | analyzer.app_simple0 | Kill the current app if already spawned!\n"
     ]
    },
    {
     "name": "stdout",
     "output_type": "stream",
     "text": [
      "  steps=3, actions=[1, 13, 3, 2]\n",
      "# episode 108\n"
     ]
    },
    {
     "name": "stderr",
     "output_type": "stream",
     "text": [
      "[INFO] | 2020-12-29 02:01:52 PM | analyzer.app_simple0 | APK killed\n",
      "[INFO] | 2020-12-29 02:01:53 PM | analyzer.app_simple0 | Spawning the current app\n",
      "[INFO] | 2020-12-29 02:02:01 PM | analyzer.app_simple0 | Kill the current app if already spawned!\n"
     ]
    },
    {
     "name": "stdout",
     "output_type": "stream",
     "text": [
      "  steps=3, actions=[13, 9, 12, 6]\n",
      "# episode 109\n"
     ]
    },
    {
     "name": "stderr",
     "output_type": "stream",
     "text": [
      "[INFO] | 2020-12-29 02:02:01 PM | analyzer.app_simple0 | APK killed\n",
      "[INFO] | 2020-12-29 02:02:01 PM | analyzer.app_simple0 | Spawning the current app\n",
      "[INFO] | 2020-12-29 02:02:09 PM | analyzer.app_simple0 | Kill the current app if already spawned!\n"
     ]
    },
    {
     "name": "stdout",
     "output_type": "stream",
     "text": [
      "  steps=3, actions=[5, 7, 10, 4]\n",
      "# episode 110\n"
     ]
    },
    {
     "name": "stderr",
     "output_type": "stream",
     "text": [
      "[INFO] | 2020-12-29 02:02:09 PM | analyzer.app_simple0 | APK killed\n",
      "[INFO] | 2020-12-29 02:02:09 PM | analyzer.app_simple0 | Spawning the current app\n",
      "[INFO] | 2020-12-29 02:02:17 PM | analyzer.app_simple0 | Kill the current app if already spawned!\n"
     ]
    },
    {
     "name": "stdout",
     "output_type": "stream",
     "text": [
      "  steps=3, actions=[1, 13, 11, 9]\n",
      "# episode 111\n"
     ]
    },
    {
     "name": "stderr",
     "output_type": "stream",
     "text": [
      "[INFO] | 2020-12-29 02:02:18 PM | analyzer.app_simple0 | APK killed\n",
      "[INFO] | 2020-12-29 02:02:18 PM | analyzer.app_simple0 | Spawning the current app\n",
      "[INFO] | 2020-12-29 02:02:26 PM | analyzer.app_simple0 | Kill the current app if already spawned!\n"
     ]
    },
    {
     "name": "stdout",
     "output_type": "stream",
     "text": [
      "  steps=3, actions=[12, 2, 5, 4]\n",
      "# episode 112\n"
     ]
    },
    {
     "name": "stderr",
     "output_type": "stream",
     "text": [
      "[INFO] | 2020-12-29 02:02:26 PM | analyzer.app_simple0 | APK killed\n",
      "[INFO] | 2020-12-29 02:02:26 PM | analyzer.app_simple0 | Spawning the current app\n",
      "[INFO] | 2020-12-29 02:02:34 PM | analyzer.app_simple0 | Kill the current app if already spawned!\n"
     ]
    },
    {
     "name": "stdout",
     "output_type": "stream",
     "text": [
      "  steps=3, actions=[6, 0, 4, 12]\n",
      "# episode 113\n"
     ]
    },
    {
     "name": "stderr",
     "output_type": "stream",
     "text": [
      "[INFO] | 2020-12-29 02:02:34 PM | analyzer.app_simple0 | APK killed\n",
      "[INFO] | 2020-12-29 02:02:34 PM | analyzer.app_simple0 | Spawning the current app\n",
      "[INFO] | 2020-12-29 02:02:42 PM | analyzer.app_simple0 | Kill the current app if already spawned!\n"
     ]
    },
    {
     "name": "stdout",
     "output_type": "stream",
     "text": [
      "  steps=3, actions=[9, 13, 12, 4]\n",
      "# episode 114\n"
     ]
    },
    {
     "name": "stderr",
     "output_type": "stream",
     "text": [
      "[INFO] | 2020-12-29 02:02:42 PM | analyzer.app_simple0 | APK killed\n",
      "[INFO] | 2020-12-29 02:02:43 PM | analyzer.app_simple0 | Spawning the current app\n",
      "[INFO] | 2020-12-29 02:02:51 PM | analyzer.app_simple0 | Kill the current app if already spawned!\n"
     ]
    },
    {
     "name": "stdout",
     "output_type": "stream",
     "text": [
      "  steps=3, actions=[9, 5, 0, 6]\n",
      "# episode 115\n"
     ]
    },
    {
     "name": "stderr",
     "output_type": "stream",
     "text": [
      "[INFO] | 2020-12-29 02:02:51 PM | analyzer.app_simple0 | APK killed\n",
      "[INFO] | 2020-12-29 02:02:51 PM | analyzer.app_simple0 | Spawning the current app\n",
      "[INFO] | 2020-12-29 02:02:59 PM | analyzer.app_simple0 | Kill the current app if already spawned!\n"
     ]
    },
    {
     "name": "stdout",
     "output_type": "stream",
     "text": [
      "  steps=3, actions=[12, 5, 6, 6]\n",
      "# episode 116\n"
     ]
    },
    {
     "name": "stderr",
     "output_type": "stream",
     "text": [
      "[INFO] | 2020-12-29 02:02:59 PM | analyzer.app_simple0 | APK killed\n",
      "[INFO] | 2020-12-29 02:02:59 PM | analyzer.app_simple0 | Spawning the current app\n",
      "[INFO] | 2020-12-29 02:03:07 PM | analyzer.app_simple0 | Kill the current app if already spawned!\n"
     ]
    },
    {
     "name": "stdout",
     "output_type": "stream",
     "text": [
      "  steps=3, actions=[5, 0, 3, 0]\n",
      "# episode 117\n"
     ]
    },
    {
     "name": "stderr",
     "output_type": "stream",
     "text": [
      "[INFO] | 2020-12-29 02:03:07 PM | analyzer.app_simple0 | APK killed\n",
      "[INFO] | 2020-12-29 02:03:08 PM | analyzer.app_simple0 | Spawning the current app\n",
      "[INFO] | 2020-12-29 02:03:16 PM | analyzer.app_simple0 | Kill the current app if already spawned!\n"
     ]
    },
    {
     "name": "stdout",
     "output_type": "stream",
     "text": [
      "  steps=3, actions=[0, 4, 6, 1]\n",
      "# episode 118\n"
     ]
    },
    {
     "name": "stderr",
     "output_type": "stream",
     "text": [
      "[INFO] | 2020-12-29 02:03:16 PM | analyzer.app_simple0 | APK killed\n",
      "[INFO] | 2020-12-29 02:03:16 PM | analyzer.app_simple0 | Spawning the current app\n",
      "[INFO] | 2020-12-29 02:03:24 PM | analyzer.app_simple0 | Kill the current app if already spawned!\n"
     ]
    },
    {
     "name": "stdout",
     "output_type": "stream",
     "text": [
      "  steps=3, actions=[9, 3, 1, 3]\n",
      "# episode 119\n"
     ]
    },
    {
     "name": "stderr",
     "output_type": "stream",
     "text": [
      "[INFO] | 2020-12-29 02:03:24 PM | analyzer.app_simple0 | APK killed\n",
      "[INFO] | 2020-12-29 02:03:24 PM | analyzer.app_simple0 | Spawning the current app\n",
      "[INFO] | 2020-12-29 02:03:32 PM | analyzer.app_simple0 | Kill the current app if already spawned!\n"
     ]
    },
    {
     "name": "stdout",
     "output_type": "stream",
     "text": [
      "  steps=3, actions=[12, 2, 7, 10]\n",
      "# episode 120\n"
     ]
    },
    {
     "name": "stderr",
     "output_type": "stream",
     "text": [
      "[INFO] | 2020-12-29 02:03:33 PM | analyzer.app_simple0 | APK killed\n",
      "[INFO] | 2020-12-29 02:03:33 PM | analyzer.app_simple0 | Spawning the current app\n",
      "[INFO] | 2020-12-29 02:03:41 PM | analyzer.app_simple0 | Kill the current app if already spawned!\n"
     ]
    },
    {
     "name": "stdout",
     "output_type": "stream",
     "text": [
      "  steps=3, actions=[8, 12, 6, 2]\n",
      "# episode 121\n"
     ]
    },
    {
     "name": "stderr",
     "output_type": "stream",
     "text": [
      "[INFO] | 2020-12-29 02:03:41 PM | analyzer.app_simple0 | APK killed\n",
      "[INFO] | 2020-12-29 02:03:41 PM | analyzer.app_simple0 | Spawning the current app\n",
      "[INFO] | 2020-12-29 02:03:49 PM | analyzer.app_simple0 | Kill the current app if already spawned!\n"
     ]
    },
    {
     "name": "stdout",
     "output_type": "stream",
     "text": [
      "  steps=3, actions=[1, 0, 0, 14]\n",
      "# episode 122\n"
     ]
    },
    {
     "name": "stderr",
     "output_type": "stream",
     "text": [
      "[INFO] | 2020-12-29 02:03:50 PM | analyzer.app_simple0 | APK killed\n",
      "[INFO] | 2020-12-29 02:03:50 PM | analyzer.app_simple0 | Spawning the current app\n",
      "[INFO] | 2020-12-29 02:03:58 PM | analyzer.app_simple0 | Kill the current app if already spawned!\n"
     ]
    },
    {
     "name": "stdout",
     "output_type": "stream",
     "text": [
      "  steps=3, actions=[5, 7, 3, 9]\n",
      "# episode 123\n"
     ]
    },
    {
     "name": "stderr",
     "output_type": "stream",
     "text": [
      "[INFO] | 2020-12-29 02:03:58 PM | analyzer.app_simple0 | APK killed\n",
      "[INFO] | 2020-12-29 02:03:58 PM | analyzer.app_simple0 | Spawning the current app\n",
      "[INFO] | 2020-12-29 02:04:06 PM | analyzer.app_simple0 | Kill the current app if already spawned!\n"
     ]
    },
    {
     "name": "stdout",
     "output_type": "stream",
     "text": [
      "  steps=3, actions=[7, 9, 6, 1]\n",
      "# episode 124\n"
     ]
    },
    {
     "name": "stderr",
     "output_type": "stream",
     "text": [
      "[INFO] | 2020-12-29 02:04:06 PM | analyzer.app_simple0 | APK killed\n",
      "[INFO] | 2020-12-29 02:04:06 PM | analyzer.app_simple0 | Spawning the current app\n",
      "[INFO] | 2020-12-29 02:04:14 PM | analyzer.app_simple0 | Kill the current app if already spawned!\n"
     ]
    },
    {
     "name": "stdout",
     "output_type": "stream",
     "text": [
      "  steps=3, actions=[9, 3, 1, 6]\n",
      "# episode 125\n"
     ]
    },
    {
     "name": "stderr",
     "output_type": "stream",
     "text": [
      "[INFO] | 2020-12-29 02:04:14 PM | analyzer.app_simple0 | APK killed\n",
      "[INFO] | 2020-12-29 02:04:14 PM | analyzer.app_simple0 | Spawning the current app\n",
      "[INFO] | 2020-12-29 02:04:23 PM | analyzer.app_simple0 | Kill the current app if already spawned!\n"
     ]
    },
    {
     "name": "stdout",
     "output_type": "stream",
     "text": [
      "  steps=3, actions=[7, 4, 12, 8]\n",
      "# episode 126\n"
     ]
    },
    {
     "name": "stderr",
     "output_type": "stream",
     "text": [
      "[INFO] | 2020-12-29 02:04:23 PM | analyzer.app_simple0 | APK killed\n",
      "[INFO] | 2020-12-29 02:04:23 PM | analyzer.app_simple0 | Spawning the current app\n",
      "[INFO] | 2020-12-29 02:04:31 PM | analyzer.app_simple0 | Kill the current app if already spawned!\n"
     ]
    },
    {
     "name": "stdout",
     "output_type": "stream",
     "text": [
      "  steps=3, actions=[2, 0, 12, 4]\n",
      "# episode 127\n"
     ]
    },
    {
     "name": "stderr",
     "output_type": "stream",
     "text": [
      "[INFO] | 2020-12-29 02:04:31 PM | analyzer.app_simple0 | APK killed\n",
      "[INFO] | 2020-12-29 02:04:31 PM | analyzer.app_simple0 | Spawning the current app\n",
      "[INFO] | 2020-12-29 02:04:39 PM | analyzer.app_simple0 | Kill the current app if already spawned!\n"
     ]
    },
    {
     "name": "stdout",
     "output_type": "stream",
     "text": [
      "  steps=3, actions=[5, 0, 1, 9]\n",
      "# episode 128\n"
     ]
    },
    {
     "name": "stderr",
     "output_type": "stream",
     "text": [
      "[INFO] | 2020-12-29 02:04:40 PM | analyzer.app_simple0 | APK killed\n",
      "[INFO] | 2020-12-29 02:04:40 PM | analyzer.app_simple0 | Spawning the current app\n",
      "[INFO] | 2020-12-29 02:04:48 PM | analyzer.app_simple0 | Kill the current app if already spawned!\n"
     ]
    },
    {
     "name": "stdout",
     "output_type": "stream",
     "text": [
      "  steps=3, actions=[8, 7, 0, 0]\n",
      "# episode 129\n"
     ]
    },
    {
     "name": "stderr",
     "output_type": "stream",
     "text": [
      "[INFO] | 2020-12-29 02:04:48 PM | analyzer.app_simple0 | APK killed\n",
      "[INFO] | 2020-12-29 02:04:48 PM | analyzer.app_simple0 | Spawning the current app\n",
      "[INFO] | 2020-12-29 02:04:56 PM | analyzer.app_simple0 | Kill the current app if already spawned!\n",
      "[INFO] | 2020-12-29 02:04:56 PM | analyzer.app_simple0 | APK is already killed\n"
     ]
    },
    {
     "name": "stdout",
     "output_type": "stream",
     "text": [
      "  steps=3, actions=[2, 1, 1, 0]\n",
      "# episode 130\n"
     ]
    },
    {
     "name": "stderr",
     "output_type": "stream",
     "text": [
      "[INFO] | 2020-12-29 02:04:56 PM | analyzer.app_simple0 | Spawning the current app\n",
      "[INFO] | 2020-12-29 02:05:04 PM | analyzer.app_simple0 | Kill the current app if already spawned!\n"
     ]
    },
    {
     "name": "stdout",
     "output_type": "stream",
     "text": [
      "  steps=3, actions=[7, 11, 10, 8]\n",
      "# episode 131\n"
     ]
    },
    {
     "name": "stderr",
     "output_type": "stream",
     "text": [
      "[INFO] | 2020-12-29 02:05:04 PM | analyzer.app_simple0 | APK killed\n",
      "[INFO] | 2020-12-29 02:05:04 PM | analyzer.app_simple0 | Spawning the current app\n",
      "[INFO] | 2020-12-29 02:05:12 PM | analyzer.app_simple0 | Kill the current app if already spawned!\n"
     ]
    },
    {
     "name": "stdout",
     "output_type": "stream",
     "text": [
      "  steps=3, actions=[7, 4, 11, 8]\n",
      "# episode 132\n"
     ]
    },
    {
     "name": "stderr",
     "output_type": "stream",
     "text": [
      "[INFO] | 2020-12-29 02:05:13 PM | analyzer.app_simple0 | APK killed\n",
      "[INFO] | 2020-12-29 02:05:13 PM | analyzer.app_simple0 | Spawning the current app\n",
      "[INFO] | 2020-12-29 02:05:21 PM | analyzer.app_simple0 | Kill the current app if already spawned!\n"
     ]
    },
    {
     "name": "stdout",
     "output_type": "stream",
     "text": [
      "  steps=3, actions=[8, 10, 7, 4]\n",
      "# episode 133\n"
     ]
    },
    {
     "name": "stderr",
     "output_type": "stream",
     "text": [
      "[INFO] | 2020-12-29 02:05:21 PM | analyzer.app_simple0 | APK killed\n",
      "[INFO] | 2020-12-29 02:05:21 PM | analyzer.app_simple0 | Spawning the current app\n",
      "[INFO] | 2020-12-29 02:05:28 PM | analyzer.app_simple0 | Kill the current app if already spawned!\n"
     ]
    },
    {
     "name": "stdout",
     "output_type": "stream",
     "text": [
      "  steps=3, actions=[2, 0, 13, 11]\n",
      "# episode 134\n"
     ]
    },
    {
     "name": "stderr",
     "output_type": "stream",
     "text": [
      "[INFO] | 2020-12-29 02:05:29 PM | analyzer.app_simple0 | APK killed\n",
      "[INFO] | 2020-12-29 02:05:29 PM | analyzer.app_simple0 | Spawning the current app\n",
      "[INFO] | 2020-12-29 02:05:37 PM | analyzer.app_simple0 | Kill the current app if already spawned!\n"
     ]
    },
    {
     "name": "stdout",
     "output_type": "stream",
     "text": [
      "  steps=3, actions=[2, 1, 6, 1]\n",
      "# episode 135\n"
     ]
    },
    {
     "name": "stderr",
     "output_type": "stream",
     "text": [
      "[INFO] | 2020-12-29 02:05:37 PM | analyzer.app_simple0 | APK killed\n",
      "[INFO] | 2020-12-29 02:05:37 PM | analyzer.app_simple0 | Spawning the current app\n",
      "[INFO] | 2020-12-29 02:05:45 PM | analyzer.app_simple0 | Kill the current app if already spawned!\n"
     ]
    },
    {
     "name": "stdout",
     "output_type": "stream",
     "text": [
      "  steps=3, actions=[7, 7, 8, 5]\n",
      "# episode 136\n"
     ]
    },
    {
     "name": "stderr",
     "output_type": "stream",
     "text": [
      "[INFO] | 2020-12-29 02:05:45 PM | analyzer.app_simple0 | APK killed\n",
      "[INFO] | 2020-12-29 02:05:45 PM | analyzer.app_simple0 | Spawning the current app\n",
      "[INFO] | 2020-12-29 02:05:53 PM | analyzer.app_simple0 | Kill the current app if already spawned!\n"
     ]
    },
    {
     "name": "stdout",
     "output_type": "stream",
     "text": [
      "  steps=3, actions=[9, 7, 1, 12]\n",
      "# episode 137\n"
     ]
    },
    {
     "name": "stderr",
     "output_type": "stream",
     "text": [
      "[INFO] | 2020-12-29 02:05:53 PM | analyzer.app_simple0 | APK killed\n",
      "[INFO] | 2020-12-29 02:05:54 PM | analyzer.app_simple0 | Spawning the current app\n",
      "[INFO] | 2020-12-29 02:06:02 PM | analyzer.app_simple0 | Kill the current app if already spawned!\n"
     ]
    },
    {
     "name": "stdout",
     "output_type": "stream",
     "text": [
      "  steps=3, actions=[1, 1, 12, 5]\n",
      "# episode 138\n"
     ]
    },
    {
     "name": "stderr",
     "output_type": "stream",
     "text": [
      "[INFO] | 2020-12-29 02:06:02 PM | analyzer.app_simple0 | APK killed\n",
      "[INFO] | 2020-12-29 02:06:02 PM | analyzer.app_simple0 | Spawning the current app\n",
      "[INFO] | 2020-12-29 02:06:10 PM | analyzer.app_simple0 | Kill the current app if already spawned!\n"
     ]
    },
    {
     "name": "stdout",
     "output_type": "stream",
     "text": [
      "  steps=3, actions=[9, 0, 5, 1]\n",
      "# episode 139\n"
     ]
    },
    {
     "name": "stderr",
     "output_type": "stream",
     "text": [
      "[INFO] | 2020-12-29 02:06:10 PM | analyzer.app_simple0 | APK killed\n",
      "[INFO] | 2020-12-29 02:06:10 PM | analyzer.app_simple0 | Spawning the current app\n",
      "[INFO] | 2020-12-29 02:06:18 PM | analyzer.app_simple0 | Kill the current app if already spawned!\n"
     ]
    },
    {
     "name": "stdout",
     "output_type": "stream",
     "text": [
      "  steps=3, actions=[4, 12, 1, 0]\n",
      "# episode 140\n"
     ]
    },
    {
     "name": "stderr",
     "output_type": "stream",
     "text": [
      "[INFO] | 2020-12-29 02:06:18 PM | analyzer.app_simple0 | APK killed\n",
      "[INFO] | 2020-12-29 02:06:18 PM | analyzer.app_simple0 | Spawning the current app\n",
      "[INFO] | 2020-12-29 02:06:26 PM | analyzer.app_simple0 | Kill the current app if already spawned!\n"
     ]
    },
    {
     "name": "stdout",
     "output_type": "stream",
     "text": [
      "  steps=3, actions=[5, 6, 1, 10]\n",
      "# episode 141\n"
     ]
    },
    {
     "name": "stderr",
     "output_type": "stream",
     "text": [
      "[INFO] | 2020-12-29 02:06:27 PM | analyzer.app_simple0 | APK killed\n",
      "[INFO] | 2020-12-29 02:06:27 PM | analyzer.app_simple0 | Spawning the current app\n",
      "[INFO] | 2020-12-29 02:06:35 PM | analyzer.app_simple0 | Kill the current app if already spawned!\n"
     ]
    },
    {
     "name": "stdout",
     "output_type": "stream",
     "text": [
      "  steps=3, actions=[10, 3, 5, 10]\n",
      "# episode 142\n"
     ]
    },
    {
     "name": "stderr",
     "output_type": "stream",
     "text": [
      "[INFO] | 2020-12-29 02:06:35 PM | analyzer.app_simple0 | APK killed\n",
      "[INFO] | 2020-12-29 02:06:35 PM | analyzer.app_simple0 | Spawning the current app\n",
      "[INFO] | 2020-12-29 02:06:43 PM | analyzer.app_simple0 | Kill the current app if already spawned!\n"
     ]
    },
    {
     "name": "stdout",
     "output_type": "stream",
     "text": [
      "  steps=3, actions=[1, 7, 11, 4]\n",
      "# episode 143\n"
     ]
    },
    {
     "name": "stderr",
     "output_type": "stream",
     "text": [
      "[INFO] | 2020-12-29 02:06:43 PM | analyzer.app_simple0 | APK killed\n",
      "[INFO] | 2020-12-29 02:06:43 PM | analyzer.app_simple0 | Spawning the current app\n",
      "[INFO] | 2020-12-29 02:06:51 PM | analyzer.app_simple0 | Kill the current app if already spawned!\n"
     ]
    },
    {
     "name": "stdout",
     "output_type": "stream",
     "text": [
      "  steps=3, actions=[12, 1, 0, 4]\n",
      "# episode 144\n"
     ]
    },
    {
     "name": "stderr",
     "output_type": "stream",
     "text": [
      "[INFO] | 2020-12-29 02:06:52 PM | analyzer.app_simple0 | APK killed\n",
      "[INFO] | 2020-12-29 02:06:52 PM | analyzer.app_simple0 | Spawning the current app\n",
      "[INFO] | 2020-12-29 02:07:00 PM | analyzer.app_simple0 | Kill the current app if already spawned!\n"
     ]
    },
    {
     "name": "stdout",
     "output_type": "stream",
     "text": [
      "  steps=3, actions=[9, 6, 0, 9]\n",
      "# episode 145\n"
     ]
    },
    {
     "name": "stderr",
     "output_type": "stream",
     "text": [
      "[INFO] | 2020-12-29 02:07:00 PM | analyzer.app_simple0 | APK killed\n",
      "[INFO] | 2020-12-29 02:07:00 PM | analyzer.app_simple0 | Spawning the current app\n",
      "[INFO] | 2020-12-29 02:07:08 PM | analyzer.app_simple0 | Kill the current app if already spawned!\n"
     ]
    },
    {
     "name": "stdout",
     "output_type": "stream",
     "text": [
      "  steps=3, actions=[8, 8, 10, 7]\n",
      "# episode 146\n"
     ]
    },
    {
     "name": "stderr",
     "output_type": "stream",
     "text": [
      "[INFO] | 2020-12-29 02:07:08 PM | analyzer.app_simple0 | APK killed\n",
      "[INFO] | 2020-12-29 02:07:08 PM | analyzer.app_simple0 | Spawning the current app\n",
      "[INFO] | 2020-12-29 02:07:16 PM | analyzer.app_simple0 | Kill the current app if already spawned!\n"
     ]
    },
    {
     "name": "stdout",
     "output_type": "stream",
     "text": [
      "  steps=3, actions=[5, 11, 1, 0]\n",
      "# episode 147\n"
     ]
    },
    {
     "name": "stderr",
     "output_type": "stream",
     "text": [
      "[INFO] | 2020-12-29 02:07:16 PM | analyzer.app_simple0 | APK killed\n",
      "[INFO] | 2020-12-29 02:07:17 PM | analyzer.app_simple0 | Spawning the current app\n",
      "[INFO] | 2020-12-29 02:07:25 PM | analyzer.app_simple0 | Kill the current app if already spawned!\n"
     ]
    },
    {
     "name": "stdout",
     "output_type": "stream",
     "text": [
      "  steps=3, actions=[10, 1, 2, 1]\n",
      "# episode 148\n"
     ]
    },
    {
     "name": "stderr",
     "output_type": "stream",
     "text": [
      "[INFO] | 2020-12-29 02:07:25 PM | analyzer.app_simple0 | APK killed\n",
      "[INFO] | 2020-12-29 02:07:25 PM | analyzer.app_simple0 | Spawning the current app\n",
      "[INFO] | 2020-12-29 02:07:33 PM | analyzer.app_simple0 | Kill the current app if already spawned!\n"
     ]
    },
    {
     "name": "stdout",
     "output_type": "stream",
     "text": [
      "  steps=3, actions=[12, 2, 8, 9]\n",
      "# episode 149\n"
     ]
    },
    {
     "name": "stderr",
     "output_type": "stream",
     "text": [
      "[INFO] | 2020-12-29 02:07:33 PM | analyzer.app_simple0 | APK killed\n",
      "[INFO] | 2020-12-29 02:07:33 PM | analyzer.app_simple0 | Spawning the current app\n",
      "[INFO] | 2020-12-29 02:07:41 PM | analyzer.app_simple0 | Kill the current app if already spawned!\n"
     ]
    },
    {
     "name": "stdout",
     "output_type": "stream",
     "text": [
      "  steps=3, actions=[5, 10, 0, 7]\n",
      "# episode 150\n"
     ]
    },
    {
     "name": "stderr",
     "output_type": "stream",
     "text": [
      "[INFO] | 2020-12-29 02:07:42 PM | analyzer.app_simple0 | APK killed\n",
      "[INFO] | 2020-12-29 02:07:42 PM | analyzer.app_simple0 | Spawning the current app\n",
      "[INFO] | 2020-12-29 02:07:50 PM | analyzer.app_simple0 | Kill the current app if already spawned!\n"
     ]
    },
    {
     "name": "stdout",
     "output_type": "stream",
     "text": [
      "  steps=3, actions=[7, 7, 12, 6]\n",
      "# episode 151\n"
     ]
    },
    {
     "name": "stderr",
     "output_type": "stream",
     "text": [
      "[INFO] | 2020-12-29 02:07:50 PM | analyzer.app_simple0 | APK killed\n",
      "[INFO] | 2020-12-29 02:07:50 PM | analyzer.app_simple0 | Spawning the current app\n",
      "[INFO] | 2020-12-29 02:07:58 PM | analyzer.app_simple0 | Kill the current app if already spawned!\n"
     ]
    },
    {
     "name": "stdout",
     "output_type": "stream",
     "text": [
      "  steps=3, actions=[7, 4, 1, 6]\n",
      "# episode 152\n"
     ]
    },
    {
     "name": "stderr",
     "output_type": "stream",
     "text": [
      "[INFO] | 2020-12-29 02:07:59 PM | analyzer.app_simple0 | APK killed\n",
      "[INFO] | 2020-12-29 02:07:59 PM | analyzer.app_simple0 | Spawning the current app\n",
      "[INFO] | 2020-12-29 02:08:07 PM | analyzer.app_simple0 | Kill the current app if already spawned!\n"
     ]
    },
    {
     "name": "stdout",
     "output_type": "stream",
     "text": [
      "  steps=3, actions=[6, 1, 4, 4]\n",
      "# episode 153\n"
     ]
    },
    {
     "name": "stderr",
     "output_type": "stream",
     "text": [
      "[INFO] | 2020-12-29 02:08:07 PM | analyzer.app_simple0 | APK killed\n",
      "[INFO] | 2020-12-29 02:08:07 PM | analyzer.app_simple0 | Spawning the current app\n",
      "[INFO] | 2020-12-29 02:08:15 PM | analyzer.app_simple0 | Kill the current app if already spawned!\n"
     ]
    },
    {
     "name": "stdout",
     "output_type": "stream",
     "text": [
      "  steps=3, actions=[4, 4, 4, 10]\n",
      "# episode 154\n"
     ]
    },
    {
     "name": "stderr",
     "output_type": "stream",
     "text": [
      "[INFO] | 2020-12-29 02:08:15 PM | analyzer.app_simple0 | APK killed\n",
      "[INFO] | 2020-12-29 02:08:15 PM | analyzer.app_simple0 | Spawning the current app\n",
      "[INFO] | 2020-12-29 02:08:23 PM | analyzer.app_simple0 | Kill the current app if already spawned!\n"
     ]
    },
    {
     "name": "stdout",
     "output_type": "stream",
     "text": [
      "  steps=3, actions=[0, 10, 7, 2]\n",
      "# episode 155\n"
     ]
    },
    {
     "name": "stderr",
     "output_type": "stream",
     "text": [
      "[INFO] | 2020-12-29 02:08:24 PM | analyzer.app_simple0 | APK killed\n",
      "[INFO] | 2020-12-29 02:08:24 PM | analyzer.app_simple0 | Spawning the current app\n",
      "[INFO] | 2020-12-29 02:08:32 PM | analyzer.app_simple0 | Kill the current app if already spawned!\n"
     ]
    },
    {
     "name": "stdout",
     "output_type": "stream",
     "text": [
      "  steps=3, actions=[6, 0, 13, 1]\n",
      "# episode 156\n"
     ]
    },
    {
     "name": "stderr",
     "output_type": "stream",
     "text": [
      "[INFO] | 2020-12-29 02:08:32 PM | analyzer.app_simple0 | APK killed\n",
      "[INFO] | 2020-12-29 02:08:32 PM | analyzer.app_simple0 | Spawning the current app\n",
      "[INFO] | 2020-12-29 02:08:40 PM | analyzer.app_simple0 | Kill the current app if already spawned!\n"
     ]
    },
    {
     "name": "stdout",
     "output_type": "stream",
     "text": [
      "  steps=3, actions=[2, 1, 8, 6]\n",
      "# episode 157\n"
     ]
    },
    {
     "name": "stderr",
     "output_type": "stream",
     "text": [
      "[INFO] | 2020-12-29 02:08:40 PM | analyzer.app_simple0 | APK killed\n",
      "[INFO] | 2020-12-29 02:08:40 PM | analyzer.app_simple0 | Spawning the current app\n",
      "[INFO] | 2020-12-29 02:08:48 PM | analyzer.app_simple0 | Kill the current app if already spawned!\n"
     ]
    },
    {
     "name": "stdout",
     "output_type": "stream",
     "text": [
      "  steps=3, actions=[12, 2, 6, 5]\n",
      "# episode 158\n"
     ]
    },
    {
     "name": "stderr",
     "output_type": "stream",
     "text": [
      "[INFO] | 2020-12-29 02:08:49 PM | analyzer.app_simple0 | APK killed\n",
      "[INFO] | 2020-12-29 02:08:49 PM | analyzer.app_simple0 | Spawning the current app\n",
      "[INFO] | 2020-12-29 02:08:56 PM | analyzer.app_simple0 | Kill the current app if already spawned!\n"
     ]
    },
    {
     "name": "stdout",
     "output_type": "stream",
     "text": [
      "  steps=3, actions=[10, 2, 0, 0]\n",
      "# episode 159\n"
     ]
    },
    {
     "name": "stderr",
     "output_type": "stream",
     "text": [
      "[INFO] | 2020-12-29 02:08:57 PM | analyzer.app_simple0 | APK killed\n",
      "[INFO] | 2020-12-29 02:08:57 PM | analyzer.app_simple0 | Spawning the current app\n",
      "[INFO] | 2020-12-29 02:09:05 PM | analyzer.app_simple0 | Kill the current app if already spawned!\n"
     ]
    },
    {
     "name": "stdout",
     "output_type": "stream",
     "text": [
      "  steps=3, actions=[4, 12, 7, 4]\n",
      "# episode 160\n"
     ]
    },
    {
     "name": "stderr",
     "output_type": "stream",
     "text": [
      "[INFO] | 2020-12-29 02:09:05 PM | analyzer.app_simple0 | APK killed\n",
      "[INFO] | 2020-12-29 02:09:05 PM | analyzer.app_simple0 | Spawning the current app\n",
      "[INFO] | 2020-12-29 02:09:13 PM | analyzer.app_simple0 | Kill the current app if already spawned!\n"
     ]
    },
    {
     "name": "stdout",
     "output_type": "stream",
     "text": [
      "  steps=3, actions=[1, 4, 10, 1]\n",
      "# episode 161\n"
     ]
    },
    {
     "name": "stderr",
     "output_type": "stream",
     "text": [
      "[INFO] | 2020-12-29 02:09:14 PM | analyzer.app_simple0 | APK killed\n",
      "[INFO] | 2020-12-29 02:09:14 PM | analyzer.app_simple0 | Spawning the current app\n",
      "[INFO] | 2020-12-29 02:09:22 PM | analyzer.app_simple0 | Kill the current app if already spawned!\n"
     ]
    },
    {
     "name": "stdout",
     "output_type": "stream",
     "text": [
      "  steps=3, actions=[6, 1, 0, 6]\n",
      "# episode 162\n"
     ]
    },
    {
     "name": "stderr",
     "output_type": "stream",
     "text": [
      "[INFO] | 2020-12-29 02:09:22 PM | analyzer.app_simple0 | APK killed\n",
      "[INFO] | 2020-12-29 02:09:22 PM | analyzer.app_simple0 | Spawning the current app\n",
      "[INFO] | 2020-12-29 02:09:30 PM | analyzer.app_simple0 | Kill the current app if already spawned!\n"
     ]
    },
    {
     "name": "stdout",
     "output_type": "stream",
     "text": [
      "  steps=3, actions=[8, 5, 5, 1]\n",
      "# episode 163\n"
     ]
    },
    {
     "name": "stderr",
     "output_type": "stream",
     "text": [
      "[INFO] | 2020-12-29 02:09:30 PM | analyzer.app_simple0 | APK killed\n",
      "[INFO] | 2020-12-29 02:09:30 PM | analyzer.app_simple0 | Spawning the current app\n"
     ]
    }
   ],
   "source": [
    "config = {\n",
    "    \"environment\": apk,\n",
    "    \"maxn_steps\": 4,\n",
    "    \"n_episodes\": 100000,\n",
    "}\n",
    "rollout(config)"
   ]
  },
  {
   "cell_type": "code",
   "execution_count": null,
   "metadata": {},
   "outputs": [],
   "source": []
  },
  {
   "cell_type": "code",
   "execution_count": null,
   "metadata": {},
   "outputs": [],
   "source": []
  },
  {
   "cell_type": "code",
   "execution_count": null,
   "metadata": {},
   "outputs": [],
   "source": []
  },
  {
   "cell_type": "code",
   "execution_count": null,
   "metadata": {},
   "outputs": [],
   "source": []
  }
 ],
 "metadata": {
  "kernelspec": {
   "display_name": "Python 3",
   "language": "python",
   "name": "python3"
  },
  "language_info": {
   "codemirror_mode": {
    "name": "ipython",
    "version": 3
   },
   "file_extension": ".py",
   "mimetype": "text/x-python",
   "name": "python",
   "nbconvert_exporter": "python",
   "pygments_lexer": "ipython3",
   "version": "3.6.9"
  }
 },
 "nbformat": 4,
 "nbformat_minor": 4
}

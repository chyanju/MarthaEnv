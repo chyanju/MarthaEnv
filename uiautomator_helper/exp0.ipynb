{
 "cells": [
  {
   "cell_type": "raw",
   "metadata": {},
   "source": [
    "One node in the windows hierarchy looks like this:\n",
    "\n",
    "<node index=\"1\" text=\"\" resource-id=\"android:id/content\" class=\"android.widget.FrameLayout\" package=\"com.example.validrec\" content-desc=\"\" checkable=\"false\" checked=\"false\" clickable=\"false\" enabled=\"true\" focusable=\"false\" focused=\"false\" scrollable=\"false\" long-clickable=\"false\" password=\"false\" selected=\"false\" visible-to-user=\"true\" bounds=\"[0,210][1080,1794]\">\n",
    "\n",
    "In the current version we only extract the index and those binary fields to construct a single vector representation for every node:\n",
    "- index: 8 bits\n",
    "- checkable: 1 bit\n",
    "- checked: 1 bit\n",
    "- clickable: 1 bit\n",
    "- enabled: 1 bit\n",
    "- focusable: 1 bit\n",
    "- focused: 1 bit\n",
    "- scrollable: 1 bit\n",
    "- long-clickable: 1 bit\n",
    "- password: 1 bit\n",
    "- selected: 1 bit\n",
    "- visible-to-user: 1 bit\n",
    "=== total: 19 bits"
   ]
  },
  {
   "cell_type": "code",
   "execution_count": 1,
   "metadata": {},
   "outputs": [],
   "source": [
    "from xml.dom import minidom\n",
    "import editdistance\n",
    "import random\n",
    "\n",
    "# an action here is a gui element\n",
    "def get_action_vector(arg_action):\n",
    "    str_index = \"{0:08b}\".format(int(arg_action.index))\n",
    "    vec_index = [1 if p == \"1\" else 0 for p in str_index]\n",
    "    vec_checkable = [1 if arg_action.checkable == \"true\" else 0]\n",
    "    vec_checked = [1 if arg_action.checked == \"true\" else 0]\n",
    "    vec_clickable = [1 if arg_action.clickable == \"true\" else 0]\n",
    "    vec_enabled = [1 if arg_action.enabled == \"true\" else 0]\n",
    "    vec_focusable = [1 if arg_action.focusable == \"true\" else 0]\n",
    "    vec_focused = [1 if arg_action.focused == \"true\" else 0]\n",
    "    vec_scrollable = [1 if arg_action.scrollable == \"true\" else 0]\n",
    "    vec_long_clickable = [1 if arg_action.long_clickable == \"true\" else 0]\n",
    "    vec_password = [1 if arg_action.password == \"true\" else 0]\n",
    "    vec_selected = [1 if arg_action.selected == \"true\" else 0]\n",
    "    vec_visible_to_user = [1 if arg_action.visible_to_user == \"true\" else 0]\n",
    "    return vec_index + vec_checkable + vec_checked + vec_clickable + vec_enabled + \\\n",
    "           vec_focusable + vec_focused + vec_scrollable + vec_long_clickable + \\\n",
    "           vec_password + vec_selected + vec_visible_to_user\n",
    "\n",
    "def get_action_pool_matrix(arg_action_pool):\n",
    "    action_pool_matrix = []\n",
    "    for i in range(len(arg_action_pool)):\n",
    "        action_pool_matrix.append( get_action_vector(arg_action_pool[i]) )\n",
    "    return action_pool_matrix\n",
    "\n",
    "# a state here is a windows hierarchy string\n",
    "def get_state_matrix(arg_state, arg_maxn_row):\n",
    "    state_nodes = minidom.parseString(arg_state).getElementsByTagName('node')\n",
    "    state_matrix = []\n",
    "    for i in range(len(state_nodes)):\n",
    "        node_i = state_nodes[i]\n",
    "        str_index = \"{0:08b}\".format(int(node_i.attributes['index'].value))\n",
    "        vec_index = [1 if p == \"1\" else 0 for p in str_index]\n",
    "        vec_checkable = [1 if node_i.attributes[\"checkable\"].value == \"true\" else 0]\n",
    "        vec_checked = [1 if node_i.attributes[\"checked\"].value == \"true\" else 0]\n",
    "        vec_clickable = [1 if node_i.attributes[\"clickable\"].value == \"true\" else 0]\n",
    "        vec_enabled = [1 if node_i.attributes[\"enabled\"].value == \"true\" else 0]\n",
    "        vec_focusable = [1 if node_i.attributes[\"focusable\"].value == \"true\" else 0]\n",
    "        vec_focused = [1 if node_i.attributes[\"focused\"].value == \"true\" else 0]\n",
    "        vec_scrollable = [1 if node_i.attributes[\"scrollable\"].value == \"true\" else 0]\n",
    "        vec_long_clickable = [1 if node_i.attributes[\"long-clickable\"].value == \"true\" else 0]\n",
    "        vec_password = [1 if node_i.attributes[\"password\"].value == \"true\" else 0]\n",
    "        vec_selected = [1 if node_i.attributes[\"selected\"].value == \"true\" else 0]\n",
    "        vec_visible_to_user = [1 if node_i.attributes[\"visible-to-user\"].value == \"true\" else 0]\n",
    "        state_matrix.append( vec_index + vec_checkable + vec_checked + vec_clickable + vec_enabled + \\\n",
    "                             vec_focusable + vec_focused + vec_scrollable + vec_long_clickable + \\\n",
    "                             vec_password + vec_selected + vec_visible_to_user )\n",
    "    assert len(state_matrix)<=arg_maxn_row\n",
    "    for i in range(arg_maxn_row-len(state_matrix)):\n",
    "        state_matrix.append([0 for _ in range(19)])\n",
    "    return state_matrix\n",
    "\n",
    "def get_reward0(arg_state0, arg_state1):\n",
    "    # need to remove system ui, such as clock, since it varies every minute/second\n",
    "    def remove_system_ui(args_dom):\n",
    "        for node in args_dom:\n",
    "            if node.hasAttribute('package') and node.getAttribute('package') == \"com.android.systemui\":\n",
    "                parent = node.parentNode\n",
    "                parent.removeChild(node)\n",
    "    # states should be xml strings\n",
    "    dom0 = minidom.parseString(arg_state0)\n",
    "    dom1 = minidom.parseString(arg_state1)\n",
    "    pre_nodes0 = dom0.getElementsByTagName('node')\n",
    "    pre_nodes1 = dom1.getElementsByTagName('node')\n",
    "    remove_system_ui(pre_nodes0)\n",
    "    remove_system_ui(pre_nodes1)\n",
    "    nodes0 = dom0.getElementsByTagName('node')\n",
    "    nodes1 = dom1.getElementsByTagName('node')\n",
    "    xmls0 = [p.toxml() for p in nodes0]\n",
    "    xmls1 = [p.toxml() for p in nodes1]\n",
    "    # print(\"# xmls0: {}, xmls1: {}, edit: {}\".format(len(xmls0), len(xmls1), editdistance.eval(xmls0, xmls1)))\n",
    "    return 1.0 - float( editdistance.eval(xmls0, xmls1) ) / float( max(len(xmls0), len(xmls1)) )"
   ]
  },
  {
   "cell_type": "code",
   "execution_count": 2,
   "metadata": {},
   "outputs": [
    {
     "name": "stdout",
     "output_type": "stream",
     "text": [
      "device: cpu\n",
      "torch version: 1.6.0\n"
     ]
    }
   ],
   "source": [
    "import torch\n",
    "import numpy as np\n",
    "import torch.nn as nn\n",
    "import torch.nn.functional as F\n",
    "from torch.autograd import Variable\n",
    "\n",
    "device = torch.device(\"cuda:0\" if torch.cuda.is_available() else \"cpu\")\n",
    "print(\"device: {}\".format(device))\n",
    "print(\"torch version: {}\".format(torch.__version__))"
   ]
  },
  {
   "cell_type": "code",
   "execution_count": 3,
   "metadata": {},
   "outputs": [],
   "source": [
    "class NeuralAgent(nn.Module):\n",
    "    def __init__(self, spec_dims=None, maxn_nodes=None):\n",
    "        super(NeuralAgent, self).__init__()\n",
    "        # (kernel size, number of kernels)\n",
    "        self.n_kernels = [10, 10, 10]\n",
    "        self.kernel_sizes = [1, 2, 3]\n",
    "        self.convs = nn.ModuleList([\n",
    "            nn.Conv1d(spec_dims, self.n_kernels[i], self.kernel_sizes[i], padding=0)\n",
    "            for i in range(len(self.kernel_sizes))\n",
    "        ])\n",
    "        self.maxlen = maxn_nodes\n",
    "        self.pools = nn.ModuleList([\n",
    "            nn.MaxPool1d(self.maxlen+1-self.kernel_sizes[i], padding=0)\n",
    "            for i in range(len(self.kernel_sizes))\n",
    "        ])\n",
    "        self.linear = nn.Linear(sum(self.n_kernels), spec_dims)\n",
    "        \n",
    "    def forward(self, node_seq):\n",
    "        # node_seq: (B, n_nodes, spec_dims), usually B=1\n",
    "        B = node_seq.shape[0] # batch size\n",
    "        tmp0 = node_seq.transpose(1,2) # (N,C,L), which is (B, spec_dims, n_nodes)\n",
    "        # print(\"# tmp0: {}\".format(tmp0.shape))\n",
    "        # (B, n_kernels, maxlen-i)\n",
    "        tmp1s = [\n",
    "            F.relu(self.convs[i](tmp0))\n",
    "            for i in range(len(self.convs))\n",
    "        ]\n",
    "        # print(\"# tmp1s: {}\".format(tmp1s[0].shape))\n",
    "        # (B, n_kernels, 1)\n",
    "        tmp2s = [\n",
    "            self.pools[i](tmp1s[i])\n",
    "            for i in range(len(tmp1s))\n",
    "        ]\n",
    "        # (B, n_kernels)\n",
    "        tmp3s = [\n",
    "            tmp2s[i].view(B, self.n_kernels[i])\n",
    "            for i in range(len(tmp2s))\n",
    "        ]\n",
    "        tmp4 = torch.cat(tmp3s, 1) # (B, sum(n_kernels))\n",
    "        tmp5 = torch.sigmoid(self.linear(tmp4)) # (B, spec_dims)\n",
    "        return tmp5"
   ]
  },
  {
   "cell_type": "code",
   "execution_count": 10,
   "metadata": {},
   "outputs": [],
   "source": [
    "# 1. roll out an action sequence\n",
    "# 2. compute reward\n",
    "# 3. policy gradient back propagation\n",
    "def rollout(env, agent, optimizer, maxn_steps, maxn_nodes, target_state):\n",
    "    # note: remember to clear the state\n",
    "    # fixme: it seems not working right now\n",
    "    env.launch_app()\n",
    "    \n",
    "    rollout_outputs = []\n",
    "    rollout_actions = []\n",
    "    rollout_action_ids = []\n",
    "    \n",
    "    for i in range(maxn_steps):\n",
    "        time.sleep(1)\n",
    "        state_i = env.get_current_state()\n",
    "        if get_reward0(state_i, target_state) == 1:\n",
    "            print(\"# reach target state after {} actions\".format(len(rollout_outputs)))\n",
    "            # already reach the target state\n",
    "            break\n",
    "            \n",
    "        pool_i = env.get_available_actionable_elements(state_i)\n",
    "        n_actions = len(pool_i)\n",
    "        if n_actions == 0:\n",
    "            print(\"# no action is found, terminate.\")\n",
    "            # no available actions any more\n",
    "            break\n",
    "        \n",
    "        # (B=1, n_nodes, spec_dims), wrap a [] to make B=1\n",
    "        m_state = np.asarray( [ get_state_matrix(state_i, maxn_nodes) ] )\n",
    "        \n",
    "        # (n_actions, spec_dims)\n",
    "        m_pool = np.asarray( get_action_pool_matrix(pool_i) ) \n",
    "        \n",
    "        t_state = Variable(torch.tensor(m_state, dtype=torch.float).to(device))\n",
    "        t_pool = Variable(torch.tensor(m_pool, dtype=torch.float).to(device))\n",
    "        \n",
    "        # print(t_state.shape)\n",
    "        # print(t_pool.shape)\n",
    "        \n",
    "        agent.train()\n",
    "        # (B=1, spec_dims)\n",
    "        t_output = agent(t_state)\n",
    "        \n",
    "        # ====> using cosine similarity\n",
    "        # (n_actions, spec_dims)\n",
    "        # t0_output = t_output.expand_as(t_pool)\n",
    "        # t_cos = F.cosine_similarity(t0_output, t_pool, dim=1)\n",
    "        # t_act = F.log_softmax(t_cos, dim=0)\n",
    "        # ====> directly mm similarity\n",
    "        t0_output = t_output.view(-1,1)\n",
    "        t_mm = torch.mm(t_pool, t0_output)\n",
    "        t_act = F.log_softmax(t_mm, dim=0)\n",
    "        # print(\"# t_act: {}\".format(t_act))\n",
    "        \n",
    "        if random.random()>0.8:\n",
    "            # explore\n",
    "            selected_action_id = random.choice(list(range(len(pool_i))))\n",
    "            print(\"# selected_action_id (rnd): {}, log-sim: {}\".format(selected_action_id, t_act[selected_action_id]))\n",
    "        else:\n",
    "            # exploit\n",
    "            t_probs = t_act.exp().flatten().tolist()\n",
    "            selected_action_id = random.choices(list(range(len(pool_i))), weights=t_probs, k=1)[0]\n",
    "            # selected_action_id = torch.argmax(t_act, dim=0).tolist()\n",
    "            print(\"# selected_action_id (mul): {}, log-sim: {}\".format(selected_action_id, t_act[selected_action_id]))\n",
    "        \n",
    "        \n",
    "        \n",
    "        # perform action\n",
    "        env.perform_action(pool_i[selected_action_id])\n",
    "        next_state = env.get_current_state()\n",
    "        \n",
    "        # store the choices\n",
    "        rollout_outputs.append(t_act)\n",
    "        rollout_actions.append(pool_i)\n",
    "        rollout_action_ids.append(selected_action_id)\n",
    "        \n",
    "    # here we use the final reward as the cumulative reward\n",
    "    # which is for the present a brute-force version of reward\n",
    "    final_state = env.get_current_state()\n",
    "    # fixme: may need to award shorter paths\n",
    "    # final_reward = ( get_reward0(final_state, target_state) -0.5 ) *2 # scale to [-1,1]\n",
    "    final_reward = ( get_reward0(final_state, target_state) -0.5 ) *2 / len(rollout_outputs) # scale to [-1,1]\n",
    "    print(\"# final reward: {}\".format(final_reward))\n",
    "    \n",
    "    rollout_loss = []\n",
    "    current_reward = final_reward\n",
    "    # reverse from the last to first\n",
    "    for i in range(len(rollout_outputs))[::-1]:\n",
    "        rollout_loss.append( current_reward * (-rollout_outputs[i][rollout_action_ids[i]]) )\n",
    "        current_reward *= 0.8 # decay\n",
    "    rollout_loss = rollout_loss[::-1]\n",
    "    \n",
    "    optimizer.zero_grad()\n",
    "    # loss = sum(rollout_loss) / len(rollout_loss)\n",
    "    loss = sum(rollout_loss)\n",
    "    loss.backward()\n",
    "    optimizer.step()\n",
    "        \n",
    "        "
   ]
  },
  {
   "cell_type": "code",
   "execution_count": 6,
   "metadata": {},
   "outputs": [
    {
     "name": "stderr",
     "output_type": "stream",
     "text": [
      "WARNING | 2020-10-20 00:07:43,205 | \u001b[34mpyaxmlparser.core\u001b[0m | \u001b[34mFailed to get the attribute with namespace\u001b[0m\n",
      "WARNING | 2020-10-20 00:07:43,216 | \u001b[34mpyaxmlparser.core\u001b[0m | \u001b[34mFailed to get the attribute with namespace\u001b[0m\n",
      "WARNING | 2020-10-20 00:07:43,219 | \u001b[34mpyaxmlparser.core\u001b[0m | \u001b[34mFailed to get the attribute with namespace\u001b[0m\n"
     ]
    },
    {
     "name": "stdout",
     "output_type": "stream",
     "text": [
      "\u001b[36m[#] Analysis started at: 2020-10-20 12:07:43 AM\u001b[0m\n"
     ]
    }
   ],
   "source": [
    "from fuzzer import *\n",
    "\n",
    "APK_PATH = \"/Users/joseph/Desktop/UCSB/20summer/MarthaEnv/old_code/validrec_sample.apk\"\n",
    "OUTPUT_DIR = \"/Users/joseph/Desktop/UCSB/20summer/MarthaEnv/results/\"\n",
    "\n",
    "def run_adb_as_root(log):\n",
    "    proc = subprocess.Popen([\"adb\", \"root\"], stdout=subprocess.PIPE, stderr=subprocess.PIPE)\n",
    "    output, error = proc.communicate()\n",
    "    output = output.decode().strip()\n",
    "    error = error.decode().strip()\n",
    "\n",
    "    if len(error) == 0:\n",
    "        if output == 'adbd is already running as root' or output == 'restarting adbd as root':\n",
    "            log.info(\"Adb is running with root priviledges now!\")\n",
    "\n",
    "        else:\n",
    "            log.info(\"Some other error happened, debug!\")\n",
    "    else:\n",
    "        log.warning(\"Error occured during adb command, debug!\")\n",
    "\n",
    "pyaxmlparser_apk = APK(APK_PATH)\n",
    "apk_base_name = os.path.splitext(os.path.basename(APK_PATH))[0]\n",
    "output_dir = os.path.join(OUTPUT_DIR, apk_base_name)\n",
    "if os.path.exists(output_dir):\n",
    "    rmtree(output_dir)\n",
    "if not os.path.exists(output_dir):\n",
    "    os.mkdir(output_dir)\n",
    "    \n",
    "# Setting the path for log file\n",
    "log_path = os.path.join(output_dir, 'analysis.log')\n",
    "log = init_logging('analyzer.%s' % apk_base_name, log_path, file_mode='w', console=True)\n",
    "\n",
    "# Record analysis start time\n",
    "now = datetime.datetime.now()\n",
    "analysis_start_time = now.strftime(DATE_FORMAT)\n",
    "info('Analysis started at: %s' % analysis_start_time)\n",
    "start_time = time.time()\n",
    "\n",
    "# Get the serial for the device attached to ADB\n",
    "device_serial = get_device_serial(log)\n",
    "\n",
    "if device_serial is None:\n",
    "    log.warning(\"Device is not connected!\")\n",
    "    sys.exit(1)"
   ]
  },
  {
   "cell_type": "code",
   "execution_count": 7,
   "metadata": {},
   "outputs": [
    {
     "name": "stderr",
     "output_type": "stream",
     "text": [
      "[INFO] | 2020-10-20 12:07:45 AM | analyzer.validrec_sample | Adb is running with root priviledges now!\n",
      "WARNING | 2020-10-20 00:07:45,203 | \u001b[34mpyaxmlparser.core\u001b[0m | \u001b[34mFailed to get the attribute with namespace\u001b[0m\n",
      "WARNING | 2020-10-20 00:07:45,205 | \u001b[34mpyaxmlparser.core\u001b[0m | \u001b[34mFailed to get the attribute with namespace\u001b[0m\n",
      "WARNING | 2020-10-20 00:07:45,206 | \u001b[34mpyaxmlparser.core\u001b[0m | \u001b[34mFailed to get the attribute with namespace\u001b[0m\n",
      "[WARNING] | 2020-10-20 12:07:46 AM | analyzer.validrec_sample | Installation errored out for validrec_sample.apk\n",
      "[INFO] | 2020-10-20 12:07:46 AM | analyzer.validrec_sample | Kill the current app if already spawned!\n",
      "[INFO] | 2020-10-20 12:07:47 AM | analyzer.validrec_sample | APK killed\n",
      "[INFO] | 2020-10-20 12:07:47 AM | analyzer.validrec_sample | Spawning the current app\n"
     ]
    }
   ],
   "source": [
    "uiautomator_device = u2.connect(device_serial)\n",
    "run_adb_as_root(log)\n",
    "apk_obj = Apk(APK_PATH, uiautomator_device, log)\n",
    "apk_obj.launch_app()"
   ]
  },
  {
   "cell_type": "code",
   "execution_count": 8,
   "metadata": {},
   "outputs": [],
   "source": [
    "debug_final_state = \"\"\"<?xml version=\\'1.0\\' encoding=\\'UTF-8\\' standalone=\\'yes\\' ?>\\r\\n<hierarchy rotation=\"0\">\\r\\n  <node index=\"0\" text=\"\" resource-id=\"\" class=\"android.widget.FrameLayout\" package=\"com.example.validrec\" content-desc=\"\" checkable=\"false\" checked=\"false\" clickable=\"false\" enabled=\"true\" focusable=\"false\" focused=\"false\" scrollable=\"false\" long-clickable=\"false\" password=\"false\" selected=\"false\" visible-to-user=\"true\" bounds=\"[0,0][1080,2040]\">\\r\\n    <node index=\"0\" text=\"\" resource-id=\"\" class=\"android.widget.LinearLayout\" package=\"com.example.validrec\" content-desc=\"\" checkable=\"false\" checked=\"false\" clickable=\"false\" enabled=\"true\" focusable=\"false\" focused=\"false\" scrollable=\"false\" long-clickable=\"false\" password=\"false\" selected=\"false\" visible-to-user=\"true\" bounds=\"[0,0][1080,2040]\">\\r\\n      <node index=\"0\" text=\"\" resource-id=\"\" class=\"android.widget.FrameLayout\" package=\"com.example.validrec\" content-desc=\"\" checkable=\"false\" checked=\"false\" clickable=\"false\" enabled=\"true\" focusable=\"false\" focused=\"false\" scrollable=\"false\" long-clickable=\"false\" password=\"false\" selected=\"false\" visible-to-user=\"true\" bounds=\"[0,60][1080,2040]\">\\r\\n        <node index=\"0\" text=\"\" resource-id=\"com.example.validrec:id/action_bar_root\" class=\"android.widget.LinearLayout\" package=\"com.example.validrec\" content-desc=\"\" checkable=\"false\" checked=\"false\" clickable=\"false\" enabled=\"true\" focusable=\"false\" focused=\"false\" scrollable=\"false\" long-clickable=\"false\" password=\"false\" selected=\"false\" visible-to-user=\"true\" bounds=\"[0,60][1080,2040]\">\\r\\n          <node index=\"0\" text=\"\" resource-id=\"android:id/content\" class=\"android.widget.FrameLayout\" package=\"com.example.validrec\" content-desc=\"\" checkable=\"false\" checked=\"false\" clickable=\"false\" enabled=\"true\" focusable=\"false\" focused=\"false\" scrollable=\"false\" long-clickable=\"false\" password=\"false\" selected=\"false\" visible-to-user=\"true\" bounds=\"[0,60][1080,2040]\">\\r\\n            <node index=\"0\" text=\"\" resource-id=\"com.example.validrec:id/coordinator\" class=\"android.view.ViewGroup\" package=\"com.example.validrec\" content-desc=\"\" checkable=\"false\" checked=\"false\" clickable=\"false\" enabled=\"true\" focusable=\"false\" focused=\"false\" scrollable=\"false\" long-clickable=\"false\" password=\"false\" selected=\"false\" visible-to-user=\"true\" bounds=\"[0,60][1080,2040]\">\\r\\n              <node index=\"0\" text=\"enter secret message\" resource-id=\"com.example.validrec:id/textView\" class=\"android.widget.TextView\" package=\"com.example.validrec\" content-desc=\"\" checkable=\"false\" checked=\"false\" clickable=\"false\" enabled=\"true\" focusable=\"false\" focused=\"false\" scrollable=\"false\" long-clickable=\"false\" password=\"false\" selected=\"false\" visible-to-user=\"true\" bounds=\"[0,60][1080,1698]\" />\\r\\n            </node>\\r\\n          </node>\\r\\n        </node>\\r\\n      </node>\\r\\n    </node>\\r\\n  </node>\\r\\n  <node index=\"0\" text=\"\" resource-id=\"\" class=\"android.widget.FrameLayout\" package=\"com.android.systemui\" content-desc=\"\" checkable=\"false\" checked=\"false\" clickable=\"false\" enabled=\"true\" focusable=\"false\" focused=\"false\" scrollable=\"false\" long-clickable=\"false\" password=\"false\" selected=\"false\" visible-to-user=\"true\" bounds=\"[0,0][1080,60]\">\\r\\n    <node index=\"0\" text=\"\" resource-id=\"com.android.systemui:id/scrim_in_front\" class=\"android.view.View\" package=\"com.android.systemui\" content-desc=\"\" checkable=\"false\" checked=\"false\" clickable=\"false\" enabled=\"true\" focusable=\"true\" focused=\"false\" scrollable=\"false\" long-clickable=\"false\" password=\"false\" selected=\"false\" visible-to-user=\"true\" bounds=\"[0,0][1080,60]\" />\\r\\n    <node index=\"1\" text=\"\" resource-id=\"com.android.systemui:id/scrim_behind\" class=\"android.view.View\" package=\"com.android.systemui\" content-desc=\"\" checkable=\"false\" checked=\"false\" clickable=\"false\" enabled=\"true\" focusable=\"true\" focused=\"false\" scrollable=\"false\" long-clickable=\"false\" password=\"false\" selected=\"false\" visible-to-user=\"true\" bounds=\"[0,0][1080,60]\" />\\r\\n    <node index=\"2\" text=\"\" resource-id=\"com.android.systemui:id/status_bar_container\" class=\"android.widget.FrameLayout\" package=\"com.android.systemui\" content-desc=\"\" checkable=\"false\" checked=\"false\" clickable=\"false\" enabled=\"true\" focusable=\"false\" focused=\"false\" scrollable=\"false\" long-clickable=\"false\" password=\"false\" selected=\"false\" visible-to-user=\"true\" bounds=\"[0,0][1080,60]\">\\r\\n      <node index=\"0\" text=\"\" resource-id=\"com.android.systemui:id/status_bar\" class=\"android.widget.FrameLayout\" package=\"com.android.systemui\" content-desc=\"\" checkable=\"false\" checked=\"false\" clickable=\"false\" enabled=\"true\" focusable=\"false\" focused=\"false\" scrollable=\"false\" long-clickable=\"false\" password=\"false\" selected=\"false\" visible-to-user=\"true\" bounds=\"[0,0][1080,60]\">\\r\\n        <node index=\"0\" text=\"\" resource-id=\"com.android.systemui:id/status_bar_contents\" class=\"android.widget.LinearLayout\" package=\"com.android.systemui\" content-desc=\"\" checkable=\"false\" checked=\"false\" clickable=\"false\" enabled=\"true\" focusable=\"false\" focused=\"false\" scrollable=\"false\" long-clickable=\"false\" password=\"false\" selected=\"false\" visible-to-user=\"true\" bounds=\"[20,0][1060,60]\">\\r\\n          <node index=\"0\" text=\"\" resource-id=\"\" class=\"android.widget.FrameLayout\" package=\"com.android.systemui\" content-desc=\"\" checkable=\"false\" checked=\"false\" clickable=\"false\" enabled=\"true\" focusable=\"false\" focused=\"false\" scrollable=\"false\" long-clickable=\"false\" password=\"false\" selected=\"false\" visible-to-user=\"true\" bounds=\"[35,0][540,60]\">\\r\\n            <node index=\"0\" text=\"\" resource-id=\"com.android.systemui:id/status_bar_left_side\" class=\"android.widget.LinearLayout\" package=\"com.android.systemui\" content-desc=\"\" checkable=\"false\" checked=\"false\" clickable=\"false\" enabled=\"true\" focusable=\"false\" focused=\"false\" scrollable=\"false\" long-clickable=\"false\" password=\"false\" selected=\"false\" visible-to-user=\"true\" bounds=\"[35,0][540,60]\">\\r\\n              <node index=\"0\" text=\"10:55\" resource-id=\"com.android.systemui:id/clock\" class=\"android.widget.TextView\" package=\"com.android.systemui\" content-desc=\"10:55 PM\" checkable=\"false\" checked=\"false\" clickable=\"false\" enabled=\"true\" focusable=\"false\" focused=\"false\" scrollable=\"false\" long-clickable=\"false\" password=\"false\" selected=\"false\" visible-to-user=\"true\" bounds=\"[35,0][142,60]\" />\\r\\n              <node index=\"1\" text=\"\" resource-id=\"com.android.systemui:id/notification_icon_area\" class=\"android.widget.FrameLayout\" package=\"com.android.systemui\" content-desc=\"\" checkable=\"false\" checked=\"false\" clickable=\"false\" enabled=\"true\" focusable=\"false\" focused=\"false\" scrollable=\"false\" long-clickable=\"false\" password=\"false\" selected=\"false\" visible-to-user=\"true\" bounds=\"[142,0][540,60]\">\\r\\n                <node index=\"0\" text=\"\" resource-id=\"com.android.systemui:id/notification_icon_area_inner\" class=\"android.widget.LinearLayout\" package=\"com.android.systemui\" content-desc=\"\" checkable=\"false\" checked=\"false\" clickable=\"false\" enabled=\"true\" focusable=\"false\" focused=\"false\" scrollable=\"false\" long-clickable=\"false\" password=\"false\" selected=\"false\" visible-to-user=\"true\" bounds=\"[142,0][540,60]\">\\r\\n                  <node index=\"0\" text=\"\" resource-id=\"com.android.systemui:id/notificationIcons\" class=\"android.widget.FrameLayout\" package=\"com.android.systemui\" content-desc=\"\" checkable=\"false\" checked=\"false\" clickable=\"false\" enabled=\"true\" focusable=\"false\" focused=\"false\" scrollable=\"false\" long-clickable=\"false\" password=\"false\" selected=\"false\" visible-to-user=\"true\" bounds=\"[142,0][540,60]\">\\r\\n                    <node index=\"0\" text=\"\" resource-id=\"\" class=\"android.widget.ImageView\" package=\"com.android.systemui\" content-desc=\"Android Setup notification: Preparing for setup…\" checkable=\"false\" checked=\"false\" clickable=\"false\" enabled=\"true\" focusable=\"false\" focused=\"false\" scrollable=\"false\" long-clickable=\"false\" password=\"false\" selected=\"false\" visible-to-user=\"true\" bounds=\"[142,0][197,60]\" />\\r\\n                    <node index=\"1\" text=\"\" resource-id=\"\" class=\"android.widget.ImageView\" package=\"com.android.systemui\" content-desc=\"ATX notification: UIAutomator\" checkable=\"false\" checked=\"false\" clickable=\"false\" enabled=\"true\" focusable=\"false\" focused=\"false\" scrollable=\"false\" long-clickable=\"false\" password=\"false\" selected=\"false\" visible-to-user=\"true\" bounds=\"[197,0][252,60]\" />\\r\\n                    <node index=\"2\" text=\"\" resource-id=\"\" class=\"android.widget.ImageView\" package=\"com.android.systemui\" content-desc=\"Settings notification: Virtual SD card\" checkable=\"false\" checked=\"false\" clickable=\"false\" enabled=\"true\" focusable=\"false\" focused=\"false\" scrollable=\"false\" long-clickable=\"false\" password=\"false\" selected=\"false\" visible-to-user=\"true\" bounds=\"[252,0][307,60]\" />\\r\\n                  </node>\\r\\n                </node>\\r\\n              </node>\\r\\n            </node>\\r\\n          </node>\\r\\n          <node index=\"1\" text=\"\" resource-id=\"com.android.systemui:id/system_icon_area\" class=\"android.widget.LinearLayout\" package=\"com.android.systemui\" content-desc=\"\" checkable=\"false\" checked=\"false\" clickable=\"false\" enabled=\"true\" focusable=\"false\" focused=\"false\" scrollable=\"false\" long-clickable=\"false\" password=\"false\" selected=\"false\" visible-to-user=\"true\" bounds=\"[540,0][1045,60]\">\\r\\n            <node index=\"0\" text=\"\" resource-id=\"com.android.systemui:id/system_icons\" class=\"android.widget.LinearLayout\" package=\"com.android.systemui\" content-desc=\"\" checkable=\"false\" checked=\"false\" clickable=\"false\" enabled=\"true\" focusable=\"false\" focused=\"false\" scrollable=\"false\" long-clickable=\"false\" password=\"false\" selected=\"false\" visible-to-user=\"true\" bounds=\"[540,0][1045,60]\">\\r\\n              <node index=\"0\" text=\"\" resource-id=\"com.android.systemui:id/statusIcons\" class=\"android.widget.LinearLayout\" package=\"com.android.systemui\" content-desc=\"\" checkable=\"false\" checked=\"false\" clickable=\"false\" enabled=\"true\" focusable=\"false\" focused=\"false\" scrollable=\"false\" long-clickable=\"false\" password=\"false\" selected=\"false\" visible-to-user=\"true\" bounds=\"[540,0][1024,60]\">\\r\\n                <node index=\"0\" text=\"\" resource-id=\"com.android.systemui:id/wifi_combo\" class=\"android.widget.FrameLayout\" package=\"com.android.systemui\" content-desc=\"Wifi signal full.\" checkable=\"false\" checked=\"false\" clickable=\"false\" enabled=\"true\" focusable=\"false\" focused=\"false\" scrollable=\"false\" long-clickable=\"false\" password=\"false\" selected=\"false\" visible-to-user=\"true\" bounds=\"[924,2][971,57]\">\\r\\n                  <node index=\"0\" text=\"\" resource-id=\"com.android.systemui:id/wifi_group\" class=\"android.widget.LinearLayout\" package=\"com.android.systemui\" content-desc=\"\" checkable=\"false\" checked=\"false\" clickable=\"false\" enabled=\"true\" focusable=\"false\" focused=\"false\" scrollable=\"false\" long-clickable=\"false\" password=\"false\" selected=\"false\" visible-to-user=\"true\" bounds=\"[930,2][971,57]\">\\r\\n                    <node index=\"0\" text=\"\" resource-id=\"com.android.systemui:id/wifi_combo\" class=\"android.widget.FrameLayout\" package=\"com.android.systemui\" content-desc=\"\" checkable=\"false\" checked=\"false\" clickable=\"false\" enabled=\"true\" focusable=\"false\" focused=\"false\" scrollable=\"false\" long-clickable=\"false\" password=\"false\" selected=\"false\" visible-to-user=\"true\" bounds=\"[930,10][971,48]\">\\r\\n                      <node index=\"0\" text=\"\" resource-id=\"com.android.systemui:id/wifi_signal\" class=\"android.widget.ImageView\" package=\"com.android.systemui\" content-desc=\"\" checkable=\"false\" checked=\"false\" clickable=\"false\" enabled=\"true\" focusable=\"false\" focused=\"false\" scrollable=\"false\" long-clickable=\"false\" password=\"false\" selected=\"false\" visible-to-user=\"true\" bounds=\"[930,10][971,48]\" />\\r\\n                    </node>\\r\\n                  </node>\\r\\n                </node>\\r\\n                <node index=\"1\" text=\"\" resource-id=\"com.android.systemui:id/mobile_combo\" class=\"android.widget.FrameLayout\" package=\"com.android.systemui\" content-desc=\"Phone two bars.\" checkable=\"false\" checked=\"false\" clickable=\"false\" enabled=\"true\" focusable=\"false\" focused=\"false\" scrollable=\"false\" long-clickable=\"false\" password=\"false\" selected=\"false\" visible-to-user=\"true\" bounds=\"[971,2][1009,57]\">\\r\\n                  <node index=\"0\" text=\"\" resource-id=\"com.android.systemui:id/mobile_group\" class=\"android.widget.LinearLayout\" package=\"com.android.systemui\" content-desc=\"\" checkable=\"false\" checked=\"false\" clickable=\"false\" enabled=\"true\" focusable=\"false\" focused=\"false\" scrollable=\"false\" long-clickable=\"false\" password=\"false\" selected=\"false\" visible-to-user=\"true\" bounds=\"[971,2][1009,57]\">\\r\\n                    <node index=\"0\" text=\"\" resource-id=\"\" class=\"android.widget.FrameLayout\" package=\"com.android.systemui\" content-desc=\"\" checkable=\"false\" checked=\"false\" clickable=\"false\" enabled=\"true\" focusable=\"false\" focused=\"false\" scrollable=\"false\" long-clickable=\"false\" password=\"false\" selected=\"false\" visible-to-user=\"true\" bounds=\"[971,10][1009,48]\">\\r\\n                      <node index=\"0\" text=\"\" resource-id=\"com.android.systemui:id/mobile_signal\" class=\"android.widget.ImageView\" package=\"com.android.systemui\" content-desc=\"\" checkable=\"false\" checked=\"false\" clickable=\"false\" enabled=\"true\" focusable=\"false\" focused=\"false\" scrollable=\"false\" long-clickable=\"false\" password=\"false\" selected=\"false\" visible-to-user=\"true\" bounds=\"[971,10][1009,48]\" />\\r\\n                    </node>\\r\\n                  </node>\\r\\n                </node>\\r\\n              </node>\\r\\n              <node index=\"1\" text=\"\" resource-id=\"com.android.systemui:id/battery\" class=\"android.widget.LinearLayout\" package=\"com.android.systemui\" content-desc=\"Battery 100 percent.\" checkable=\"false\" checked=\"false\" clickable=\"false\" enabled=\"true\" focusable=\"false\" focused=\"false\" scrollable=\"false\" long-clickable=\"false\" password=\"false\" selected=\"false\" visible-to-user=\"true\" bounds=\"[1024,0][1045,60]\">\\r\\n                <node index=\"0\" text=\"\" resource-id=\"\" class=\"android.widget.ImageView\" package=\"com.android.systemui\" content-desc=\"\" checkable=\"false\" checked=\"false\" clickable=\"false\" enabled=\"true\" focusable=\"false\" focused=\"false\" scrollable=\"false\" long-clickable=\"false\" password=\"false\" selected=\"false\" visible-to-user=\"true\" bounds=\"[1024,13][1045,46]\" />\\r\\n              </node>\\r\\n            </node>\\r\\n          </node>\\r\\n        </node>\\r\\n      </node>\\r\\n    </node>\\r\\n  </node>\\r\\n  <node index=\"0\" text=\"\" resource-id=\"com.android.systemui:id/navigation_bar_frame\" class=\"android.widget.FrameLayout\" package=\"com.android.systemui\" content-desc=\"\" checkable=\"false\" checked=\"false\" clickable=\"false\" enabled=\"true\" focusable=\"false\" focused=\"false\" scrollable=\"false\" long-clickable=\"false\" password=\"false\" selected=\"false\" visible-to-user=\"true\" bounds=\"[0,2040][1080,2160]\">\\r\\n    <node index=\"0\" text=\"\" resource-id=\"\" class=\"android.widget.FrameLayout\" package=\"com.android.systemui\" content-desc=\"\" checkable=\"false\" checked=\"false\" clickable=\"false\" enabled=\"true\" focusable=\"false\" focused=\"false\" scrollable=\"false\" long-clickable=\"false\" password=\"false\" selected=\"false\" visible-to-user=\"true\" bounds=\"[0,2040][1080,2160]\">\\r\\n      <node index=\"0\" text=\"\" resource-id=\"com.android.systemui:id/navigation_inflater\" class=\"android.widget.FrameLayout\" package=\"com.android.systemui\" content-desc=\"\" checkable=\"false\" checked=\"false\" clickable=\"false\" enabled=\"true\" focusable=\"false\" focused=\"false\" scrollable=\"false\" long-clickable=\"false\" password=\"false\" selected=\"false\" visible-to-user=\"true\" bounds=\"[0,2040][1080,2160]\">\\r\\n        <node index=\"0\" text=\"\" resource-id=\"com.android.systemui:id/rot0\" class=\"android.widget.FrameLayout\" package=\"com.android.systemui\" content-desc=\"\" checkable=\"false\" checked=\"false\" clickable=\"false\" enabled=\"true\" focusable=\"false\" focused=\"false\" scrollable=\"false\" long-clickable=\"false\" password=\"false\" selected=\"false\" visible-to-user=\"true\" bounds=\"[0,2040][1080,2160]\">\\r\\n          <node index=\"0\" text=\"\" resource-id=\"com.android.systemui:id/nav_buttons\" class=\"android.widget.FrameLayout\" package=\"com.android.systemui\" content-desc=\"\" checkable=\"false\" checked=\"false\" clickable=\"false\" enabled=\"true\" focusable=\"false\" focused=\"false\" scrollable=\"false\" long-clickable=\"false\" password=\"false\" selected=\"false\" visible-to-user=\"true\" bounds=\"[0,2040][1080,2160]\">\\r\\n            <node index=\"0\" text=\"\" resource-id=\"com.android.systemui:id/ends_group\" class=\"android.widget.LinearLayout\" package=\"com.android.systemui\" content-desc=\"\" checkable=\"false\" checked=\"false\" clickable=\"false\" enabled=\"true\" focusable=\"false\" focused=\"false\" scrollable=\"false\" long-clickable=\"false\" password=\"false\" selected=\"false\" visible-to-user=\"true\" bounds=\"[20,2040][1060,2160]\">\\r\\n              <node index=\"0\" text=\"\" resource-id=\"\" class=\"android.widget.RelativeLayout\" package=\"com.android.systemui\" content-desc=\"\" checkable=\"false\" checked=\"false\" clickable=\"false\" enabled=\"true\" focusable=\"false\" focused=\"false\" scrollable=\"false\" long-clickable=\"false\" password=\"false\" selected=\"false\" visible-to-user=\"true\" bounds=\"[40,2040][140,2160]\" />\\r\\n              <node index=\"1\" text=\"\" resource-id=\"\" class=\"android.widget.RelativeLayout\" package=\"com.android.systemui\" content-desc=\"\" checkable=\"false\" checked=\"false\" clickable=\"false\" enabled=\"true\" focusable=\"false\" focused=\"false\" scrollable=\"false\" long-clickable=\"false\" password=\"false\" selected=\"false\" visible-to-user=\"true\" bounds=\"[140,2040][340,2160]\">\\r\\n                <node index=\"0\" text=\"\" resource-id=\"com.android.systemui:id/back\" class=\"android.widget.ImageView\" package=\"com.android.systemui\" content-desc=\"Back\" checkable=\"false\" checked=\"false\" clickable=\"true\" enabled=\"true\" focusable=\"true\" focused=\"false\" scrollable=\"false\" long-clickable=\"true\" password=\"false\" selected=\"false\" visible-to-user=\"true\" bounds=\"[140,2040][340,2160]\" />\\r\\n              </node>\\r\\n              <node index=\"2\" text=\"\" resource-id=\"\" class=\"android.widget.RelativeLayout\" package=\"com.android.systemui\" content-desc=\"\" checkable=\"false\" checked=\"false\" clickable=\"false\" enabled=\"true\" focusable=\"false\" focused=\"false\" scrollable=\"false\" long-clickable=\"false\" password=\"false\" selected=\"false\" visible-to-user=\"true\" bounds=\"[740,2040][940,2160]\">\\r\\n                <node index=\"0\" text=\"\" resource-id=\"com.android.systemui:id/recent_apps\" class=\"android.widget.ImageView\" package=\"com.android.systemui\" content-desc=\"Overview\" checkable=\"false\" checked=\"false\" clickable=\"true\" enabled=\"true\" focusable=\"true\" focused=\"false\" scrollable=\"false\" long-clickable=\"true\" password=\"false\" selected=\"false\" visible-to-user=\"true\" bounds=\"[740,2040][940,2160]\" />\\r\\n              </node>\\r\\n              <node index=\"3\" text=\"\" resource-id=\"\" class=\"android.widget.RelativeLayout\" package=\"com.android.systemui\" content-desc=\"\" checkable=\"false\" checked=\"false\" clickable=\"false\" enabled=\"true\" focusable=\"false\" focused=\"false\" scrollable=\"false\" long-clickable=\"false\" password=\"false\" selected=\"false\" visible-to-user=\"true\" bounds=\"[940,2040][1040,2160]\">\\r\\n                <node NAF=\"true\" index=\"0\" text=\"\" resource-id=\"com.android.systemui:id/menu_container\" class=\"android.widget.FrameLayout\" package=\"com.android.systemui\" content-desc=\"\" checkable=\"false\" checked=\"false\" clickable=\"true\" enabled=\"true\" focusable=\"true\" focused=\"false\" scrollable=\"false\" long-clickable=\"true\" password=\"false\" selected=\"false\" visible-to-user=\"true\" bounds=\"[940,2040][1040,2160]\" />\\r\\n              </node>\\r\\n            </node>\\r\\n            <node index=\"1\" text=\"\" resource-id=\"com.android.systemui:id/center_group\" class=\"android.widget.LinearLayout\" package=\"com.android.systemui\" content-desc=\"\" checkable=\"false\" checked=\"false\" clickable=\"false\" enabled=\"true\" focusable=\"false\" focused=\"false\" scrollable=\"false\" long-clickable=\"false\" password=\"false\" selected=\"false\" visible-to-user=\"true\" bounds=\"[420,2040][660,2160]\">\\r\\n              <node index=\"0\" text=\"\" resource-id=\"com.android.systemui:id/home\" class=\"android.widget.FrameLayout\" package=\"com.android.systemui\" content-desc=\"\" checkable=\"false\" checked=\"false\" clickable=\"true\" enabled=\"true\" focusable=\"true\" focused=\"false\" scrollable=\"false\" long-clickable=\"false\" password=\"false\" selected=\"false\" visible-to-user=\"true\" bounds=\"[440,2040][640,2160]\">\\r\\n                <node index=\"0\" text=\"\" resource-id=\"com.android.systemui:id/home_button\" class=\"android.widget.ImageView\" package=\"com.android.systemui\" content-desc=\"Home\" checkable=\"false\" checked=\"false\" clickable=\"true\" enabled=\"true\" focusable=\"true\" focused=\"false\" scrollable=\"false\" long-clickable=\"true\" password=\"false\" selected=\"false\" visible-to-user=\"true\" bounds=\"[440,2040][640,2160]\" />\\r\\n                <node index=\"1\" text=\"\" resource-id=\"\" class=\"android.widget.RelativeLayout\" package=\"com.android.systemui\" content-desc=\"\" checkable=\"false\" checked=\"false\" clickable=\"false\" enabled=\"true\" focusable=\"false\" focused=\"false\" scrollable=\"false\" long-clickable=\"false\" password=\"false\" selected=\"false\" visible-to-user=\"true\" bounds=\"[440,2040][640,2160]\" />\\r\\n                <node index=\"2\" text=\"\" resource-id=\"com.android.systemui:id/white_cutout\" class=\"android.widget.ImageView\" package=\"com.android.systemui\" content-desc=\"\" checkable=\"false\" checked=\"false\" clickable=\"false\" enabled=\"true\" focusable=\"false\" focused=\"false\" scrollable=\"false\" long-clickable=\"false\" password=\"false\" selected=\"false\" visible-to-user=\"true\" bounds=\"[517,2077][562,2122]\" />\\r\\n                <node index=\"3\" text=\"\" resource-id=\"com.android.systemui:id/white\" class=\"android.widget.ImageView\" package=\"com.android.systemui\" content-desc=\"\" checkable=\"false\" checked=\"false\" clickable=\"false\" enabled=\"true\" focusable=\"false\" focused=\"false\" scrollable=\"false\" long-clickable=\"false\" password=\"false\" selected=\"false\" visible-to-user=\"true\" bounds=\"[517,2077][562,2122]\" />\\r\\n              </node>\\r\\n            </node>\\r\\n          </node>\\r\\n        </node>\\r\\n      </node>\\r\\n    </node>\\r\\n  </node>\\r\\n</hierarchy>\"\"\""
   ]
  },
  {
   "cell_type": "code",
   "execution_count": 11,
   "metadata": {},
   "outputs": [
    {
     "name": "stderr",
     "output_type": "stream",
     "text": [
      "[INFO] | 2020-10-20 12:08:21 AM | analyzer.validrec_sample | Kill the current app if already spawned!\n"
     ]
    },
    {
     "name": "stdout",
     "output_type": "stream",
     "text": [
      "# ep0\n"
     ]
    },
    {
     "name": "stderr",
     "output_type": "stream",
     "text": [
      "[INFO] | 2020-10-20 12:08:21 AM | analyzer.validrec_sample | APK killed\n",
      "[INFO] | 2020-10-20 12:08:21 AM | analyzer.validrec_sample | Spawning the current app\n"
     ]
    },
    {
     "name": "stdout",
     "output_type": "stream",
     "text": [
      "# selected_action_id (mul): 0, log-sim: tensor([-1.5096], grad_fn=<SelectBackward>)\n",
      "# selected_action_id (rnd): 0, log-sim: tensor([-1.5096], grad_fn=<SelectBackward>)\n"
     ]
    },
    {
     "name": "stderr",
     "output_type": "stream",
     "text": [
      "[INFO] | 2020-10-20 12:08:27 AM | analyzer.validrec_sample | Kill the current app if already spawned!\n"
     ]
    },
    {
     "name": "stdout",
     "output_type": "stream",
     "text": [
      "# final reward: -0.5\n",
      "# ep1\n"
     ]
    },
    {
     "name": "stderr",
     "output_type": "stream",
     "text": [
      "[INFO] | 2020-10-20 12:08:27 AM | analyzer.validrec_sample | APK killed\n",
      "[INFO] | 2020-10-20 12:08:27 AM | analyzer.validrec_sample | Spawning the current app\n"
     ]
    },
    {
     "name": "stdout",
     "output_type": "stream",
     "text": [
      "# selected_action_id (mul): 1, log-sim: tensor([-1.0188], grad_fn=<SelectBackward>)\n",
      "# selected_action_id (mul): 2, log-sim: tensor([-1.5629], grad_fn=<SelectBackward>)\n"
     ]
    },
    {
     "name": "stderr",
     "output_type": "stream",
     "text": [
      "[INFO] | 2020-10-20 12:08:33 AM | analyzer.validrec_sample | Kill the current app if already spawned!\n"
     ]
    },
    {
     "name": "stdout",
     "output_type": "stream",
     "text": [
      "# final reward: 0.5\n",
      "# ep2\n"
     ]
    },
    {
     "name": "stderr",
     "output_type": "stream",
     "text": [
      "[INFO] | 2020-10-20 12:08:33 AM | analyzer.validrec_sample | APK killed\n",
      "[INFO] | 2020-10-20 12:08:33 AM | analyzer.validrec_sample | Spawning the current app\n"
     ]
    },
    {
     "name": "stdout",
     "output_type": "stream",
     "text": [
      "# selected_action_id (mul): 3, log-sim: tensor([-1.5356], grad_fn=<SelectBackward>)\n",
      "# selected_action_id (mul): 1, log-sim: tensor([-0.5199], grad_fn=<SelectBackward>)\n"
     ]
    },
    {
     "name": "stderr",
     "output_type": "stream",
     "text": [
      "[INFO] | 2020-10-20 12:08:39 AM | analyzer.validrec_sample | Kill the current app if already spawned!\n",
      "[INFO] | 2020-10-20 12:08:39 AM | analyzer.validrec_sample | APK killed\n",
      "[INFO] | 2020-10-20 12:08:39 AM | analyzer.validrec_sample | Spawning the current app\n"
     ]
    },
    {
     "name": "stdout",
     "output_type": "stream",
     "text": [
      "# final reward: -0.5\n",
      "# ep3\n",
      "# selected_action_id (mul): 0, log-sim: tensor([-1.5702], grad_fn=<SelectBackward>)\n",
      "# selected_action_id (mul): 3, log-sim: tensor([-1.5611], grad_fn=<SelectBackward>)\n"
     ]
    },
    {
     "name": "stderr",
     "output_type": "stream",
     "text": [
      "[INFO] | 2020-10-20 12:08:46 AM | analyzer.validrec_sample | Kill the current app if already spawned!\n",
      "[INFO] | 2020-10-20 12:08:46 AM | analyzer.validrec_sample | APK killed\n",
      "[INFO] | 2020-10-20 12:08:46 AM | analyzer.validrec_sample | Spawning the current app\n"
     ]
    },
    {
     "name": "stdout",
     "output_type": "stream",
     "text": [
      "# final reward: -0.5\n",
      "# ep4\n",
      "# selected_action_id (mul): 0, log-sim: tensor([-1.5929], grad_fn=<SelectBackward>)\n",
      "# selected_action_id (mul): 2, log-sim: tensor([-1.5428], grad_fn=<SelectBackward>)\n"
     ]
    },
    {
     "name": "stderr",
     "output_type": "stream",
     "text": [
      "[INFO] | 2020-10-20 12:08:51 AM | analyzer.validrec_sample | Kill the current app if already spawned!\n",
      "[INFO] | 2020-10-20 12:08:52 AM | analyzer.validrec_sample | APK killed\n",
      "[INFO] | 2020-10-20 12:08:52 AM | analyzer.validrec_sample | Spawning the current app\n"
     ]
    },
    {
     "name": "stdout",
     "output_type": "stream",
     "text": [
      "# final reward: 0.5\n",
      "# ep5\n",
      "# selected_action_id (mul): 3, log-sim: tensor([-1.5853], grad_fn=<SelectBackward>)\n",
      "# selected_action_id (mul): 1, log-sim: tensor([-0.5529], grad_fn=<SelectBackward>)\n"
     ]
    },
    {
     "name": "stderr",
     "output_type": "stream",
     "text": [
      "[INFO] | 2020-10-20 12:08:58 AM | analyzer.validrec_sample | Kill the current app if already spawned!\n",
      "[INFO] | 2020-10-20 12:08:58 AM | analyzer.validrec_sample | APK killed\n",
      "[INFO] | 2020-10-20 12:08:58 AM | analyzer.validrec_sample | Spawning the current app\n"
     ]
    },
    {
     "name": "stdout",
     "output_type": "stream",
     "text": [
      "# final reward: -0.5\n",
      "# ep6\n",
      "# selected_action_id (mul): 1, log-sim: tensor([-0.9696], grad_fn=<SelectBackward>)\n",
      "# selected_action_id (rnd): 2, log-sim: tensor([-1.5318], grad_fn=<SelectBackward>)\n"
     ]
    },
    {
     "name": "stderr",
     "output_type": "stream",
     "text": [
      "[INFO] | 2020-10-20 12:09:04 AM | analyzer.validrec_sample | Kill the current app if already spawned!\n"
     ]
    },
    {
     "name": "stdout",
     "output_type": "stream",
     "text": [
      "# final reward: 0.5\n",
      "# ep7\n"
     ]
    },
    {
     "name": "stderr",
     "output_type": "stream",
     "text": [
      "[INFO] | 2020-10-20 12:09:04 AM | analyzer.validrec_sample | APK killed\n",
      "[INFO] | 2020-10-20 12:09:04 AM | analyzer.validrec_sample | Spawning the current app\n"
     ]
    },
    {
     "name": "stdout",
     "output_type": "stream",
     "text": [
      "# selected_action_id (mul): 1, log-sim: tensor([-0.9599], grad_fn=<SelectBackward>)\n",
      "# selected_action_id (rnd): 1, log-sim: tensor([-0.9599], grad_fn=<SelectBackward>)\n"
     ]
    },
    {
     "name": "stderr",
     "output_type": "stream",
     "text": [
      "[INFO] | 2020-10-20 12:09:10 AM | analyzer.validrec_sample | Kill the current app if already spawned!\n",
      "[INFO] | 2020-10-20 12:09:10 AM | analyzer.validrec_sample | APK killed\n",
      "[INFO] | 2020-10-20 12:09:10 AM | analyzer.validrec_sample | Spawning the current app\n"
     ]
    },
    {
     "name": "stdout",
     "output_type": "stream",
     "text": [
      "# final reward: -0.5\n",
      "# ep8\n",
      "# selected_action_id (rnd): 2, log-sim: tensor([-1.5260], grad_fn=<SelectBackward>)\n"
     ]
    },
    {
     "name": "stderr",
     "output_type": "stream",
     "text": [
      "[INFO] | 2020-10-20 12:09:15 AM | analyzer.validrec_sample | Kill the current app if already spawned!\n"
     ]
    },
    {
     "name": "stdout",
     "output_type": "stream",
     "text": [
      "# reach target state after 1 actions\n",
      "# final reward: 1.0\n",
      "# ep9\n"
     ]
    },
    {
     "name": "stderr",
     "output_type": "stream",
     "text": [
      "[INFO] | 2020-10-20 12:09:15 AM | analyzer.validrec_sample | APK killed\n",
      "[INFO] | 2020-10-20 12:09:15 AM | analyzer.validrec_sample | Spawning the current app\n"
     ]
    },
    {
     "name": "stdout",
     "output_type": "stream",
     "text": [
      "# selected_action_id (mul): 1, log-sim: tensor([-0.9828], grad_fn=<SelectBackward>)\n",
      "# selected_action_id (mul): 3, log-sim: tensor([-1.6123], grad_fn=<SelectBackward>)\n"
     ]
    },
    {
     "name": "stderr",
     "output_type": "stream",
     "text": [
      "[INFO] | 2020-10-20 12:09:22 AM | analyzer.validrec_sample | Kill the current app if already spawned!\n",
      "[INFO] | 2020-10-20 12:09:22 AM | analyzer.validrec_sample | APK killed\n",
      "[INFO] | 2020-10-20 12:09:22 AM | analyzer.validrec_sample | Spawning the current app\n"
     ]
    },
    {
     "name": "stdout",
     "output_type": "stream",
     "text": [
      "# final reward: -0.5\n",
      "# ep10\n",
      "# selected_action_id (mul): 2, log-sim: tensor([-1.5090], grad_fn=<SelectBackward>)\n"
     ]
    },
    {
     "name": "stderr",
     "output_type": "stream",
     "text": [
      "[INFO] | 2020-10-20 12:09:28 AM | analyzer.validrec_sample | Kill the current app if already spawned!\n"
     ]
    },
    {
     "name": "stdout",
     "output_type": "stream",
     "text": [
      "# reach target state after 1 actions\n",
      "# final reward: 1.0\n",
      "# ep11\n"
     ]
    },
    {
     "name": "stderr",
     "output_type": "stream",
     "text": [
      "[INFO] | 2020-10-20 12:09:28 AM | analyzer.validrec_sample | APK killed\n",
      "[INFO] | 2020-10-20 12:09:28 AM | analyzer.validrec_sample | Spawning the current app\n"
     ]
    },
    {
     "name": "stdout",
     "output_type": "stream",
     "text": [
      "# selected_action_id (mul): 1, log-sim: tensor([-0.9836], grad_fn=<SelectBackward>)\n",
      "# selected_action_id (mul): 1, log-sim: tensor([-0.9836], grad_fn=<SelectBackward>)\n"
     ]
    },
    {
     "name": "stderr",
     "output_type": "stream",
     "text": [
      "[INFO] | 2020-10-20 12:09:34 AM | analyzer.validrec_sample | Kill the current app if already spawned!\n",
      "[INFO] | 2020-10-20 12:09:34 AM | analyzer.validrec_sample | APK killed\n",
      "[INFO] | 2020-10-20 12:09:34 AM | analyzer.validrec_sample | Spawning the current app\n"
     ]
    },
    {
     "name": "stdout",
     "output_type": "stream",
     "text": [
      "# final reward: -0.5\n",
      "# ep12\n",
      "# selected_action_id (rnd): 1, log-sim: tensor([-1.0060], grad_fn=<SelectBackward>)\n",
      "# selected_action_id (mul): 3, log-sim: tensor([-1.6124], grad_fn=<SelectBackward>)\n"
     ]
    },
    {
     "name": "stderr",
     "output_type": "stream",
     "text": [
      "[INFO] | 2020-10-20 12:09:40 AM | analyzer.validrec_sample | Kill the current app if already spawned!\n",
      "[INFO] | 2020-10-20 12:09:40 AM | analyzer.validrec_sample | APK killed\n",
      "[INFO] | 2020-10-20 12:09:40 AM | analyzer.validrec_sample | Spawning the current app\n"
     ]
    },
    {
     "name": "stdout",
     "output_type": "stream",
     "text": [
      "# final reward: -0.5\n",
      "# ep13\n",
      "# selected_action_id (mul): 1, log-sim: tensor([-1.0061], grad_fn=<SelectBackward>)\n",
      "# selected_action_id (mul): 2, log-sim: tensor([-1.4930], grad_fn=<SelectBackward>)\n"
     ]
    },
    {
     "name": "stderr",
     "output_type": "stream",
     "text": [
      "[INFO] | 2020-10-20 12:09:46 AM | analyzer.validrec_sample | Kill the current app if already spawned!\n"
     ]
    },
    {
     "name": "stdout",
     "output_type": "stream",
     "text": [
      "# final reward: 0.5\n",
      "# ep14\n"
     ]
    },
    {
     "name": "stderr",
     "output_type": "stream",
     "text": [
      "[INFO] | 2020-10-20 12:09:46 AM | analyzer.validrec_sample | APK killed\n",
      "[INFO] | 2020-10-20 12:09:46 AM | analyzer.validrec_sample | Spawning the current app\n"
     ]
    },
    {
     "name": "stdout",
     "output_type": "stream",
     "text": [
      "# selected_action_id (mul): 2, log-sim: tensor([-1.4860], grad_fn=<SelectBackward>)\n"
     ]
    },
    {
     "name": "stderr",
     "output_type": "stream",
     "text": [
      "[INFO] | 2020-10-20 12:09:52 AM | analyzer.validrec_sample | Kill the current app if already spawned!\n"
     ]
    },
    {
     "name": "stdout",
     "output_type": "stream",
     "text": [
      "# reach target state after 1 actions\n",
      "# final reward: 1.0\n",
      "# ep15\n"
     ]
    },
    {
     "name": "stderr",
     "output_type": "stream",
     "text": [
      "[INFO] | 2020-10-20 12:09:52 AM | analyzer.validrec_sample | APK killed\n",
      "[INFO] | 2020-10-20 12:09:52 AM | analyzer.validrec_sample | Spawning the current app\n"
     ]
    },
    {
     "name": "stdout",
     "output_type": "stream",
     "text": [
      "# selected_action_id (mul): 1, log-sim: tensor([-0.9942], grad_fn=<SelectBackward>)\n",
      "# selected_action_id (mul): 3, log-sim: tensor([-1.6451], grad_fn=<SelectBackward>)\n"
     ]
    },
    {
     "name": "stderr",
     "output_type": "stream",
     "text": [
      "[INFO] | 2020-10-20 12:09:59 AM | analyzer.validrec_sample | Kill the current app if already spawned!\n",
      "[INFO] | 2020-10-20 12:09:59 AM | analyzer.validrec_sample | APK killed\n",
      "[INFO] | 2020-10-20 12:09:59 AM | analyzer.validrec_sample | Spawning the current app\n"
     ]
    },
    {
     "name": "stdout",
     "output_type": "stream",
     "text": [
      "# final reward: -0.5\n",
      "# ep16\n",
      "# selected_action_id (mul): 2, log-sim: tensor([-1.4684], grad_fn=<SelectBackward>)\n"
     ]
    },
    {
     "name": "stderr",
     "output_type": "stream",
     "text": [
      "[INFO] | 2020-10-20 12:10:04 AM | analyzer.validrec_sample | Kill the current app if already spawned!\n"
     ]
    },
    {
     "name": "stdout",
     "output_type": "stream",
     "text": [
      "# reach target state after 1 actions\n",
      "# final reward: 1.0\n",
      "# ep17\n"
     ]
    },
    {
     "name": "stderr",
     "output_type": "stream",
     "text": [
      "[INFO] | 2020-10-20 12:10:05 AM | analyzer.validrec_sample | APK killed\n",
      "[INFO] | 2020-10-20 12:10:05 AM | analyzer.validrec_sample | Spawning the current app\n"
     ]
    },
    {
     "name": "stdout",
     "output_type": "stream",
     "text": [
      "# selected_action_id (mul): 0, log-sim: tensor([-1.5720], grad_fn=<SelectBackward>)\n",
      "# selected_action_id (mul): 1, log-sim: tensor([-0.9947], grad_fn=<SelectBackward>)\n"
     ]
    },
    {
     "name": "stderr",
     "output_type": "stream",
     "text": [
      "[INFO] | 2020-10-20 12:10:11 AM | analyzer.validrec_sample | Kill the current app if already spawned!\n",
      "[INFO] | 2020-10-20 12:10:11 AM | analyzer.validrec_sample | APK killed\n",
      "[INFO] | 2020-10-20 12:10:11 AM | analyzer.validrec_sample | Spawning the current app\n"
     ]
    },
    {
     "name": "stdout",
     "output_type": "stream",
     "text": [
      "# final reward: -0.5\n",
      "# ep18\n",
      "# selected_action_id (mul): 2, log-sim: tensor([-1.4511], grad_fn=<SelectBackward>)\n"
     ]
    },
    {
     "name": "stderr",
     "output_type": "stream",
     "text": [
      "[INFO] | 2020-10-20 12:10:16 AM | analyzer.validrec_sample | Kill the current app if already spawned!\n"
     ]
    },
    {
     "name": "stdout",
     "output_type": "stream",
     "text": [
      "# reach target state after 1 actions\n",
      "# final reward: 1.0\n",
      "# ep19\n"
     ]
    },
    {
     "name": "stderr",
     "output_type": "stream",
     "text": [
      "[INFO] | 2020-10-20 12:10:16 AM | analyzer.validrec_sample | APK killed\n",
      "[INFO] | 2020-10-20 12:10:16 AM | analyzer.validrec_sample | Spawning the current app\n"
     ]
    },
    {
     "name": "stdout",
     "output_type": "stream",
     "text": [
      "# selected_action_id (mul): 3, log-sim: tensor([-1.6662], grad_fn=<SelectBackward>)\n",
      "# selected_action_id (mul): 0, log-sim: tensor([-0.7365], grad_fn=<SelectBackward>)\n"
     ]
    },
    {
     "name": "stderr",
     "output_type": "stream",
     "text": [
      "[INFO] | 2020-10-20 12:10:23 AM | analyzer.validrec_sample | Kill the current app if already spawned!\n"
     ]
    },
    {
     "name": "stdout",
     "output_type": "stream",
     "text": [
      "# final reward: 0.5\n",
      "# ep20\n"
     ]
    },
    {
     "name": "stderr",
     "output_type": "stream",
     "text": [
      "[INFO] | 2020-10-20 12:10:23 AM | analyzer.validrec_sample | APK killed\n",
      "[INFO] | 2020-10-20 12:10:23 AM | analyzer.validrec_sample | Spawning the current app\n"
     ]
    },
    {
     "name": "stdout",
     "output_type": "stream",
     "text": [
      "# selected_action_id (mul): 1, log-sim: tensor([-1.0018], grad_fn=<SelectBackward>)\n",
      "# selected_action_id (rnd): 1, log-sim: tensor([-1.0018], grad_fn=<SelectBackward>)\n"
     ]
    },
    {
     "name": "stderr",
     "output_type": "stream",
     "text": [
      "[INFO] | 2020-10-20 12:10:29 AM | analyzer.validrec_sample | Kill the current app if already spawned!\n",
      "[INFO] | 2020-10-20 12:10:29 AM | analyzer.validrec_sample | APK killed\n",
      "[INFO] | 2020-10-20 12:10:29 AM | analyzer.validrec_sample | Spawning the current app\n"
     ]
    },
    {
     "name": "stdout",
     "output_type": "stream",
     "text": [
      "# final reward: -0.5\n",
      "# ep21\n",
      "# selected_action_id (mul): 0, log-sim: tensor([-1.5647], grad_fn=<SelectBackward>)\n",
      "# selected_action_id (rnd): 3, log-sim: tensor([-1.6434], grad_fn=<SelectBackward>)\n"
     ]
    },
    {
     "name": "stderr",
     "output_type": "stream",
     "text": [
      "[INFO] | 2020-10-20 12:10:35 AM | analyzer.validrec_sample | Kill the current app if already spawned!\n",
      "[INFO] | 2020-10-20 12:10:35 AM | analyzer.validrec_sample | APK killed\n",
      "[INFO] | 2020-10-20 12:10:35 AM | analyzer.validrec_sample | Spawning the current app\n"
     ]
    },
    {
     "name": "stdout",
     "output_type": "stream",
     "text": [
      "# final reward: -0.5\n",
      "# ep22\n",
      "# selected_action_id (mul): 3, log-sim: tensor([-1.6689], grad_fn=<SelectBackward>)\n",
      "# selected_action_id (mul): 0, log-sim: tensor([-0.7206], grad_fn=<SelectBackward>)\n"
     ]
    },
    {
     "name": "stderr",
     "output_type": "stream",
     "text": [
      "[INFO] | 2020-10-20 12:10:42 AM | analyzer.validrec_sample | Kill the current app if already spawned!\n",
      "[INFO] | 2020-10-20 12:10:42 AM | analyzer.validrec_sample | APK killed\n",
      "[INFO] | 2020-10-20 12:10:42 AM | analyzer.validrec_sample | Spawning the current app\n"
     ]
    },
    {
     "name": "stdout",
     "output_type": "stream",
     "text": [
      "# final reward: 0.5\n",
      "# ep23\n",
      "# selected_action_id (mul): 1, log-sim: tensor([-1.0045], grad_fn=<SelectBackward>)\n",
      "# selected_action_id (rnd): 1, log-sim: tensor([-1.0045], grad_fn=<SelectBackward>)\n"
     ]
    },
    {
     "name": "stderr",
     "output_type": "stream",
     "text": [
      "[INFO] | 2020-10-20 12:10:48 AM | analyzer.validrec_sample | Kill the current app if already spawned!\n",
      "[INFO] | 2020-10-20 12:10:48 AM | analyzer.validrec_sample | APK killed\n",
      "[INFO] | 2020-10-20 12:10:48 AM | analyzer.validrec_sample | Spawning the current app\n"
     ]
    },
    {
     "name": "stdout",
     "output_type": "stream",
     "text": [
      "# final reward: -0.5\n",
      "# ep24\n",
      "# selected_action_id (mul): 1, log-sim: tensor([-1.0322], grad_fn=<SelectBackward>)\n",
      "# selected_action_id (mul): 3, log-sim: tensor([-1.6433], grad_fn=<SelectBackward>)\n"
     ]
    },
    {
     "name": "stderr",
     "output_type": "stream",
     "text": [
      "[INFO] | 2020-10-20 12:10:54 AM | analyzer.validrec_sample | Kill the current app if already spawned!\n",
      "[INFO] | 2020-10-20 12:10:54 AM | analyzer.validrec_sample | APK killed\n",
      "[INFO] | 2020-10-20 12:10:54 AM | analyzer.validrec_sample | Spawning the current app\n"
     ]
    },
    {
     "name": "stdout",
     "output_type": "stream",
     "text": [
      "# final reward: -0.5\n",
      "# ep25\n",
      "# selected_action_id (mul): 1, log-sim: tensor([-1.0302], grad_fn=<SelectBackward>)\n",
      "# selected_action_id (mul): 1, log-sim: tensor([-1.0302], grad_fn=<SelectBackward>)\n"
     ]
    },
    {
     "name": "stderr",
     "output_type": "stream",
     "text": [
      "[INFO] | 2020-10-20 12:11:00 AM | analyzer.validrec_sample | Kill the current app if already spawned!\n",
      "[INFO] | 2020-10-20 12:11:00 AM | analyzer.validrec_sample | APK killed\n",
      "[INFO] | 2020-10-20 12:11:00 AM | analyzer.validrec_sample | Spawning the current app\n"
     ]
    },
    {
     "name": "stdout",
     "output_type": "stream",
     "text": [
      "# final reward: -0.5\n",
      "# ep26\n",
      "# selected_action_id (mul): 1, log-sim: tensor([-1.0560], grad_fn=<SelectBackward>)\n",
      "# selected_action_id (mul): 0, log-sim: tensor([-1.5320], grad_fn=<SelectBackward>)\n"
     ]
    },
    {
     "name": "stderr",
     "output_type": "stream",
     "text": [
      "[INFO] | 2020-10-20 12:11:06 AM | analyzer.validrec_sample | Kill the current app if already spawned!\n",
      "[INFO] | 2020-10-20 12:11:06 AM | analyzer.validrec_sample | APK killed\n",
      "[INFO] | 2020-10-20 12:11:06 AM | analyzer.validrec_sample | Spawning the current app\n"
     ]
    },
    {
     "name": "stdout",
     "output_type": "stream",
     "text": [
      "# final reward: -0.5\n",
      "# ep27\n",
      "# selected_action_id (mul): 1, log-sim: tensor([-1.0531], grad_fn=<SelectBackward>)\n",
      "# selected_action_id (mul): 2, log-sim: tensor([-1.4133], grad_fn=<SelectBackward>)\n"
     ]
    },
    {
     "name": "stderr",
     "output_type": "stream",
     "text": [
      "[INFO] | 2020-10-20 12:11:12 AM | analyzer.validrec_sample | Kill the current app if already spawned!\n"
     ]
    },
    {
     "name": "stdout",
     "output_type": "stream",
     "text": [
      "# final reward: 0.5\n",
      "# ep28\n"
     ]
    },
    {
     "name": "stderr",
     "output_type": "stream",
     "text": [
      "[INFO] | 2020-10-20 12:11:13 AM | analyzer.validrec_sample | APK killed\n",
      "[INFO] | 2020-10-20 12:11:13 AM | analyzer.validrec_sample | Spawning the current app\n"
     ]
    },
    {
     "name": "stdout",
     "output_type": "stream",
     "text": [
      "# selected_action_id (mul): 2, log-sim: tensor([-1.4046], grad_fn=<SelectBackward>)\n"
     ]
    },
    {
     "name": "stderr",
     "output_type": "stream",
     "text": [
      "[INFO] | 2020-10-20 12:11:18 AM | analyzer.validrec_sample | Kill the current app if already spawned!\n"
     ]
    },
    {
     "name": "stdout",
     "output_type": "stream",
     "text": [
      "# reach target state after 1 actions\n",
      "# final reward: 1.0\n",
      "# ep29\n"
     ]
    },
    {
     "name": "stderr",
     "output_type": "stream",
     "text": [
      "[INFO] | 2020-10-20 12:11:18 AM | analyzer.validrec_sample | APK killed\n",
      "[INFO] | 2020-10-20 12:11:18 AM | analyzer.validrec_sample | Spawning the current app\n"
     ]
    },
    {
     "name": "stdout",
     "output_type": "stream",
     "text": [
      "# selected_action_id (mul): 2, log-sim: tensor([-1.3891], grad_fn=<SelectBackward>)\n"
     ]
    },
    {
     "name": "stderr",
     "output_type": "stream",
     "text": [
      "[INFO] | 2020-10-20 12:11:23 AM | analyzer.validrec_sample | Kill the current app if already spawned!\n"
     ]
    },
    {
     "name": "stdout",
     "output_type": "stream",
     "text": [
      "# reach target state after 1 actions\n",
      "# final reward: 1.0\n",
      "# ep30\n"
     ]
    },
    {
     "name": "stderr",
     "output_type": "stream",
     "text": [
      "[INFO] | 2020-10-20 12:11:23 AM | analyzer.validrec_sample | APK killed\n",
      "[INFO] | 2020-10-20 12:11:23 AM | analyzer.validrec_sample | Spawning the current app\n"
     ]
    },
    {
     "name": "stdout",
     "output_type": "stream",
     "text": [
      "# selected_action_id (mul): 2, log-sim: tensor([-1.3730], grad_fn=<SelectBackward>)\n"
     ]
    },
    {
     "name": "stderr",
     "output_type": "stream",
     "text": [
      "[INFO] | 2020-10-20 12:11:28 AM | analyzer.validrec_sample | Kill the current app if already spawned!\n",
      "[INFO] | 2020-10-20 12:11:29 AM | analyzer.validrec_sample | APK killed\n"
     ]
    },
    {
     "name": "stdout",
     "output_type": "stream",
     "text": [
      "# reach target state after 1 actions\n",
      "# final reward: 1.0\n",
      "# ep31\n"
     ]
    },
    {
     "name": "stderr",
     "output_type": "stream",
     "text": [
      "[INFO] | 2020-10-20 12:11:29 AM | analyzer.validrec_sample | Spawning the current app\n"
     ]
    },
    {
     "name": "stdout",
     "output_type": "stream",
     "text": [
      "# selected_action_id (mul): 1, log-sim: tensor([-1.0389], grad_fn=<SelectBackward>)\n",
      "# selected_action_id (mul): 1, log-sim: tensor([-1.0389], grad_fn=<SelectBackward>)\n"
     ]
    },
    {
     "name": "stderr",
     "output_type": "stream",
     "text": [
      "[INFO] | 2020-10-20 12:11:34 AM | analyzer.validrec_sample | Kill the current app if already spawned!\n",
      "[INFO] | 2020-10-20 12:11:34 AM | analyzer.validrec_sample | APK killed\n",
      "[INFO] | 2020-10-20 12:11:34 AM | analyzer.validrec_sample | Spawning the current app\n"
     ]
    },
    {
     "name": "stdout",
     "output_type": "stream",
     "text": [
      "# final reward: -0.5\n",
      "# ep32\n",
      "# selected_action_id (mul): 2, log-sim: tensor([-1.3576], grad_fn=<SelectBackward>)\n"
     ]
    },
    {
     "name": "stderr",
     "output_type": "stream",
     "text": [
      "[INFO] | 2020-10-20 12:11:40 AM | analyzer.validrec_sample | Kill the current app if already spawned!\n"
     ]
    },
    {
     "name": "stdout",
     "output_type": "stream",
     "text": [
      "# reach target state after 1 actions\n",
      "# final reward: 1.0\n",
      "# ep33\n"
     ]
    },
    {
     "name": "stderr",
     "output_type": "stream",
     "text": [
      "[INFO] | 2020-10-20 12:11:40 AM | analyzer.validrec_sample | APK killed\n",
      "[INFO] | 2020-10-20 12:11:40 AM | analyzer.validrec_sample | Spawning the current app\n"
     ]
    },
    {
     "name": "stdout",
     "output_type": "stream",
     "text": [
      "# selected_action_id (mul): 2, log-sim: tensor([-1.3454], grad_fn=<SelectBackward>)\n"
     ]
    },
    {
     "name": "stderr",
     "output_type": "stream",
     "text": [
      "[INFO] | 2020-10-20 12:11:45 AM | analyzer.validrec_sample | Kill the current app if already spawned!\n"
     ]
    },
    {
     "name": "stdout",
     "output_type": "stream",
     "text": [
      "# reach target state after 1 actions\n",
      "# final reward: 1.0\n",
      "# ep34\n"
     ]
    },
    {
     "name": "stderr",
     "output_type": "stream",
     "text": [
      "[INFO] | 2020-10-20 12:11:45 AM | analyzer.validrec_sample | APK killed\n",
      "[INFO] | 2020-10-20 12:11:45 AM | analyzer.validrec_sample | Spawning the current app\n"
     ]
    },
    {
     "name": "stdout",
     "output_type": "stream",
     "text": [
      "# selected_action_id (mul): 2, log-sim: tensor([-1.3246], grad_fn=<SelectBackward>)\n"
     ]
    },
    {
     "name": "stderr",
     "output_type": "stream",
     "text": [
      "[INFO] | 2020-10-20 12:11:51 AM | analyzer.validrec_sample | Kill the current app if already spawned!\n"
     ]
    },
    {
     "name": "stdout",
     "output_type": "stream",
     "text": [
      "# reach target state after 1 actions\n",
      "# final reward: 1.0\n",
      "# ep35\n"
     ]
    },
    {
     "name": "stderr",
     "output_type": "stream",
     "text": [
      "[INFO] | 2020-10-20 12:11:51 AM | analyzer.validrec_sample | APK killed\n",
      "[INFO] | 2020-10-20 12:11:51 AM | analyzer.validrec_sample | Spawning the current app\n"
     ]
    },
    {
     "name": "stdout",
     "output_type": "stream",
     "text": [
      "# selected_action_id (mul): 3, log-sim: tensor([-1.6984], grad_fn=<SelectBackward>)\n",
      "# selected_action_id (rnd): 0, log-sim: tensor([-0.6313], grad_fn=<SelectBackward>)\n"
     ]
    },
    {
     "name": "stderr",
     "output_type": "stream",
     "text": [
      "[INFO] | 2020-10-20 12:11:58 AM | analyzer.validrec_sample | Kill the current app if already spawned!\n"
     ]
    },
    {
     "name": "stdout",
     "output_type": "stream",
     "text": [
      "# final reward: 0.5\n",
      "# ep36\n"
     ]
    },
    {
     "name": "stderr",
     "output_type": "stream",
     "text": [
      "[INFO] | 2020-10-20 12:11:58 AM | analyzer.validrec_sample | APK killed\n",
      "[INFO] | 2020-10-20 12:11:58 AM | analyzer.validrec_sample | Spawning the current app\n"
     ]
    },
    {
     "name": "stdout",
     "output_type": "stream",
     "text": [
      "# selected_action_id (mul): 1, log-sim: tensor([-1.0602], grad_fn=<SelectBackward>)\n",
      "# selected_action_id (mul): 1, log-sim: tensor([-1.0602], grad_fn=<SelectBackward>)\n"
     ]
    },
    {
     "name": "stderr",
     "output_type": "stream",
     "text": [
      "[INFO] | 2020-10-20 12:12:03 AM | analyzer.validrec_sample | Kill the current app if already spawned!\n",
      "[INFO] | 2020-10-20 12:12:04 AM | analyzer.validrec_sample | APK killed\n",
      "[INFO] | 2020-10-20 12:12:04 AM | analyzer.validrec_sample | Spawning the current app\n"
     ]
    },
    {
     "name": "stdout",
     "output_type": "stream",
     "text": [
      "# final reward: -0.5\n",
      "# ep37\n",
      "# selected_action_id (mul): 2, log-sim: tensor([-1.3076], grad_fn=<SelectBackward>)\n"
     ]
    },
    {
     "name": "stderr",
     "output_type": "stream",
     "text": [
      "[INFO] | 2020-10-20 12:12:09 AM | analyzer.validrec_sample | Kill the current app if already spawned!\n",
      "[INFO] | 2020-10-20 12:12:09 AM | analyzer.validrec_sample | APK killed\n"
     ]
    },
    {
     "name": "stdout",
     "output_type": "stream",
     "text": [
      "# reach target state after 1 actions\n",
      "# final reward: 1.0\n",
      "# ep38\n"
     ]
    },
    {
     "name": "stderr",
     "output_type": "stream",
     "text": [
      "[INFO] | 2020-10-20 12:12:09 AM | analyzer.validrec_sample | Spawning the current app\n"
     ]
    },
    {
     "name": "stdout",
     "output_type": "stream",
     "text": [
      "# selected_action_id (mul): 2, log-sim: tensor([-1.2912], grad_fn=<SelectBackward>)\n"
     ]
    },
    {
     "name": "stderr",
     "output_type": "stream",
     "text": [
      "[INFO] | 2020-10-20 12:12:14 AM | analyzer.validrec_sample | Kill the current app if already spawned!\n"
     ]
    },
    {
     "name": "stdout",
     "output_type": "stream",
     "text": [
      "# reach target state after 1 actions\n",
      "# final reward: 1.0\n",
      "# ep39\n"
     ]
    },
    {
     "name": "stderr",
     "output_type": "stream",
     "text": [
      "[INFO] | 2020-10-20 12:12:14 AM | analyzer.validrec_sample | APK killed\n",
      "[INFO] | 2020-10-20 12:12:14 AM | analyzer.validrec_sample | Spawning the current app\n"
     ]
    },
    {
     "name": "stdout",
     "output_type": "stream",
     "text": [
      "# selected_action_id (mul): 2, log-sim: tensor([-1.2750], grad_fn=<SelectBackward>)\n",
      "# reach target state after 1 actions\n"
     ]
    },
    {
     "name": "stderr",
     "output_type": "stream",
     "text": [
      "[INFO] | 2020-10-20 12:12:20 AM | analyzer.validrec_sample | Kill the current app if already spawned!\n",
      "[INFO] | 2020-10-20 12:12:20 AM | analyzer.validrec_sample | APK killed\n",
      "[INFO] | 2020-10-20 12:12:20 AM | analyzer.validrec_sample | Spawning the current app\n"
     ]
    },
    {
     "name": "stdout",
     "output_type": "stream",
     "text": [
      "# final reward: 1.0\n",
      "# ep40\n",
      "# selected_action_id (mul): 1, log-sim: tensor([-1.0719], grad_fn=<SelectBackward>)\n",
      "# selected_action_id (mul): 2, log-sim: tensor([-1.2594], grad_fn=<SelectBackward>)\n"
     ]
    },
    {
     "name": "stderr",
     "output_type": "stream",
     "text": [
      "[INFO] | 2020-10-20 12:12:26 AM | analyzer.validrec_sample | Kill the current app if already spawned!\n"
     ]
    },
    {
     "name": "stdout",
     "output_type": "stream",
     "text": [
      "# final reward: 0.5\n",
      "# ep41\n"
     ]
    },
    {
     "name": "stderr",
     "output_type": "stream",
     "text": [
      "[INFO] | 2020-10-20 12:12:26 AM | analyzer.validrec_sample | APK killed\n",
      "[INFO] | 2020-10-20 12:12:26 AM | analyzer.validrec_sample | Spawning the current app\n"
     ]
    },
    {
     "name": "stdout",
     "output_type": "stream",
     "text": [
      "# selected_action_id (rnd): 1, log-sim: tensor([-1.0625], grad_fn=<SelectBackward>)\n",
      "# selected_action_id (mul): 2, log-sim: tensor([-1.2509], grad_fn=<SelectBackward>)\n"
     ]
    },
    {
     "name": "stderr",
     "output_type": "stream",
     "text": [
      "[INFO] | 2020-10-20 12:12:32 AM | analyzer.validrec_sample | Kill the current app if already spawned!\n"
     ]
    },
    {
     "name": "stdout",
     "output_type": "stream",
     "text": [
      "# final reward: 0.5\n",
      "# ep42\n"
     ]
    },
    {
     "name": "stderr",
     "output_type": "stream",
     "text": [
      "[INFO] | 2020-10-20 12:12:32 AM | analyzer.validrec_sample | APK killed\n",
      "[INFO] | 2020-10-20 12:12:32 AM | analyzer.validrec_sample | Spawning the current app\n"
     ]
    },
    {
     "name": "stdout",
     "output_type": "stream",
     "text": [
      "# selected_action_id (mul): 1, log-sim: tensor([-1.0534], grad_fn=<SelectBackward>)\n",
      "# selected_action_id (mul): 0, log-sim: tensor([-1.6717], grad_fn=<SelectBackward>)\n"
     ]
    },
    {
     "name": "stderr",
     "output_type": "stream",
     "text": [
      "[INFO] | 2020-10-20 12:12:38 AM | analyzer.validrec_sample | Kill the current app if already spawned!\n",
      "[INFO] | 2020-10-20 12:12:38 AM | analyzer.validrec_sample | APK killed\n",
      "[INFO] | 2020-10-20 12:12:38 AM | analyzer.validrec_sample | Spawning the current app\n"
     ]
    },
    {
     "name": "stdout",
     "output_type": "stream",
     "text": [
      "# final reward: -0.5\n",
      "# ep43\n",
      "# selected_action_id (mul): 3, log-sim: tensor([-1.7415], grad_fn=<SelectBackward>)\n",
      "# selected_action_id (mul): 1, log-sim: tensor([-0.8422], grad_fn=<SelectBackward>)\n"
     ]
    },
    {
     "name": "stderr",
     "output_type": "stream",
     "text": [
      "[INFO] | 2020-10-20 12:12:44 AM | analyzer.validrec_sample | Kill the current app if already spawned!\n",
      "[INFO] | 2020-10-20 12:12:45 AM | analyzer.validrec_sample | APK killed\n",
      "[INFO] | 2020-10-20 12:12:45 AM | analyzer.validrec_sample | Spawning the current app\n"
     ]
    },
    {
     "name": "stdout",
     "output_type": "stream",
     "text": [
      "# final reward: -0.5\n",
      "# ep44\n",
      "# selected_action_id (mul): 0, log-sim: tensor([-1.7010], grad_fn=<SelectBackward>)\n",
      "# selected_action_id (mul): 2, log-sim: tensor([-1.2230], grad_fn=<SelectBackward>)\n"
     ]
    },
    {
     "name": "stderr",
     "output_type": "stream",
     "text": [
      "[INFO] | 2020-10-20 12:12:50 AM | analyzer.validrec_sample | Kill the current app if already spawned!\n",
      "[INFO] | 2020-10-20 12:12:51 AM | analyzer.validrec_sample | APK killed\n",
      "[INFO] | 2020-10-20 12:12:51 AM | analyzer.validrec_sample | Spawning the current app\n"
     ]
    },
    {
     "name": "stdout",
     "output_type": "stream",
     "text": [
      "# final reward: 0.5\n",
      "# ep45\n",
      "# selected_action_id (mul): 1, log-sim: tensor([-1.0462], grad_fn=<SelectBackward>)\n",
      "# selected_action_id (mul): 0, log-sim: tensor([-1.6844], grad_fn=<SelectBackward>)\n"
     ]
    },
    {
     "name": "stderr",
     "output_type": "stream",
     "text": [
      "[INFO] | 2020-10-20 12:12:56 AM | analyzer.validrec_sample | Kill the current app if already spawned!\n",
      "[INFO] | 2020-10-20 12:12:56 AM | analyzer.validrec_sample | APK killed\n",
      "[INFO] | 2020-10-20 12:12:56 AM | analyzer.validrec_sample | Spawning the current app\n"
     ]
    },
    {
     "name": "stdout",
     "output_type": "stream",
     "text": [
      "# final reward: -0.5\n",
      "# ep46\n",
      "# selected_action_id (mul): 1, log-sim: tensor([-1.0438], grad_fn=<SelectBackward>)\n",
      "# selected_action_id (mul): 1, log-sim: tensor([-1.0438], grad_fn=<SelectBackward>)\n"
     ]
    },
    {
     "name": "stderr",
     "output_type": "stream",
     "text": [
      "[INFO] | 2020-10-20 12:13:02 AM | analyzer.validrec_sample | Kill the current app if already spawned!\n",
      "[INFO] | 2020-10-20 12:13:02 AM | analyzer.validrec_sample | APK killed\n",
      "[INFO] | 2020-10-20 12:13:02 AM | analyzer.validrec_sample | Spawning the current app\n"
     ]
    },
    {
     "name": "stdout",
     "output_type": "stream",
     "text": [
      "# final reward: -0.5\n",
      "# ep47\n",
      "# selected_action_id (mul): 1, log-sim: tensor([-1.0575], grad_fn=<SelectBackward>)\n",
      "# selected_action_id (mul): 2, log-sim: tensor([-1.2165], grad_fn=<SelectBackward>)\n"
     ]
    },
    {
     "name": "stderr",
     "output_type": "stream",
     "text": [
      "[INFO] | 2020-10-20 12:13:08 AM | analyzer.validrec_sample | Kill the current app if already spawned!\n"
     ]
    },
    {
     "name": "stdout",
     "output_type": "stream",
     "text": [
      "# final reward: 0.5\n",
      "# ep48\n"
     ]
    },
    {
     "name": "stderr",
     "output_type": "stream",
     "text": [
      "[INFO] | 2020-10-20 12:13:08 AM | analyzer.validrec_sample | APK killed\n",
      "[INFO] | 2020-10-20 12:13:08 AM | analyzer.validrec_sample | Spawning the current app\n"
     ]
    },
    {
     "name": "stdout",
     "output_type": "stream",
     "text": [
      "# selected_action_id (rnd): 2, log-sim: tensor([-1.2090], grad_fn=<SelectBackward>)\n"
     ]
    },
    {
     "name": "stderr",
     "output_type": "stream",
     "text": [
      "[INFO] | 2020-10-20 12:13:13 AM | analyzer.validrec_sample | Kill the current app if already spawned!\n"
     ]
    },
    {
     "name": "stdout",
     "output_type": "stream",
     "text": [
      "# reach target state after 1 actions\n",
      "# final reward: 1.0\n",
      "# ep49\n"
     ]
    },
    {
     "name": "stderr",
     "output_type": "stream",
     "text": [
      "[INFO] | 2020-10-20 12:13:14 AM | analyzer.validrec_sample | APK killed\n",
      "[INFO] | 2020-10-20 12:13:14 AM | analyzer.validrec_sample | Spawning the current app\n"
     ]
    },
    {
     "name": "stdout",
     "output_type": "stream",
     "text": [
      "# selected_action_id (mul): 2, log-sim: tensor([-1.1964], grad_fn=<SelectBackward>)\n"
     ]
    },
    {
     "name": "stderr",
     "output_type": "stream",
     "text": [
      "[INFO] | 2020-10-20 12:13:19 AM | analyzer.validrec_sample | Kill the current app if already spawned!\n"
     ]
    },
    {
     "name": "stdout",
     "output_type": "stream",
     "text": [
      "# reach target state after 1 actions\n",
      "# final reward: 1.0\n",
      "# ep50\n"
     ]
    },
    {
     "name": "stderr",
     "output_type": "stream",
     "text": [
      "[INFO] | 2020-10-20 12:13:19 AM | analyzer.validrec_sample | APK killed\n",
      "[INFO] | 2020-10-20 12:13:19 AM | analyzer.validrec_sample | Spawning the current app\n"
     ]
    },
    {
     "name": "stdout",
     "output_type": "stream",
     "text": [
      "# selected_action_id (rnd): 2, log-sim: tensor([-1.1850], grad_fn=<SelectBackward>)\n"
     ]
    },
    {
     "name": "stderr",
     "output_type": "stream",
     "text": [
      "[INFO] | 2020-10-20 12:13:25 AM | analyzer.validrec_sample | Kill the current app if already spawned!\n"
     ]
    },
    {
     "name": "stdout",
     "output_type": "stream",
     "text": [
      "# reach target state after 1 actions\n",
      "# final reward: 1.0\n",
      "# ep51\n"
     ]
    },
    {
     "name": "stderr",
     "output_type": "stream",
     "text": [
      "[INFO] | 2020-10-20 12:13:25 AM | analyzer.validrec_sample | APK killed\n",
      "[INFO] | 2020-10-20 12:13:25 AM | analyzer.validrec_sample | Spawning the current app\n"
     ]
    },
    {
     "name": "stdout",
     "output_type": "stream",
     "text": [
      "# selected_action_id (mul): 3, log-sim: tensor([-1.8092], grad_fn=<SelectBackward>)\n",
      "# selected_action_id (mul): 0, log-sim: tensor([-0.4975], grad_fn=<SelectBackward>)\n"
     ]
    },
    {
     "name": "stderr",
     "output_type": "stream",
     "text": [
      "[INFO] | 2020-10-20 12:13:32 AM | analyzer.validrec_sample | Kill the current app if already spawned!\n",
      "[INFO] | 2020-10-20 12:13:32 AM | analyzer.validrec_sample | APK killed\n",
      "[INFO] | 2020-10-20 12:13:32 AM | analyzer.validrec_sample | Spawning the current app\n"
     ]
    },
    {
     "name": "stdout",
     "output_type": "stream",
     "text": [
      "# final reward: 0.5\n",
      "# ep52\n",
      "# selected_action_id (mul): 1, log-sim: tensor([-1.0469], grad_fn=<SelectBackward>)\n",
      "# selected_action_id (mul): 1, log-sim: tensor([-1.0469], grad_fn=<SelectBackward>)\n"
     ]
    },
    {
     "name": "stderr",
     "output_type": "stream",
     "text": [
      "[INFO] | 2020-10-20 12:13:37 AM | analyzer.validrec_sample | Kill the current app if already spawned!\n",
      "[INFO] | 2020-10-20 12:13:37 AM | analyzer.validrec_sample | APK killed\n",
      "[INFO] | 2020-10-20 12:13:37 AM | analyzer.validrec_sample | Spawning the current app\n"
     ]
    },
    {
     "name": "stdout",
     "output_type": "stream",
     "text": [
      "# final reward: -0.5\n",
      "# ep53\n",
      "# selected_action_id (mul): 2, log-sim: tensor([-1.1746], grad_fn=<SelectBackward>)\n"
     ]
    },
    {
     "name": "stderr",
     "output_type": "stream",
     "text": [
      "[INFO] | 2020-10-20 12:13:43 AM | analyzer.validrec_sample | Kill the current app if already spawned!\n"
     ]
    },
    {
     "name": "stdout",
     "output_type": "stream",
     "text": [
      "# reach target state after 1 actions\n",
      "# final reward: 1.0\n",
      "# ep54\n"
     ]
    },
    {
     "name": "stderr",
     "output_type": "stream",
     "text": [
      "[INFO] | 2020-10-20 12:13:43 AM | analyzer.validrec_sample | APK killed\n",
      "[INFO] | 2020-10-20 12:13:43 AM | analyzer.validrec_sample | Spawning the current app\n"
     ]
    },
    {
     "name": "stdout",
     "output_type": "stream",
     "text": [
      "# selected_action_id (mul): 0, log-sim: tensor([-1.7362], grad_fn=<SelectBackward>)\n",
      "# selected_action_id (mul): 0, log-sim: tensor([-1.7362], grad_fn=<SelectBackward>)\n"
     ]
    },
    {
     "name": "stderr",
     "output_type": "stream",
     "text": [
      "[INFO] | 2020-10-20 12:13:49 AM | analyzer.validrec_sample | Kill the current app if already spawned!\n",
      "[INFO] | 2020-10-20 12:13:49 AM | analyzer.validrec_sample | APK killed\n",
      "[INFO] | 2020-10-20 12:13:49 AM | analyzer.validrec_sample | Spawning the current app\n"
     ]
    },
    {
     "name": "stdout",
     "output_type": "stream",
     "text": [
      "# final reward: -0.5\n",
      "# ep55\n",
      "# selected_action_id (mul): 0, log-sim: tensor([-1.7873], grad_fn=<SelectBackward>)\n",
      "# selected_action_id (mul): 2, log-sim: tensor([-1.1533], grad_fn=<SelectBackward>)\n"
     ]
    },
    {
     "name": "stderr",
     "output_type": "stream",
     "text": [
      "[INFO] | 2020-10-20 12:13:56 AM | analyzer.validrec_sample | Kill the current app if already spawned!\n"
     ]
    },
    {
     "name": "stdout",
     "output_type": "stream",
     "text": [
      "# final reward: 0.5\n",
      "# ep56\n"
     ]
    },
    {
     "name": "stderr",
     "output_type": "stream",
     "text": [
      "[INFO] | 2020-10-20 12:13:56 AM | analyzer.validrec_sample | APK killed\n",
      "[INFO] | 2020-10-20 12:13:56 AM | analyzer.validrec_sample | Spawning the current app\n"
     ]
    },
    {
     "name": "stdout",
     "output_type": "stream",
     "text": [
      "# selected_action_id (mul): 2, log-sim: tensor([-1.1530], grad_fn=<SelectBackward>)\n"
     ]
    },
    {
     "name": "stderr",
     "output_type": "stream",
     "text": [
      "[INFO] | 2020-10-20 12:14:02 AM | analyzer.validrec_sample | Kill the current app if already spawned!\n"
     ]
    },
    {
     "name": "stdout",
     "output_type": "stream",
     "text": [
      "# reach target state after 1 actions\n",
      "# final reward: 1.0\n",
      "# ep57\n"
     ]
    },
    {
     "name": "stderr",
     "output_type": "stream",
     "text": [
      "[INFO] | 2020-10-20 12:14:02 AM | analyzer.validrec_sample | APK killed\n",
      "[INFO] | 2020-10-20 12:14:02 AM | analyzer.validrec_sample | Spawning the current app\n"
     ]
    },
    {
     "name": "stdout",
     "output_type": "stream",
     "text": [
      "# selected_action_id (mul): 2, log-sim: tensor([-1.1440], grad_fn=<SelectBackward>)\n"
     ]
    },
    {
     "name": "stderr",
     "output_type": "stream",
     "text": [
      "[INFO] | 2020-10-20 12:14:07 AM | analyzer.validrec_sample | Kill the current app if already spawned!\n"
     ]
    },
    {
     "name": "stdout",
     "output_type": "stream",
     "text": [
      "# reach target state after 1 actions\n",
      "# final reward: 1.0\n",
      "# ep58\n"
     ]
    },
    {
     "name": "stderr",
     "output_type": "stream",
     "text": [
      "[INFO] | 2020-10-20 12:14:08 AM | analyzer.validrec_sample | APK killed\n",
      "[INFO] | 2020-10-20 12:14:08 AM | analyzer.validrec_sample | Spawning the current app\n"
     ]
    },
    {
     "name": "stdout",
     "output_type": "stream",
     "text": [
      "# selected_action_id (mul): 0, log-sim: tensor([-1.7947], grad_fn=<SelectBackward>)\n",
      "# selected_action_id (mul): 2, log-sim: tensor([-1.1364], grad_fn=<SelectBackward>)\n"
     ]
    },
    {
     "name": "stderr",
     "output_type": "stream",
     "text": [
      "[INFO] | 2020-10-20 12:14:15 AM | analyzer.validrec_sample | Kill the current app if already spawned!\n"
     ]
    },
    {
     "name": "stdout",
     "output_type": "stream",
     "text": [
      "# final reward: 0.5\n",
      "# ep59\n"
     ]
    },
    {
     "name": "stderr",
     "output_type": "stream",
     "text": [
      "[INFO] | 2020-10-20 12:14:15 AM | analyzer.validrec_sample | APK killed\n",
      "[INFO] | 2020-10-20 12:14:15 AM | analyzer.validrec_sample | Spawning the current app\n"
     ]
    },
    {
     "name": "stdout",
     "output_type": "stream",
     "text": [
      "# selected_action_id (mul): 2, log-sim: tensor([-1.1359], grad_fn=<SelectBackward>)\n",
      "# reach target state after 1 actions\n"
     ]
    },
    {
     "name": "stderr",
     "output_type": "stream",
     "text": [
      "[INFO] | 2020-10-20 12:14:21 AM | analyzer.validrec_sample | Kill the current app if already spawned!\n",
      "[INFO] | 2020-10-20 12:14:22 AM | analyzer.validrec_sample | APK killed\n",
      "[INFO] | 2020-10-20 12:14:22 AM | analyzer.validrec_sample | Spawning the current app\n"
     ]
    },
    {
     "name": "stdout",
     "output_type": "stream",
     "text": [
      "# final reward: 1.0\n",
      "# ep60\n",
      "# selected_action_id (rnd): 2, log-sim: tensor([-1.1282], grad_fn=<SelectBackward>)\n"
     ]
    },
    {
     "name": "stderr",
     "output_type": "stream",
     "text": [
      "[INFO] | 2020-10-20 12:14:27 AM | analyzer.validrec_sample | Kill the current app if already spawned!\n"
     ]
    },
    {
     "name": "stdout",
     "output_type": "stream",
     "text": [
      "# reach target state after 1 actions\n",
      "# final reward: 1.0\n",
      "# ep61\n"
     ]
    },
    {
     "name": "stderr",
     "output_type": "stream",
     "text": [
      "[INFO] | 2020-10-20 12:14:27 AM | analyzer.validrec_sample | APK killed\n",
      "[INFO] | 2020-10-20 12:14:27 AM | analyzer.validrec_sample | Spawning the current app\n"
     ]
    },
    {
     "name": "stdout",
     "output_type": "stream",
     "text": [
      "# selected_action_id (rnd): 0, log-sim: tensor([-1.8054], grad_fn=<SelectBackward>)\n",
      "# selected_action_id (rnd): 1, log-sim: tensor([-1.0431], grad_fn=<SelectBackward>)\n"
     ]
    },
    {
     "name": "stderr",
     "output_type": "stream",
     "text": [
      "[INFO] | 2020-10-20 12:14:33 AM | analyzer.validrec_sample | Kill the current app if already spawned!\n",
      "[INFO] | 2020-10-20 12:14:33 AM | analyzer.validrec_sample | APK killed\n",
      "[INFO] | 2020-10-20 12:14:33 AM | analyzer.validrec_sample | Spawning the current app\n"
     ]
    },
    {
     "name": "stdout",
     "output_type": "stream",
     "text": [
      "# final reward: -0.5\n",
      "# ep62\n",
      "# selected_action_id (rnd): 1, log-sim: tensor([-1.0432], grad_fn=<SelectBackward>)\n",
      "# selected_action_id (mul): 0, log-sim: tensor([-1.8109], grad_fn=<SelectBackward>)\n"
     ]
    },
    {
     "name": "stderr",
     "output_type": "stream",
     "text": [
      "[INFO] | 2020-10-20 12:14:39 AM | analyzer.validrec_sample | Kill the current app if already spawned!\n"
     ]
    },
    {
     "name": "stdout",
     "output_type": "stream",
     "text": [
      "# final reward: -0.5\n",
      "# ep63\n"
     ]
    },
    {
     "name": "stderr",
     "output_type": "stream",
     "text": [
      "[INFO] | 2020-10-20 12:14:40 AM | analyzer.validrec_sample | APK killed\n",
      "[INFO] | 2020-10-20 12:14:40 AM | analyzer.validrec_sample | Spawning the current app\n"
     ]
    },
    {
     "name": "stdout",
     "output_type": "stream",
     "text": [
      "# selected_action_id (rnd): 0, log-sim: tensor([-1.8310], grad_fn=<SelectBackward>)\n",
      "# selected_action_id (mul): 1, log-sim: tensor([-1.0399], grad_fn=<SelectBackward>)\n"
     ]
    },
    {
     "name": "stderr",
     "output_type": "stream",
     "text": [
      "[INFO] | 2020-10-20 12:14:45 AM | analyzer.validrec_sample | Kill the current app if already spawned!\n",
      "[INFO] | 2020-10-20 12:14:46 AM | analyzer.validrec_sample | APK killed\n",
      "[INFO] | 2020-10-20 12:14:46 AM | analyzer.validrec_sample | Spawning the current app\n"
     ]
    },
    {
     "name": "stdout",
     "output_type": "stream",
     "text": [
      "# final reward: -0.5\n",
      "# ep64\n",
      "# selected_action_id (mul): 0, log-sim: tensor([-1.8405], grad_fn=<SelectBackward>)\n",
      "# selected_action_id (mul): 2, log-sim: tensor([-1.1118], grad_fn=<SelectBackward>)\n"
     ]
    },
    {
     "name": "stderr",
     "output_type": "stream",
     "text": [
      "[INFO] | 2020-10-20 12:14:51 AM | analyzer.validrec_sample | Kill the current app if already spawned!\n",
      "[INFO] | 2020-10-20 12:14:51 AM | analyzer.validrec_sample | APK killed\n",
      "[INFO] | 2020-10-20 12:14:51 AM | analyzer.validrec_sample | Spawning the current app\n"
     ]
    },
    {
     "name": "stdout",
     "output_type": "stream",
     "text": [
      "# final reward: 0.5\n",
      "# ep65\n",
      "# selected_action_id (rnd): 1, log-sim: tensor([-1.0421], grad_fn=<SelectBackward>)\n",
      "# selected_action_id (mul): 3, log-sim: tensor([-1.8444], grad_fn=<SelectBackward>)\n"
     ]
    },
    {
     "name": "stderr",
     "output_type": "stream",
     "text": [
      "[INFO] | 2020-10-20 12:14:58 AM | analyzer.validrec_sample | Kill the current app if already spawned!\n",
      "[INFO] | 2020-10-20 12:14:58 AM | analyzer.validrec_sample | APK killed\n",
      "[INFO] | 2020-10-20 12:14:58 AM | analyzer.validrec_sample | Spawning the current app\n"
     ]
    },
    {
     "name": "stdout",
     "output_type": "stream",
     "text": [
      "# final reward: -0.5\n",
      "# ep66\n",
      "# selected_action_id (mul): 2, log-sim: tensor([-1.1089], grad_fn=<SelectBackward>)\n"
     ]
    },
    {
     "name": "stderr",
     "output_type": "stream",
     "text": [
      "[INFO] | 2020-10-20 12:15:03 AM | analyzer.validrec_sample | Kill the current app if already spawned!\n"
     ]
    },
    {
     "name": "stdout",
     "output_type": "stream",
     "text": [
      "# reach target state after 1 actions\n",
      "# final reward: 1.0\n",
      "# ep67\n"
     ]
    },
    {
     "name": "stderr",
     "output_type": "stream",
     "text": [
      "[INFO] | 2020-10-20 12:15:03 AM | analyzer.validrec_sample | APK killed\n",
      "[INFO] | 2020-10-20 12:15:03 AM | analyzer.validrec_sample | Spawning the current app\n"
     ]
    },
    {
     "name": "stdout",
     "output_type": "stream",
     "text": [
      "# selected_action_id (mul): 1, log-sim: tensor([-1.0400], grad_fn=<SelectBackward>)\n",
      "# selected_action_id (mul): 1, log-sim: tensor([-1.0400], grad_fn=<SelectBackward>)\n"
     ]
    },
    {
     "name": "stderr",
     "output_type": "stream",
     "text": [
      "[INFO] | 2020-10-20 12:15:09 AM | analyzer.validrec_sample | Kill the current app if already spawned!\n",
      "[INFO] | 2020-10-20 12:15:09 AM | analyzer.validrec_sample | APK killed\n",
      "[INFO] | 2020-10-20 12:15:09 AM | analyzer.validrec_sample | Spawning the current app\n"
     ]
    },
    {
     "name": "stdout",
     "output_type": "stream",
     "text": [
      "# final reward: -0.5\n",
      "# ep68\n",
      "# selected_action_id (mul): 1, log-sim: tensor([-1.0439], grad_fn=<SelectBackward>)\n",
      "# selected_action_id (rnd): 1, log-sim: tensor([-1.0439], grad_fn=<SelectBackward>)\n"
     ]
    },
    {
     "name": "stderr",
     "output_type": "stream",
     "text": [
      "[INFO] | 2020-10-20 12:15:15 AM | analyzer.validrec_sample | Kill the current app if already spawned!\n",
      "[INFO] | 2020-10-20 12:15:15 AM | analyzer.validrec_sample | APK killed\n",
      "[INFO] | 2020-10-20 12:15:15 AM | analyzer.validrec_sample | Spawning the current app\n"
     ]
    },
    {
     "name": "stdout",
     "output_type": "stream",
     "text": [
      "# final reward: -0.5\n",
      "# ep69\n",
      "# selected_action_id (mul): 2, log-sim: tensor([-1.1065], grad_fn=<SelectBackward>)\n"
     ]
    },
    {
     "name": "stderr",
     "output_type": "stream",
     "text": [
      "[INFO] | 2020-10-20 12:15:21 AM | analyzer.validrec_sample | Kill the current app if already spawned!\n"
     ]
    },
    {
     "name": "stdout",
     "output_type": "stream",
     "text": [
      "# reach target state after 1 actions\n",
      "# final reward: 1.0\n",
      "# ep70\n"
     ]
    },
    {
     "name": "stderr",
     "output_type": "stream",
     "text": [
      "[INFO] | 2020-10-20 12:15:21 AM | analyzer.validrec_sample | APK killed\n",
      "[INFO] | 2020-10-20 12:15:21 AM | analyzer.validrec_sample | Spawning the current app\n"
     ]
    },
    {
     "name": "stdout",
     "output_type": "stream",
     "text": [
      "# selected_action_id (mul): 2, log-sim: tensor([-1.1010], grad_fn=<SelectBackward>)\n"
     ]
    },
    {
     "name": "stderr",
     "output_type": "stream",
     "text": [
      "[INFO] | 2020-10-20 12:15:26 AM | analyzer.validrec_sample | Kill the current app if already spawned!\n"
     ]
    },
    {
     "name": "stdout",
     "output_type": "stream",
     "text": [
      "# reach target state after 1 actions\n",
      "# final reward: 1.0\n",
      "# ep71\n"
     ]
    },
    {
     "name": "stderr",
     "output_type": "stream",
     "text": [
      "[INFO] | 2020-10-20 12:15:26 AM | analyzer.validrec_sample | APK killed\n",
      "[INFO] | 2020-10-20 12:15:26 AM | analyzer.validrec_sample | Spawning the current app\n"
     ]
    },
    {
     "name": "stdout",
     "output_type": "stream",
     "text": [
      "# selected_action_id (mul): 2, log-sim: tensor([-1.0988], grad_fn=<SelectBackward>)\n"
     ]
    },
    {
     "name": "stderr",
     "output_type": "stream",
     "text": [
      "[INFO] | 2020-10-20 12:15:31 AM | analyzer.validrec_sample | Kill the current app if already spawned!\n"
     ]
    },
    {
     "name": "stdout",
     "output_type": "stream",
     "text": [
      "# reach target state after 1 actions\n",
      "# final reward: 1.0\n",
      "# ep72\n"
     ]
    },
    {
     "name": "stderr",
     "output_type": "stream",
     "text": [
      "[INFO] | 2020-10-20 12:15:31 AM | analyzer.validrec_sample | APK killed\n",
      "[INFO] | 2020-10-20 12:15:31 AM | analyzer.validrec_sample | Spawning the current app\n"
     ]
    },
    {
     "name": "stdout",
     "output_type": "stream",
     "text": [
      "# selected_action_id (mul): 3, log-sim: tensor([-1.8728], grad_fn=<SelectBackward>)\n",
      "# selected_action_id (mul): 0, log-sim: tensor([-0.4308], grad_fn=<SelectBackward>)\n"
     ]
    },
    {
     "name": "stderr",
     "output_type": "stream",
     "text": [
      "[INFO] | 2020-10-20 12:15:37 AM | analyzer.validrec_sample | Kill the current app if already spawned!\n",
      "[INFO] | 2020-10-20 12:15:38 AM | analyzer.validrec_sample | APK killed\n",
      "[INFO] | 2020-10-20 12:15:38 AM | analyzer.validrec_sample | Spawning the current app\n"
     ]
    },
    {
     "name": "stdout",
     "output_type": "stream",
     "text": [
      "# final reward: 0.5\n",
      "# ep73\n",
      "# selected_action_id (mul): 0, log-sim: tensor([-1.8477], grad_fn=<SelectBackward>)\n",
      "# selected_action_id (mul): 2, log-sim: tensor([-1.0915], grad_fn=<SelectBackward>)\n"
     ]
    },
    {
     "name": "stderr",
     "output_type": "stream",
     "text": [
      "[INFO] | 2020-10-20 12:15:43 AM | analyzer.validrec_sample | Kill the current app if already spawned!\n"
     ]
    },
    {
     "name": "stdout",
     "output_type": "stream",
     "text": [
      "# final reward: 0.5\n",
      "# ep74\n"
     ]
    },
    {
     "name": "stderr",
     "output_type": "stream",
     "text": [
      "[INFO] | 2020-10-20 12:15:44 AM | analyzer.validrec_sample | APK killed\n",
      "[INFO] | 2020-10-20 12:15:44 AM | analyzer.validrec_sample | Spawning the current app\n"
     ]
    },
    {
     "name": "stdout",
     "output_type": "stream",
     "text": [
      "# selected_action_id (mul): 2, log-sim: tensor([-1.0931], grad_fn=<SelectBackward>)\n"
     ]
    },
    {
     "name": "stderr",
     "output_type": "stream",
     "text": [
      "[INFO] | 2020-10-20 12:15:49 AM | analyzer.validrec_sample | Kill the current app if already spawned!\n",
      "[INFO] | 2020-10-20 12:15:49 AM | analyzer.validrec_sample | APK killed\n",
      "[INFO] | 2020-10-20 12:15:49 AM | analyzer.validrec_sample | Spawning the current app\n"
     ]
    },
    {
     "name": "stdout",
     "output_type": "stream",
     "text": [
      "# reach target state after 1 actions\n",
      "# final reward: 1.0\n",
      "# ep75\n",
      "# selected_action_id (mul): 2, log-sim: tensor([-1.0879], grad_fn=<SelectBackward>)\n"
     ]
    },
    {
     "name": "stderr",
     "output_type": "stream",
     "text": [
      "[INFO] | 2020-10-20 12:15:54 AM | analyzer.validrec_sample | Kill the current app if already spawned!\n"
     ]
    },
    {
     "name": "stdout",
     "output_type": "stream",
     "text": [
      "# reach target state after 1 actions\n",
      "# final reward: 1.0\n",
      "# ep76\n"
     ]
    },
    {
     "name": "stderr",
     "output_type": "stream",
     "text": [
      "[INFO] | 2020-10-20 12:15:54 AM | analyzer.validrec_sample | APK killed\n",
      "[INFO] | 2020-10-20 12:15:54 AM | analyzer.validrec_sample | Spawning the current app\n"
     ]
    },
    {
     "name": "stdout",
     "output_type": "stream",
     "text": [
      "# selected_action_id (mul): 1, log-sim: tensor([-1.0415], grad_fn=<SelectBackward>)\n",
      "# selected_action_id (mul): 0, log-sim: tensor([-1.8539], grad_fn=<SelectBackward>)\n"
     ]
    },
    {
     "name": "stderr",
     "output_type": "stream",
     "text": [
      "[INFO] | 2020-10-20 12:16:02 AM | analyzer.validrec_sample | Kill the current app if already spawned!\n",
      "[INFO] | 2020-10-20 12:16:02 AM | analyzer.validrec_sample | APK killed\n",
      "[INFO] | 2020-10-20 12:16:02 AM | analyzer.validrec_sample | Spawning the current app\n"
     ]
    },
    {
     "name": "stdout",
     "output_type": "stream",
     "text": [
      "# final reward: -0.5\n",
      "# ep77\n",
      "# selected_action_id (mul): 0, log-sim: tensor([-1.8659], grad_fn=<SelectBackward>)\n",
      "# selected_action_id (mul): 1, log-sim: tensor([-1.0395], grad_fn=<SelectBackward>)\n"
     ]
    },
    {
     "name": "stderr",
     "output_type": "stream",
     "text": [
      "[INFO] | 2020-10-20 12:16:07 AM | analyzer.validrec_sample | Kill the current app if already spawned!\n",
      "[INFO] | 2020-10-20 12:16:07 AM | analyzer.validrec_sample | APK killed\n",
      "[INFO] | 2020-10-20 12:16:07 AM | analyzer.validrec_sample | Spawning the current app\n"
     ]
    },
    {
     "name": "stdout",
     "output_type": "stream",
     "text": [
      "# final reward: -0.5\n",
      "# ep78\n",
      "# selected_action_id (mul): 3, log-sim: tensor([-1.8792], grad_fn=<SelectBackward>)\n",
      "# selected_action_id (mul): 0, log-sim: tensor([-0.4201], grad_fn=<SelectBackward>)\n"
     ]
    },
    {
     "name": "stderr",
     "output_type": "stream",
     "text": [
      "[INFO] | 2020-10-20 12:16:14 AM | analyzer.validrec_sample | Kill the current app if already spawned!\n",
      "[INFO] | 2020-10-20 12:16:14 AM | analyzer.validrec_sample | APK killed\n",
      "[INFO] | 2020-10-20 12:16:14 AM | analyzer.validrec_sample | Spawning the current app\n"
     ]
    },
    {
     "name": "stdout",
     "output_type": "stream",
     "text": [
      "# final reward: 0.5\n",
      "# ep79\n",
      "# selected_action_id (rnd): 0, log-sim: tensor([-1.8707], grad_fn=<SelectBackward>)\n",
      "# selected_action_id (mul): 0, log-sim: tensor([-1.8707], grad_fn=<SelectBackward>)\n"
     ]
    },
    {
     "name": "stderr",
     "output_type": "stream",
     "text": [
      "[INFO] | 2020-10-20 12:16:19 AM | analyzer.validrec_sample | Kill the current app if already spawned!\n"
     ]
    },
    {
     "name": "stdout",
     "output_type": "stream",
     "text": [
      "# final reward: -0.5\n",
      "# ep80\n"
     ]
    },
    {
     "name": "stderr",
     "output_type": "stream",
     "text": [
      "[INFO] | 2020-10-20 12:16:20 AM | analyzer.validrec_sample | APK killed\n",
      "[INFO] | 2020-10-20 12:16:20 AM | analyzer.validrec_sample | Spawning the current app\n"
     ]
    },
    {
     "name": "stdout",
     "output_type": "stream",
     "text": [
      "# selected_action_id (mul): 2, log-sim: tensor([-1.0749], grad_fn=<SelectBackward>)\n"
     ]
    },
    {
     "name": "stderr",
     "output_type": "stream",
     "text": [
      "[INFO] | 2020-10-20 12:16:25 AM | analyzer.validrec_sample | Kill the current app if already spawned!\n"
     ]
    },
    {
     "name": "stdout",
     "output_type": "stream",
     "text": [
      "# reach target state after 1 actions\n",
      "# final reward: 1.0\n",
      "# ep81\n"
     ]
    },
    {
     "name": "stderr",
     "output_type": "stream",
     "text": [
      "[INFO] | 2020-10-20 12:16:25 AM | analyzer.validrec_sample | APK killed\n",
      "[INFO] | 2020-10-20 12:16:25 AM | analyzer.validrec_sample | Spawning the current app\n"
     ]
    },
    {
     "name": "stdout",
     "output_type": "stream",
     "text": [
      "# selected_action_id (mul): 3, log-sim: tensor([-1.8816], grad_fn=<SelectBackward>)\n",
      "# selected_action_id (mul): 0, log-sim: tensor([-0.4128], grad_fn=<SelectBackward>)\n"
     ]
    },
    {
     "name": "stderr",
     "output_type": "stream",
     "text": [
      "[INFO] | 2020-10-20 12:16:32 AM | analyzer.validrec_sample | Kill the current app if already spawned!\n"
     ]
    },
    {
     "name": "stdout",
     "output_type": "stream",
     "text": [
      "# final reward: 0.5\n",
      "# ep82\n"
     ]
    },
    {
     "name": "stderr",
     "output_type": "stream",
     "text": [
      "[INFO] | 2020-10-20 12:16:33 AM | analyzer.validrec_sample | APK killed\n",
      "[INFO] | 2020-10-20 12:16:33 AM | analyzer.validrec_sample | Spawning the current app\n"
     ]
    },
    {
     "name": "stdout",
     "output_type": "stream",
     "text": [
      "# selected_action_id (rnd): 1, log-sim: tensor([-1.0342], grad_fn=<SelectBackward>)\n",
      "# selected_action_id (rnd): 1, log-sim: tensor([-1.0342], grad_fn=<SelectBackward>)\n"
     ]
    },
    {
     "name": "stderr",
     "output_type": "stream",
     "text": [
      "[INFO] | 2020-10-20 12:16:40 AM | analyzer.validrec_sample | Kill the current app if already spawned!\n",
      "[INFO] | 2020-10-20 12:16:40 AM | analyzer.validrec_sample | APK killed\n",
      "[INFO] | 2020-10-20 12:16:40 AM | analyzer.validrec_sample | Spawning the current app\n"
     ]
    },
    {
     "name": "stdout",
     "output_type": "stream",
     "text": [
      "# final reward: -0.5\n",
      "# ep83\n",
      "# selected_action_id (mul): 3, log-sim: tensor([-1.8718], grad_fn=<SelectBackward>)\n",
      "# selected_action_id (mul): 1, log-sim: tensor([-1.0812], grad_fn=<SelectBackward>)\n"
     ]
    },
    {
     "name": "stderr",
     "output_type": "stream",
     "text": [
      "[INFO] | 2020-10-20 12:16:47 AM | analyzer.validrec_sample | Kill the current app if already spawned!\n",
      "[INFO] | 2020-10-20 12:16:48 AM | analyzer.validrec_sample | APK killed\n",
      "[INFO] | 2020-10-20 12:16:48 AM | analyzer.validrec_sample | Spawning the current app\n"
     ]
    },
    {
     "name": "stdout",
     "output_type": "stream",
     "text": [
      "# final reward: -0.5\n",
      "# ep84\n",
      "# selected_action_id (mul): 1, log-sim: tensor([-1.0324], grad_fn=<SelectBackward>)\n",
      "# selected_action_id (mul): 2, log-sim: tensor([-1.0680], grad_fn=<SelectBackward>)\n"
     ]
    },
    {
     "name": "stderr",
     "output_type": "stream",
     "text": [
      "[INFO] | 2020-10-20 12:16:54 AM | analyzer.validrec_sample | Kill the current app if already spawned!\n"
     ]
    },
    {
     "name": "stdout",
     "output_type": "stream",
     "text": [
      "# final reward: 0.5\n",
      "# ep85\n"
     ]
    },
    {
     "name": "stderr",
     "output_type": "stream",
     "text": [
      "[INFO] | 2020-10-20 12:16:54 AM | analyzer.validrec_sample | APK killed\n",
      "[INFO] | 2020-10-20 12:16:54 AM | analyzer.validrec_sample | Spawning the current app\n"
     ]
    },
    {
     "name": "stdout",
     "output_type": "stream",
     "text": [
      "# selected_action_id (rnd): 3, log-sim: tensor([-1.8962], grad_fn=<SelectBackward>)\n",
      "# selected_action_id (mul): 0, log-sim: tensor([-0.3993], grad_fn=<SelectBackward>)\n"
     ]
    },
    {
     "name": "stderr",
     "output_type": "stream",
     "text": [
      "[INFO] | 2020-10-20 12:17:01 AM | analyzer.validrec_sample | Kill the current app if already spawned!\n",
      "[INFO] | 2020-10-20 12:17:01 AM | analyzer.validrec_sample | APK killed\n",
      "[INFO] | 2020-10-20 12:17:01 AM | analyzer.validrec_sample | Spawning the current app\n"
     ]
    },
    {
     "name": "stdout",
     "output_type": "stream",
     "text": [
      "# final reward: 0.5\n",
      "# ep86\n",
      "# selected_action_id (mul): 0, log-sim: tensor([-1.9058], grad_fn=<SelectBackward>)\n",
      "# selected_action_id (mul): 2, log-sim: tensor([-1.0667], grad_fn=<SelectBackward>)\n"
     ]
    },
    {
     "name": "stderr",
     "output_type": "stream",
     "text": [
      "[INFO] | 2020-10-20 12:17:07 AM | analyzer.validrec_sample | Kill the current app if already spawned!\n",
      "[INFO] | 2020-10-20 12:17:07 AM | analyzer.validrec_sample | APK killed\n"
     ]
    },
    {
     "name": "stdout",
     "output_type": "stream",
     "text": [
      "# final reward: 0.5\n",
      "# ep87\n"
     ]
    },
    {
     "name": "stderr",
     "output_type": "stream",
     "text": [
      "[INFO] | 2020-10-20 12:17:07 AM | analyzer.validrec_sample | Spawning the current app\n"
     ]
    },
    {
     "name": "stdout",
     "output_type": "stream",
     "text": [
      "# selected_action_id (rnd): 3, log-sim: tensor([-1.8938], grad_fn=<SelectBackward>)\n",
      "# selected_action_id (mul): 1, log-sim: tensor([-1.1128], grad_fn=<SelectBackward>)\n"
     ]
    },
    {
     "name": "stderr",
     "output_type": "stream",
     "text": [
      "[INFO] | 2020-10-20 12:17:14 AM | analyzer.validrec_sample | Kill the current app if already spawned!\n",
      "[INFO] | 2020-10-20 12:17:14 AM | analyzer.validrec_sample | APK killed\n",
      "[INFO] | 2020-10-20 12:17:14 AM | analyzer.validrec_sample | Spawning the current app\n"
     ]
    },
    {
     "name": "stdout",
     "output_type": "stream",
     "text": [
      "# final reward: -0.5\n",
      "# ep88\n",
      "# selected_action_id (mul): 2, log-sim: tensor([-1.0626], grad_fn=<SelectBackward>)\n"
     ]
    },
    {
     "name": "stderr",
     "output_type": "stream",
     "text": [
      "[INFO] | 2020-10-20 12:17:19 AM | analyzer.validrec_sample | Kill the current app if already spawned!\n"
     ]
    },
    {
     "name": "stdout",
     "output_type": "stream",
     "text": [
      "# reach target state after 1 actions\n",
      "# final reward: 1.0\n",
      "# ep89\n"
     ]
    },
    {
     "name": "stderr",
     "output_type": "stream",
     "text": [
      "[INFO] | 2020-10-20 12:17:19 AM | analyzer.validrec_sample | APK killed\n",
      "[INFO] | 2020-10-20 12:17:19 AM | analyzer.validrec_sample | Spawning the current app\n"
     ]
    },
    {
     "name": "stdout",
     "output_type": "stream",
     "text": [
      "# selected_action_id (mul): 1, log-sim: tensor([-1.0283], grad_fn=<SelectBackward>)\n",
      "# selected_action_id (rnd): 1, log-sim: tensor([-1.0283], grad_fn=<SelectBackward>)\n"
     ]
    },
    {
     "name": "stderr",
     "output_type": "stream",
     "text": [
      "[INFO] | 2020-10-20 12:17:25 AM | analyzer.validrec_sample | Kill the current app if already spawned!\n",
      "[INFO] | 2020-10-20 12:17:25 AM | analyzer.validrec_sample | APK killed\n",
      "[INFO] | 2020-10-20 12:17:25 AM | analyzer.validrec_sample | Spawning the current app\n"
     ]
    },
    {
     "name": "stdout",
     "output_type": "stream",
     "text": [
      "# final reward: -0.5\n",
      "# ep90\n",
      "# selected_action_id (mul): 3, log-sim: tensor([-1.9110], grad_fn=<SelectBackward>)\n",
      "# selected_action_id (mul): 0, log-sim: tensor([-0.3883], grad_fn=<SelectBackward>)\n"
     ]
    },
    {
     "name": "stderr",
     "output_type": "stream",
     "text": [
      "[INFO] | 2020-10-20 12:17:32 AM | analyzer.validrec_sample | Kill the current app if already spawned!\n"
     ]
    },
    {
     "name": "stdout",
     "output_type": "stream",
     "text": [
      "# final reward: 0.5\n",
      "# ep91\n"
     ]
    },
    {
     "name": "stderr",
     "output_type": "stream",
     "text": [
      "[INFO] | 2020-10-20 12:17:33 AM | analyzer.validrec_sample | APK killed\n",
      "[INFO] | 2020-10-20 12:17:33 AM | analyzer.validrec_sample | Spawning the current app\n"
     ]
    },
    {
     "name": "stdout",
     "output_type": "stream",
     "text": [
      "# selected_action_id (mul): 3, log-sim: tensor([-1.9071], grad_fn=<SelectBackward>)\n",
      "# selected_action_id (mul): 1, log-sim: tensor([-1.1364], grad_fn=<SelectBackward>)\n"
     ]
    },
    {
     "name": "stderr",
     "output_type": "stream",
     "text": [
      "[INFO] | 2020-10-20 12:17:39 AM | analyzer.validrec_sample | Kill the current app if already spawned!\n",
      "[INFO] | 2020-10-20 12:17:39 AM | analyzer.validrec_sample | APK killed\n",
      "[INFO] | 2020-10-20 12:17:39 AM | analyzer.validrec_sample | Spawning the current app\n"
     ]
    },
    {
     "name": "stdout",
     "output_type": "stream",
     "text": [
      "# final reward: -0.5\n",
      "# ep92\n",
      "# selected_action_id (mul): 1, log-sim: tensor([-1.0279], grad_fn=<SelectBackward>)\n",
      "# selected_action_id (mul): 2, log-sim: tensor([-1.0577], grad_fn=<SelectBackward>)\n"
     ]
    },
    {
     "name": "stderr",
     "output_type": "stream",
     "text": [
      "[INFO] | 2020-10-20 12:17:46 AM | analyzer.validrec_sample | Kill the current app if already spawned!\n",
      "[INFO] | 2020-10-20 12:17:46 AM | analyzer.validrec_sample | APK killed\n",
      "[INFO] | 2020-10-20 12:17:46 AM | analyzer.validrec_sample | Spawning the current app\n"
     ]
    },
    {
     "name": "stdout",
     "output_type": "stream",
     "text": [
      "# final reward: 0.5\n",
      "# ep93\n",
      "# selected_action_id (mul): 3, log-sim: tensor([-1.9239], grad_fn=<SelectBackward>)\n",
      "# selected_action_id (mul): 0, log-sim: tensor([-0.3773], grad_fn=<SelectBackward>)\n"
     ]
    },
    {
     "name": "stderr",
     "output_type": "stream",
     "text": [
      "[INFO] | 2020-10-20 12:17:52 AM | analyzer.validrec_sample | Kill the current app if already spawned!\n"
     ]
    },
    {
     "name": "stdout",
     "output_type": "stream",
     "text": [
      "# final reward: 0.5\n",
      "# ep94\n"
     ]
    },
    {
     "name": "stderr",
     "output_type": "stream",
     "text": [
      "[INFO] | 2020-10-20 12:17:52 AM | analyzer.validrec_sample | APK killed\n",
      "[INFO] | 2020-10-20 12:17:52 AM | analyzer.validrec_sample | Spawning the current app\n"
     ]
    },
    {
     "name": "stdout",
     "output_type": "stream",
     "text": [
      "# selected_action_id (mul): 2, log-sim: tensor([-1.0567], grad_fn=<SelectBackward>)\n",
      "# reach target state after 1 actions\n",
      "# final reward: 1.0\n"
     ]
    },
    {
     "name": "stderr",
     "output_type": "stream",
     "text": [
      "[INFO] | 2020-10-20 12:17:58 AM | analyzer.validrec_sample | Kill the current app if already spawned!\n",
      "[INFO] | 2020-10-20 12:17:59 AM | analyzer.validrec_sample | APK killed\n",
      "[INFO] | 2020-10-20 12:17:59 AM | analyzer.validrec_sample | Spawning the current app\n"
     ]
    },
    {
     "name": "stdout",
     "output_type": "stream",
     "text": [
      "# ep95\n",
      "# selected_action_id (mul): 1, log-sim: tensor([-1.0270], grad_fn=<SelectBackward>)\n",
      "# selected_action_id (rnd): 2, log-sim: tensor([-1.0561], grad_fn=<SelectBackward>)\n"
     ]
    },
    {
     "name": "stderr",
     "output_type": "stream",
     "text": [
      "[INFO] | 2020-10-20 12:18:06 AM | analyzer.validrec_sample | Kill the current app if already spawned!\n"
     ]
    },
    {
     "name": "stdout",
     "output_type": "stream",
     "text": [
      "# final reward: 0.5\n",
      "# ep96\n"
     ]
    },
    {
     "name": "stderr",
     "output_type": "stream",
     "text": [
      "[INFO] | 2020-10-20 12:18:06 AM | analyzer.validrec_sample | APK killed\n",
      "[INFO] | 2020-10-20 12:18:06 AM | analyzer.validrec_sample | Spawning the current app\n"
     ]
    },
    {
     "name": "stdout",
     "output_type": "stream",
     "text": [
      "# selected_action_id (rnd): 0, log-sim: tensor([-1.9175], grad_fn=<SelectBackward>)\n",
      "# selected_action_id (mul): 3, log-sim: tensor([-1.9268], grad_fn=<SelectBackward>)\n"
     ]
    },
    {
     "name": "stderr",
     "output_type": "stream",
     "text": [
      "[INFO] | 2020-10-20 12:18:12 AM | analyzer.validrec_sample | Kill the current app if already spawned!\n",
      "[INFO] | 2020-10-20 12:18:12 AM | analyzer.validrec_sample | APK killed\n",
      "[INFO] | 2020-10-20 12:18:12 AM | analyzer.validrec_sample | Spawning the current app\n"
     ]
    },
    {
     "name": "stdout",
     "output_type": "stream",
     "text": [
      "# final reward: -0.5\n",
      "# ep97\n",
      "# selected_action_id (mul): 1, log-sim: tensor([-1.0229], grad_fn=<SelectBackward>)\n",
      "# selected_action_id (rnd): 1, log-sim: tensor([-1.0229], grad_fn=<SelectBackward>)\n"
     ]
    },
    {
     "name": "stderr",
     "output_type": "stream",
     "text": [
      "[INFO] | 2020-10-20 12:18:18 AM | analyzer.validrec_sample | Kill the current app if already spawned!\n",
      "[INFO] | 2020-10-20 12:18:19 AM | analyzer.validrec_sample | APK killed\n",
      "[INFO] | 2020-10-20 12:18:19 AM | analyzer.validrec_sample | Spawning the current app\n"
     ]
    },
    {
     "name": "stdout",
     "output_type": "stream",
     "text": [
      "# final reward: -0.5\n",
      "# ep98\n",
      "# selected_action_id (mul): 2, log-sim: tensor([-1.0513], grad_fn=<SelectBackward>)\n"
     ]
    },
    {
     "name": "stderr",
     "output_type": "stream",
     "text": [
      "[INFO] | 2020-10-20 12:18:24 AM | analyzer.validrec_sample | Kill the current app if already spawned!\n"
     ]
    },
    {
     "name": "stdout",
     "output_type": "stream",
     "text": [
      "# reach target state after 1 actions\n",
      "# final reward: 1.0\n",
      "# ep99\n"
     ]
    },
    {
     "name": "stderr",
     "output_type": "stream",
     "text": [
      "[INFO] | 2020-10-20 12:18:24 AM | analyzer.validrec_sample | APK killed\n",
      "[INFO] | 2020-10-20 12:18:24 AM | analyzer.validrec_sample | Spawning the current app\n"
     ]
    },
    {
     "name": "stdout",
     "output_type": "stream",
     "text": [
      "# selected_action_id (mul): 1, log-sim: tensor([-1.0236], grad_fn=<SelectBackward>)\n",
      "# selected_action_id (mul): 3, log-sim: tensor([-1.9337], grad_fn=<SelectBackward>)\n",
      "# final reward: -0.5\n"
     ]
    }
   ],
   "source": [
    "hypn_nodes = 200\n",
    "hypn_steps = 2\n",
    "agent_obj = NeuralAgent(spec_dims=19, maxn_nodes=hypn_nodes).to(device)\n",
    "optimizer_obj = torch.optim.SGD(agent_obj.parameters(), lr=0.1)\n",
    "for ep in range(100):\n",
    "    print(\"# ep{}\".format(ep))\n",
    "    rollout(apk_obj, agent_obj, optimizer_obj, hypn_steps, hypn_nodes, debug_final_state)"
   ]
  },
  {
   "cell_type": "code",
   "execution_count": null,
   "metadata": {},
   "outputs": [],
   "source": []
  }
 ],
 "metadata": {
  "kernelspec": {
   "display_name": "Python 3",
   "language": "python",
   "name": "python3"
  },
  "language_info": {
   "codemirror_mode": {
    "name": "ipython",
    "version": 3
   },
   "file_extension": ".py",
   "mimetype": "text/x-python",
   "name": "python",
   "nbconvert_exporter": "python",
   "pygments_lexer": "ipython3",
   "version": "3.6.9"
  }
 },
 "nbformat": 4,
 "nbformat_minor": 4
}

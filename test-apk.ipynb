{
 "cells": [
  {
   "cell_type": "code",
   "execution_count": 1,
   "id": "4b7cf1d8-1fb1-439f-acf1-82cc7c1d8c67",
   "metadata": {},
   "outputs": [],
   "source": [
    "import time\n",
    "import sys\n",
    "from martha.apk import Apk\n",
    "from martha.apk_environment import ApkEnvironment\n",
    "import os"
   ]
  },
  {
   "cell_type": "code",
   "execution_count": 2,
   "id": "21477704-cfa1-4850-b2b8-a4a5ed909716",
   "metadata": {},
   "outputs": [
    {
     "name": "stderr",
     "output_type": "stream",
     "text": [
      "[INFO] | 2021-09-30 10:59:35 AM | analyzer.com.Healthtipsbd.allergictreatment_instrumented | Old logcat messages cleared!\n",
      "[INFO] | 2021-09-30 10:59:37 AM | analyzer.com.Healthtipsbd.allergictreatment_instrumented | APK installtion done for com.Healthtipsbd.allergictreatment_instrumented.apk\n",
      "[INFO] | 2021-09-30 10:59:38 AM | analyzer.com.Healthtipsbd.allergictreatment_instrumented | Old logcat messages cleared!\n",
      "[INFO] | 2021-09-30 10:59:38 AM | analyzer.com.Healthtipsbd.allergictreatment_instrumented | Kill the current app if already spawned!\n",
      "[INFO] | 2021-09-30 10:59:38 AM | analyzer.com.Healthtipsbd.allergictreatment_instrumented | APK is already killed\n",
      "[INFO] | 2021-09-30 10:59:38 AM | analyzer.com.Healthtipsbd.allergictreatment_instrumented | Spawning the current app\n",
      "[INFO] | 2021-09-30 10:59:39 AM | analyzer.com.Healthtipsbd.allergictreatment_instrumented | Apk spawned successfully!\n"
     ]
    }
   ],
   "source": [
    "# config = {\n",
    "#     \"apk_folder\": \"{}/benchmarks\".format(os.getcwd()),\n",
    "#     \"apk_name\": \"00a2d33447e572fff3b0f5ecf40e0c53596f6952c94db385be4720ea249cff5b\",\n",
    "#     \"max_step\": 4,\n",
    "# }\n",
    "config = {\n",
    "    \"apk_folder\": \"{}/benchmarks\".format(os.getcwd()),\n",
    "    \"apk_name\": \"com.Healthtipsbd.allergictreatment\",\n",
    "    \"max_step\": 4,\n",
    "}\n",
    "\n",
    "env = ApkEnvironment(config=config)"
   ]
  },
  {
   "cell_type": "code",
   "execution_count": null,
   "id": "361cef62-3d27-4cb2-ad17-60af78f9a5b8",
   "metadata": {},
   "outputs": [],
   "source": []
  },
  {
   "cell_type": "code",
   "execution_count": null,
   "id": "345c400a-3182-4b45-83e1-460a62c33293",
   "metadata": {},
   "outputs": [],
   "source": []
  },
  {
   "cell_type": "code",
   "execution_count": 5,
   "id": "ef379d99-ffd7-4629-a66f-75330762c6ba",
   "metadata": {},
   "outputs": [],
   "source": [
    "tmp_action_list = env.apk.get_curr_actions()"
   ]
  },
  {
   "cell_type": "code",
   "execution_count": 6,
   "id": "b6c1e2db-e52a-418d-b881-72bfedb3c053",
   "metadata": {},
   "outputs": [
    {
     "data": {
      "text/plain": [
       "[<martha.gui_element.GuiElement at 0x7fa711d288b0>,\n",
       " <martha.gui_element.GuiElement at 0x7fa714118820>,\n",
       " <martha.gui_element.GuiElement at 0x7fa714118d00>]"
      ]
     },
     "execution_count": 6,
     "metadata": {},
     "output_type": "execute_result"
    }
   ],
   "source": [
    "tmp_action_list"
   ]
  },
  {
   "cell_type": "code",
   "execution_count": 14,
   "id": "4c81b0ba-efda-4175-a640-0d2f9883f421",
   "metadata": {},
   "outputs": [
    {
     "data": {
      "text/plain": [
       "{'index': '1',\n",
       " 'text': '',\n",
       " 'resource-id': 'com.Healthtipsbd.allergictreatment:id/rate',\n",
       " 'class': 'android.widget.TextView',\n",
       " 'package': 'com.Healthtipsbd.allergictreatment',\n",
       " 'content-desc': 'Reat This App',\n",
       " 'checkable': 'false',\n",
       " 'checked': 'false',\n",
       " 'clickable': 'true',\n",
       " 'enabled': 'true',\n",
       " 'focusable': 'true',\n",
       " 'focused': 'false',\n",
       " 'scrollable': 'false',\n",
       " 'long-clickable': 'true',\n",
       " 'password': 'false',\n",
       " 'selected': 'false',\n",
       " 'visible-to-user': 'true',\n",
       " 'bounds': '[815,77][969,209]'}"
      ]
     },
     "execution_count": 14,
     "metadata": {},
     "output_type": "execute_result"
    }
   ],
   "source": [
    "tmp_action_list[1].attributes"
   ]
  },
  {
   "cell_type": "code",
   "execution_count": 6,
   "id": "7400a770-ffba-4542-b1a1-ee0594e99d01",
   "metadata": {},
   "outputs": [],
   "source": [
    "env.apk.perform_action(tmp_action_list[0])"
   ]
  },
  {
   "cell_type": "code",
   "execution_count": 7,
   "id": "c3ff30ff-cf09-4baa-be65-03881d475ba0",
   "metadata": {},
   "outputs": [],
   "source": [
    "v = env.get_node_for_action(tmp_action_list[0])"
   ]
  },
  {
   "cell_type": "code",
   "execution_count": 8,
   "id": "1f425fc1-e0c5-41c7-a27a-14b3253911db",
   "metadata": {},
   "outputs": [
    {
     "data": {
      "text/plain": [
       "int"
      ]
     },
     "execution_count": 8,
     "metadata": {},
     "output_type": "execute_result"
    }
   ],
   "source": [
    "type(v)"
   ]
  },
  {
   "cell_type": "code",
   "execution_count": 9,
   "id": "11bb58ed-ca3d-406a-8573-2fd2fac4a1f2",
   "metadata": {},
   "outputs": [
    {
     "data": {
      "text/plain": [
       "<igraph.Graph at 0x7fdfb8b44130>"
      ]
     },
     "execution_count": 9,
     "metadata": {},
     "output_type": "execute_result"
    }
   ],
   "source": [
    "env.apk_call_graph"
   ]
  },
  {
   "cell_type": "code",
   "execution_count": 10,
   "id": "5eb68afb-042d-4d34-ab8c-5bb7e8804de7",
   "metadata": {},
   "outputs": [
    {
     "data": {
      "text/plain": [
       "'com.rev0732.lwp:id/buttonCancel'"
      ]
     },
     "execution_count": 10,
     "metadata": {},
     "output_type": "execute_result"
    }
   ],
   "source": [
    "tmp_action_list[0].resource_id"
   ]
  },
  {
   "cell_type": "code",
   "execution_count": 21,
   "id": "89f6cd05-7273-434c-a278-e71fae283d39",
   "metadata": {},
   "outputs": [],
   "source": [
    "vq = env.apk_call_graph.vs.select(name=env.apk_logcat_watcher.get_click_map()[tmp_action_list[0].resource_id])"
   ]
  },
  {
   "cell_type": "code",
   "execution_count": 22,
   "id": "138d9d8f-b801-4fcc-ae42-080d2e7a888d",
   "metadata": {},
   "outputs": [
    {
     "data": {
      "text/plain": [
       "1"
      ]
     },
     "execution_count": 22,
     "metadata": {},
     "output_type": "execute_result"
    }
   ],
   "source": [
    "len(vq)"
   ]
  },
  {
   "cell_type": "code",
   "execution_count": 23,
   "id": "c7be8407-4979-4405-9232-9e8f03c6bf95",
   "metadata": {},
   "outputs": [
    {
     "data": {
      "text/plain": [
       "igraph.Vertex(<igraph.Graph object at 0x7fdfb8b44130>, 671, {'name': '<com.revlwp.wallpaper.newlp.UserConsentActivity$2: void onClick(android.view.View)>', 'class_sig': 'com.revlwp.wallpaper.newlp.UserConsentActivity$2', 'class_name': 'UserConsentActivity$2', 'return_type': 'void', 'func_name': 'onClick', 'short_name': 'UserConsentActivity$2.onClick'})"
      ]
     },
     "execution_count": 23,
     "metadata": {},
     "output_type": "execute_result"
    }
   ],
   "source": [
    "vq[0]"
   ]
  },
  {
   "cell_type": "code",
   "execution_count": 18,
   "id": "bde50069-73f2-494a-b44c-0d0549b5f8d8",
   "metadata": {},
   "outputs": [
    {
     "data": {
      "text/plain": [
       "{'com.rev0732.lwp:id/buttonAgree': '<com.revlwp.wallpaper.newlp.UserConsentActivity$1: void onClick(android.view.View)>',\n",
       " 'com.rev0732.lwp:id/buttonCancel': '<com.revlwp.wallpaper.newlp.UserConsentActivity$2: void onClick(android.view.View)>',\n",
       " 'com.rev0732.lwp:id/buttonRemoveAdsUC': '<com.revlwp.wallpaper.newlp.UserConsentActivity$3: void onClick(android.view.View)>'}"
      ]
     },
     "execution_count": 18,
     "metadata": {},
     "output_type": "execute_result"
    }
   ],
   "source": [
    "env.apk_logcat_watcher.get_click_map()"
   ]
  },
  {
   "cell_type": "code",
   "execution_count": 24,
   "id": "607586ff-2411-4d72-9410-878ce94618f3",
   "metadata": {},
   "outputs": [
    {
     "data": {
      "text/plain": [
       "igraph.Vertex(<igraph.Graph object at 0x7fdfb8b44130>, 671, {'name': '<com.revlwp.wallpaper.newlp.UserConsentActivity$2: void onClick(android.view.View)>', 'class_sig': 'com.revlwp.wallpaper.newlp.UserConsentActivity$2', 'class_name': 'UserConsentActivity$2', 'return_type': 'void', 'func_name': 'onClick', 'short_name': 'UserConsentActivity$2.onClick'})"
      ]
     },
     "execution_count": 24,
     "metadata": {},
     "output_type": "execute_result"
    }
   ],
   "source": [
    "env.apk_call_graph.vs[671]"
   ]
  },
  {
   "cell_type": "code",
   "execution_count": 25,
   "id": "9bad5474-ab5d-4875-959b-8c791f4d2db5",
   "metadata": {},
   "outputs": [
    {
     "data": {
      "text/plain": [
       "1218"
      ]
     },
     "execution_count": 25,
     "metadata": {},
     "output_type": "execute_result"
    }
   ],
   "source": [
    "len(env.apk_call_graph.vs)"
   ]
  },
  {
   "cell_type": "code",
   "execution_count": 33,
   "id": "72ab4d70-f8dc-427a-8325-b266accff31d",
   "metadata": {},
   "outputs": [
    {
     "data": {
      "text/plain": [
       "['name',\n",
       " 'class_sig',\n",
       " 'class_name',\n",
       " 'return_type',\n",
       " 'func_name',\n",
       " 'short_name',\n",
       " 'label_size']"
      ]
     },
     "execution_count": 33,
     "metadata": {},
     "output_type": "execute_result"
    }
   ],
   "source": [
    "env.apk_call_graph.vs.attributes()"
   ]
  },
  {
   "cell_type": "code",
   "execution_count": 34,
   "id": "1317605d-ba29-4188-bd2e-0e65c52e7e2e",
   "metadata": {},
   "outputs": [
    {
     "data": {
      "text/plain": [
       "['icc', 'label_size']"
      ]
     },
     "execution_count": 34,
     "metadata": {},
     "output_type": "execute_result"
    }
   ],
   "source": [
    "env.apk_call_graph.es.attributes()"
   ]
  },
  {
   "cell_type": "code",
   "execution_count": 37,
   "id": "737d4656-6574-4005-8cc9-470c0a38ae9a",
   "metadata": {},
   "outputs": [],
   "source": [
    "# from igraph import *\n",
    "# dt = env.apk_call_graph\n",
    "# for p in dt.vs:\n",
    "#     p[\"label_size\"]=7\n",
    "# for p in dt.es:\n",
    "#     p[\"label_size\"]=7\n",
    "# visual_style = {}\n",
    "# visual_style[\"margin\"]=40\n",
    "# visual_style[\"bbox\"]=(640,480)\n",
    "# # visual_style[\"vertex_label\"] = [\n",
    "# #     \"{}\".format(dt.vs[\"name\"][i]) \n",
    "# #     for i in range(len(dt.vs))\n",
    "# # ]\n",
    "# # visual_style[\"edge_label\"] = [\n",
    "# #     (\"{}\".format(dt.es[\"name\"][i]))[:]\n",
    "# #     for i in range(len(dt.es))\n",
    "# # ]\n",
    "# plot(dt, **visual_style)"
   ]
  },
  {
   "cell_type": "code",
   "execution_count": null,
   "id": "70ebfcdf-d70c-4892-b4da-ea22d98fede2",
   "metadata": {},
   "outputs": [],
   "source": []
  }
 ],
 "metadata": {
  "kernelspec": {
   "display_name": "venti",
   "language": "python",
   "name": "venti"
  },
  "language_info": {
   "codemirror_mode": {
    "name": "ipython",
    "version": 3
   },
   "file_extension": ".py",
   "mimetype": "text/x-python",
   "name": "python",
   "nbconvert_exporter": "python",
   "pygments_lexer": "ipython3",
   "version": "3.9.5"
  }
 },
 "nbformat": 4,
 "nbformat_minor": 5
}

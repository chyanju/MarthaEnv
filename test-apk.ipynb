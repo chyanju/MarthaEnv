{
 "cells": [
  {
   "cell_type": "code",
   "execution_count": 1,
   "id": "4b7cf1d8-1fb1-439f-acf1-82cc7c1d8c67",
   "metadata": {},
   "outputs": [],
   "source": [
    "import time\n",
    "import sys\n",
    "from martha.apk import Apk\n",
    "from martha.apk_environment import ApkEnvironment\n",
    "from martha.logcat_watcher import LogcatWatcher\n",
    "import os"
   ]
  },
  {
   "cell_type": "code",
   "execution_count": 3,
   "id": "21477704-cfa1-4850-b2b8-a4a5ed909716",
   "metadata": {},
   "outputs": [
    {
     "name": "stderr",
     "output_type": "stream",
     "text": [
      "[WARNING] | 2021-12-02 11:48:31 AM | analyzer.app-debug | Error in logcat cleaning\n",
      "[INFO] | 2021-12-02 11:48:32 AM | analyzer.app-debug | APK installtion done for app-debug.apk\n",
      "[INFO] | 2021-12-02 11:48:32 AM | analyzer.app-debug | Old logcat messages cleared!\n",
      "[INFO] | 2021-12-02 11:48:32 AM | analyzer.app-debug | Kill the current app if already spawned!\n",
      "[INFO] | 2021-12-02 11:48:32 AM | analyzer.app-debug | APK is already killed\n",
      "[INFO] | 2021-12-02 11:48:32 AM | analyzer.app-debug | Spawning the current app\n",
      "[INFO] | 2021-12-02 11:48:33 AM | analyzer.app-debug | Apk spawned successfully!\n"
     ]
    }
   ],
   "source": [
    "logcat_watcher = LogcatWatcher()\n",
    "\n",
    "config = {\n",
    "    \"apk_folder\": \"{}/benchmarks\".format(os.getcwd()),\n",
    "    # \"apk_name\": \"com.github.cetoolbox_13.apk\",\n",
    "    # \"apk_name\": \"org.tengel.timescale_11.apk\",\n",
    "    \"apk_name\": \"app-debug.apk\",\n",
    "    \"max_step\": 4,\n",
    "    \"logcat_watcher\": logcat_watcher,\n",
    "}\n",
    "\n",
    "env = ApkEnvironment(config=config)"
   ]
  },
  {
   "cell_type": "code",
   "execution_count": 3,
   "id": "361cef62-3d27-4cb2-ad17-60af78f9a5b8",
   "metadata": {},
   "outputs": [],
   "source": [
    "import sys\n",
    "sys.stdout.flush()"
   ]
  },
  {
   "cell_type": "code",
   "execution_count": 14,
   "id": "345c400a-3182-4b45-83e1-460a62c33293",
   "metadata": {},
   "outputs": [],
   "source": [
    "env.logcat_watcher.get_last_reward()"
   ]
  },
  {
   "cell_type": "code",
   "execution_count": 15,
   "id": "54e004a1-39ed-4cf6-a6bc-1b7be13498e1",
   "metadata": {},
   "outputs": [
    {
     "data": {
      "text/plain": [
       "[]"
      ]
     },
     "execution_count": 15,
     "metadata": {},
     "output_type": "execute_result"
    }
   ],
   "source": [
    "env.logcat_watcher.reward_list"
   ]
  },
  {
   "cell_type": "code",
   "execution_count": 9,
   "id": "38506253-df99-4ec9-9eae-03e795a851db",
   "metadata": {},
   "outputs": [
    {
     "data": {
      "text/plain": [
       "0"
      ]
     },
     "execution_count": 9,
     "metadata": {},
     "output_type": "execute_result"
    }
   ],
   "source": [
    "len(env.logcat_watcher.raw_list)"
   ]
  },
  {
   "cell_type": "code",
   "execution_count": 8,
   "id": "d5555d6a-ace3-4096-87f1-bd2dfb41d28e",
   "metadata": {
    "scrolled": true,
    "tags": []
   },
   "outputs": [
    {
     "data": {
      "text/plain": [
       "[]"
      ]
     },
     "execution_count": 8,
     "metadata": {},
     "output_type": "execute_result"
    }
   ],
   "source": [
    "env.logcat_watcher.raw_list"
   ]
  },
  {
   "cell_type": "code",
   "execution_count": 3,
   "id": "ef379d99-ffd7-4629-a66f-75330762c6ba",
   "metadata": {},
   "outputs": [],
   "source": [
    "tmp_action_list = env.get_curr_actions()"
   ]
  },
  {
   "cell_type": "code",
   "execution_count": 7,
   "id": "b6c1e2db-e52a-418d-b881-72bfedb3c053",
   "metadata": {},
   "outputs": [
    {
     "data": {
      "text/plain": [
       "[<martha.gui_element.GuiElement at 0x7feeab8014c0>,\n",
       " <martha.gui_element.GuiElement at 0x7feead3c0250>,\n",
       " <martha.gui_element.GuiElement at 0x7feead3aceb0>,\n",
       " <martha.gui_element.GuiElement at 0x7feeab7d3160>,\n",
       " <martha.gui_element.GuiElement at 0x7feead3ac9d0>,\n",
       " <martha.gui_element.GuiElement at 0x7feead3acac0>,\n",
       " <martha.gui_element.GuiElement at 0x7feead4949d0>,\n",
       " <martha.gui_element.GuiElement at 0x7feead494c40>,\n",
       " <martha.gui_element.GuiElement at 0x7feead494d30>,\n",
       " <martha.gui_element.GuiElement at 0x7feead494d00>,\n",
       " <martha.gui_element.GuiElement at 0x7feead494ac0>,\n",
       " <martha.gui_element.GuiElement at 0x7feead494430>,\n",
       " <martha.gui_element.GuiElement at 0x7feead494be0>,\n",
       " <martha.gui_element.GuiElement at 0x7feead4944c0>,\n",
       " <martha.gui_element.GuiElement at 0x7feead494d90>,\n",
       " <martha.gui_element.GuiElement at 0x7feead494a90>]"
      ]
     },
     "execution_count": 7,
     "metadata": {},
     "output_type": "execute_result"
    }
   ],
   "source": [
    "tmp_action_list"
   ]
  },
  {
   "cell_type": "code",
   "execution_count": 14,
   "id": "3b96ba85-cc32-4ba9-8625-6779be4a297b",
   "metadata": {},
   "outputs": [
    {
     "data": {
      "text/plain": [
       "{'index': '3',\n",
       " 'text': '',\n",
       " 'resource-id': '',\n",
       " 'class': 'android.widget.ImageButton',\n",
       " 'package': 'de.vanitasvitae.enigmandroid',\n",
       " 'content-desc': 'More options',\n",
       " 'checkable': 'false',\n",
       " 'checked': 'false',\n",
       " 'clickable': 'true',\n",
       " 'enabled': 'true',\n",
       " 'focusable': 'true',\n",
       " 'focused': 'false',\n",
       " 'scrollable': 'false',\n",
       " 'long-clickable': 'true',\n",
       " 'password': 'false',\n",
       " 'selected': 'false',\n",
       " 'visible-to-user': 'true',\n",
       " 'bounds': '[536,24][600,80]',\n",
       " 'parsed_bounds': [536, 24, 600, 80]}"
      ]
     },
     "execution_count": 14,
     "metadata": {},
     "output_type": "execute_result"
    }
   ],
   "source": [
    "tmp_action_list[11].attributes"
   ]
  },
  {
   "cell_type": "code",
   "execution_count": 5,
   "id": "0e35cb4e-d4e2-4511-863e-f629d66c456c",
   "metadata": {},
   "outputs": [
    {
     "data": {
      "text/plain": [
       "{'index': '0',\n",
       " 'text': '',\n",
       " 'resource-id': '',\n",
       " 'class': 'android.widget.LinearLayout',\n",
       " 'package': 'de.vanitasvitae.enigmandroid',\n",
       " 'content-desc': '',\n",
       " 'checkable': 'false',\n",
       " 'checked': 'false',\n",
       " 'clickable': 'true',\n",
       " 'enabled': 'false',\n",
       " 'focusable': 'false',\n",
       " 'focused': 'false',\n",
       " 'scrollable': 'false',\n",
       " 'long-clickable': 'false',\n",
       " 'password': 'false',\n",
       " 'selected': 'false',\n",
       " 'visible-to-user': 'true',\n",
       " 'bounds': '[8,24][202,80]',\n",
       " 'parsed_bounds': [8, 24, 202, 80]}"
      ]
     },
     "execution_count": 5,
     "metadata": {},
     "output_type": "execute_result"
    }
   ],
   "source": [
    "tmp_action_list[-1].attributes"
   ]
  },
  {
   "cell_type": "code",
   "execution_count": null,
   "id": "4c81b0ba-efda-4175-a640-0d2f9883f421",
   "metadata": {},
   "outputs": [],
   "source": []
  },
  {
   "cell_type": "code",
   "execution_count": 23,
   "id": "1ecdaec4-88e7-4001-b0af-58f2b3a76f78",
   "metadata": {},
   "outputs": [
    {
     "data": {
      "text/plain": [
       "array([[0, 0, 0, 0, 0, 0, 0, 0, 0, 0, 0, 0, 0, 0, 0, 0, 0, 0, 0, 0],\n",
       "       [0, 0, 0, 0, 0, 0, 0, 0, 0, 0, 0, 0, 0, 0, 0, 0, 0, 0, 0, 0],\n",
       "       [0, 0, 0, 0, 0, 0, 0, 0, 0, 0, 0, 0, 0, 0, 0, 0, 0, 0, 0, 0],\n",
       "       [0, 0, 0, 0, 0, 0, 0, 0, 0, 0, 0, 0, 0, 0, 0, 0, 0, 0, 0, 0],\n",
       "       [0, 0, 0, 0, 0, 0, 0, 0, 0, 0, 0, 0, 0, 0, 0, 0, 0, 0, 0, 0],\n",
       "       [0, 0, 0, 0, 0, 0, 0, 0, 0, 0, 0, 0, 0, 0, 0, 0, 0, 0, 0, 0],\n",
       "       [0, 0, 0, 0, 0, 0, 0, 0, 0, 0, 0, 0, 0, 0, 0, 0, 0, 0, 0, 0],\n",
       "       [0, 0, 0, 0, 0, 0, 0, 0, 0, 0, 0, 0, 0, 0, 0, 0, 0, 0, 0, 0],\n",
       "       [0, 0, 0, 0, 0, 0, 0, 0, 0, 0, 0, 0, 0, 0, 0, 0, 0, 0, 0, 0],\n",
       "       [0, 0, 0, 0, 0, 0, 0, 0, 0, 0, 0, 0, 0, 0, 0, 0, 0, 0, 0, 0],\n",
       "       [0, 0, 0, 0, 0, 0, 0, 0, 0, 0, 0, 0, 0, 0, 0, 0, 0, 0, 0, 0],\n",
       "       [0, 0, 0, 0, 0, 0, 0, 0, 0, 0, 0, 0, 0, 0, 0, 0, 0, 0, 0, 0],\n",
       "       [0, 0, 0, 0, 0, 0, 0, 0, 0, 0, 0, 0, 0, 0, 0, 0, 0, 0, 0, 0],\n",
       "       [0, 0, 0, 0, 0, 0, 0, 0, 0, 0, 0, 0, 0, 0, 0, 0, 0, 0, 0, 0],\n",
       "       [0, 0, 0, 0, 0, 0, 0, 0, 0, 0, 0, 0, 0, 0, 0, 0, 0, 0, 0, 0],\n",
       "       [0, 1, 1, 1, 1, 1, 1, 1, 1, 1, 1, 1, 1, 1, 1, 1, 1, 1, 1, 0],\n",
       "       [1, 1, 1, 1, 1, 1, 1, 1, 1, 1, 1, 1, 1, 1, 1, 1, 1, 1, 1, 1],\n",
       "       [1, 1, 1, 1, 1, 1, 1, 1, 1, 1, 1, 1, 1, 1, 1, 1, 1, 1, 1, 1],\n",
       "       [1, 1, 1, 1, 1, 1, 1, 1, 1, 1, 1, 1, 1, 1, 1, 1, 1, 1, 1, 1],\n",
       "       [0, 0, 0, 0, 0, 0, 0, 0, 0, 0, 0, 0, 0, 0, 0, 0, 0, 0, 0, 0],\n",
       "       [0, 0, 0, 0, 0, 0, 0, 0, 0, 0, 0, 0, 0, 0, 0, 0, 0, 0, 0, 0],\n",
       "       [0, 0, 0, 0, 0, 0, 0, 0, 0, 0, 0, 0, 0, 0, 0, 0, 0, 0, 0, 0],\n",
       "       [0, 0, 0, 0, 0, 0, 0, 0, 0, 0, 0, 0, 0, 0, 0, 0, 0, 0, 0, 0],\n",
       "       [0, 0, 0, 0, 0, 0, 0, 0, 0, 0, 0, 0, 0, 0, 0, 0, 0, 0, 0, 0],\n",
       "       [0, 0, 0, 0, 0, 0, 0, 0, 0, 0, 0, 0, 0, 0, 0, 0, 0, 0, 0, 0],\n",
       "       [0, 0, 0, 0, 0, 0, 0, 0, 0, 0, 0, 0, 0, 0, 0, 0, 0, 0, 0, 0],\n",
       "       [0, 0, 0, 0, 0, 0, 0, 0, 0, 0, 0, 0, 0, 0, 0, 0, 0, 0, 0, 0],\n",
       "       [0, 0, 0, 0, 0, 0, 0, 0, 0, 0, 0, 0, 0, 0, 0, 0, 0, 0, 0, 0],\n",
       "       [0, 0, 0, 0, 0, 0, 0, 0, 0, 0, 0, 0, 0, 0, 0, 0, 0, 0, 0, 0],\n",
       "       [0, 0, 0, 0, 0, 0, 0, 0, 0, 0, 0, 0, 0, 0, 0, 0, 0, 0, 0, 0],\n",
       "       [0, 0, 0, 0, 0, 0, 0, 0, 0, 0, 0, 0, 0, 0, 0, 0, 0, 0, 0, 0],\n",
       "       [0, 0, 0, 0, 0, 0, 0, 0, 0, 0, 0, 0, 0, 0, 0, 0, 0, 0, 0, 0]],\n",
       "      dtype=int32)"
      ]
     },
     "execution_count": 23,
     "metadata": {},
     "output_type": "execute_result"
    }
   ],
   "source": [
    "env.get_curr_state()"
   ]
  },
  {
   "cell_type": "code",
   "execution_count": null,
   "id": "958c4328-1a35-4bf7-84f8-dd5b1eebb4ab",
   "metadata": {},
   "outputs": [],
   "source": []
  },
  {
   "cell_type": "code",
   "execution_count": null,
   "id": "85ab38dd-2db5-4a43-9d2e-38ebbdc54508",
   "metadata": {},
   "outputs": [],
   "source": [
    "env.get_action_repr(tmp_action_list[-4])"
   ]
  },
  {
   "cell_type": "code",
   "execution_count": null,
   "id": "fdd577ac-aef9-426e-8b1f-7f8f5e6d3da4",
   "metadata": {},
   "outputs": [],
   "source": []
  },
  {
   "cell_type": "code",
   "execution_count": 8,
   "id": "8f3e689a-d3f5-40fa-ad36-045d075a6b19",
   "metadata": {},
   "outputs": [
    {
     "name": "stdout",
     "output_type": "stream",
     "text": [
      "# [debug] action: 14, seq: [14], reward: None, terminate: False\n"
     ]
    },
    {
     "data": {
      "text/plain": [
       "[{'n_actions': [16],\n",
       "  'action_mask': [1,\n",
       "   1,\n",
       "   1,\n",
       "   1,\n",
       "   1,\n",
       "   1,\n",
       "   1,\n",
       "   1,\n",
       "   1,\n",
       "   1,\n",
       "   1,\n",
       "   1,\n",
       "   1,\n",
       "   1,\n",
       "   1,\n",
       "   1,\n",
       "   0,\n",
       "   0,\n",
       "   0,\n",
       "   0,\n",
       "   0,\n",
       "   0,\n",
       "   0,\n",
       "   0,\n",
       "   0,\n",
       "   0,\n",
       "   0,\n",
       "   0,\n",
       "   0,\n",
       "   0,\n",
       "   0,\n",
       "   0,\n",
       "   0,\n",
       "   0,\n",
       "   0,\n",
       "   0,\n",
       "   0,\n",
       "   0,\n",
       "   0,\n",
       "   0,\n",
       "   0,\n",
       "   0,\n",
       "   0,\n",
       "   0,\n",
       "   0,\n",
       "   0,\n",
       "   0,\n",
       "   0,\n",
       "   0,\n",
       "   0,\n",
       "   0,\n",
       "   0,\n",
       "   0,\n",
       "   0,\n",
       "   0,\n",
       "   0,\n",
       "   0,\n",
       "   0,\n",
       "   0,\n",
       "   0,\n",
       "   0,\n",
       "   0,\n",
       "   0,\n",
       "   0,\n",
       "   0,\n",
       "   0,\n",
       "   0,\n",
       "   0,\n",
       "   0,\n",
       "   0,\n",
       "   0,\n",
       "   0,\n",
       "   0,\n",
       "   0,\n",
       "   0,\n",
       "   0,\n",
       "   0,\n",
       "   0,\n",
       "   0,\n",
       "   0,\n",
       "   0,\n",
       "   0,\n",
       "   0,\n",
       "   0,\n",
       "   0,\n",
       "   0,\n",
       "   0,\n",
       "   0,\n",
       "   0,\n",
       "   0,\n",
       "   0,\n",
       "   0,\n",
       "   0,\n",
       "   0,\n",
       "   0,\n",
       "   0,\n",
       "   0,\n",
       "   0,\n",
       "   0,\n",
       "   0],\n",
       "  'action_x': array([14,  5, 14,  5, 14, 10,  5, 17, 12,  7,  2, 18, 16, 13, 11,  3, -1,\n",
       "         -1, -1, -1, -1, -1, -1, -1, -1, -1, -1, -1, -1, -1, -1, -1, -1, -1,\n",
       "         -1, -1, -1, -1, -1, -1, -1, -1, -1, -1, -1, -1, -1, -1, -1, -1, -1,\n",
       "         -1, -1, -1, -1, -1, -1, -1, -1, -1, -1, -1, -1, -1, -1, -1, -1, -1,\n",
       "         -1, -1, -1, -1, -1, -1, -1, -1, -1, -1, -1, -1, -1, -1, -1, -1, -1,\n",
       "         -1, -1, -1, -1, -1, -1, -1, -1, -1, -1, -1, -1, -1, -1, -1],\n",
       "        dtype=int32),\n",
       "  'action_y': array([29, 29, 17, 17,  6,  6,  6,  4,  4,  4,  4,  1,  1,  1,  1,  1, -1,\n",
       "         -1, -1, -1, -1, -1, -1, -1, -1, -1, -1, -1, -1, -1, -1, -1, -1, -1,\n",
       "         -1, -1, -1, -1, -1, -1, -1, -1, -1, -1, -1, -1, -1, -1, -1, -1, -1,\n",
       "         -1, -1, -1, -1, -1, -1, -1, -1, -1, -1, -1, -1, -1, -1, -1, -1, -1,\n",
       "         -1, -1, -1, -1, -1, -1, -1, -1, -1, -1, -1, -1, -1, -1, -1, -1, -1,\n",
       "         -1, -1, -1, -1, -1, -1, -1, -1, -1, -1, -1, -1, -1, -1, -1],\n",
       "        dtype=int32),\n",
       "  'state': array([[1, 1, 1, 1, 1, 1, 1, 0, 0, 0, 1, 1, 1, 1, 1, 1, 1, 1, 1, 1],\n",
       "         [1, 1, 1, 1, 1, 1, 1, 0, 0, 0, 1, 1, 1, 1, 1, 1, 1, 1, 1, 1],\n",
       "         [1, 1, 1, 1, 1, 1, 1, 0, 0, 0, 1, 1, 1, 1, 1, 1, 1, 1, 1, 1],\n",
       "         [1, 1, 1, 1, 1, 1, 1, 1, 1, 1, 1, 1, 1, 1, 1, 1, 1, 1, 1, 1],\n",
       "         [1, 1, 1, 1, 1, 1, 1, 1, 1, 1, 1, 1, 1, 1, 1, 1, 1, 1, 1, 1],\n",
       "         [0, 0, 1, 1, 1, 1, 1, 1, 1, 1, 1, 1, 1, 1, 1, 1, 1, 1, 0, 0],\n",
       "         [0, 0, 1, 1, 1, 1, 1, 1, 1, 1, 1, 1, 1, 1, 1, 1, 1, 1, 0, 0],\n",
       "         [1, 1, 1, 1, 1, 1, 1, 1, 1, 1, 1, 1, 1, 1, 1, 1, 1, 1, 1, 1],\n",
       "         [1, 1, 1, 1, 1, 1, 1, 1, 1, 1, 1, 1, 1, 1, 1, 1, 1, 1, 1, 1],\n",
       "         [1, 1, 1, 1, 1, 1, 1, 1, 1, 1, 1, 1, 1, 1, 1, 1, 1, 1, 1, 1],\n",
       "         [1, 1, 1, 1, 1, 1, 1, 1, 1, 1, 1, 1, 1, 1, 1, 1, 1, 1, 1, 1],\n",
       "         [1, 1, 1, 1, 1, 1, 1, 1, 1, 1, 1, 1, 1, 1, 1, 1, 1, 1, 1, 1],\n",
       "         [1, 1, 1, 1, 1, 1, 1, 1, 1, 1, 1, 1, 1, 1, 1, 1, 1, 1, 1, 1],\n",
       "         [1, 1, 1, 1, 1, 1, 1, 1, 1, 1, 1, 1, 1, 1, 1, 1, 1, 1, 1, 1],\n",
       "         [1, 1, 1, 1, 1, 1, 1, 1, 1, 1, 1, 1, 1, 1, 1, 1, 1, 1, 1, 1],\n",
       "         [1, 1, 1, 1, 1, 1, 1, 1, 1, 1, 1, 1, 1, 1, 1, 1, 1, 1, 1, 1],\n",
       "         [1, 1, 1, 1, 1, 1, 1, 1, 1, 1, 1, 1, 1, 1, 1, 1, 1, 1, 1, 1],\n",
       "         [1, 1, 1, 1, 1, 1, 1, 1, 1, 1, 1, 1, 1, 1, 1, 1, 1, 1, 1, 1],\n",
       "         [1, 1, 1, 1, 1, 1, 1, 1, 1, 1, 1, 1, 1, 1, 1, 1, 1, 1, 1, 1],\n",
       "         [1, 1, 1, 1, 1, 1, 1, 1, 1, 1, 1, 1, 1, 1, 1, 1, 1, 1, 1, 1],\n",
       "         [1, 1, 1, 1, 1, 1, 1, 1, 1, 1, 1, 1, 1, 1, 1, 1, 1, 1, 1, 1],\n",
       "         [1, 1, 1, 1, 1, 1, 1, 1, 1, 1, 1, 1, 1, 1, 1, 1, 1, 1, 1, 1],\n",
       "         [1, 1, 1, 1, 1, 1, 1, 1, 1, 1, 1, 1, 1, 1, 1, 1, 1, 1, 1, 1],\n",
       "         [1, 1, 1, 1, 1, 1, 1, 1, 1, 1, 1, 1, 1, 1, 1, 1, 1, 1, 1, 1],\n",
       "         [1, 1, 1, 1, 1, 1, 1, 1, 1, 1, 1, 1, 1, 1, 1, 1, 1, 1, 1, 1],\n",
       "         [1, 1, 1, 1, 1, 1, 1, 1, 1, 1, 1, 1, 1, 1, 1, 1, 1, 1, 1, 1],\n",
       "         [1, 1, 1, 1, 1, 1, 1, 1, 1, 1, 1, 1, 1, 1, 1, 1, 1, 1, 1, 1],\n",
       "         [1, 1, 1, 1, 1, 1, 1, 1, 1, 1, 1, 1, 1, 1, 1, 1, 1, 1, 1, 1],\n",
       "         [1, 1, 1, 1, 1, 1, 1, 1, 1, 1, 1, 1, 1, 1, 1, 1, 1, 1, 1, 1],\n",
       "         [1, 1, 1, 1, 1, 1, 1, 1, 1, 1, 1, 1, 1, 1, 1, 1, 1, 1, 1, 1],\n",
       "         [1, 1, 1, 1, 1, 1, 1, 1, 1, 1, 1, 1, 1, 1, 1, 1, 1, 1, 1, 1],\n",
       "         [0, 0, 0, 0, 0, 0, 0, 0, 0, 0, 0, 0, 0, 0, 0, 0, 0, 0, 0, 0]],\n",
       "        dtype=int32)},\n",
       " 0.01,\n",
       " False,\n",
       " {}]"
      ]
     },
     "execution_count": 8,
     "metadata": {},
     "output_type": "execute_result"
    }
   ],
   "source": [
    "env.step(14)"
   ]
  },
  {
   "cell_type": "code",
   "execution_count": null,
   "id": "a4573927-5548-456d-a507-d90c8442d327",
   "metadata": {},
   "outputs": [],
   "source": []
  },
  {
   "cell_type": "code",
   "execution_count": 17,
   "id": "7400a770-ffba-4542-b1a1-ee0594e99d01",
   "metadata": {},
   "outputs": [],
   "source": [
    "env.apk.perform_action(tmp_action_list[-4])"
   ]
  },
  {
   "cell_type": "code",
   "execution_count": null,
   "id": "57ac88ad-5888-4816-9632-3577301a0483",
   "metadata": {},
   "outputs": [],
   "source": []
  },
  {
   "cell_type": "code",
   "execution_count": null,
   "id": "0bce0350-f58c-4f8d-af0e-6a2ada2d415b",
   "metadata": {},
   "outputs": [],
   "source": []
  },
  {
   "cell_type": "code",
   "execution_count": null,
   "id": "bc022be2-7ade-48a3-b6ce-a5d54da77707",
   "metadata": {},
   "outputs": [],
   "source": []
  },
  {
   "cell_type": "code",
   "execution_count": 13,
   "id": "6ed5c504-5565-4014-97e8-5ce25608073b",
   "metadata": {},
   "outputs": [],
   "source": [
    "from martha.logcat_watcher import LogcatWatcher"
   ]
  },
  {
   "cell_type": "code",
   "execution_count": 15,
   "id": "50b46ded-d050-4c3d-b0da-18ce1e803c2e",
   "metadata": {},
   "outputs": [],
   "source": [
    "lw = LogcatWatcher()"
   ]
  },
  {
   "cell_type": "code",
   "execution_count": 27,
   "id": "1ced1787-b05a-4b3a-bc17-6ab8e47898eb",
   "metadata": {},
   "outputs": [
    {
     "data": {
      "text/plain": [
       "26"
      ]
     },
     "execution_count": 27,
     "metadata": {},
     "output_type": "execute_result"
    }
   ],
   "source": [
    "len(lw.raw_list)"
   ]
  },
  {
   "cell_type": "code",
   "execution_count": 31,
   "id": "1d01bc7b-be53-49eb-8099-f0bf0efb85a5",
   "metadata": {},
   "outputs": [
    {
     "data": {
      "text/plain": [
       "[0.1]"
      ]
     },
     "execution_count": 31,
     "metadata": {},
     "output_type": "execute_result"
    }
   ],
   "source": [
    "lw.reward_list"
   ]
  },
  {
   "cell_type": "code",
   "execution_count": 22,
   "id": "626d4518-e2da-41a1-b670-27bc4883c13e",
   "metadata": {},
   "outputs": [
    {
     "data": {
      "text/plain": [
       "0.1"
      ]
     },
     "execution_count": 22,
     "metadata": {},
     "output_type": "execute_result"
    }
   ],
   "source": [
    "lw.get_last_reward()"
   ]
  },
  {
   "cell_type": "code",
   "execution_count": null,
   "id": "aa0626c2-b0d7-4dfe-8805-e8852bd7ebc0",
   "metadata": {},
   "outputs": [],
   "source": []
  }
 ],
 "metadata": {
  "kernelspec": {
   "display_name": "venti",
   "language": "python",
   "name": "venti"
  },
  "language_info": {
   "codemirror_mode": {
    "name": "ipython",
    "version": 3
   },
   "file_extension": ".py",
   "mimetype": "text/x-python",
   "name": "python",
   "nbconvert_exporter": "python",
   "pygments_lexer": "ipython3",
   "version": "3.9.5"
  }
 },
 "nbformat": 4,
 "nbformat_minor": 5
}

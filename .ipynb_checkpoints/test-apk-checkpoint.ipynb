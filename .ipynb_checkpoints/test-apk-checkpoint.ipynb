{
 "cells": [
  {
   "cell_type": "code",
   "execution_count": 1,
   "id": "4b7cf1d8-1fb1-439f-acf1-82cc7c1d8c67",
   "metadata": {},
   "outputs": [],
   "source": [
    "from martha.apk import Apk\n",
    "from martha.apk_environment import ApkEnvironment"
   ]
  },
  {
   "cell_type": "code",
   "execution_count": 2,
   "id": "21477704-cfa1-4850-b2b8-a4a5ed909716",
   "metadata": {},
   "outputs": [
    {
     "name": "stderr",
     "output_type": "stream",
     "text": [
      "[INFO] | 2021-09-25 02:14:42 AM | analyzer.00a2d33447e572fff3b0f5ecf40e0c53596f6952c94db385be4720ea249cff5b_instrumented | Old logcat messages cleared!\n",
      "[INFO] | 2021-09-25 02:14:46 AM | analyzer.00a2d33447e572fff3b0f5ecf40e0c53596f6952c94db385be4720ea249cff5b_instrumented | APK installtion done for 00a2d33447e572fff3b0f5ecf40e0c53596f6952c94db385be4720ea249cff5b_instrumented.apk\n"
     ]
    },
    {
     "ename": "TypeError",
     "evalue": "__init__() got an unexpected keyword argument 'apk'",
     "output_type": "error",
     "traceback": [
      "\u001b[0;31m---------------------------------------------------------------------------\u001b[0m",
      "\u001b[0;31mTypeError\u001b[0m                                 Traceback (most recent call last)",
      "\u001b[0;32m<ipython-input-2-39fab9f9cc3d>\u001b[0m in \u001b[0;36m<module>\u001b[0;34m\u001b[0m\n\u001b[1;32m      1\u001b[0m \u001b[0mapk_path\u001b[0m \u001b[0;34m=\u001b[0m \u001b[0;34m\"/Users/joseph/Downloads/00a2d33447e572fff3b0f5ecf40e0c53596f6952c94db385be4720ea249cff5b_instrumented.apk\"\u001b[0m\u001b[0;34m\u001b[0m\u001b[0;34m\u001b[0m\u001b[0m\n\u001b[1;32m      2\u001b[0m \u001b[0mapk\u001b[0m \u001b[0;34m=\u001b[0m \u001b[0mApk\u001b[0m\u001b[0;34m(\u001b[0m\u001b[0mapk_path\u001b[0m\u001b[0;34m=\u001b[0m\u001b[0mapk_path\u001b[0m\u001b[0;34m)\u001b[0m\u001b[0;34m\u001b[0m\u001b[0;34m\u001b[0m\u001b[0m\n\u001b[0;32m----> 3\u001b[0;31m \u001b[0menv\u001b[0m \u001b[0;34m=\u001b[0m \u001b[0mApkEnvironment\u001b[0m\u001b[0;34m(\u001b[0m\u001b[0mapk\u001b[0m\u001b[0;34m=\u001b[0m\u001b[0mapk\u001b[0m\u001b[0;34m)\u001b[0m\u001b[0;34m\u001b[0m\u001b[0;34m\u001b[0m\u001b[0m\n\u001b[0m\u001b[1;32m      4\u001b[0m \u001b[0menv\u001b[0m\u001b[0;34m.\u001b[0m\u001b[0mapk\u001b[0m\u001b[0;34m.\u001b[0m\u001b[0mlaunch_app\u001b[0m\u001b[0;34m(\u001b[0m\u001b[0;34m)\u001b[0m\u001b[0;34m\u001b[0m\u001b[0;34m\u001b[0m\u001b[0m\n\u001b[1;32m      5\u001b[0m \u001b[0menv\u001b[0m\u001b[0;34m.\u001b[0m\u001b[0mapk\u001b[0m\u001b[0;34m.\u001b[0m\u001b[0mclear_logcat\u001b[0m\u001b[0;34m(\u001b[0m\u001b[0;34m)\u001b[0m\u001b[0;34m\u001b[0m\u001b[0;34m\u001b[0m\u001b[0m\n",
      "\u001b[0;31mTypeError\u001b[0m: __init__() got an unexpected keyword argument 'apk'"
     ]
    }
   ],
   "source": [
    "apk_path = \"/Users/joseph/Downloads/00a2d33447e572fff3b0f5ecf40e0c53596f6952c94db385be4720ea249cff5b_instrumented.apk\"\n",
    "apk = Apk(apk_path=apk_path)\n",
    "env = ApkEnvironment(apk=apk)\n",
    "env.apk.launch_app()\n",
    "env.apk.clear_logcat()"
   ]
  },
  {
   "cell_type": "code",
   "execution_count": null,
   "id": "345c400a-3182-4b45-83e1-460a62c33293",
   "metadata": {},
   "outputs": [],
   "source": [
    "env.apk.get_whxml()"
   ]
  },
  {
   "cell_type": "code",
   "execution_count": 4,
   "id": "ef379d99-ffd7-4629-a66f-75330762c6ba",
   "metadata": {},
   "outputs": [],
   "source": [
    "tmp_state = env.apk.get_whxml()\n",
    "tmp_action_list = env.apk.get_available_actionable_elements()"
   ]
  },
  {
   "cell_type": "code",
   "execution_count": 5,
   "id": "b6c1e2db-e52a-418d-b881-72bfedb3c053",
   "metadata": {},
   "outputs": [
    {
     "data": {
      "text/plain": [
       "[<martha.gui_element.GuiElement at 0x7fa276fd9ca0>,\n",
       " <martha.gui_element.GuiElement at 0x7fa276fd9cd0>,\n",
       " <martha.gui_element.GuiElement at 0x7fa277a32fd0>]"
      ]
     },
     "execution_count": 5,
     "metadata": {},
     "output_type": "execute_result"
    }
   ],
   "source": [
    "tmp_action_list"
   ]
  },
  {
   "cell_type": "code",
   "execution_count": 6,
   "id": "7400a770-ffba-4542-b1a1-ee0594e99d01",
   "metadata": {},
   "outputs": [],
   "source": [
    "env.apk.perform_action(tmp_action_list[0])"
   ]
  },
  {
   "cell_type": "code",
   "execution_count": null,
   "id": "c3ff30ff-cf09-4baa-be65-03881d475ba0",
   "metadata": {},
   "outputs": [],
   "source": []
  },
  {
   "cell_type": "code",
   "execution_count": null,
   "id": "1f425fc1-e0c5-41c7-a27a-14b3253911db",
   "metadata": {},
   "outputs": [],
   "source": []
  }
 ],
 "metadata": {
  "kernelspec": {
   "display_name": "venti",
   "language": "python",
   "name": "venti"
  },
  "language_info": {
   "codemirror_mode": {
    "name": "ipython",
    "version": 3
   },
   "file_extension": ".py",
   "mimetype": "text/x-python",
   "name": "python",
   "nbconvert_exporter": "python",
   "pygments_lexer": "ipython3",
   "version": "3.9.5"
  }
 },
 "nbformat": 4,
 "nbformat_minor": 5
}

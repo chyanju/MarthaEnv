{
 "cells": [
  {
   "cell_type": "markdown",
   "metadata": {},
   "source": [
    "## Feature Extraction Functions"
   ]
  },
  {
   "cell_type": "code",
   "execution_count": 1,
   "metadata": {},
   "outputs": [],
   "source": [
    "import os\n",
    "os.environ['KMP_DUPLICATE_LIB_OK']='True'"
   ]
  },
  {
   "cell_type": "code",
   "execution_count": 2,
   "metadata": {},
   "outputs": [],
   "source": [
    "from xml.dom import minidom\n",
    "from collections import defaultdict \n",
    "import numpy as np\n",
    "import editdistance\n",
    "import random\n",
    "import time\n",
    "\n",
    "EMBEDDING_DIM = 16\n",
    "\n",
    "MAXN_STATE_NODES = 400 # maximum number of state nodes used\n",
    "MAX_TOKEN_LENGTH = 20 # maximum token length padded to\n",
    "\n",
    "NODE_KEY_LIST = [ \n",
    "    # slot names (keys) of a node to add as features\n",
    "    \"index\", # integer\n",
    "    \"checkable\", \"checked\", \"clickable\", \"enabled\", \"focusable\", \"focused\", # boolean\n",
    "    \"scrollable\", \"long-clickable\", \"password\", \"selected\", \"visible-to-user\", # boolean\n",
    "    \"bounds\", # interval\n",
    "    \"content-desc\", # string\n",
    "    \"resource-id\", \"class\", \"package\", # formatted string\n",
    "]\n",
    "NODE_KEY_DICT = {NODE_KEY_LIST[i]:i for i in range(len(NODE_KEY_LIST))}\n",
    "\n",
    "CHAR_LIST = [\"<PAD>\", \"<UNK>\"] +\\\n",
    "list(\"ABCDEFGHIJKLMNOPQRSTUVWXYZ\") +\\\n",
    "list(\"abcdefghijklmnopqrstuvwxyz\") +\\\n",
    "list(\"0123456789\") +\\\n",
    "list(\"`~!@#$%^&*()_+-={}|[]:;'',.<>/?\") +\\\n",
    "[\"\\\\\"] + ['\"']\n",
    "CHAR_DICT = defaultdict(\n",
    "    lambda:CHAR_LIST.index(\"<UNK>\"), \n",
    "    {CHAR_LIST[i]:i for i in range(len(CHAR_LIST))}\n",
    ")\n",
    "\n",
    "PADDING_NODE_VECTOR = [ [CHAR_DICT[\"<PAD>\"] for _ in range(MAX_TOKEN_LENGTH)] for _ in range(len(NODE_KEY_LIST))]"
   ]
  },
  {
   "cell_type": "code",
   "execution_count": 3,
   "metadata": {},
   "outputs": [],
   "source": [
    "# specific method for target encoding\n",
    "# similar to get_node_vector but without the node assumption\n",
    "# arg_node is a list of strings\n",
    "def get_sentence_vector(arg_sent):\n",
    "    sent_vector = []\n",
    "    for j in range(len(arg_sent)):\n",
    "        chars_j = list(arg_sent[j])\n",
    "        # get the indices for every char\n",
    "        inds_j = [CHAR_DICT[chars_j[k]] for k in range( min(MAX_TOKEN_LENGTH,len(chars_j)) )]\n",
    "        # pad the inds\n",
    "        inds_j += [CHAR_DICT[\"<PAD>\"]] * ( MAX_TOKEN_LENGTH-len(inds_j) )\n",
    "        sent_vector.append(inds_j)\n",
    "    return sent_vector\n",
    "\n",
    "# arg_node is a gui element object\n",
    "# (element from action list)\n",
    "def get_element_vector(arg_elem):\n",
    "    elem_vector = []\n",
    "    for j in range(len(NODE_KEY_LIST)):\n",
    "        key_j = NODE_KEY_LIST[j]\n",
    "        str_j = str(arg_elem.attributes[key_j])\n",
    "        chars_j = list(str_j)\n",
    "        # get the indices for every char\n",
    "        inds_j = [CHAR_DICT[chars_j[k]] for k in range( min(MAX_TOKEN_LENGTH,len(chars_j)) )]\n",
    "        # pad the inds\n",
    "        inds_j += [CHAR_DICT[\"<PAD>\"]] * ( MAX_TOKEN_LENGTH-len(inds_j) )\n",
    "        elem_vector.append(inds_j)\n",
    "    return elem_vector\n",
    "\n",
    "# arg_node is a ui element object\n",
    "# (node from state)\n",
    "def get_node_vector(arg_node):\n",
    "    node_vector = []\n",
    "    for j in range(len(NODE_KEY_LIST)):\n",
    "        key_j = NODE_KEY_LIST[j]\n",
    "        str_j = str(arg_node.attributes[key_j].value)\n",
    "        chars_j = list(str_j)\n",
    "        # get the indices for every char\n",
    "        inds_j = [CHAR_DICT[chars_j[k]] for k in range( min(MAX_TOKEN_LENGTH,len(chars_j)) )]\n",
    "        # pad the inds\n",
    "        inds_j += [CHAR_DICT[\"<PAD>\"]] * ( MAX_TOKEN_LENGTH-len(inds_j) )\n",
    "        node_vector.append(inds_j)\n",
    "    return node_vector\n",
    "\n",
    "# a state here is a windows hierarchy string\n",
    "def get_state_matrix(arg_wh):\n",
    "    state_nodes = minidom.parseString(arg_wh).getElementsByTagName('node')\n",
    "    state_matrix = []\n",
    "    for i in range( min(MAXN_STATE_NODES,len(state_nodes)) ):\n",
    "        state_vector = []\n",
    "        node_i = state_nodes[i]\n",
    "        node_vector_i = get_node_vector(node_i)\n",
    "        state_matrix.append(node_vector_i)\n",
    "    # pad the state matrix\n",
    "    state_matrix += [PADDING_NODE_VECTOR] * ( MAXN_STATE_NODES-len(state_matrix) )\n",
    "    return state_matrix"
   ]
  },
  {
   "cell_type": "markdown",
   "metadata": {},
   "source": [
    "## Neural Agent\n",
    "- UniversalTokenEncoder: relu\n",
    "- StateEncoder: relu\n",
    "- TargetEncoder: relu\n",
    "- ActionEncoder: sigmoid"
   ]
  },
  {
   "cell_type": "code",
   "execution_count": 4,
   "metadata": {},
   "outputs": [
    {
     "name": "stdout",
     "output_type": "stream",
     "text": [
      "device: cpu\n",
      "torch version: 1.6.0\n"
     ]
    }
   ],
   "source": [
    "import torch\n",
    "import numpy as np\n",
    "import torch.nn as nn\n",
    "import torch.nn.functional as F\n",
    "from torch.autograd import Variable\n",
    "\n",
    "device = torch.device(\"cuda:0\" if torch.cuda.is_available() else \"cpu\")\n",
    "print(\"device: {}\".format(device))\n",
    "print(\"torch version: {}\".format(torch.__version__))"
   ]
  },
  {
   "cell_type": "code",
   "execution_count": 5,
   "metadata": {},
   "outputs": [],
   "source": [
    "class UniversalTokenEncoder(nn.Module):\n",
    "    def __init__(self, arg_embedding_dim):\n",
    "        super(UniversalTokenEncoder, self).__init__()\n",
    "        self.embedding_dim = arg_embedding_dim\n",
    "        self.char_embedding = nn.Embedding(\n",
    "            num_embeddings=len(CHAR_LIST),\n",
    "            embedding_dim=arg_embedding_dim,\n",
    "        )\n",
    "        self.n_kernels = [10, 10, 10]\n",
    "        self.kernel_sizes = [1, 2, 3]\n",
    "        self.convs = nn.ModuleList([\n",
    "            nn.Conv1d(\n",
    "                in_channels=arg_embedding_dim, \n",
    "                out_channels=self.n_kernels[i], \n",
    "                kernel_size=self.kernel_sizes[i], \n",
    "                padding=0\n",
    "            )\n",
    "            for i in range(len(self.kernel_sizes))\n",
    "        ])\n",
    "        self.pools = nn.ModuleList([\n",
    "            nn.MaxPool1d(MAX_TOKEN_LENGTH+1-self.kernel_sizes[i], padding=0)\n",
    "            for i in range(len(self.kernel_sizes))\n",
    "        ])\n",
    "        self.linear = nn.Linear(sum(self.n_kernels), arg_embedding_dim)\n",
    "        \n",
    "    # input a batch of sequences (high-dimensional)\n",
    "    # arg_seqs: (B=1, ??, len(NODE_KEY_LIST), MAX_TOKEN_LENGTH)\n",
    "    # ??=MAXN_STATE_NODES if encoding state matrix\n",
    "    # ??=1 if encoding the target\n",
    "    # ??=others if encoding an action list\n",
    "    def forward(self, arg_seqs):\n",
    "        B = arg_seqs.shape[0]\n",
    "        tmpn_nodes = arg_seqs.shape[1]\n",
    "        tmp_dim0 = B * tmpn_nodes * len(NODE_KEY_LIST)\n",
    "        assert B==1\n",
    "        # first fold the first 3 dimensions\n",
    "        tmp0 = arg_seqs.view(tmp_dim0, MAX_TOKEN_LENGTH) # (dim0, MAX_TOKEN_LENGTH)\n",
    "        tmp1 = self.char_embedding(tmp0) # (dim0, MAX_TOKEN_LENGTH, embedding_dim)\n",
    "        tmp2 = tmp1.transpose(1,2) # channel goes first for conv, (dim0, embedding_dim, MAX_TOKEN_LENGTH)\n",
    "        # (dim0, n_kernels, MAX_TOKEN_LENGTH-i)\n",
    "        tmp3s = [\n",
    "            F.relu(self.convs[i](tmp2))\n",
    "            for i in range(len(self.convs))\n",
    "        ]\n",
    "        # (dim0, n_kernels, 1)\n",
    "        tmp4s = [\n",
    "            self.pools[i](tmp3s[i])\n",
    "            for i in range(len(tmp3s))\n",
    "        ]\n",
    "        # (dim0, n_kernels)\n",
    "        tmp5s = [\n",
    "            tmp4s[i].view(tmp_dim0, self.n_kernels[i])\n",
    "            for i in range(len(tmp4s))\n",
    "        ]\n",
    "        tmp6 = torch.cat(tmp5s, 1) # (dim0, sum(n_kernels))\n",
    "        tmp7 = F.relu(self.linear(tmp6)) # (dim0, embedding_dim)\n",
    "        # unfold back to original shape\n",
    "        # which is (B=1, ??={MAXN_STATE_NODES,1,others}, len(NODE_KEY_LIST), embedding_dim)\n",
    "        tmp8 = tmp7.view(B, tmpn_nodes, len(NODE_KEY_LIST), self.embedding_dim)\n",
    "        return tmp8\n",
    "        "
   ]
  },
  {
   "cell_type": "code",
   "execution_count": 6,
   "metadata": {},
   "outputs": [],
   "source": [
    "class StateEncoder(nn.Module):\n",
    "    def __init__(self, arg_embedding_dim):\n",
    "        super(StateEncoder, self).__init__()\n",
    "        self.embedding_dim = arg_embedding_dim\n",
    "        self.n_kernels = [10, 10, 10]\n",
    "        self.kernel_sizes = [(1,1), (2,2), (3,3)]\n",
    "        self.convs = nn.ModuleList([\n",
    "            nn.Conv2d(\n",
    "                in_channels=arg_embedding_dim, \n",
    "                out_channels=self.n_kernels[i], \n",
    "                kernel_size=self.kernel_sizes[i], \n",
    "                padding=0\n",
    "            )\n",
    "            for i in range(len(self.kernel_sizes))\n",
    "        ])\n",
    "        self.pools = nn.ModuleList([\n",
    "            nn.MaxPool2d(\n",
    "                kernel_size=(\n",
    "                    MAXN_STATE_NODES+1-self.kernel_sizes[i][0],\n",
    "                    len(NODE_KEY_LIST)+1-self.kernel_sizes[i][1],\n",
    "                ), \n",
    "                padding=0\n",
    "            )\n",
    "            for i in range(len(self.kernel_sizes))\n",
    "        ])\n",
    "        self.linear = nn.Linear(sum(self.n_kernels), arg_embedding_dim)\n",
    "        \n",
    "    # input a batch of sequences (high-dimensional)\n",
    "    # arg_seqs: (B=1, ??, len(NODE_KEY_LIST), embedding_dim)\n",
    "    # ??=MAXN_STATE_NODES since it's encoding state matrix\n",
    "    def forward(self, arg_seqs):\n",
    "        B = arg_seqs.shape[0]\n",
    "        tmpn_nodes = arg_seqs.shape[1]\n",
    "        assert B==1\n",
    "        assert tmpn_nodes==MAXN_STATE_NODES\n",
    "        # permute for conv\n",
    "        tmp0 = arg_seqs.permute(0,3,1,2) # (B=1, embedding_dim, ??, len(NODE_KEY_LIST))\n",
    "        # (B=1, n_kernels, ??-i, len(NODE_KEY_LIST)-i)\n",
    "        tmp1s = [\n",
    "            F.relu(self.convs[i](tmp0))\n",
    "            for i in range(len(self.convs))\n",
    "        ]\n",
    "        # (B=1, n_kernels, 1, 1)\n",
    "        tmp2s = [\n",
    "            self.pools[i](tmp1s[i])\n",
    "            for i in range(len(tmp1s))\n",
    "        ]\n",
    "        # (B=1, n_kernels)\n",
    "        tmp3s = [\n",
    "            tmp2s[i].view(B, self.n_kernels[i])\n",
    "            for i in range(len(tmp2s))\n",
    "        ]\n",
    "        tmp4 = torch.cat(tmp3s, 1) # (B, sum(n_kernels))\n",
    "        tmp5 = F.relu(self.linear(tmp4)) # (B, embedding_dim)\n",
    "        return tmp5"
   ]
  },
  {
   "cell_type": "code",
   "execution_count": 7,
   "metadata": {},
   "outputs": [],
   "source": [
    "class TargetEncoder(nn.Module):\n",
    "    def __init__(self, arg_embedding_dim):\n",
    "        super(TargetEncoder, self).__init__()\n",
    "        self.embedding_dim = arg_embedding_dim\n",
    "        self.n_kernels = [10, 10, 10]\n",
    "        self.kernel_sizes = [1, 2, 3]\n",
    "        self.convs = nn.ModuleList([\n",
    "            nn.Conv1d(\n",
    "                in_channels=arg_embedding_dim, \n",
    "                out_channels=self.n_kernels[i], \n",
    "                kernel_size=self.kernel_sizes[i], \n",
    "                padding=0\n",
    "            )\n",
    "            for i in range(len(self.kernel_sizes))\n",
    "        ])\n",
    "        self.pools = nn.ModuleList([\n",
    "            nn.MaxPool1d(\n",
    "                kernel_size=(\n",
    "                    len(NODE_KEY_LIST)+1-self.kernel_sizes[i],\n",
    "                ), \n",
    "                padding=0\n",
    "            )\n",
    "            for i in range(len(self.kernel_sizes))\n",
    "        ])\n",
    "        self.linear = nn.Linear(sum(self.n_kernels), arg_embedding_dim)\n",
    "        \n",
    "    # input a batch of sequences (high-dimensional)\n",
    "    # arg_seqs: (B=1, ??, len(NODE_KEY_LIST), embedding_dim)\n",
    "    # ??=1 since it's encoding a target\n",
    "    def forward(self, arg_seqs):\n",
    "        B = arg_seqs.shape[0]\n",
    "        tmpn_nodes = arg_seqs.shape[1]\n",
    "        tmp_dim0 = B * tmpn_nodes\n",
    "        assert B==1\n",
    "        assert tmpn_nodes==1\n",
    "        # action nodes are encoded separately, so change the view first\n",
    "        # (dim0, len(NODE_KEY_LIST), embedding_dim)\n",
    "        # -> (dim0, embedding_dim, len(NODE_KEY_LIST))\n",
    "        tmp0 = arg_seqs.view(tmp_dim0, len(NODE_KEY_LIST), self.embedding_dim).transpose(1,2)\n",
    "        # (dim0, n_kernels, len(NODE_KEY_LIST)-i)\n",
    "        tmp1s = [\n",
    "            F.relu(self.convs[i](tmp0))\n",
    "            for i in range(len(self.convs))\n",
    "        ]\n",
    "        # (dim0, n_kernels, 1)\n",
    "        tmp2s = [\n",
    "            self.pools[i](tmp1s[i])\n",
    "            for i in range(len(tmp1s))\n",
    "        ]\n",
    "        # (dim0, n_kernels)\n",
    "        tmp3s = [\n",
    "            tmp2s[i].view(tmp_dim0, self.n_kernels[i])\n",
    "            for i in range(len(tmp2s))\n",
    "        ]\n",
    "        tmp4 = torch.cat(tmp3s, 1) # (dim0, sum(n_kernels))\n",
    "        tmp5 = F.relu(self.linear(tmp4)) # (dim0, embedding_dim)\n",
    "        tmp6 = tmp5.view(B, tmpn_nodes, self.embedding_dim) # (B=1, ??, embedding_dim)\n",
    "        return tmp6"
   ]
  },
  {
   "cell_type": "code",
   "execution_count": 8,
   "metadata": {},
   "outputs": [],
   "source": [
    "# note: ActionEncoder is actually encoding a list of actions\n",
    "#       not a single action\n",
    "class ActionEncoder(nn.Module):\n",
    "    def __init__(self, arg_embedding_dim):\n",
    "        super(ActionEncoder, self).__init__()\n",
    "        self.embedding_dim = arg_embedding_dim\n",
    "        self.n_kernels = [10, 10, 10]\n",
    "        self.kernel_sizes = [1, 2, 3]\n",
    "        self.convs = nn.ModuleList([\n",
    "            nn.Conv1d(\n",
    "                in_channels=arg_embedding_dim, \n",
    "                out_channels=self.n_kernels[i], \n",
    "                kernel_size=self.kernel_sizes[i], \n",
    "                padding=0\n",
    "            )\n",
    "            for i in range(len(self.kernel_sizes))\n",
    "        ])\n",
    "        self.pools = nn.ModuleList([\n",
    "            nn.MaxPool1d(\n",
    "                kernel_size=(\n",
    "                    len(NODE_KEY_LIST)+1-self.kernel_sizes[i],\n",
    "                ), \n",
    "                padding=0\n",
    "            )\n",
    "            for i in range(len(self.kernel_sizes))\n",
    "        ])\n",
    "        self.linear = nn.Linear(sum(self.n_kernels), arg_embedding_dim)\n",
    "        \n",
    "    # input a batch of sequences (high-dimensional)\n",
    "    # arg_seqs: (B=1, ??, len(NODE_KEY_LIST), embedding_dim)\n",
    "    # ??=others since it's encoding an action list\n",
    "    def forward(self, arg_seqs):\n",
    "        B = arg_seqs.shape[0]\n",
    "        tmpn_nodes = arg_seqs.shape[1]\n",
    "        tmp_dim0 = B * tmpn_nodes\n",
    "        assert B==1\n",
    "        # action nodes are encoded separately, so change the view first\n",
    "        # (dim0, len(NODE_KEY_LIST), embedding_dim)\n",
    "        # -> (dim0, embedding_dim, len(NODE_KEY_LIST))\n",
    "        tmp0 = arg_seqs.view(tmp_dim0, len(NODE_KEY_LIST), self.embedding_dim).transpose(1,2)\n",
    "        # (dim0, n_kernels, len(NODE_KEY_LIST)-i)\n",
    "        tmp1s = [\n",
    "            F.relu(self.convs[i](tmp0))\n",
    "            for i in range(len(self.convs))\n",
    "        ]\n",
    "        # (dim0, n_kernels, 1)\n",
    "        tmp2s = [\n",
    "            self.pools[i](tmp1s[i])\n",
    "            for i in range(len(tmp1s))\n",
    "        ]\n",
    "        # (dim0, n_kernels)\n",
    "        tmp3s = [\n",
    "            tmp2s[i].view(tmp_dim0, self.n_kernels[i])\n",
    "            for i in range(len(tmp2s))\n",
    "        ]\n",
    "        tmp4 = torch.cat(tmp3s, 1) # (dim0, sum(n_kernels))\n",
    "        # tmp5 = F.relu(self.linear(tmp4)) # (dim0, embedding_dim)\n",
    "        tmp5 = torch.sigmoid(self.linear(tmp4)) # (dim0, embedding_dim)\n",
    "        tmp6 = tmp5.view(B, tmpn_nodes, self.embedding_dim) # (B=1, ??, embedding_dim)\n",
    "        return tmp6"
   ]
  },
  {
   "cell_type": "code",
   "execution_count": 9,
   "metadata": {},
   "outputs": [],
   "source": [
    "class NeuralAgent(nn.Module):\n",
    "    def __init__(self, arg_embedding_dim):\n",
    "        super(NeuralAgent, self).__init__()\n",
    "        self.embedding_dim = arg_embedding_dim\n",
    "        self.universal_token_encoder = UniversalTokenEncoder(arg_embedding_dim)\n",
    "        self.state_encoder = StateEncoder(arg_embedding_dim)\n",
    "        self.target_encoder = TargetEncoder(arg_embedding_dim)\n",
    "        self.action_encoder = ActionEncoder(arg_embedding_dim)\n",
    "        \n",
    "        self.hidden0 = nn.Linear(arg_embedding_dim*2, arg_embedding_dim)\n",
    "        \n",
    "    # arg_state: (B=1, ??=MAXN_STATE_NODES, len(NODE_KEY_LIST), MAX_TOKEN_LENGTH)\n",
    "    # arg_target: (B=1, ??=1, len(NODE_KEY_LIST), MAX_TOKEN_LENGTH)\n",
    "    def compute_preference(self, arg_state, arg_target):\n",
    "        B_state = arg_state.shape[0]\n",
    "        B_target = arg_target.shape[0]\n",
    "        assert B_state==1\n",
    "        assert B_target==1\n",
    "        \n",
    "        # fixme: only support 1 target at a time\n",
    "        n_targets = arg_target.shape[1]\n",
    "        assert n_targets==1 \n",
    "        \n",
    "        tmp0_state = self.universal_token_encoder(arg_state) # (B=1, ??, len(NODE_KEY_LIST), embedding_dim)\n",
    "        tmp0_target = self.universal_token_encoder(arg_target) # (B=1, ??, len(NODE_KEY_LIST), embedding_dim)\n",
    "        tmp1_state = self.state_encoder(tmp0_state) # (B=1, embedding_dim)\n",
    "        tmp1_target = self.target_encoder(tmp0_target) # (B=1, ??, embedding_dim)\n",
    "        tmp2_state = tmp1_state\n",
    "        \n",
    "        # fixme: only support 1 target at a time\n",
    "        tmp2_target = tmp1_target.view(B_target, self.embedding_dim) # (B=1, embedding_dim)\n",
    "        \n",
    "        tmp3 = torch.cat([tmp2_state, tmp2_target], 1) # (B=1, embedding_dim * 2)\n",
    "        tmp4 = torch.sigmoid(self.hidden0(tmp3)) # (B=1, embedding_dim)\n",
    "        return tmp4\n",
    "\n",
    "    # arg_action: (B=1, ??=others, len(NODE_KEY_LIST), MAX_TOKEN_LENGTH)\n",
    "    def encode_action_list(self, arg_action):\n",
    "        B = arg_action.shape[0]\n",
    "        tmp0 = self.universal_token_encoder(arg_action) # (B=1, ??, len(NODE_KEY_LIST), embedding_dim)\n",
    "        tmp1 = self.action_encoder(tmp0) # (B=1, ??, embedding_dim)\n",
    "        return tmp1"
   ]
  },
  {
   "cell_type": "markdown",
   "metadata": {},
   "source": [
    "## Pipeline Utils"
   ]
  },
  {
   "cell_type": "code",
   "execution_count": 10,
   "metadata": {},
   "outputs": [],
   "source": [
    "def get_reward0(arg_env, arg_wtg, arg_state):\n",
    "    # (fixme) assume size is 3, you can also fix later\n",
    "    # need to call these two methods first\n",
    "    arg_env.get_available_actionable_elements(arg_env.get_current_state())\n",
    "    # then you can safely use wtg functions\n",
    "    tmp_computable_wtg = arg_wtg.wtg_graph\n",
    "    tmp_current_nodes = arg_env.get_wtg_state(arg_wtg) # could be a list\n",
    "    tmp_goal_edges = arg_wtg.get_goal_edges() # could be a list\n",
    "    print(\"# current nodes: {}\".format(tmp_current_nodes))\n",
    "    print(\"# goal edges: {}\".format(tmp_goal_edges))\n",
    "    # then try to compute the lengths of shortest path\n",
    "    tmp_lsps = []\n",
    "    for a in tmp_current_nodes:\n",
    "        for b in tmp_goal_edges:\n",
    "            tmp_lsps.append( nx.shortest_path_length(tmp_computable_wtg, a, b[1]) ) # for edge, take the tgt node\n",
    "    avg_lsp = sum(tmp_lsps)/len(tmp_lsps)\n",
    "    # return 3.0 - avg_lsp\n",
    "    return -avg_lsp"
   ]
  },
  {
   "cell_type": "code",
   "execution_count": 11,
   "metadata": {},
   "outputs": [],
   "source": [
    "# 1. roll out an action sequence\n",
    "# 2. compute reward\n",
    "# 3. policy gradient back propagation\n",
    "def rollout(arg_env, arg_wtg, arg_agent, arg_optimizer, arg_maxn_steps, arg_target, arg_ep):\n",
    "    # note: remember to clear the state\n",
    "    arg_env.launch_app()\n",
    "    \n",
    "    rollout_outputs = []\n",
    "    rollout_actions = []\n",
    "    rollout_action_ids = []\n",
    "    final_reward = 0.0\n",
    "    \n",
    "#     print(\"stub 0\")\n",
    "    \n",
    "    for i in range(arg_maxn_steps):\n",
    "        time.sleep(1)\n",
    "        state_i = arg_env.get_current_state()\n",
    "        \n",
    "        action_list = arg_env.get_available_actionable_elements(state_i)\n",
    "        n_actions = len(action_list)\n",
    "        if n_actions == 0:\n",
    "            print(\"# no action is found, terminate.\")\n",
    "            # penalty\n",
    "            final_reward = -3\n",
    "            # no available actions any more\n",
    "            break\n",
    "          \n",
    "        # print(\"stub 1\")\n",
    "        # should wrap [] to make B=1\n",
    "        # (B=1, ??=MAXN_STATE_NODES, len(NODE_KEY_LIST), MAX_TOKEN_LENGTH)\n",
    "        state_matrix_i = np.asarray([get_state_matrix(state_i)])\n",
    "        # (B=1, ??=1, len(NODE_KEY_LIST), MAX_TOKEN_LENGTH)\n",
    "        target_matrix_i = np.asarray([[\n",
    "            get_sentence_vector(arg_target)\n",
    "        ]])\n",
    "        # (B=1, ??=others, len(NODE_KEY_LIST), MAX_TOKEN_LENGTH)\n",
    "        action_matrix_i = np.asarray([[\n",
    "            get_element_vector(action_list[j])\n",
    "            for j in range(len(action_list))\n",
    "        ]])\n",
    "        \n",
    "#         print(\"state: {}\".format(state_matrix_i.shape))\n",
    "#         print(\"target: {}\".format(target_matrix_i.shape))\n",
    "#         print(\"action: {}\".format(action_matrix_i.shape))\n",
    "        \n",
    "        t_state = Variable(torch.tensor(state_matrix_i, dtype=torch.long).to(device))\n",
    "        t_target = Variable(torch.tensor(target_matrix_i, dtype=torch.long).to(device))\n",
    "        t_action = Variable(torch.tensor(action_matrix_i, dtype=torch.long).to(device))\n",
    "        \n",
    "        B_state = t_state.shape[0]\n",
    "        B_target = t_target.shape[0]\n",
    "        B_action = t_action.shape[0]\n",
    "        assert B_state==1\n",
    "        assert B_target==1\n",
    "        assert B_action==1\n",
    "#         print(\"stub 2\")\n",
    "        \n",
    "        arg_agent.train()\n",
    "#         print(\"stub 2.1\")\n",
    "        tout_preference = arg_agent.compute_preference(t_state, t_target) # (B=1, embedding_dim)\n",
    "#         print(\"stub 2.2\")\n",
    "        tout_action = arg_agent.encode_action_list(t_action) # (B=1, ??, embedding_dim)\n",
    "#         print(\"stub 3\")\n",
    "        \n",
    "#         print(\"tout_preference.shape={}\".format(tout_preference.shape))\n",
    "#         print(\"tout_action.shape={}\".format(tout_action.shape))\n",
    "        \n",
    "        # ====> using cosine similarity\n",
    "        # (n_actions, spec_dims)\n",
    "        # t0_output = t_output.expand_as(t_pool)\n",
    "        # t_cos = F.cosine_similarity(t0_output, t_pool, dim=1)\n",
    "        # t_act = F.log_softmax(t_cos, dim=0)\n",
    "        # ====> directly mm similarity\n",
    "        # note: assuming B=1 already\n",
    "        tout0_preference = tout_preference.view(-1,1) # (embedding_dim, 1)\n",
    "        tout0_action = tout_action.view(-1, EMBEDDING_DIM) # (n_actions, embedding_dim)\n",
    "        tout0_mm = torch.mm(tout0_action, tout0_preference)  # (n_actions, 1)\n",
    "        tout1_mm = tout0_mm.view(-1) # (n_actions,)\n",
    "        tout2_mm = F.log_softmax(tout1_mm)\n",
    "#         print(\"# tout2_mm: {}\".format(tout2_mm))\n",
    "#         print(\"stub 4\")\n",
    "        \n",
    "        if random.random()<max(0.1, 1.0-ep/20):\n",
    "            # explore\n",
    "            selected_action_id = random.choice(list(range(len(action_list))))\n",
    "            print(\"# [explore] selected_action_id (rnd): {}, log-sim: {}\".format(selected_action_id, tout2_mm[selected_action_id]))\n",
    "        else:\n",
    "            # exploit\n",
    "            probs = tout2_mm.exp().tolist()\n",
    "            selected_action_id = np.argmax(probs)\n",
    "            # selected_action_id = torch.argmax(tout2_mm, dim=0).tolist()\n",
    "            print(\"# [exploit] selected_action_id (mul): {}, log-sim: {}\".format(selected_action_id, tout2_mm[selected_action_id]))\n",
    "#         else:\n",
    "#             # exploit\n",
    "#             probs = tout2_mm.exp().tolist()\n",
    "#             selected_action_id = random.choices(list(range(len(action_list))), weights=probs, k=1)[0]\n",
    "#             # selected_action_id = torch.argmax(tout2_mm, dim=0).tolist()\n",
    "#             print(\"# [exploit] selected_action_id (mul): {}, log-sim: {}\".format(selected_action_id, tout2_mm[selected_action_id]))\n",
    "        \n",
    "        # perform action\n",
    "        arg_env.perform_action(action_list[selected_action_id])\n",
    "        next_state = arg_env.get_current_state()\n",
    "        dreward = get_reward0(arg_env, arg_wtg, next_state)\n",
    "        # dreward = 0.0\n",
    "        print(\"  # r: {}\".format(dreward))\n",
    "        final_reward += dreward\n",
    "        \n",
    "        # store the choices\n",
    "        rollout_outputs.append(tout2_mm)\n",
    "        rollout_actions.append(action_list)\n",
    "        rollout_action_ids.append(selected_action_id)\n",
    "        \n",
    "        # input(\"PAUSE\")\n",
    "        \n",
    "#     # here we use the final reward as the cumulative reward\n",
    "#     final_state = arg_env.get_current_state()\n",
    "#     # test whether goal states are reached\n",
    "#     rlist = arg_env.get_reached_goal_states(\"train\")\n",
    "#     print(\"# final reward000: {}\".format(final_reward))\n",
    "#     if len(rlist)>0:\n",
    "#         print(\"# goal state: {}\".format(rlist))\n",
    "\n",
    "#     print(\"# final reward: {}\".format(final_reward))\n",
    "    \n",
    "#     rollout_loss = []\n",
    "#     current_reward = final_reward\n",
    "#     # reverse from the last to first\n",
    "#     for i in range(len(rollout_outputs))[::-1]:\n",
    "#         rollout_loss.append( current_reward * (-rollout_outputs[i][rollout_action_ids[i]]) )\n",
    "#         current_reward *= 0.8 # decay\n",
    "#     rollout_loss = rollout_loss[::-1]\n",
    "    \n",
    "#     optimizer.zero_grad()\n",
    "#     loss = sum(rollout_loss)\n",
    "#     loss.backward()\n",
    "#     optimizer.step()\n",
    "        \n",
    "        "
   ]
  },
  {
   "cell_type": "code",
   "execution_count": null,
   "metadata": {},
   "outputs": [],
   "source": []
  },
  {
   "cell_type": "markdown",
   "metadata": {},
   "source": [
    "## Top-Level Control Flow"
   ]
  },
  {
   "cell_type": "code",
   "execution_count": null,
   "metadata": {},
   "outputs": [
    {
     "name": "stdout",
     "output_type": "stream",
     "text": [
      "\u001b[36m[#] Analysis started at: 2021-07-29 02:32:48 PM\u001b[0m\n"
     ]
    },
    {
     "name": "stderr",
     "output_type": "stream",
     "text": [
      "[INFO] | 2021-07-29 02:32:48 PM | analyzer.testapp_1 | Adb is running with root priviledges now!\n",
      "[INFO] | 2021-07-29 02:32:48 PM | analyzer.testapp_1 | Old logcat messages cleared!\n"
     ]
    }
   ],
   "source": [
    "from main import *\n",
    "\n",
    "CURR_DIR = os.path.dirname(os.getcwd())\n",
    "OUTPUT_DIR = os.path.join(CURR_DIR, \"results\")\n",
    "\n",
    "args = {\n",
    "    \"path\": \"../results/test_app_1/testapp_1.apk\",\n",
    "#     \"path\": \"../results/test_app_2/testapp_2.apk\",\n",
    "#     \"path\": \"../test/com.github.cetoolbox_11/app_simple0.apk\",\n",
    "#     \"path\": \"/Users/joseph/Desktop/UCSB/20summer/MarthaEnv/tmp/Wordpress_394/Wordpress_394.apk\",\n",
    "#     \"path\": \"/Users/joseph/Desktop/UCSB/20summer/MarthaEnv/tmp/com.zoffcc.applications.aagtl_31/com.zoffcc.applications.aagtl_31.apk\",\n",
    "#     \"path\": \"/Users/joseph/Desktop/UCSB/20summer/MarthaEnv/tmp/Translate/Translate.apk\",\n",
    "#     \"path\": \"/Users/joseph/Desktop/UCSB/20summer/MarthaEnv/tmp/com.chmod0.manpages_3/com.chmod0.manpages_3.apk\",\n",
    "#     \"path\": \"/Users/joseph/Desktop/UCSB/20summer/MarthaEnv/tmp/Book-Catalogue/Book-Catalogue.apk\",\n",
    "#     \"path\": \"/Users/joseph/Desktop/UCSB/20summer/MarthaEnv/test/out.andFHEM.apk\",\n",
    "#     \"path\": \"/Users/joseph/Desktop/UCSB/20summer/MarthaEnv/test/out.blue-chat.apk\",\n",
    "#     \"path\": \"/Users/joseph/Desktop/UCSB/20summer/MarthaEnv/test/out.CallMeter3G-debug.apk\",\n",
    "#     \"path\": \"/Users/joseph/Desktop/UCSB/20summer/MarthaEnv/test/out.Lucid-Browser.apk\",\n",
    "    \"output\": \"../results/\",\n",
    "    \"wtginput\": \"../results/test_app_2/\",\n",
    "    \"goalstates\": \"../results/test_app_2/goals_caller.json\",\n",
    "}\n",
    "\n",
    "if args[\"path\"] is not None:\n",
    "    pyaxmlparser_apk = APK(args[\"path\"])\n",
    "    apk_base_name = os.path.splitext(os.path.basename(args[\"path\"]))[0]\n",
    "else:\n",
    "    parser.print_usage()\n",
    "    sys.exit(1)\n",
    "    \n",
    "goal_states = {}\n",
    "if args[\"goalstates\"] is not None:\n",
    "    with open(args[\"goalstates\"], 'r') as fp:\n",
    "        goal_states = json.load(fp)\n",
    "\n",
    "else:\n",
    "    parser.print_usage()\n",
    "    sys.exit(1)\n",
    "\n",
    "if args[\"output\"] is not None:\n",
    "    OUTPUT_DIR = args[\"output\"]\n",
    "\n",
    "output_dir = os.path.join(OUTPUT_DIR, 'exploration_output', apk_base_name)\n",
    "\n",
    "wtg = None\n",
    "if args[\"wtginput\"]:\n",
    "    wtg = args[\"wtginput\"] #os.path.join(args.wtginput, apk_base_name)\n",
    "\n",
    "if os.path.exists(output_dir):\n",
    "    rmtree(output_dir)\n",
    "\n",
    "os.makedirs(output_dir, exist_ok=True)\n",
    "\n",
    "# Setting the path for log file\n",
    "log_path = os.path.join(output_dir, 'analysis.log')\n",
    "log = init_logging('analyzer.%s' % apk_base_name, log_path, file_mode='w', console=True)\n",
    "\n",
    "# Record analysis start time\n",
    "now = datetime.datetime.now()\n",
    "analysis_start_time = now.strftime(DATE_FORMAT)\n",
    "info('Analysis started at: %s' % analysis_start_time)\n",
    "start_time = time.time()\n",
    "\n",
    "# Get the serial for the device attached to ADB\n",
    "device_serial = get_device_serial(log)\n",
    "\n",
    "if device_serial is None:\n",
    "    log.warning(\"Device is not connected!\")\n",
    "    sys.exit(1)\n",
    "\n",
    "# Initialize the uiautomator device object using the device serial\n",
    "uiautomator_device = u2.connect(device_serial)\n",
    "run_adb_as_root(log, device_serial)\n",
    "apk_obj = Apk(args[\"path\"], uiautomator_device, output_dir, log, device_serial)\n",
    "wtg_obj = WTG(wtg, log)\n",
    "wtg_obj.set_goal_nodes(goal_states)\n",
    "apk_obj.launch_app()\n",
    "# to track some goal state at startup, you don't have to do this\n",
    "apk_obj.clean_logcat()"
   ]
  },
  {
   "cell_type": "code",
   "execution_count": 13,
   "metadata": {
    "scrolled": true
   },
   "outputs": [
    {
     "name": "stderr",
     "output_type": "stream",
     "text": [
      "[INFO] | 2021-07-28 11:41:51 PM | analyzer.testapp_1 | Kill the current app if already spawned!\n",
      "[INFO] | 2021-07-28 11:41:51 PM | analyzer.testapp_1 | APK is already killed\n",
      "[INFO] | 2021-07-28 11:41:51 PM | analyzer.testapp_1 | Spawning the current app\n"
     ]
    },
    {
     "name": "stdout",
     "output_type": "stream",
     "text": [
      "# ep0, time elapsed: 8.893013000488281e-05\n"
     ]
    },
    {
     "name": "stderr",
     "output_type": "stream",
     "text": [
      "[INFO] | 2021-07-28 11:41:52 PM | analyzer.testapp_1 | Apk spawned successfully!\n",
      "<ipython-input-11-38ca08eb5556>:79: UserWarning: Implicit dimension choice for log_softmax has been deprecated. Change the call to include dim=X as an argument.\n",
      "  tout2_mm = F.log_softmax(tout1_mm)\n"
     ]
    },
    {
     "name": "stdout",
     "output_type": "stream",
     "text": [
      "# [explore] selected_action_id (rnd): 4, log-sim: -1.7934437990188599\n",
      "# current nodes: []\n",
      "# goal edges: [(<wtg_node.WTGNode object at 0x7ff7b90b9610>, <wtg_node.WTGNode object at 0x7ff7b90b95b0>, 0)]\n"
     ]
    },
    {
     "ename": "ZeroDivisionError",
     "evalue": "division by zero",
     "output_type": "error",
     "traceback": [
      "\u001b[0;31m---------------------------------------------------------------------------\u001b[0m",
      "\u001b[0;31mZeroDivisionError\u001b[0m                         Traceback (most recent call last)",
      "\u001b[0;32m<ipython-input-13-0fe6d120d098>\u001b[0m in \u001b[0;36m<module>\u001b[0;34m\u001b[0m\n\u001b[1;32m      7\u001b[0m \u001b[0;32mfor\u001b[0m \u001b[0mep\u001b[0m \u001b[0;32min\u001b[0m \u001b[0mrange\u001b[0m\u001b[0;34m(\u001b[0m\u001b[0;36m100000\u001b[0m\u001b[0;34m)\u001b[0m\u001b[0;34m:\u001b[0m\u001b[0;34m\u001b[0m\u001b[0;34m\u001b[0m\u001b[0m\n\u001b[1;32m      8\u001b[0m     \u001b[0mprint\u001b[0m\u001b[0;34m(\u001b[0m\u001b[0;34m\"# ep{}, time elapsed: {}\"\u001b[0m\u001b[0;34m.\u001b[0m\u001b[0mformat\u001b[0m\u001b[0;34m(\u001b[0m\u001b[0mep\u001b[0m\u001b[0;34m,\u001b[0m \u001b[0mtime\u001b[0m\u001b[0;34m.\u001b[0m\u001b[0mtime\u001b[0m\u001b[0;34m(\u001b[0m\u001b[0;34m)\u001b[0m\u001b[0;34m-\u001b[0m\u001b[0mst\u001b[0m\u001b[0;34m)\u001b[0m\u001b[0;34m)\u001b[0m\u001b[0;34m\u001b[0m\u001b[0;34m\u001b[0m\u001b[0m\n\u001b[0;32m----> 9\u001b[0;31m     \u001b[0mrollout\u001b[0m\u001b[0;34m(\u001b[0m\u001b[0mapk_obj\u001b[0m\u001b[0;34m,\u001b[0m \u001b[0mwtg_obj\u001b[0m\u001b[0;34m,\u001b[0m \u001b[0mneural_agent\u001b[0m\u001b[0;34m,\u001b[0m \u001b[0moptimizer\u001b[0m\u001b[0;34m,\u001b[0m \u001b[0mnsteps\u001b[0m\u001b[0;34m,\u001b[0m \u001b[0mtarget\u001b[0m\u001b[0;34m,\u001b[0m \u001b[0mep\u001b[0m\u001b[0;34m)\u001b[0m\u001b[0;34m\u001b[0m\u001b[0;34m\u001b[0m\u001b[0m\n\u001b[0m\u001b[1;32m     10\u001b[0m \u001b[0;31m#     random_rollout(apk_obj, nsteps, target)\u001b[0m\u001b[0;34m\u001b[0m\u001b[0;34m\u001b[0m\u001b[0;34m\u001b[0m\u001b[0m\n",
      "\u001b[0;32m<ipython-input-11-38ca08eb5556>\u001b[0m in \u001b[0;36mrollout\u001b[0;34m(arg_env, arg_wtg, arg_agent, arg_optimizer, arg_maxn_steps, arg_target, arg_ep)\u001b[0m\n\u001b[1;32m    101\u001b[0m         \u001b[0marg_env\u001b[0m\u001b[0;34m.\u001b[0m\u001b[0mperform_action\u001b[0m\u001b[0;34m(\u001b[0m\u001b[0maction_list\u001b[0m\u001b[0;34m[\u001b[0m\u001b[0mselected_action_id\u001b[0m\u001b[0;34m]\u001b[0m\u001b[0;34m)\u001b[0m\u001b[0;34m\u001b[0m\u001b[0;34m\u001b[0m\u001b[0m\n\u001b[1;32m    102\u001b[0m         \u001b[0mnext_state\u001b[0m \u001b[0;34m=\u001b[0m \u001b[0marg_env\u001b[0m\u001b[0;34m.\u001b[0m\u001b[0mget_current_state\u001b[0m\u001b[0;34m(\u001b[0m\u001b[0;34m)\u001b[0m\u001b[0;34m\u001b[0m\u001b[0;34m\u001b[0m\u001b[0m\n\u001b[0;32m--> 103\u001b[0;31m         \u001b[0mdreward\u001b[0m \u001b[0;34m=\u001b[0m \u001b[0mget_reward0\u001b[0m\u001b[0;34m(\u001b[0m\u001b[0marg_env\u001b[0m\u001b[0;34m,\u001b[0m \u001b[0marg_wtg\u001b[0m\u001b[0;34m,\u001b[0m \u001b[0mnext_state\u001b[0m\u001b[0;34m)\u001b[0m\u001b[0;34m\u001b[0m\u001b[0;34m\u001b[0m\u001b[0m\n\u001b[0m\u001b[1;32m    104\u001b[0m         \u001b[0;31m# dreward = 0.0\u001b[0m\u001b[0;34m\u001b[0m\u001b[0;34m\u001b[0m\u001b[0;34m\u001b[0m\u001b[0m\n\u001b[1;32m    105\u001b[0m         \u001b[0mprint\u001b[0m\u001b[0;34m(\u001b[0m\u001b[0;34m\"  # r: {}\"\u001b[0m\u001b[0;34m.\u001b[0m\u001b[0mformat\u001b[0m\u001b[0;34m(\u001b[0m\u001b[0mdreward\u001b[0m\u001b[0;34m)\u001b[0m\u001b[0;34m)\u001b[0m\u001b[0;34m\u001b[0m\u001b[0;34m\u001b[0m\u001b[0m\n",
      "\u001b[0;32m<ipython-input-10-f23a29c349cd>\u001b[0m in \u001b[0;36mget_reward0\u001b[0;34m(arg_env, arg_wtg, arg_state)\u001b[0m\n\u001b[1;32m     14\u001b[0m         \u001b[0;32mfor\u001b[0m \u001b[0mb\u001b[0m \u001b[0;32min\u001b[0m \u001b[0mtmp_goal_edges\u001b[0m\u001b[0;34m:\u001b[0m\u001b[0;34m\u001b[0m\u001b[0;34m\u001b[0m\u001b[0m\n\u001b[1;32m     15\u001b[0m             \u001b[0mtmp_lsps\u001b[0m\u001b[0;34m.\u001b[0m\u001b[0mappend\u001b[0m\u001b[0;34m(\u001b[0m \u001b[0mnx\u001b[0m\u001b[0;34m.\u001b[0m\u001b[0mshortest_path_length\u001b[0m\u001b[0;34m(\u001b[0m\u001b[0mtmp_computable_wtg\u001b[0m\u001b[0;34m,\u001b[0m \u001b[0ma\u001b[0m\u001b[0;34m,\u001b[0m \u001b[0mb\u001b[0m\u001b[0;34m[\u001b[0m\u001b[0;36m1\u001b[0m\u001b[0;34m]\u001b[0m\u001b[0;34m)\u001b[0m \u001b[0;34m)\u001b[0m \u001b[0;31m# for edge, take the tgt node\u001b[0m\u001b[0;34m\u001b[0m\u001b[0;34m\u001b[0m\u001b[0m\n\u001b[0;32m---> 16\u001b[0;31m     \u001b[0mavg_lsp\u001b[0m \u001b[0;34m=\u001b[0m \u001b[0msum\u001b[0m\u001b[0;34m(\u001b[0m\u001b[0mtmp_lsps\u001b[0m\u001b[0;34m)\u001b[0m\u001b[0;34m/\u001b[0m\u001b[0mlen\u001b[0m\u001b[0;34m(\u001b[0m\u001b[0mtmp_lsps\u001b[0m\u001b[0;34m)\u001b[0m\u001b[0;34m\u001b[0m\u001b[0;34m\u001b[0m\u001b[0m\n\u001b[0m\u001b[1;32m     17\u001b[0m     \u001b[0;31m# return 3.0 - avg_lsp\u001b[0m\u001b[0;34m\u001b[0m\u001b[0;34m\u001b[0m\u001b[0;34m\u001b[0m\u001b[0m\n\u001b[1;32m     18\u001b[0m     \u001b[0;32mreturn\u001b[0m \u001b[0;34m-\u001b[0m\u001b[0mavg_lsp\u001b[0m\u001b[0;34m\u001b[0m\u001b[0;34m\u001b[0m\u001b[0m\n",
      "\u001b[0;31mZeroDivisionError\u001b[0m: division by zero"
     ]
    }
   ],
   "source": [
    "nsteps = 3\n",
    "neural_agent = NeuralAgent(EMBEDDING_DIM).to(device)\n",
    "optimizer = torch.optim.SGD(neural_agent.parameters(), lr=0.1)\n",
    "target = [\"com\",\"example\",\"priyanka\",\"testapp\",\"BasicViewsActivity\",\"void\",\"goToMain\",\"android\",\"view\",\"View\"]\n",
    "target += [[\"\"]] * ( len(NODE_KEY_LIST)-len(target) )\n",
    "st = time.time()\n",
    "for ep in range(100000):\n",
    "    print(\"# ep{}, time elapsed: {}\".format(ep, time.time()-st))\n",
    "    rollout(apk_obj, wtg_obj, neural_agent, optimizer, nsteps, target, ep)\n",
    "#     random_rollout(apk_obj, nsteps, target)"
   ]
  },
  {
   "cell_type": "code",
   "execution_count": null,
   "metadata": {},
   "outputs": [],
   "source": []
  },
  {
   "cell_type": "code",
   "execution_count": 21,
   "metadata": {},
   "outputs": [
    {
     "data": {
      "text/plain": [
       "[]"
      ]
     },
     "execution_count": 21,
     "metadata": {},
     "output_type": "execute_result"
    }
   ],
   "source": [
    "apk_obj.get_reached_goal_states(\"train\")"
   ]
  },
  {
   "cell_type": "code",
   "execution_count": 13,
   "metadata": {},
   "outputs": [
    {
     "data": {
      "text/plain": [
       "'<?xml version=\\'1.0\\' encoding=\\'UTF-8\\' standalone=\\'yes\\' ?>\\r\\n<hierarchy rotation=\"0\">\\r\\n  <node index=\"0\" text=\"\" resource-id=\"com.android.systemui:id/navigation_bar_frame\" class=\"android.widget.FrameLayout\" package=\"com.android.systemui\" content-desc=\"\" checkable=\"false\" checked=\"false\" clickable=\"false\" enabled=\"true\" focusable=\"false\" focused=\"false\" scrollable=\"false\" long-clickable=\"false\" password=\"false\" selected=\"false\" visible-to-user=\"true\" bounds=\"[0,2088][1080,2220]\">\\r\\n    <node index=\"0\" text=\"\" resource-id=\"\" class=\"android.widget.FrameLayout\" package=\"com.android.systemui\" content-desc=\"\" checkable=\"false\" checked=\"false\" clickable=\"false\" enabled=\"true\" focusable=\"false\" focused=\"false\" scrollable=\"false\" long-clickable=\"false\" password=\"false\" selected=\"false\" visible-to-user=\"true\" bounds=\"[0,2088][1080,2220]\">\\r\\n      <node index=\"0\" text=\"\" resource-id=\"com.android.systemui:id/navigation_inflater\" class=\"android.widget.FrameLayout\" package=\"com.android.systemui\" content-desc=\"\" checkable=\"false\" checked=\"false\" clickable=\"false\" enabled=\"true\" focusable=\"false\" focused=\"false\" scrollable=\"false\" long-clickable=\"false\" password=\"false\" selected=\"false\" visible-to-user=\"true\" bounds=\"[0,2088][1080,2220]\">\\r\\n        <node index=\"0\" text=\"\" resource-id=\"com.android.systemui:id/rot0\" class=\"android.widget.FrameLayout\" package=\"com.android.systemui\" content-desc=\"\" checkable=\"false\" checked=\"false\" clickable=\"false\" enabled=\"true\" focusable=\"false\" focused=\"false\" scrollable=\"false\" long-clickable=\"false\" password=\"false\" selected=\"false\" visible-to-user=\"true\" bounds=\"[22,2088][1058,2220]\">\\r\\n          <node index=\"0\" text=\"\" resource-id=\"com.android.systemui:id/nav_buttons\" class=\"android.widget.FrameLayout\" package=\"com.android.systemui\" content-desc=\"\" checkable=\"false\" checked=\"false\" clickable=\"false\" enabled=\"true\" focusable=\"false\" focused=\"false\" scrollable=\"false\" long-clickable=\"false\" password=\"false\" selected=\"false\" visible-to-user=\"true\" bounds=\"[44,2088][1036,2220]\">\\r\\n            <node index=\"0\" text=\"\" resource-id=\"com.android.systemui:id/ends_group\" class=\"android.widget.LinearLayout\" package=\"com.android.systemui\" content-desc=\"\" checkable=\"false\" checked=\"false\" clickable=\"false\" enabled=\"true\" focusable=\"false\" focused=\"false\" scrollable=\"false\" long-clickable=\"false\" password=\"false\" selected=\"false\" visible-to-user=\"true\" bounds=\"[44,2088][1036,2220]\">\\r\\n              <node index=\"0\" text=\"\" resource-id=\"\" class=\"android.widget.RelativeLayout\" package=\"com.android.systemui\" content-desc=\"\" checkable=\"false\" checked=\"false\" clickable=\"false\" enabled=\"true\" focusable=\"false\" focused=\"false\" scrollable=\"false\" long-clickable=\"false\" password=\"false\" selected=\"false\" visible-to-user=\"true\" bounds=\"[44,2088][427,2220]\">\\r\\n                <node index=\"0\" text=\"\" resource-id=\"com.android.systemui:id/back\" class=\"android.widget.ImageView\" package=\"com.android.systemui\" content-desc=\"Back\" checkable=\"false\" checked=\"false\" clickable=\"true\" enabled=\"true\" focusable=\"true\" focused=\"false\" scrollable=\"false\" long-clickable=\"true\" password=\"false\" selected=\"false\" visible-to-user=\"true\" bounds=\"[125,2088][345,2220]\" />\\r\\n              </node>\\r\\n              <node index=\"1\" text=\"\" resource-id=\"\" class=\"android.widget.RelativeLayout\" package=\"com.android.systemui\" content-desc=\"\" checkable=\"false\" checked=\"false\" clickable=\"false\" enabled=\"true\" focusable=\"false\" focused=\"false\" scrollable=\"false\" long-clickable=\"false\" password=\"false\" selected=\"false\" visible-to-user=\"true\" bounds=\"[652,2088][1036,2220]\">\\r\\n                <node NAF=\"true\" index=\"0\" text=\"\" resource-id=\"com.android.systemui:id/menu_container\" class=\"android.widget.FrameLayout\" package=\"com.android.systemui\" content-desc=\"\" checkable=\"false\" checked=\"false\" clickable=\"true\" enabled=\"true\" focusable=\"true\" focused=\"false\" scrollable=\"false\" long-clickable=\"true\" password=\"false\" selected=\"false\" visible-to-user=\"true\" bounds=\"[734,2088][954,2220]\" />\\r\\n              </node>\\r\\n            </node>\\r\\n            <node index=\"1\" text=\"\" resource-id=\"com.android.systemui:id/center_group\" class=\"android.widget.LinearLayout\" package=\"com.android.systemui\" content-desc=\"\" checkable=\"false\" checked=\"false\" clickable=\"false\" enabled=\"true\" focusable=\"false\" focused=\"false\" scrollable=\"false\" long-clickable=\"false\" password=\"false\" selected=\"false\" visible-to-user=\"true\" bounds=\"[430,2088][650,2220]\">\\r\\n              <node index=\"0\" text=\"\" resource-id=\"com.android.systemui:id/home\" class=\"android.widget.ImageView\" package=\"com.android.systemui\" content-desc=\"Home\" checkable=\"false\" checked=\"false\" clickable=\"true\" enabled=\"true\" focusable=\"true\" focused=\"false\" scrollable=\"false\" long-clickable=\"true\" password=\"false\" selected=\"false\" visible-to-user=\"true\" bounds=\"[430,2088][650,2220]\" />\\r\\n            </node>\\r\\n          </node>\\r\\n        </node>\\r\\n      </node>\\r\\n    </node>\\r\\n  </node>\\r\\n  <node index=\"0\" text=\"\" resource-id=\"\" class=\"android.widget.FrameLayout\" package=\"com.example.priyanka.testapp\" content-desc=\"\" checkable=\"false\" checked=\"false\" clickable=\"false\" enabled=\"true\" focusable=\"false\" focused=\"false\" scrollable=\"false\" long-clickable=\"false\" password=\"false\" selected=\"false\" visible-to-user=\"true\" bounds=\"[0,0][1080,2088]\">\\r\\n    <node index=\"0\" text=\"\" resource-id=\"\" class=\"android.widget.LinearLayout\" package=\"com.example.priyanka.testapp\" content-desc=\"\" checkable=\"false\" checked=\"false\" clickable=\"false\" enabled=\"true\" focusable=\"false\" focused=\"false\" scrollable=\"false\" long-clickable=\"false\" password=\"false\" selected=\"false\" visible-to-user=\"true\" bounds=\"[0,0][1080,2088]\">\\r\\n      <node index=\"0\" text=\"\" resource-id=\"\" class=\"android.widget.FrameLayout\" package=\"com.example.priyanka.testapp\" content-desc=\"\" checkable=\"false\" checked=\"false\" clickable=\"false\" enabled=\"true\" focusable=\"false\" focused=\"false\" scrollable=\"false\" long-clickable=\"false\" password=\"false\" selected=\"false\" visible-to-user=\"true\" bounds=\"[0,66][1080,2088]\">\\r\\n        <node index=\"0\" text=\"\" resource-id=\"com.example.priyanka.testapp:id/decor_content_parent\" class=\"android.view.ViewGroup\" package=\"com.example.priyanka.testapp\" content-desc=\"\" checkable=\"false\" checked=\"false\" clickable=\"false\" enabled=\"true\" focusable=\"false\" focused=\"false\" scrollable=\"false\" long-clickable=\"false\" password=\"false\" selected=\"false\" visible-to-user=\"true\" bounds=\"[0,66][1080,2088]\">\\r\\n          <node index=\"0\" text=\"\" resource-id=\"com.example.priyanka.testapp:id/action_bar_container\" class=\"android.widget.FrameLayout\" package=\"com.example.priyanka.testapp\" content-desc=\"\" checkable=\"false\" checked=\"false\" clickable=\"false\" enabled=\"true\" focusable=\"false\" focused=\"false\" scrollable=\"false\" long-clickable=\"false\" password=\"false\" selected=\"false\" visible-to-user=\"true\" bounds=\"[0,66][1080,220]\">\\r\\n            <node index=\"0\" text=\"\" resource-id=\"com.example.priyanka.testapp:id/action_bar\" class=\"android.view.ViewGroup\" package=\"com.example.priyanka.testapp\" content-desc=\"\" checkable=\"false\" checked=\"false\" clickable=\"false\" enabled=\"true\" focusable=\"false\" focused=\"false\" scrollable=\"false\" long-clickable=\"false\" password=\"false\" selected=\"false\" visible-to-user=\"true\" bounds=\"[0,66][1080,220]\">\\r\\n              <node index=\"0\" text=\"testApp\" resource-id=\"\" class=\"android.widget.TextView\" package=\"com.example.priyanka.testapp\" content-desc=\"\" checkable=\"false\" checked=\"false\" clickable=\"false\" enabled=\"true\" focusable=\"false\" focused=\"false\" scrollable=\"false\" long-clickable=\"false\" password=\"false\" selected=\"false\" visible-to-user=\"true\" bounds=\"[44,106][236,180]\" />\\r\\n              <node index=\"1\" text=\"\" resource-id=\"\" class=\"android.support.v7.widget.LinearLayoutCompat\" package=\"com.example.priyanka.testapp\" content-desc=\"\" checkable=\"false\" checked=\"false\" clickable=\"false\" enabled=\"true\" focusable=\"false\" focused=\"false\" scrollable=\"false\" long-clickable=\"false\" password=\"false\" selected=\"false\" visible-to-user=\"true\" bounds=\"[969,66][1080,220]\">\\r\\n                <node index=\"0\" text=\"\" resource-id=\"\" class=\"android.widget.ImageView\" package=\"com.example.priyanka.testapp\" content-desc=\"More options\" checkable=\"false\" checked=\"false\" clickable=\"true\" enabled=\"true\" focusable=\"true\" focused=\"false\" scrollable=\"false\" long-clickable=\"true\" password=\"false\" selected=\"false\" visible-to-user=\"true\" bounds=\"[969,77][1080,209]\" />\\r\\n              </node>\\r\\n            </node>\\r\\n          </node>\\r\\n          <node index=\"1\" text=\"\" resource-id=\"android:id/content\" class=\"android.widget.FrameLayout\" package=\"com.example.priyanka.testapp\" content-desc=\"\" checkable=\"false\" checked=\"false\" clickable=\"false\" enabled=\"true\" focusable=\"false\" focused=\"false\" scrollable=\"false\" long-clickable=\"false\" password=\"false\" selected=\"false\" visible-to-user=\"true\" bounds=\"[0,220][1080,2088]\">\\r\\n            <node index=\"0\" text=\"\" resource-id=\"\" class=\"android.view.ViewGroup\" package=\"com.example.priyanka.testapp\" content-desc=\"\" checkable=\"false\" checked=\"false\" clickable=\"false\" enabled=\"true\" focusable=\"false\" focused=\"false\" scrollable=\"false\" long-clickable=\"false\" password=\"false\" selected=\"false\" visible-to-user=\"true\" bounds=\"[0,220][1080,2088]\">\\r\\n              <node index=\"0\" text=\"CLICKHANDLER\" resource-id=\"com.example.priyanka.testapp:id/button3\" class=\"android.widget.Button\" package=\"com.example.priyanka.testapp\" content-desc=\"\" checkable=\"false\" checked=\"false\" clickable=\"true\" enabled=\"true\" focusable=\"true\" focused=\"false\" scrollable=\"false\" long-clickable=\"false\" password=\"false\" selected=\"false\" visible-to-user=\"true\" bounds=\"[0,437][337,569]\" />\\r\\n              <node index=\"1\" text=\"ACT2\" resource-id=\"com.example.priyanka.testapp:id/button4\" class=\"android.widget.Button\" package=\"com.example.priyanka.testapp\" content-desc=\"\" checkable=\"false\" checked=\"false\" clickable=\"true\" enabled=\"true\" focusable=\"true\" focused=\"false\" scrollable=\"false\" long-clickable=\"false\" password=\"false\" selected=\"false\" visible-to-user=\"true\" bounds=\"[658,446][900,578]\" />\\r\\n              <node index=\"2\" text=\"DISPLAY MESSAGE\" resource-id=\"com.example.priyanka.testapp:id/button1\" class=\"android.widget.Button\" package=\"com.example.priyanka.testapp\" content-desc=\"\" checkable=\"false\" checked=\"false\" clickable=\"true\" enabled=\"true\" focusable=\"true\" focused=\"false\" scrollable=\"false\" long-clickable=\"false\" password=\"false\" selected=\"false\" visible-to-user=\"true\" bounds=\"[336,811][744,943]\" />\\r\\n              <node index=\"3\" text=\"DISPLAY VIEW\" resource-id=\"com.example.priyanka.testapp:id/button\" class=\"android.widget.Button\" package=\"com.example.priyanka.testapp\" content-desc=\"\" checkable=\"false\" checked=\"false\" clickable=\"true\" enabled=\"true\" focusable=\"true\" focused=\"false\" scrollable=\"false\" long-clickable=\"false\" password=\"false\" selected=\"false\" visible-to-user=\"true\" bounds=\"[384,1227][705,1359]\" />\\r\\n              <node index=\"4\" text=\"ACT3\" resource-id=\"com.example.priyanka.testapp:id/button5\" class=\"android.widget.Button\" package=\"com.example.priyanka.testapp\" content-desc=\"\" checkable=\"false\" checked=\"false\" clickable=\"true\" enabled=\"true\" focusable=\"true\" focused=\"false\" scrollable=\"false\" long-clickable=\"false\" password=\"false\" selected=\"false\" visible-to-user=\"true\" bounds=\"[443,1563][685,1695]\" />\\r\\n            </node>\\r\\n          </node>\\r\\n        </node>\\r\\n      </node>\\r\\n    </node>\\r\\n  </node>\\r\\n  <node index=\"0\" text=\"\" resource-id=\"\" class=\"android.widget.FrameLayout\" package=\"com.android.systemui\" content-desc=\"\" checkable=\"false\" checked=\"false\" clickable=\"false\" enabled=\"true\" focusable=\"false\" focused=\"false\" scrollable=\"false\" long-clickable=\"false\" password=\"false\" selected=\"false\" visible-to-user=\"true\" bounds=\"[0,0][1080,66]\">\\r\\n    <node index=\"0\" text=\"\" resource-id=\"com.android.systemui:id/scrim_in_front\" class=\"android.view.View\" package=\"com.android.systemui\" content-desc=\"\" checkable=\"false\" checked=\"false\" clickable=\"false\" enabled=\"true\" focusable=\"true\" focused=\"false\" scrollable=\"false\" long-clickable=\"false\" password=\"false\" selected=\"false\" visible-to-user=\"true\" bounds=\"[0,0][1080,66]\" />\\r\\n    <node index=\"1\" text=\"\" resource-id=\"com.android.systemui:id/scrim_behind\" class=\"android.view.View\" package=\"com.android.systemui\" content-desc=\"\" checkable=\"false\" checked=\"false\" clickable=\"false\" enabled=\"true\" focusable=\"true\" focused=\"false\" scrollable=\"false\" long-clickable=\"false\" password=\"false\" selected=\"false\" visible-to-user=\"true\" bounds=\"[0,0][1080,66]\" />\\r\\n    <node index=\"2\" text=\"\" resource-id=\"com.android.systemui:id/status_bar_container\" class=\"android.widget.FrameLayout\" package=\"com.android.systemui\" content-desc=\"\" checkable=\"false\" checked=\"false\" clickable=\"false\" enabled=\"true\" focusable=\"false\" focused=\"false\" scrollable=\"false\" long-clickable=\"false\" password=\"false\" selected=\"false\" visible-to-user=\"true\" bounds=\"[0,0][1080,66]\">\\r\\n      <node index=\"0\" text=\"\" resource-id=\"com.android.systemui:id/status_bar\" class=\"android.widget.FrameLayout\" package=\"com.android.systemui\" content-desc=\"\" checkable=\"false\" checked=\"false\" clickable=\"false\" enabled=\"true\" focusable=\"false\" focused=\"false\" scrollable=\"false\" long-clickable=\"false\" password=\"false\" selected=\"false\" visible-to-user=\"true\" bounds=\"[0,0][1080,66]\">\\r\\n        <node index=\"0\" text=\"\" resource-id=\"com.android.systemui:id/status_bar_contents\" class=\"android.widget.LinearLayout\" package=\"com.android.systemui\" content-desc=\"\" checkable=\"false\" checked=\"false\" clickable=\"false\" enabled=\"true\" focusable=\"false\" focused=\"false\" scrollable=\"false\" long-clickable=\"false\" password=\"false\" selected=\"false\" visible-to-user=\"true\" bounds=\"[22,0][1058,66]\">\\r\\n          <node index=\"0\" text=\"\" resource-id=\"\" class=\"android.widget.FrameLayout\" package=\"com.android.systemui\" content-desc=\"\" checkable=\"false\" checked=\"false\" clickable=\"false\" enabled=\"true\" focusable=\"false\" focused=\"false\" scrollable=\"false\" long-clickable=\"false\" password=\"false\" selected=\"false\" visible-to-user=\"true\" bounds=\"[39,0][540,66]\">\\r\\n            <node index=\"0\" text=\"\" resource-id=\"com.android.systemui:id/status_bar_left_side\" class=\"android.widget.LinearLayout\" package=\"com.android.systemui\" content-desc=\"\" checkable=\"false\" checked=\"false\" clickable=\"false\" enabled=\"true\" focusable=\"false\" focused=\"false\" scrollable=\"false\" long-clickable=\"false\" password=\"false\" selected=\"false\" visible-to-user=\"true\" bounds=\"[39,0][540,66]\">\\r\\n              <node index=\"0\" text=\"2:48\" resource-id=\"com.android.systemui:id/clock\" class=\"android.widget.TextView\" package=\"com.android.systemui\" content-desc=\"2:48 AM\" checkable=\"false\" checked=\"false\" clickable=\"false\" enabled=\"true\" focusable=\"false\" focused=\"false\" scrollable=\"false\" long-clickable=\"false\" password=\"false\" selected=\"false\" visible-to-user=\"true\" bounds=\"[39,0][134,66]\" />\\r\\n              <node index=\"1\" text=\"\" resource-id=\"com.android.systemui:id/notification_icon_area\" class=\"android.widget.FrameLayout\" package=\"com.android.systemui\" content-desc=\"\" checkable=\"false\" checked=\"false\" clickable=\"false\" enabled=\"true\" focusable=\"false\" focused=\"false\" scrollable=\"false\" long-clickable=\"false\" password=\"false\" selected=\"false\" visible-to-user=\"true\" bounds=\"[134,0][540,66]\">\\r\\n                <node index=\"0\" text=\"\" resource-id=\"com.android.systemui:id/notification_icon_area_inner\" class=\"android.widget.LinearLayout\" package=\"com.android.systemui\" content-desc=\"\" checkable=\"false\" checked=\"false\" clickable=\"false\" enabled=\"true\" focusable=\"false\" focused=\"false\" scrollable=\"false\" long-clickable=\"false\" password=\"false\" selected=\"false\" visible-to-user=\"true\" bounds=\"[134,0][540,66]\">\\r\\n                  <node index=\"0\" text=\"\" resource-id=\"com.android.systemui:id/notificationIcons\" class=\"android.widget.FrameLayout\" package=\"com.android.systemui\" content-desc=\"\" checkable=\"false\" checked=\"false\" clickable=\"false\" enabled=\"true\" focusable=\"false\" focused=\"false\" scrollable=\"false\" long-clickable=\"false\" password=\"false\" selected=\"false\" visible-to-user=\"true\" bounds=\"[134,0][540,66]\">\\r\\n                    <node index=\"0\" text=\"\" resource-id=\"\" class=\"android.widget.ImageView\" package=\"com.android.systemui\" content-desc=\"ATX notification: UIAutomator\" checkable=\"false\" checked=\"false\" clickable=\"false\" enabled=\"true\" focusable=\"false\" focused=\"false\" scrollable=\"false\" long-clickable=\"false\" password=\"false\" selected=\"false\" visible-to-user=\"true\" bounds=\"[134,0][195,66]\" />\\r\\n                    <node index=\"1\" text=\"\" resource-id=\"\" class=\"android.widget.ImageView\" package=\"com.android.systemui\" content-desc=\"Android System notification: USB debugging connected\" checkable=\"false\" checked=\"false\" clickable=\"false\" enabled=\"true\" focusable=\"false\" focused=\"false\" scrollable=\"false\" long-clickable=\"false\" password=\"false\" selected=\"false\" visible-to-user=\"true\" bounds=\"[195,0][256,66]\" />\\r\\n                  </node>\\r\\n                </node>\\r\\n              </node>\\r\\n            </node>\\r\\n          </node>\\r\\n          <node index=\"1\" text=\"\" resource-id=\"com.android.systemui:id/system_icon_area\" class=\"android.widget.LinearLayout\" package=\"com.android.systemui\" content-desc=\"\" checkable=\"false\" checked=\"false\" clickable=\"false\" enabled=\"true\" focusable=\"false\" focused=\"false\" scrollable=\"false\" long-clickable=\"false\" password=\"false\" selected=\"false\" visible-to-user=\"true\" bounds=\"[540,0][1041,66]\">\\r\\n            <node index=\"0\" text=\"\" resource-id=\"com.android.systemui:id/system_icons\" class=\"android.widget.LinearLayout\" package=\"com.android.systemui\" content-desc=\"\" checkable=\"false\" checked=\"false\" clickable=\"false\" enabled=\"true\" focusable=\"false\" focused=\"false\" scrollable=\"false\" long-clickable=\"false\" password=\"false\" selected=\"false\" visible-to-user=\"true\" bounds=\"[540,0][1041,66]\">\\r\\n              <node index=\"0\" text=\"\" resource-id=\"com.android.systemui:id/statusIcons\" class=\"android.widget.LinearLayout\" package=\"com.android.systemui\" content-desc=\"\" checkable=\"false\" checked=\"false\" clickable=\"false\" enabled=\"true\" focusable=\"false\" focused=\"false\" scrollable=\"false\" long-clickable=\"false\" password=\"false\" selected=\"false\" visible-to-user=\"true\" bounds=\"[540,0][912,66]\">\\r\\n                <node index=\"0\" text=\"\" resource-id=\"\" class=\"android.widget.ImageView\" package=\"com.android.systemui\" content-desc=\"Ringer vibrate.\" checkable=\"false\" checked=\"false\" clickable=\"false\" enabled=\"true\" focusable=\"false\" focused=\"false\" scrollable=\"false\" long-clickable=\"false\" password=\"false\" selected=\"false\" visible-to-user=\"true\" bounds=\"[779,2][843,63]\" />\\r\\n                <node index=\"1\" text=\"\" resource-id=\"com.android.systemui:id/wifi_combo\" class=\"android.widget.FrameLayout\" package=\"com.android.systemui\" content-desc=\"Wifi signal full.\" checkable=\"false\" checked=\"false\" clickable=\"false\" enabled=\"true\" focusable=\"false\" focused=\"false\" scrollable=\"false\" long-clickable=\"false\" password=\"false\" selected=\"false\" visible-to-user=\"true\" bounds=\"[843,2][895,63]\">\\r\\n                  <node index=\"0\" text=\"\" resource-id=\"com.android.systemui:id/wifi_group\" class=\"android.widget.LinearLayout\" package=\"com.android.systemui\" content-desc=\"\" checkable=\"false\" checked=\"false\" clickable=\"false\" enabled=\"true\" focusable=\"false\" focused=\"false\" scrollable=\"false\" long-clickable=\"false\" password=\"false\" selected=\"false\" visible-to-user=\"true\" bounds=\"[850,2][895,63]\">\\r\\n                    <node index=\"0\" text=\"\" resource-id=\"com.android.systemui:id/wifi_combo\" class=\"android.widget.FrameLayout\" package=\"com.android.systemui\" content-desc=\"\" checkable=\"false\" checked=\"false\" clickable=\"false\" enabled=\"true\" focusable=\"false\" focused=\"false\" scrollable=\"false\" long-clickable=\"false\" password=\"false\" selected=\"false\" visible-to-user=\"true\" bounds=\"[850,12][895,53]\">\\r\\n                      <node index=\"0\" text=\"\" resource-id=\"com.android.systemui:id/wifi_signal\" class=\"android.widget.ImageView\" package=\"com.android.systemui\" content-desc=\"\" checkable=\"false\" checked=\"false\" clickable=\"false\" enabled=\"true\" focusable=\"false\" focused=\"false\" scrollable=\"false\" long-clickable=\"false\" password=\"false\" selected=\"false\" visible-to-user=\"true\" bounds=\"[850,12][895,53]\" />\\r\\n                    </node>\\r\\n                  </node>\\r\\n                </node>\\r\\n              </node>\\r\\n              <node index=\"1\" text=\"\" resource-id=\"com.android.systemui:id/battery\" class=\"android.widget.LinearLayout\" package=\"com.android.systemui\" content-desc=\"Battery charging, 100 percent.\" checkable=\"false\" checked=\"false\" clickable=\"false\" enabled=\"true\" focusable=\"false\" focused=\"false\" scrollable=\"false\" long-clickable=\"false\" password=\"false\" selected=\"false\" visible-to-user=\"true\" bounds=\"[912,0][1041,66]\">\\r\\n                <node index=\"0\" text=\"\" resource-id=\"\" class=\"android.widget.ImageView\" package=\"com.android.systemui\" content-desc=\"\" checkable=\"false\" checked=\"false\" clickable=\"false\" enabled=\"true\" focusable=\"false\" focused=\"false\" scrollable=\"false\" long-clickable=\"false\" password=\"false\" selected=\"false\" visible-to-user=\"true\" bounds=\"[912,15][935,51]\" />\\r\\n                <node index=\"1\" text=\"100%\" resource-id=\"com.android.systemui:id/battery_percentage_view\" class=\"android.widget.TextView\" package=\"com.android.systemui\" content-desc=\"\" checkable=\"false\" checked=\"false\" clickable=\"false\" enabled=\"true\" focusable=\"false\" focused=\"false\" scrollable=\"false\" long-clickable=\"false\" password=\"false\" selected=\"false\" visible-to-user=\"true\" bounds=\"[935,0][1041,66]\" />\\r\\n              </node>\\r\\n            </node>\\r\\n          </node>\\r\\n        </node>\\r\\n      </node>\\r\\n    </node>\\r\\n  </node>\\r\\n</hierarchy>'"
      ]
     },
     "execution_count": 13,
     "metadata": {},
     "output_type": "execute_result"
    }
   ],
   "source": [
    "apk_obj.get_current_state()"
   ]
  },
  {
   "cell_type": "code",
   "execution_count": null,
   "metadata": {},
   "outputs": [],
   "source": [
    "apk_obj.get_available_actionable_elements(apk_obj.get_current_state())"
   ]
  },
  {
   "cell_type": "code",
   "execution_count": 14,
   "metadata": {},
   "outputs": [
    {
     "data": {
      "text/plain": [
       "[]"
      ]
     },
     "execution_count": 14,
     "metadata": {},
     "output_type": "execute_result"
    }
   ],
   "source": [
    "apk_obj.get_wtg_state(wtg_obj)"
   ]
  },
  {
   "cell_type": "code",
   "execution_count": null,
   "metadata": {},
   "outputs": [],
   "source": [
    "wtg_obj.get_goal_edges()"
   ]
  },
  {
   "cell_type": "code",
   "execution_count": 20,
   "metadata": {},
   "outputs": [
    {
     "data": {
      "text/plain": [
       "<networkx.classes.multidigraph.MultiDiGraph at 0x7ff7b8ee2700>"
      ]
     },
     "execution_count": 20,
     "metadata": {},
     "output_type": "execute_result"
    }
   ],
   "source": [
    "wtg_obj.wtg"
   ]
  },
  {
   "cell_type": "code",
   "execution_count": null,
   "metadata": {},
   "outputs": [],
   "source": [
    "nx.all_pairs_shortest_path(wtg_obj.wtg)"
   ]
  },
  {
   "cell_type": "code",
   "execution_count": null,
   "metadata": {},
   "outputs": [],
   "source": [
    "nx.shortest_path(wtg_obj.wtg, apk_obj.get_wtg_state(wtg_obj)[0], apk_obj.get_wtg_state(wtg_obj)[0])"
   ]
  },
  {
   "cell_type": "code",
   "execution_count": null,
   "metadata": {},
   "outputs": [],
   "source": [
    "temp = wtg_obj.get_goal_edges()"
   ]
  },
  {
   "cell_type": "code",
   "execution_count": null,
   "metadata": {},
   "outputs": [],
   "source": [
    "temp[0]"
   ]
  },
  {
   "cell_type": "code",
   "execution_count": null,
   "metadata": {},
   "outputs": [],
   "source": [
    "temp[0][0].node_key"
   ]
  },
  {
   "cell_type": "code",
   "execution_count": null,
   "metadata": {},
   "outputs": [],
   "source": [
    "apk_obj.get_wtg_state(wtg_obj)"
   ]
  },
  {
   "cell_type": "code",
   "execution_count": null,
   "metadata": {},
   "outputs": [],
   "source": [
    "wtg_obj.wtg_graph"
   ]
  },
  {
   "cell_type": "code",
   "execution_count": null,
   "metadata": {},
   "outputs": [],
   "source": [
    "wtg_obj.nodes"
   ]
  },
  {
   "cell_type": "code",
   "execution_count": null,
   "metadata": {},
   "outputs": [],
   "source": [
    "wtg_obj.wtg"
   ]
  },
  {
   "cell_type": "code",
   "execution_count": null,
   "metadata": {},
   "outputs": [],
   "source": [
    "wtg_obj.wtg.nodes"
   ]
  },
  {
   "cell_type": "code",
   "execution_count": null,
   "metadata": {},
   "outputs": [],
   "source": [
    "wtg_obj.wtg_graph"
   ]
  },
  {
   "cell_type": "code",
   "execution_count": null,
   "metadata": {},
   "outputs": [],
   "source": [
    "nx.shortest_path(wtg_obj.wtg_graph, apk_obj.get_wtg_state(wtg_obj)[0], apk_obj.get_wtg_state(wtg_obj)[0])"
   ]
  },
  {
   "cell_type": "code",
   "execution_count": null,
   "metadata": {},
   "outputs": [],
   "source": [
    "nx.shortest_path_length(wtg_obj.wtg_graph, apk_obj.get_wtg_state(wtg_obj)[0], apk_obj.get_wtg_state(wtg_obj)[0])"
   ]
  },
  {
   "cell_type": "code",
   "execution_count": null,
   "metadata": {},
   "outputs": [],
   "source": [
    "wtg_obj.get_goal_edges()"
   ]
  },
  {
   "cell_type": "code",
   "execution_count": null,
   "metadata": {},
   "outputs": [],
   "source": [
    "nx.shortest_path_length(\n",
    "    wtg_obj.wtg_graph, \n",
    "    apk_obj.get_wtg_state(wtg_obj)[0],\n",
    "    wtg_obj.get_goal_edges()[0][1]\n",
    ")"
   ]
  },
  {
   "cell_type": "code",
   "execution_count": null,
   "metadata": {},
   "outputs": [],
   "source": []
  }
 ],
 "metadata": {
  "kernelspec": {
   "display_name": "Python 3",
   "language": "python",
   "name": "python3"
  },
  "language_info": {
   "codemirror_mode": {
    "name": "ipython",
    "version": 3
   },
   "file_extension": ".py",
   "mimetype": "text/x-python",
   "name": "python",
   "nbconvert_exporter": "python",
   "pygments_lexer": "ipython3",
   "version": "3.8.8"
  }
 },
 "nbformat": 4,
 "nbformat_minor": 4
}

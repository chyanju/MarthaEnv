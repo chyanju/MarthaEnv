{
 "cells": [
  {
   "cell_type": "markdown",
   "metadata": {},
   "source": [
    "## Neural Agent\n",
    "- graph-based"
   ]
  },
  {
   "cell_type": "code",
   "execution_count": 1,
   "metadata": {},
   "outputs": [
    {
     "name": "stdout",
     "output_type": "stream",
     "text": [
      "device: cpu\n",
      "torch version: 1.6.0\n"
     ]
    }
   ],
   "source": [
    "import networkx as nx\n",
    "\n",
    "import torch\n",
    "import numpy as np\n",
    "import torch.nn as nn\n",
    "import torch.nn.functional as F\n",
    "from torch.autograd import Variable\n",
    "\n",
    "device = torch.device(\"cuda:0\" if torch.cuda.is_available() else \"cpu\")\n",
    "print(\"device: {}\".format(device))\n",
    "print(\"torch version: {}\".format(torch.__version__))\n",
    "\n",
    "import torch_geometric\n",
    "from torch_geometric.nn import GCNConv\n",
    "from torch_geometric.data import Data"
   ]
  },
  {
   "cell_type": "code",
   "execution_count": 2,
   "metadata": {},
   "outputs": [],
   "source": [
    "# override the same function from pytorch_geometric\n",
    "# this provides consistent renaming from node labels to integers\n",
    "# because the original impl makes a node's __repr__ as key\n",
    "# whose ordering is subject to change by calling the default conversion function\n",
    "def from_networkx(G, rmap):\n",
    "    r\"\"\"Converts a :obj:`networkx.Graph` or :obj:`networkx.DiGraph` to a\n",
    "    :class:`torch_geometric.data.Data` instance.\n",
    "\n",
    "    Args:\n",
    "        G (networkx.Graph or networkx.DiGraph): A networkx graph.\n",
    "        rmap: A mapping from G's node keys to corresponding integers\n",
    "    \"\"\"\n",
    "\n",
    "    # G = nx.convert_node_labels_to_integers(G)\n",
    "    G = nx.relabel_nodes(G, rmap)\n",
    "    G = G.to_directed() if not nx.is_directed(G) else G\n",
    "    edge_index = torch.LongTensor(list(G.edges)).t().contiguous()\n",
    "\n",
    "    data = {}\n",
    "\n",
    "    for i, (_, feat_dict) in enumerate(G.nodes(data=True)):\n",
    "        for key, value in feat_dict.items():\n",
    "            data[str(key)] = [value] if i == 0 else data[str(key)] + [value]\n",
    "\n",
    "    for i, (_, _, feat_dict) in enumerate(G.edges(data=True)):\n",
    "        for key, value in feat_dict.items():\n",
    "            data[str(key)] = [value] if i == 0 else data[str(key)] + [value]\n",
    "\n",
    "    for key, item in data.items():\n",
    "        try:\n",
    "            data[key] = torch.tensor(item)\n",
    "        except ValueError:\n",
    "            pass\n",
    "\n",
    "    data['edge_index'] = edge_index.view(2, -1)\n",
    "    data = torch_geometric.data.Data.from_dict(data)\n",
    "    data.num_nodes = G.number_of_nodes()\n",
    "\n",
    "    return data"
   ]
  },
  {
   "cell_type": "code",
   "execution_count": 3,
   "metadata": {},
   "outputs": [],
   "source": [
    "class Net(torch.nn.Module):\n",
    "    def __init__(self, config):\n",
    "        super(Net, self).__init__()\n",
    "        self.conv1 = GCNConv(config[\"num_node_features\"], 16)\n",
    "        self.conv2 = GCNConv(16, config[\"num_hidden\"])\n",
    "\n",
    "    def encode(self, data):\n",
    "        r\"\"\"Encode the whole graph and return embedding of every node\n",
    "        \"\"\"\n",
    "        x, edge_index = data.x, data.edge_index\n",
    "\n",
    "        x = self.conv1(x, edge_index)\n",
    "        x = F.relu(x)\n",
    "        x = F.dropout(x, training=self.training)\n",
    "        x = self.conv2(x, edge_index)\n",
    "\n",
    "        # return F.log_softmax(x, dim=1)\n",
    "        return F.relu(x)\n",
    "    \n",
    "    def compute_pref(self, cur, tgt, act):\n",
    "        # note that this function only deals with 1 state 1 target with 1 action list\n",
    "        # cur: (n=1, num_hidden)\n",
    "        # tgt: (n=1, num_hidden)\n",
    "        # act: (num_actions, num_hidden)\n",
    "        tmp0 = torch.mean(torch.cat([cur, tgt], dim=0), dim=0, keepdim=True) # (1, num_hidden)\n",
    "        tmp_act = act.view(config[\"num_hidden\"], -1) # (num_hidden, num_actions)\n",
    "        \n",
    "        tmp1 = torch.mm(tmp0,tmp_act) # (B=1, num_actions)\n",
    "        return F.log_softmax(tmp1, dim=1) # (B=1, num_actions)\n",
    "        "
   ]
  },
  {
   "cell_type": "markdown",
   "metadata": {},
   "source": [
    "## Pipeline Utils"
   ]
  },
  {
   "cell_type": "code",
   "execution_count": 4,
   "metadata": {},
   "outputs": [],
   "source": [
    "# 1. roll out an action sequence\n",
    "# 2. compute reward\n",
    "# 3. policy gradient back propagation\n",
    "def rollout(arg_config):\n",
    "    # note: remember to clear the state\n",
    "    arg_config[\"env\"].launch_app()\n",
    "    arg_config[\"agent\"].train()\n",
    "    \n",
    "    rollout_outputs = []\n",
    "    rollout_actions = []\n",
    "    rollout_action_ids = []\n",
    "    final_reward = 0.0\n",
    "    \n",
    "    raw_graph = from_networkx(arg_config[\"wtg\"].wtg_graph, arg_config[\"obj2ind\"])\n",
    "    \n",
    "    for i in range(arg_config[\"maxn_steps\"]):\n",
    "        time.sleep(1)\n",
    "        curr_state = arg_config[\"env\"].get_current_state()\n",
    "        curr_actions = arg_config[\"env\"].get_available_actionable_elements(curr_state)\n",
    "        n_actions = len(action_list)\n",
    "        \n",
    "        if n_actions == 0:\n",
    "            print(\"# no action is found, terminate.\")\n",
    "            # penalty\n",
    "            final_reward = -3\n",
    "            # no available actions any more\n",
    "            break\n",
    "        \n",
    "        # get corresponding components in wtg\n",
    "        curr0_state = arg_config[\"env\"].get_wtg_state(arg_config[\"wtg\"])\n",
    "        curr0_actions = [\n",
    "            arg_config[\"env\"].get_matching_dynamic_action_to_static_action(curr_actions[dind], arg_config[\"wtg\"])\n",
    "            for dind in range(len(curr_actions))\n",
    "        ]\n",
    "        # TODO: mark the current state out in wtg\n",
    "        # update a copy of the current graph to reflect the state/environment\n",
    "        # TODO: should dynamically construct features\n",
    "        curr_graph = torch_geometric.data.Data(x=arg_config[\"features\"], edge_index=raw_graph.edge_index)\n",
    "        # then the graph is ready as agent input\n",
    "        tf_nodes = arg_config[\"agent\"].encode(curr_graph) # (num_nodes, num_hidden)\n",
    "        \n",
    "        # then get the embedding of current state\n",
    "        curr0_states = arg_config[\"env\"].get_wtg_state(arg_config[\"wtg\"])\n",
    "        # now state list is a list of nodes\n",
    "        # collapse the state list into concrete representation\n",
    "        curr1_states = []\n",
    "        for dind0 in range(len(curr0_states)):\n",
    "            p = curr0_states[dind0]\n",
    "            ind0 = arg_config[\"obj2ind\"][p]\n",
    "            curr1_states.append(tf_nodes[ind0,:])\n",
    "        tf_state = torch.mean(torch.cat(curr1_states, dim=0), dim=0, keepdim=True) # (1, num_hidden)\n",
    "        \n",
    "        # then get the embedding of goal edge(s)\n",
    "        curr0_goals = arg_config[\"wtg\"].get_goal_edges()\n",
    "        # now goal list is a list of (node0, node1, edge_id)\n",
    "        # FIXME: now assuming there's only 1 goal\n",
    "        # collapse goal edge(s) into concrete representations\n",
    "        curr1_goals = []\n",
    "        for dind0 in range(len(curr0_goals)):\n",
    "            p = curr0_goals[dind0]\n",
    "            ind0 = arg_config[\"obj2ind\"][p[0]]\n",
    "            ind1 = arg_config[\"obj2ind\"][p[1]]\n",
    "            curr1_goals.append(tf_nodes[ind0,:])\n",
    "            curr1_goals.append(tf_nodes[ind1,:])\n",
    "        tf_goal = torch.mean(torch.cat(curr1_goals, dim=0), dim=0, keepdim=True) # (1, num_hidden)\n",
    "    \n",
    "        # now action list is a list of lists of (node0, node1, edge_id)\n",
    "        # collapse action list into concrete representations\n",
    "        curr1_actions = []\n",
    "        for dind0 in range(len(curr0_actions)):\n",
    "            plist0 = curr0_actions[dind0]\n",
    "            rlist0 = []\n",
    "            for p in plist0:\n",
    "                ind0 = arg_config[\"obj2ind\"][p[0]]\n",
    "                ind1 = arg_config[\"obj2ind\"][p[1]]\n",
    "                rlist0.append(tf_nodes[ind0,:])\n",
    "                rlist0.append(tf_nodes[ind1,:])\n",
    "            # (1, num_hidden)\n",
    "            curr1_actions.append( torch.mean(torch.cat(rlist0, dim=0), dim=0, keepdim=True) )\n",
    "        tf_actions = torch.cat(curr1_actions, dim=0) # (num_actions, num_hidden)\n",
    "        \n",
    "        \n",
    "        tout_preference = arg_agent.compute_preference(t_state, t_target) # (B=1, embedding_dim)\n",
    "        tout_action = arg_agent.encode_action_list(t_action) # (B=1, ??, embedding_dim)\n",
    "        \n",
    "#         print(\"tout_preference.shape={}\".format(tout_preference.shape))\n",
    "#         print(\"tout_action.shape={}\".format(tout_action.shape))\n",
    "        \n",
    "        # ====> using cosine similarity\n",
    "        # (n_actions, spec_dims)\n",
    "        # t0_output = t_output.expand_as(t_pool)\n",
    "        # t_cos = F.cosine_similarity(t0_output, t_pool, dim=1)\n",
    "        # t_act = F.log_softmax(t_cos, dim=0)\n",
    "        # ====> directly mm similarity\n",
    "        # note: assuming B=1 already\n",
    "        tout0_preference = tout_preference.view(-1,1) # (embedding_dim, 1)\n",
    "        tout0_action = tout_action.view(-1, EMBEDDING_DIM) # (n_actions, embedding_dim)\n",
    "        tout0_mm = torch.mm(tout0_action, tout0_preference)  # (n_actions, 1)\n",
    "        tout1_mm = tout0_mm.view(-1) # (n_actions,)\n",
    "        tout2_mm = F.log_softmax(tout1_mm)\n",
    "#         print(\"# tout2_mm: {}\".format(tout2_mm))\n",
    "        \n",
    "        if random.random()<max(0.1, 1.0-ep/20):\n",
    "            # explore\n",
    "            selected_action_id = random.choice(list(range(len(action_list))))\n",
    "            print(\"# [explore] selected_action_id (rnd): {}, log-sim: {}\".format(selected_action_id, tout2_mm[selected_action_id]))\n",
    "        else:\n",
    "            # exploit\n",
    "            probs = tout2_mm.exp().tolist()\n",
    "            selected_action_id = np.argmax(probs)\n",
    "            # selected_action_id = torch.argmax(tout2_mm, dim=0).tolist()\n",
    "            print(\"# [exploit] selected_action_id (mul): {}, log-sim: {}\".format(selected_action_id, tout2_mm[selected_action_id]))\n",
    "#         else:\n",
    "#             # exploit\n",
    "#             probs = tout2_mm.exp().tolist()\n",
    "#             selected_action_id = random.choices(list(range(len(action_list))), weights=probs, k=1)[0]\n",
    "#             # selected_action_id = torch.argmax(tout2_mm, dim=0).tolist()\n",
    "#             print(\"# [exploit] selected_action_id (mul): {}, log-sim: {}\".format(selected_action_id, tout2_mm[selected_action_id]))\n",
    "        \n",
    "        # perform action\n",
    "        arg_env.perform_action(action_list[selected_action_id])\n",
    "        next_state = arg_env.get_current_state()\n",
    "        dreward = get_reward0(arg_env, arg_wtg, next_state)\n",
    "        print(\"  # r: {}\".format(dreward))\n",
    "        final_reward += dreward\n",
    "        \n",
    "        # store the choices\n",
    "        rollout_outputs.append(tout2_mm)\n",
    "        rollout_actions.append(action_list)\n",
    "        rollout_action_ids.append(selected_action_id)\n",
    "        \n",
    "        # input(\"PAUSE\")\n",
    "        \n",
    "    # here we use the final reward as the cumulative reward\n",
    "    final_state = arg_env.get_current_state()\n",
    "    # test whether goal states are reached\n",
    "    rlist = arg_env.get_reached_goal_states(\"train\")\n",
    "    print(\"# final reward000: {}\".format(final_reward))\n",
    "    if len(rlist)>0:\n",
    "        print(\"# goal state: {}\".format(rlist))\n",
    "\n",
    "    print(\"# final reward: {}\".format(final_reward))\n",
    "    \n",
    "    rollout_loss = []\n",
    "    current_reward = final_reward\n",
    "    # reverse from the last to first\n",
    "    for i in range(len(rollout_outputs))[::-1]:\n",
    "        rollout_loss.append( current_reward * (-rollout_outputs[i][rollout_action_ids[i]]) )\n",
    "        current_reward *= 0.8 # decay\n",
    "    rollout_loss = rollout_loss[::-1]\n",
    "    \n",
    "    optimizer.zero_grad()\n",
    "    loss = sum(rollout_loss)\n",
    "    loss.backward()\n",
    "    optimizer.step()"
   ]
  },
  {
   "cell_type": "code",
   "execution_count": null,
   "metadata": {},
   "outputs": [],
   "source": []
  },
  {
   "cell_type": "code",
   "execution_count": null,
   "metadata": {},
   "outputs": [],
   "source": []
  },
  {
   "cell_type": "code",
   "execution_count": null,
   "metadata": {},
   "outputs": [],
   "source": []
  },
  {
   "cell_type": "code",
   "execution_count": null,
   "metadata": {},
   "outputs": [],
   "source": []
  },
  {
   "cell_type": "code",
   "execution_count": null,
   "metadata": {},
   "outputs": [],
   "source": []
  },
  {
   "cell_type": "code",
   "execution_count": null,
   "metadata": {},
   "outputs": [],
   "source": []
  },
  {
   "cell_type": "code",
   "execution_count": null,
   "metadata": {},
   "outputs": [],
   "source": []
  },
  {
   "cell_type": "markdown",
   "metadata": {},
   "source": [
    "## Top-Level Control Flow"
   ]
  },
  {
   "cell_type": "code",
   "execution_count": 5,
   "metadata": {},
   "outputs": [
    {
     "name": "stderr",
     "output_type": "stream",
     "text": [
      "[W 210727 23:19:35 __init__:208] [pid:25474] atx-agent has something wrong, auto recovering\n",
      "[D 210727 23:19:35 __init__:292] [pid:25474] device 93MAYS0020Z is online\n"
     ]
    },
    {
     "name": "stdout",
     "output_type": "stream",
     "text": [
      "\u001b[36m[#] Analysis started at: 2021-07-27 11:19:35 PM\u001b[0m\n"
     ]
    },
    {
     "name": "stderr",
     "output_type": "stream",
     "text": [
      "[I 210727 23:19:35 init:156] uiautomator2 version: 2.16.6\n",
      "[D 210727 23:19:35 init:295] Real version: [0, 10, 0], Expect version: [0, 10, 0]\n",
      "[D 210727 23:19:36 init:256] apk-debug package-info: {'package_name': 'com.github.uiautomator', 'version_name': '2.3.3', 'version_code': '2003003', 'flags': ['DEBUGGABLE', 'HAS_CODE', 'ALLOW_CLEAR_USER_DATA', 'ALLOW_BACKUP'], 'first_install_time': datetime.datetime(2021, 7, 28, 2, 16, 46), 'last_update_time': datetime.datetime(2021, 7, 28, 2, 16, 46), 'signature': 'ae17cd86], past signatures:['}\n",
      "[D 210727 23:19:36 init:257] apk-debug-test package-info: {'package_name': 'com.github.uiautomator.test', 'version_name': '', 'version_code': '', 'flags': ['DEBUGGABLE', 'HAS_CODE', 'ALLOW_CLEAR_USER_DATA', 'ALLOW_BACKUP'], 'first_install_time': datetime.datetime(2021, 7, 28, 2, 16, 57), 'last_update_time': datetime.datetime(2021, 7, 28, 2, 16, 57), 'signature': 'ae17cd86], past signatures:['}\n",
      "[D 210727 23:19:36 init:167] Shell: ('/data/local/tmp/atx-agent', 'server', '--nouia', '-d', '--addr', '127.0.0.1:7912')\n",
      "[D 210727 23:19:36 init:397] Forward: local:tcp:58189 -> remote:tcp:7912\n",
      "WARNING | 2021-07-27 23:19:36,272 | \u001b[31mretry.api\u001b[0m | \u001b[31m('Connection aborted.', RemoteDisconnected('Remote end closed connection without response')), retrying in 0.5 seconds...\u001b[0m\n",
      "[D 210727 23:19:36 init:397] Forward: local:tcp:58189 -> remote:tcp:7912\n",
      "[D 210727 23:19:36 init:400] atx-agent version 0.10.0\n",
      "[D 210727 23:19:37 init:403] device wlan ip: 10.0.0.107\n",
      "[INFO] | 2021-07-27 11:19:37 PM | analyzer.testapp_3 | Adb is running with root priviledges now!\n",
      "[INFO] | 2021-07-27 11:19:37 PM | analyzer.testapp_3 | Old logcat messages cleared!\n",
      "[INFO] | 2021-07-27 11:19:38 PM | analyzer.testapp_3 | APK installtion done for testapp_3.apk\n",
      "[INFO] | 2021-07-27 11:19:38 PM | analyzer.testapp_3 | Kill the current app if already spawned!\n",
      "[INFO] | 2021-07-27 11:19:38 PM | analyzer.testapp_3 | APK is already killed\n",
      "[INFO] | 2021-07-27 11:19:38 PM | analyzer.testapp_3 | Spawning the current app\n",
      "[INFO] | 2021-07-27 11:19:39 PM | analyzer.testapp_3 | Apk spawned successfully!\n",
      "[INFO] | 2021-07-27 11:19:41 PM | analyzer.testapp_3 | Old logcat messages cleared!\n"
     ]
    }
   ],
   "source": [
    "from main import *\n",
    "\n",
    "CURR_DIR = os.path.dirname(os.getcwd())\n",
    "OUTPUT_DIR = os.path.join(CURR_DIR, \"results\")\n",
    "\n",
    "args = {\n",
    "#     \"path\": \"../results/test_app_1/testapp_1.apk\",\n",
    "#     \"path\": \"../results/test_app_2/testapp_2.apk\",\n",
    "#     \"path\": \"../test/com.github.cetoolbox_11/app_simple0.apk\",\n",
    "#     \"path\": \"/Users/joseph/Desktop/UCSB/20summer/MarthaEnv/tmp/Wordpress_394/Wordpress_394.apk\",\n",
    "#     \"path\": \"/Users/joseph/Desktop/UCSB/20summer/MarthaEnv/tmp/com.zoffcc.applications.aagtl_31/com.zoffcc.applications.aagtl_31.apk\",\n",
    "#     \"path\": \"/Users/joseph/Desktop/UCSB/20summer/MarthaEnv/tmp/Translate/Translate.apk\",\n",
    "#     \"path\": \"/Users/joseph/Desktop/UCSB/20summer/MarthaEnv/tmp/com.chmod0.manpages_3/com.chmod0.manpages_3.apk\",\n",
    "#     \"path\": \"/Users/joseph/Desktop/UCSB/20summer/MarthaEnv/tmp/Book-Catalogue/Book-Catalogue.apk\",\n",
    "#     \"path\": \"/Users/joseph/Desktop/UCSB/20summer/MarthaEnv/test/out.andFHEM.apk\",\n",
    "#     \"path\": \"/Users/joseph/Desktop/UCSB/20summer/MarthaEnv/test/out.blue-chat.apk\",\n",
    "#     \"path\": \"/Users/joseph/Desktop/UCSB/20summer/MarthaEnv/test/out.CallMeter3G-debug.apk\",\n",
    "#     \"path\": \"/Users/joseph/Desktop/UCSB/20summer/MarthaEnv/test/out.Lucid-Browser.apk\",\n",
    "    \"path\": \"../results/test_app_3/testapp_3.apk\",\n",
    "    \"output\": \"../results/\",\n",
    "    \"wtginput\": \"../results/test_app_3/\",\n",
    "    \"goalstates\": \"../results/test_app_3/goals_caller.json\",\n",
    "}\n",
    "\n",
    "if args[\"path\"] is not None:\n",
    "    pyaxmlparser_apk = APK(args[\"path\"])\n",
    "    apk_base_name = os.path.splitext(os.path.basename(args[\"path\"]))[0]\n",
    "else:\n",
    "    parser.print_usage()\n",
    "    sys.exit(1)\n",
    "    \n",
    "goal_states = {}\n",
    "if args[\"goalstates\"] is not None:\n",
    "    with open(args[\"goalstates\"], 'r') as fp:\n",
    "        goal_states = json.load(fp)\n",
    "\n",
    "else:\n",
    "    parser.print_usage()\n",
    "    sys.exit(1)\n",
    "\n",
    "if args[\"output\"] is not None:\n",
    "    OUTPUT_DIR = args[\"output\"]\n",
    "\n",
    "output_dir = os.path.join(OUTPUT_DIR, 'exploration_output', apk_base_name)\n",
    "\n",
    "wtg = None\n",
    "if args[\"wtginput\"]:\n",
    "    wtg = args[\"wtginput\"] #os.path.join(args.wtginput, apk_base_name)\n",
    "\n",
    "if os.path.exists(output_dir):\n",
    "    rmtree(output_dir)\n",
    "\n",
    "os.makedirs(output_dir, exist_ok=True)\n",
    "\n",
    "# Setting the path for log file\n",
    "log_path = os.path.join(output_dir, 'analysis.log')\n",
    "log = init_logging('analyzer.%s' % apk_base_name, log_path, file_mode='w', console=True)\n",
    "\n",
    "# Record analysis start time\n",
    "now = datetime.datetime.now()\n",
    "analysis_start_time = now.strftime(DATE_FORMAT)\n",
    "info('Analysis started at: %s' % analysis_start_time)\n",
    "start_time = time.time()\n",
    "\n",
    "# Get the serial for the device attached to ADB\n",
    "device_serial = get_device_serial(log)\n",
    "\n",
    "if device_serial is None:\n",
    "    log.warning(\"Device is not connected!\")\n",
    "    sys.exit(1)\n",
    "\n",
    "# Initialize the uiautomator device object using the device serial\n",
    "uiautomator_device = u2.connect(device_serial)\n",
    "run_adb_as_root(log, device_serial)\n",
    "apk_obj = Apk(args[\"path\"], uiautomator_device, output_dir, log, device_serial)\n",
    "wtg_obj = WTG(wtg, log)\n",
    "wtg_obj.set_goal_nodes(goal_states)\n",
    "apk_obj.launch_app()\n",
    "# to track some goal state at startup, you don't have to do this\n",
    "apk_obj.clean_logcat()"
   ]
  },
  {
   "cell_type": "code",
   "execution_count": 8,
   "metadata": {
    "scrolled": true
   },
   "outputs": [
    {
     "ename": "TypeError",
     "evalue": "'int' object is not subscriptable",
     "output_type": "error",
     "traceback": [
      "\u001b[0;31m---------------------------------------------------------------------------\u001b[0m",
      "\u001b[0;31mTypeError\u001b[0m                                 Traceback (most recent call last)",
      "\u001b[0;32m<ipython-input-8-3ff6f1e3df0b>\u001b[0m in \u001b[0;36m<module>\u001b[0;34m\u001b[0m\n\u001b[1;32m      1\u001b[0m \u001b[0mnsteps\u001b[0m \u001b[0;34m=\u001b[0m \u001b[0;36m4\u001b[0m\u001b[0;34m\u001b[0m\u001b[0;34m\u001b[0m\u001b[0m\n\u001b[0;32m----> 2\u001b[0;31m \u001b[0mneural_agent\u001b[0m \u001b[0;34m=\u001b[0m \u001b[0mNet\u001b[0m\u001b[0;34m(\u001b[0m\u001b[0;36m16\u001b[0m\u001b[0;34m)\u001b[0m\u001b[0;34m.\u001b[0m\u001b[0mto\u001b[0m\u001b[0;34m(\u001b[0m\u001b[0mdevice\u001b[0m\u001b[0;34m)\u001b[0m\u001b[0;34m\u001b[0m\u001b[0;34m\u001b[0m\u001b[0m\n\u001b[0m\u001b[1;32m      3\u001b[0m \u001b[0moptimizer\u001b[0m \u001b[0;34m=\u001b[0m \u001b[0mtorch\u001b[0m\u001b[0;34m.\u001b[0m\u001b[0moptim\u001b[0m\u001b[0;34m.\u001b[0m\u001b[0mSGD\u001b[0m\u001b[0;34m(\u001b[0m\u001b[0mneural_agent\u001b[0m\u001b[0;34m.\u001b[0m\u001b[0mparameters\u001b[0m\u001b[0;34m(\u001b[0m\u001b[0;34m)\u001b[0m\u001b[0;34m,\u001b[0m \u001b[0mlr\u001b[0m\u001b[0;34m=\u001b[0m\u001b[0;36m0.1\u001b[0m\u001b[0;34m)\u001b[0m\u001b[0;34m\u001b[0m\u001b[0;34m\u001b[0m\u001b[0m\n\u001b[1;32m      4\u001b[0m \u001b[0mst\u001b[0m \u001b[0;34m=\u001b[0m \u001b[0mtime\u001b[0m\u001b[0;34m.\u001b[0m\u001b[0mtime\u001b[0m\u001b[0;34m(\u001b[0m\u001b[0;34m)\u001b[0m\u001b[0;34m\u001b[0m\u001b[0;34m\u001b[0m\u001b[0m\n\u001b[1;32m      5\u001b[0m \u001b[0;32mfor\u001b[0m \u001b[0mep\u001b[0m \u001b[0;32min\u001b[0m \u001b[0mrange\u001b[0m\u001b[0;34m(\u001b[0m\u001b[0;36m100000\u001b[0m\u001b[0;34m)\u001b[0m\u001b[0;34m:\u001b[0m\u001b[0;34m\u001b[0m\u001b[0;34m\u001b[0m\u001b[0m\n",
      "\u001b[0;32m<ipython-input-3-4353f00cf294>\u001b[0m in \u001b[0;36m__init__\u001b[0;34m(self, config)\u001b[0m\n\u001b[1;32m      2\u001b[0m     \u001b[0;32mdef\u001b[0m \u001b[0m__init__\u001b[0m\u001b[0;34m(\u001b[0m\u001b[0mself\u001b[0m\u001b[0;34m,\u001b[0m \u001b[0mconfig\u001b[0m\u001b[0;34m)\u001b[0m\u001b[0;34m:\u001b[0m\u001b[0;34m\u001b[0m\u001b[0;34m\u001b[0m\u001b[0m\n\u001b[1;32m      3\u001b[0m         \u001b[0msuper\u001b[0m\u001b[0;34m(\u001b[0m\u001b[0mNet\u001b[0m\u001b[0;34m,\u001b[0m \u001b[0mself\u001b[0m\u001b[0;34m)\u001b[0m\u001b[0;34m.\u001b[0m\u001b[0m__init__\u001b[0m\u001b[0;34m(\u001b[0m\u001b[0;34m)\u001b[0m\u001b[0;34m\u001b[0m\u001b[0;34m\u001b[0m\u001b[0m\n\u001b[0;32m----> 4\u001b[0;31m         \u001b[0mself\u001b[0m\u001b[0;34m.\u001b[0m\u001b[0mconv1\u001b[0m \u001b[0;34m=\u001b[0m \u001b[0mGCNConv\u001b[0m\u001b[0;34m(\u001b[0m\u001b[0mconfig\u001b[0m\u001b[0;34m[\u001b[0m\u001b[0;34m\"num_node_features\"\u001b[0m\u001b[0;34m]\u001b[0m\u001b[0;34m,\u001b[0m \u001b[0;36m16\u001b[0m\u001b[0;34m)\u001b[0m\u001b[0;34m\u001b[0m\u001b[0;34m\u001b[0m\u001b[0m\n\u001b[0m\u001b[1;32m      5\u001b[0m         \u001b[0mself\u001b[0m\u001b[0;34m.\u001b[0m\u001b[0mconv2\u001b[0m \u001b[0;34m=\u001b[0m \u001b[0mGCNConv\u001b[0m\u001b[0;34m(\u001b[0m\u001b[0;36m16\u001b[0m\u001b[0;34m,\u001b[0m \u001b[0mconfig\u001b[0m\u001b[0;34m[\u001b[0m\u001b[0;34m\"num_hidden\"\u001b[0m\u001b[0;34m]\u001b[0m\u001b[0;34m)\u001b[0m\u001b[0;34m\u001b[0m\u001b[0;34m\u001b[0m\u001b[0m\n\u001b[1;32m      6\u001b[0m \u001b[0;34m\u001b[0m\u001b[0m\n",
      "\u001b[0;31mTypeError\u001b[0m: 'int' object is not subscriptable"
     ]
    }
   ],
   "source": [
    "nsteps = 4\n",
    "neural_agent = NeuralAgent(EMBEDDING_DIM).to(device)\n",
    "optimizer = torch.optim.SGD(neural_agent.parameters(), lr=0.1)\n",
    "st = time.time()\n",
    "for ep in range(100000):\n",
    "    print(\"# ep{}, time elapsed: {}\".format(ep, time.time()-st))\n",
    "    rollout(apk_obj, neural_agent, optimizer, nsteps, target)\n",
    "#     random_rollout(apk_obj, nsteps, target)"
   ]
  },
  {
   "cell_type": "code",
   "execution_count": null,
   "metadata": {},
   "outputs": [],
   "source": []
  },
  {
   "cell_type": "code",
   "execution_count": 6,
   "metadata": {},
   "outputs": [
    {
     "name": "stderr",
     "output_type": "stream",
     "text": [
      "[D 210328 15:42:39 __init__:600] kill process(ps): uiautomator\n",
      "[D 210328 15:42:41 __init__:619] uiautomator-v2 is starting ... left: 40.0s\n",
      "[D 210328 15:42:42 __init__:619] uiautomator-v2 is starting ... left: 38.8s\n",
      "[D 210328 15:42:44 __init__:619] uiautomator-v2 is starting ... left: 37.5s\n",
      "[D 210328 15:42:45 __init__:619] uiautomator-v2 is starting ... left: 36.3s\n",
      "[D 210328 15:42:46 __init__:619] uiautomator-v2 is starting ... left: 35.1s\n",
      "[D 210328 15:42:47 __init__:619] uiautomator-v2 is starting ... left: 33.8s\n",
      "[I 210328 15:42:48 __init__:583] uiautomator back to normal\n"
     ]
    },
    {
     "data": {
      "text/plain": [
       "[<gui_elements.GuiElements at 0x7f8af57c9e48>,\n",
       " <gui_elements.GuiElements at 0x7f8af57c9ef0>,\n",
       " <gui_elements.GuiElements at 0x7f8af57c9eb8>,\n",
       " <gui_elements.GuiElements at 0x7f8af57c9f98>,\n",
       " <gui_elements.GuiElements at 0x7f8af57c9f60>,\n",
       " <gui_elements.GuiElements at 0x7f8af57c9fd0>]"
      ]
     },
     "execution_count": 6,
     "metadata": {},
     "output_type": "execute_result"
    }
   ],
   "source": [
    "apk_obj.get_available_actionable_elements(apk_obj.get_current_state())"
   ]
  },
  {
   "cell_type": "code",
   "execution_count": 7,
   "metadata": {},
   "outputs": [
    {
     "data": {
      "text/plain": [
       "[<wtg_node.WTGNode at 0x7f8af5794be0>]"
      ]
     },
     "execution_count": 7,
     "metadata": {},
     "output_type": "execute_result"
    }
   ],
   "source": [
    "apk_obj.get_wtg_state(wtg_obj)"
   ]
  },
  {
   "cell_type": "code",
   "execution_count": 53,
   "metadata": {},
   "outputs": [
    {
     "data": {
      "text/plain": [
       "{'n1': 0,\n",
       " 'n2': 1,\n",
       " 'n3': 2,\n",
       " 'n4': 3,\n",
       " 'n5': 4,\n",
       " 'n6': 5,\n",
       " 'n7': 6,\n",
       " 'n8': 7,\n",
       " 'n9': 8}"
      ]
     },
     "metadata": {},
     "output_type": "display_data"
    },
    {
     "data": {
      "text/plain": [
       "{<wtg_node.WTGNode at 0x7f8d9376e5c0>: 0,\n",
       " <wtg_node.WTGNode at 0x7f8d9376e8d0>: 1,\n",
       " <wtg_node.WTGNode at 0x7f8d9376e7f0>: 2,\n",
       " <wtg_node.WTGNode at 0x7f8d93765ef0>: 3,\n",
       " <wtg_node.WTGNode at 0x7f8d9376e668>: 4,\n",
       " <wtg_node.WTGNode at 0x7f8d9376e860>: 5,\n",
       " <wtg_node.WTGNode at 0x7f8d9376e978>: 6,\n",
       " <wtg_node.WTGNode at 0x7f8d9376e6d8>: 7,\n",
       " <wtg_node.WTGNode at 0x7f8d9376e748>: 8}"
      ]
     },
     "metadata": {},
     "output_type": "display_data"
    },
    {
     "data": {
      "text/plain": [
       "tensor([[1., 0.],\n",
       "        [1., 0.],\n",
       "        [1., 0.],\n",
       "        [1., 0.],\n",
       "        [1., 0.],\n",
       "        [1., 0.],\n",
       "        [1., 0.],\n",
       "        [1., 0.],\n",
       "        [1., 0.]])"
      ]
     },
     "metadata": {},
     "output_type": "display_data"
    }
   ],
   "source": [
    "# node mapping to integer\n",
    "# use map1 to from_networkx, and use map0 as reference\n",
    "nodes0 = sorted(list(wtg_obj.nodes.keys())) # [\"n1\", \"n2\", ...]\n",
    "label2ind = {nodes0[dind]:dind for dind in range(len(nodes0))} # \"n?\" -> ind\n",
    "node2ind = {wtg_obj.nodes[nodes0[dind]]:dind for dind in range(len(nodes0))} # obj -> ind\n",
    "display(label2ind, node2ind)\n",
    "# construct graph feature tensor\n",
    "features = torch.tensor([\n",
    "    [1,0] for dind in range(len(nodes0))\n",
    "], dtype=torch.float)\n",
    "display(features)"
   ]
  },
  {
   "cell_type": "code",
   "execution_count": 54,
   "metadata": {},
   "outputs": [
    {
     "data": {
      "text/plain": [
       "Data(edge_index=[2, 102])"
      ]
     },
     "execution_count": 54,
     "metadata": {},
     "output_type": "execute_result"
    }
   ],
   "source": [
    "tt = from_networkx(wtg_obj.wtg_graph, obj2ind)\n",
    "tt"
   ]
  },
  {
   "cell_type": "code",
   "execution_count": 55,
   "metadata": {},
   "outputs": [],
   "source": [
    "zz = torch_geometric.data.Data(x=features, edge_index=tt.edge_index)"
   ]
  },
  {
   "cell_type": "code",
   "execution_count": 56,
   "metadata": {},
   "outputs": [
    {
     "data": {
      "text/plain": [
       "2"
      ]
     },
     "execution_count": 56,
     "metadata": {},
     "output_type": "execute_result"
    }
   ],
   "source": [
    "zz.num_features"
   ]
  },
  {
   "cell_type": "code",
   "execution_count": 72,
   "metadata": {},
   "outputs": [
    {
     "data": {
      "text/plain": [
       "Data(edge_index=[2, 102], x=[9, 2])"
      ]
     },
     "execution_count": 72,
     "metadata": {},
     "output_type": "execute_result"
    }
   ],
   "source": [
    "zz.to(device)"
   ]
  },
  {
   "cell_type": "code",
   "execution_count": 3,
   "metadata": {},
   "outputs": [
    {
     "data": {
      "text/plain": [
       "[<gui_elements.GuiElements at 0x7fbb01318ba8>,\n",
       " <gui_elements.GuiElements at 0x7fbb01318c50>,\n",
       " <gui_elements.GuiElements at 0x7fbb01318c18>,\n",
       " <gui_elements.GuiElements at 0x7fbb01318cf8>,\n",
       " <gui_elements.GuiElements at 0x7fbb01318cc0>,\n",
       " <gui_elements.GuiElements at 0x7fbb01318d30>]"
      ]
     },
     "execution_count": 3,
     "metadata": {},
     "output_type": "execute_result"
    }
   ],
   "source": [
    "aa = apk_obj.get_available_actionable_elements(apk_obj.get_current_state())\n",
    "aa"
   ]
  },
  {
   "cell_type": "code",
   "execution_count": 4,
   "metadata": {},
   "outputs": [
    {
     "data": {
      "text/plain": [
       "[(<wtg_node.WTGNode at 0x7fbb01111668>,\n",
       "  <wtg_node.WTGNode at 0x7fbb012f2d30>,\n",
       "  0),\n",
       " (<wtg_node.WTGNode at 0x7fbb01111668>,\n",
       "  <wtg_node.WTGNode at 0x7fbb012f2b38>,\n",
       "  0),\n",
       " (<wtg_node.WTGNode at 0x7fbb01111668>,\n",
       "  <wtg_node.WTGNode at 0x7fbb012f2a20>,\n",
       "  0),\n",
       " (<wtg_node.WTGNode at 0x7fbb01111668>,\n",
       "  <wtg_node.WTGNode at 0x7fbb012f2ac8>,\n",
       "  0),\n",
       " (<wtg_node.WTGNode at 0x7fbb01111668>,\n",
       "  <wtg_node.WTGNode at 0x7fbb012f2ac8>,\n",
       "  1),\n",
       " (<wtg_node.WTGNode at 0x7fbb01111668>,\n",
       "  <wtg_node.WTGNode at 0x7fbb012f2c50>,\n",
       "  0)]"
      ]
     },
     "execution_count": 4,
     "metadata": {},
     "output_type": "execute_result"
    }
   ],
   "source": [
    "apk_obj.get_matching_dynamic_action_to_static_action(aa[0], wtg_obj)"
   ]
  },
  {
   "cell_type": "code",
   "execution_count": 5,
   "metadata": {},
   "outputs": [
    {
     "data": {
      "text/plain": [
       "[(<wtg_node.WTGNode at 0x7fbb01111668>,\n",
       "  <wtg_node.WTGNode at 0x7fbb012f2d30>,\n",
       "  0),\n",
       " (<wtg_node.WTGNode at 0x7fbb01111668>,\n",
       "  <wtg_node.WTGNode at 0x7fbb012f2b38>,\n",
       "  0),\n",
       " (<wtg_node.WTGNode at 0x7fbb01111668>,\n",
       "  <wtg_node.WTGNode at 0x7fbb012f2a20>,\n",
       "  0),\n",
       " (<wtg_node.WTGNode at 0x7fbb01111668>,\n",
       "  <wtg_node.WTGNode at 0x7fbb012f2ac8>,\n",
       "  0),\n",
       " (<wtg_node.WTGNode at 0x7fbb01111668>,\n",
       "  <wtg_node.WTGNode at 0x7fbb012f2ac8>,\n",
       "  1),\n",
       " (<wtg_node.WTGNode at 0x7fbb01111668>,\n",
       "  <wtg_node.WTGNode at 0x7fbb012f2c50>,\n",
       "  0)]"
      ]
     },
     "execution_count": 5,
     "metadata": {},
     "output_type": "execute_result"
    }
   ],
   "source": [
    "apk_obj.get_matching_dynamic_action_to_static_action(aa[1], wtg_obj)"
   ]
  },
  {
   "cell_type": "code",
   "execution_count": 6,
   "metadata": {},
   "outputs": [
    {
     "data": {
      "text/plain": [
       "[(<wtg_node.WTGNode at 0x7fbb01111668>,\n",
       "  <wtg_node.WTGNode at 0x7fbb012f2d30>,\n",
       "  0),\n",
       " (<wtg_node.WTGNode at 0x7fbb01111668>,\n",
       "  <wtg_node.WTGNode at 0x7fbb012f2b38>,\n",
       "  0),\n",
       " (<wtg_node.WTGNode at 0x7fbb01111668>,\n",
       "  <wtg_node.WTGNode at 0x7fbb012f2a20>,\n",
       "  0),\n",
       " (<wtg_node.WTGNode at 0x7fbb01111668>,\n",
       "  <wtg_node.WTGNode at 0x7fbb012f2ac8>,\n",
       "  0),\n",
       " (<wtg_node.WTGNode at 0x7fbb01111668>,\n",
       "  <wtg_node.WTGNode at 0x7fbb012f2ac8>,\n",
       "  1),\n",
       " (<wtg_node.WTGNode at 0x7fbb01111668>,\n",
       "  <wtg_node.WTGNode at 0x7fbb012f2c50>,\n",
       "  0)]"
      ]
     },
     "execution_count": 6,
     "metadata": {},
     "output_type": "execute_result"
    }
   ],
   "source": [
    "apk_obj.get_matching_dynamic_action_to_static_action(aa[2], wtg_obj)"
   ]
  },
  {
   "cell_type": "code",
   "execution_count": 7,
   "metadata": {},
   "outputs": [
    {
     "data": {
      "text/plain": [
       "[(<wtg_node.WTGNode at 0x7fbb01111668>,\n",
       "  <wtg_node.WTGNode at 0x7fbb012f2d30>,\n",
       "  0),\n",
       " (<wtg_node.WTGNode at 0x7fbb01111668>,\n",
       "  <wtg_node.WTGNode at 0x7fbb012f2b38>,\n",
       "  0),\n",
       " (<wtg_node.WTGNode at 0x7fbb01111668>,\n",
       "  <wtg_node.WTGNode at 0x7fbb012f2a20>,\n",
       "  0),\n",
       " (<wtg_node.WTGNode at 0x7fbb01111668>,\n",
       "  <wtg_node.WTGNode at 0x7fbb012f2ac8>,\n",
       "  0),\n",
       " (<wtg_node.WTGNode at 0x7fbb01111668>,\n",
       "  <wtg_node.WTGNode at 0x7fbb012f2ac8>,\n",
       "  1),\n",
       " (<wtg_node.WTGNode at 0x7fbb01111668>,\n",
       "  <wtg_node.WTGNode at 0x7fbb012f2c50>,\n",
       "  0)]"
      ]
     },
     "execution_count": 7,
     "metadata": {},
     "output_type": "execute_result"
    }
   ],
   "source": [
    "apk_obj.get_matching_dynamic_action_to_static_action(aa[3], wtg_obj)"
   ]
  },
  {
   "cell_type": "code",
   "execution_count": 8,
   "metadata": {},
   "outputs": [
    {
     "data": {
      "text/plain": [
       "[(<wtg_node.WTGNode at 0x7fbb01111668>,\n",
       "  <wtg_node.WTGNode at 0x7fbb012f2d30>,\n",
       "  0),\n",
       " (<wtg_node.WTGNode at 0x7fbb01111668>,\n",
       "  <wtg_node.WTGNode at 0x7fbb012f2b38>,\n",
       "  0),\n",
       " (<wtg_node.WTGNode at 0x7fbb01111668>,\n",
       "  <wtg_node.WTGNode at 0x7fbb012f2a20>,\n",
       "  0),\n",
       " (<wtg_node.WTGNode at 0x7fbb01111668>,\n",
       "  <wtg_node.WTGNode at 0x7fbb012f2ac8>,\n",
       "  0),\n",
       " (<wtg_node.WTGNode at 0x7fbb01111668>,\n",
       "  <wtg_node.WTGNode at 0x7fbb012f2ac8>,\n",
       "  1),\n",
       " (<wtg_node.WTGNode at 0x7fbb01111668>,\n",
       "  <wtg_node.WTGNode at 0x7fbb012f2c50>,\n",
       "  0)]"
      ]
     },
     "execution_count": 8,
     "metadata": {},
     "output_type": "execute_result"
    }
   ],
   "source": [
    "apk_obj.get_matching_dynamic_action_to_static_action(aa[4], wtg_obj)"
   ]
  },
  {
   "cell_type": "code",
   "execution_count": 9,
   "metadata": {},
   "outputs": [
    {
     "data": {
      "text/plain": [
       "[(<wtg_node.WTGNode at 0x7fbb01111668>,\n",
       "  <wtg_node.WTGNode at 0x7fbb012f2d30>,\n",
       "  0),\n",
       " (<wtg_node.WTGNode at 0x7fbb01111668>,\n",
       "  <wtg_node.WTGNode at 0x7fbb012f2b38>,\n",
       "  0),\n",
       " (<wtg_node.WTGNode at 0x7fbb01111668>,\n",
       "  <wtg_node.WTGNode at 0x7fbb012f2a20>,\n",
       "  0),\n",
       " (<wtg_node.WTGNode at 0x7fbb01111668>,\n",
       "  <wtg_node.WTGNode at 0x7fbb012f2ac8>,\n",
       "  0),\n",
       " (<wtg_node.WTGNode at 0x7fbb01111668>,\n",
       "  <wtg_node.WTGNode at 0x7fbb012f2ac8>,\n",
       "  1),\n",
       " (<wtg_node.WTGNode at 0x7fbb01111668>,\n",
       "  <wtg_node.WTGNode at 0x7fbb012f2c50>,\n",
       "  0)]"
      ]
     },
     "execution_count": 9,
     "metadata": {},
     "output_type": "execute_result"
    }
   ],
   "source": [
    "apk_obj.get_matching_dynamic_action_to_static_action(aa[5], wtg_obj)"
   ]
  },
  {
   "cell_type": "code",
   "execution_count": null,
   "metadata": {},
   "outputs": [],
   "source": []
  },
  {
   "cell_type": "code",
   "execution_count": null,
   "metadata": {},
   "outputs": [],
   "source": []
  },
  {
   "cell_type": "code",
   "execution_count": null,
   "metadata": {},
   "outputs": [],
   "source": []
  },
  {
   "cell_type": "code",
   "execution_count": null,
   "metadata": {},
   "outputs": [],
   "source": []
  },
  {
   "cell_type": "code",
   "execution_count": null,
   "metadata": {},
   "outputs": [],
   "source": [
    "apk_obj.get_reached_goal_states(\"train\")"
   ]
  },
  {
   "cell_type": "code",
   "execution_count": null,
   "metadata": {},
   "outputs": [],
   "source": [
    "apk_obj.get_current_state()"
   ]
  },
  {
   "cell_type": "code",
   "execution_count": 70,
   "metadata": {},
   "outputs": [
    {
     "data": {
      "text/plain": [
       "[<gui_elements.GuiElements at 0x7f8d935a7978>]"
      ]
     },
     "execution_count": 70,
     "metadata": {},
     "output_type": "execute_result"
    }
   ],
   "source": [
    "aa = apk_obj.get_available_actionable_elements(apk_obj.get_current_state())\n",
    "aa"
   ]
  },
  {
   "cell_type": "code",
   "execution_count": 12,
   "metadata": {},
   "outputs": [
    {
     "data": {
      "text/plain": [
       "[<wtg_node.WTGNode at 0x7ff5f1908f60>]"
      ]
     },
     "execution_count": 12,
     "metadata": {},
     "output_type": "execute_result"
    }
   ],
   "source": [
    "apk_obj.get_wtg_state(wtg_obj)"
   ]
  },
  {
   "cell_type": "code",
   "execution_count": 27,
   "metadata": {},
   "outputs": [
    {
     "data": {
      "text/plain": [
       "[(<wtg_node.WTGNode at 0x7ff5f1908e10>,\n",
       "  <wtg_node.WTGNode at 0x7ff5f1908e10>,\n",
       "  1),\n",
       " (<wtg_node.WTGNode at 0x7ff5f1908e10>,\n",
       "  <wtg_node.WTGNode at 0x7ff5f12b86d8>,\n",
       "  0)]"
      ]
     },
     "execution_count": 27,
     "metadata": {},
     "output_type": "execute_result"
    }
   ],
   "source": [
    "wtg_obj.get_goal_edges()"
   ]
  },
  {
   "cell_type": "code",
   "execution_count": null,
   "metadata": {},
   "outputs": [],
   "source": [
    "wtg_obj.wtg"
   ]
  },
  {
   "cell_type": "code",
   "execution_count": null,
   "metadata": {},
   "outputs": [],
   "source": [
    "nx.all_pairs_shortest_path(wtg_obj.wtg)"
   ]
  },
  {
   "cell_type": "code",
   "execution_count": null,
   "metadata": {},
   "outputs": [],
   "source": [
    "nx.shortest_path(wtg_obj.wtg, apk_obj.get_wtg_state(wtg_obj)[0], apk_obj.get_wtg_state(wtg_obj)[0])"
   ]
  },
  {
   "cell_type": "code",
   "execution_count": 28,
   "metadata": {},
   "outputs": [
    {
     "data": {
      "text/plain": [
       "[<wtg_node.WTGNode at 0x7ff5f1908d30>]"
      ]
     },
     "execution_count": 28,
     "metadata": {},
     "output_type": "execute_result"
    }
   ],
   "source": [
    "apk_obj.get_wtg_state(wtg_obj)"
   ]
  },
  {
   "cell_type": "code",
   "execution_count": null,
   "metadata": {},
   "outputs": [],
   "source": [
    "wtg_obj.wtg_graph"
   ]
  },
  {
   "cell_type": "code",
   "execution_count": 36,
   "metadata": {},
   "outputs": [
    {
     "data": {
      "text/plain": [
       "{'n4': <wtg_node.WTGNode at 0x7ff5f12b86d8>,\n",
       " 'n1': <wtg_node.WTGNode at 0x7ff5f12b8630>,\n",
       " 'n5': <wtg_node.WTGNode at 0x7ff5f1908fd0>,\n",
       " 'n8': <wtg_node.WTGNode at 0x7ff5f1908f60>,\n",
       " 'n9': <wtg_node.WTGNode at 0x7ff5f1908ef0>,\n",
       " 'n3': <wtg_node.WTGNode at 0x7ff5f1908e10>,\n",
       " 'n6': <wtg_node.WTGNode at 0x7ff5f1908da0>,\n",
       " 'n2': <wtg_node.WTGNode at 0x7ff5f1908d30>,\n",
       " 'n7': <wtg_node.WTGNode at 0x7ff5f1908c88>}"
      ]
     },
     "execution_count": 36,
     "metadata": {},
     "output_type": "execute_result"
    }
   ],
   "source": [
    "wtg_obj.nodes"
   ]
  },
  {
   "cell_type": "code",
   "execution_count": null,
   "metadata": {},
   "outputs": [],
   "source": [
    "wtg_obj.wtg"
   ]
  },
  {
   "cell_type": "code",
   "execution_count": null,
   "metadata": {},
   "outputs": [],
   "source": [
    "wtg_obj.wtg.nodes"
   ]
  },
  {
   "cell_type": "code",
   "execution_count": null,
   "metadata": {},
   "outputs": [],
   "source": [
    "wtg_obj.wtg_graph"
   ]
  },
  {
   "cell_type": "code",
   "execution_count": null,
   "metadata": {},
   "outputs": [],
   "source": [
    "nx.shortest_path(wtg_obj.wtg_graph, apk_obj.get_wtg_state(wtg_obj)[0], apk_obj.get_wtg_state(wtg_obj)[0])"
   ]
  },
  {
   "cell_type": "code",
   "execution_count": null,
   "metadata": {},
   "outputs": [],
   "source": [
    "nx.shortest_path_length(wtg_obj.wtg_graph, apk_obj.get_wtg_state(wtg_obj)[0], apk_obj.get_wtg_state(wtg_obj)[0])"
   ]
  },
  {
   "cell_type": "code",
   "execution_count": null,
   "metadata": {},
   "outputs": [],
   "source": [
    "wtg_obj.get_goal_edges()"
   ]
  },
  {
   "cell_type": "code",
   "execution_count": null,
   "metadata": {},
   "outputs": [],
   "source": [
    "nx.shortest_path_length(\n",
    "    wtg_obj.wtg_graph, \n",
    "    apk_obj.get_wtg_state(wtg_obj)[0],\n",
    "    wtg_obj.get_goal_edges()[0][1]\n",
    ")"
   ]
  },
  {
   "cell_type": "code",
   "execution_count": 21,
   "metadata": {},
   "outputs": [
    {
     "data": {
      "text/plain": [
       "<networkx.classes.multidigraph.MultiDiGraph at 0x7feae079bf98>"
      ]
     },
     "execution_count": 21,
     "metadata": {},
     "output_type": "execute_result"
    }
   ],
   "source": [
    "wtg_obj.wtg_graph"
   ]
  },
  {
   "cell_type": "code",
   "execution_count": null,
   "metadata": {},
   "outputs": [],
   "source": []
  },
  {
   "cell_type": "code",
   "execution_count": 55,
   "metadata": {},
   "outputs": [
    {
     "data": {
      "text/plain": [
       "{'n4': <wtg_node.WTGNode at 0x7ff5f12b86d8>,\n",
       " 'n1': <wtg_node.WTGNode at 0x7ff5f12b8630>,\n",
       " 'n5': <wtg_node.WTGNode at 0x7ff5f1908fd0>,\n",
       " 'n8': <wtg_node.WTGNode at 0x7ff5f1908f60>,\n",
       " 'n9': <wtg_node.WTGNode at 0x7ff5f1908ef0>,\n",
       " 'n3': <wtg_node.WTGNode at 0x7ff5f1908e10>,\n",
       " 'n6': <wtg_node.WTGNode at 0x7ff5f1908da0>,\n",
       " 'n2': <wtg_node.WTGNode at 0x7ff5f1908d30>,\n",
       " 'n7': <wtg_node.WTGNode at 0x7ff5f1908c88>}"
      ]
     },
     "execution_count": 55,
     "metadata": {},
     "output_type": "execute_result"
    }
   ],
   "source": [
    "wtg_obj.nodes"
   ]
  },
  {
   "cell_type": "code",
   "execution_count": 75,
   "metadata": {},
   "outputs": [
    {
     "data": {
      "text/plain": [
       "{<wtg_node.WTGNode at 0x7ff5f12b86d8>: 'n4',\n",
       " <wtg_node.WTGNode at 0x7ff5f12b8630>: 'n1',\n",
       " <wtg_node.WTGNode at 0x7ff5f1908fd0>: 'n5',\n",
       " <wtg_node.WTGNode at 0x7ff5f1908f60>: 'n8',\n",
       " <wtg_node.WTGNode at 0x7ff5f1908ef0>: 'n9',\n",
       " <wtg_node.WTGNode at 0x7ff5f1908e10>: 'n3',\n",
       " <wtg_node.WTGNode at 0x7ff5f1908da0>: 'n6',\n",
       " <wtg_node.WTGNode at 0x7ff5f1908d30>: 'n2',\n",
       " <wtg_node.WTGNode at 0x7ff5f1908c88>: 'n7'}"
      ]
     },
     "execution_count": 75,
     "metadata": {},
     "output_type": "execute_result"
    }
   ],
   "source": [
    "map0 = {wtg_obj.nodes[dkey]:dkey for dkey in wtg_obj.nodes.keys()}\n",
    "map0"
   ]
  },
  {
   "cell_type": "code",
   "execution_count": 76,
   "metadata": {},
   "outputs": [
    {
     "data": {
      "text/plain": [
       "<networkx.classes.multidigraph.MultiDiGraph at 0x7ff5d5c3bb70>"
      ]
     },
     "execution_count": 76,
     "metadata": {},
     "output_type": "execute_result"
    }
   ],
   "source": [
    "qq = nx.relabel_nodes(wtg_obj.wtg_graph, map0)\n",
    "qq"
   ]
  },
  {
   "cell_type": "code",
   "execution_count": 77,
   "metadata": {},
   "outputs": [
    {
     "data": {
      "text/plain": [
       "NodeView(('n4', 'n1', 'n5', 'n8', 'n9', 'n3', 'n6', 'n2', 'n7'))"
      ]
     },
     "execution_count": 77,
     "metadata": {},
     "output_type": "execute_result"
    }
   ],
   "source": [
    "qq.nodes"
   ]
  },
  {
   "cell_type": "code",
   "execution_count": 56,
   "metadata": {},
   "outputs": [
    {
     "data": {
      "text/plain": [
       "NodeView((<wtg_node.WTGNode object at 0x7ff5f12b86d8>, <wtg_node.WTGNode object at 0x7ff5f12b8630>, <wtg_node.WTGNode object at 0x7ff5f1908fd0>, <wtg_node.WTGNode object at 0x7ff5f1908f60>, <wtg_node.WTGNode object at 0x7ff5f1908ef0>, <wtg_node.WTGNode object at 0x7ff5f1908e10>, <wtg_node.WTGNode object at 0x7ff5f1908da0>, <wtg_node.WTGNode object at 0x7ff5f1908d30>, <wtg_node.WTGNode object at 0x7ff5f1908c88>))"
      ]
     },
     "execution_count": 56,
     "metadata": {},
     "output_type": "execute_result"
    }
   ],
   "source": [
    "tt.nodes"
   ]
  },
  {
   "cell_type": "code",
   "execution_count": 13,
   "metadata": {},
   "outputs": [],
   "source": [
    "from torch_geometric.utils import from_networkx"
   ]
  },
  {
   "cell_type": "code",
   "execution_count": 14,
   "metadata": {},
   "outputs": [],
   "source": [
    "tt = wtg_obj.wtg_graph\n",
    "dd = from_networkx(tt)"
   ]
  },
  {
   "cell_type": "code",
   "execution_count": 15,
   "metadata": {},
   "outputs": [
    {
     "data": {
      "text/plain": [
       "Data(edge_index=[2, 102])"
      ]
     },
     "execution_count": 15,
     "metadata": {},
     "output_type": "execute_result"
    }
   ],
   "source": [
    "dd"
   ]
  },
  {
   "cell_type": "code",
   "execution_count": 44,
   "metadata": {},
   "outputs": [
    {
     "data": {
      "text/plain": [
       "NodeDataView({<wtg_node.WTGNode object at 0x7ff5f12b86d8>: {}, <wtg_node.WTGNode object at 0x7ff5f12b8630>: {}, <wtg_node.WTGNode object at 0x7ff5f1908fd0>: {}, <wtg_node.WTGNode object at 0x7ff5f1908f60>: {}, <wtg_node.WTGNode object at 0x7ff5f1908ef0>: {}, <wtg_node.WTGNode object at 0x7ff5f1908e10>: {}, <wtg_node.WTGNode object at 0x7ff5f1908da0>: {}, <wtg_node.WTGNode object at 0x7ff5f1908d30>: {}, <wtg_node.WTGNode object at 0x7ff5f1908c88>: {}})"
      ]
     },
     "execution_count": 44,
     "metadata": {},
     "output_type": "execute_result"
    }
   ],
   "source": [
    "tt.nodes(data=True)"
   ]
  },
  {
   "cell_type": "code",
   "execution_count": 48,
   "metadata": {},
   "outputs": [
    {
     "data": {
      "text/plain": [
       "['__apply__',\n",
       " '__call__',\n",
       " '__cat_dim__',\n",
       " '__class__',\n",
       " '__contains__',\n",
       " '__delattr__',\n",
       " '__dict__',\n",
       " '__dir__',\n",
       " '__doc__',\n",
       " '__eq__',\n",
       " '__format__',\n",
       " '__ge__',\n",
       " '__getattribute__',\n",
       " '__getitem__',\n",
       " '__gt__',\n",
       " '__hash__',\n",
       " '__inc__',\n",
       " '__init__',\n",
       " '__init_subclass__',\n",
       " '__iter__',\n",
       " '__le__',\n",
       " '__len__',\n",
       " '__lt__',\n",
       " '__module__',\n",
       " '__ne__',\n",
       " '__new__',\n",
       " '__num_nodes__',\n",
       " '__reduce__',\n",
       " '__reduce_ex__',\n",
       " '__repr__',\n",
       " '__setattr__',\n",
       " '__setitem__',\n",
       " '__sizeof__',\n",
       " '__str__',\n",
       " '__subclasshook__',\n",
       " '__weakref__',\n",
       " 'apply',\n",
       " 'clone',\n",
       " 'coalesce',\n",
       " 'contains_isolated_nodes',\n",
       " 'contains_self_loops',\n",
       " 'contiguous',\n",
       " 'debug',\n",
       " 'edge_attr',\n",
       " 'edge_index',\n",
       " 'face',\n",
       " 'from_dict',\n",
       " 'is_coalesced',\n",
       " 'is_directed',\n",
       " 'is_undirected',\n",
       " 'keys',\n",
       " 'normal',\n",
       " 'num_edge_features',\n",
       " 'num_edges',\n",
       " 'num_faces',\n",
       " 'num_features',\n",
       " 'num_node_features',\n",
       " 'num_nodes',\n",
       " 'pos',\n",
       " 'to',\n",
       " 'to_dict',\n",
       " 'to_namedtuple',\n",
       " 'x',\n",
       " 'y']"
      ]
     },
     "execution_count": 48,
     "metadata": {},
     "output_type": "execute_result"
    }
   ],
   "source": [
    "dir(dd)"
   ]
  },
  {
   "cell_type": "code",
   "execution_count": 57,
   "metadata": {},
   "outputs": [
    {
     "data": {
      "text/plain": [
       "NodeView((<wtg_node.WTGNode object at 0x7ff5f12b86d8>, <wtg_node.WTGNode object at 0x7ff5f12b8630>, <wtg_node.WTGNode object at 0x7ff5f1908fd0>, <wtg_node.WTGNode object at 0x7ff5f1908f60>, <wtg_node.WTGNode object at 0x7ff5f1908ef0>, <wtg_node.WTGNode object at 0x7ff5f1908e10>, <wtg_node.WTGNode object at 0x7ff5f1908da0>, <wtg_node.WTGNode object at 0x7ff5f1908d30>, <wtg_node.WTGNode object at 0x7ff5f1908c88>))"
      ]
     },
     "execution_count": 57,
     "metadata": {},
     "output_type": "execute_result"
    }
   ],
   "source": [
    "tt.nodes"
   ]
  },
  {
   "cell_type": "code",
   "execution_count": 52,
   "metadata": {},
   "outputs": [],
   "source": [
    "rr = nx.convert_node_labels_to_integers(tt)"
   ]
  },
  {
   "cell_type": "code",
   "execution_count": 53,
   "metadata": {},
   "outputs": [
    {
     "data": {
      "text/plain": [
       "NodeView((0, 1, 2, 3, 4, 5, 6, 7, 8))"
      ]
     },
     "execution_count": 53,
     "metadata": {},
     "output_type": "execute_result"
    }
   ],
   "source": [
    "rr.nodes"
   ]
  },
  {
   "cell_type": "code",
   "execution_count": 65,
   "metadata": {},
   "outputs": [
    {
     "data": {
      "text/plain": [
       "NodeView((0, 1, 2, 3, 4, 5, 6, 7, 8))"
      ]
     },
     "execution_count": 65,
     "metadata": {},
     "output_type": "execute_result"
    }
   ],
   "source": [
    "rr.nodes"
   ]
  },
  {
   "cell_type": "code",
   "execution_count": 74,
   "metadata": {},
   "outputs": [
    {
     "data": {
      "text/plain": [
       "<wtg_node.WTGNode at 0x7ff5f12b86d8>"
      ]
     },
     "execution_count": 74,
     "metadata": {},
     "output_type": "execute_result"
    }
   ],
   "source": [
    "list(tt.nodes.keys())[0]"
   ]
  },
  {
   "cell_type": "code",
   "execution_count": 54,
   "metadata": {},
   "outputs": [
    {
     "data": {
      "text/plain": [
       "NodeView((<wtg_node.WTGNode object at 0x7ff5f12b86d8>, <wtg_node.WTGNode object at 0x7ff5f12b8630>, <wtg_node.WTGNode object at 0x7ff5f1908fd0>, <wtg_node.WTGNode object at 0x7ff5f1908f60>, <wtg_node.WTGNode object at 0x7ff5f1908ef0>, <wtg_node.WTGNode object at 0x7ff5f1908e10>, <wtg_node.WTGNode object at 0x7ff5f1908da0>, <wtg_node.WTGNode object at 0x7ff5f1908d30>, <wtg_node.WTGNode object at 0x7ff5f1908c88>))"
      ]
     },
     "execution_count": 54,
     "metadata": {},
     "output_type": "execute_result"
    }
   ],
   "source": [
    "tt.nodes"
   ]
  },
  {
   "cell_type": "code",
   "execution_count": 42,
   "metadata": {},
   "outputs": [
    {
     "ename": "TypeError",
     "evalue": "__str__ returned non-string (type NoneType)",
     "output_type": "error",
     "traceback": [
      "\u001b[0;31m---------------------------------------------------------------------------\u001b[0m",
      "\u001b[0;31mTypeError\u001b[0m                                 Traceback (most recent call last)",
      "\u001b[0;32m<ipython-input-42-78d262b1f975>\u001b[0m in \u001b[0;36m<module>\u001b[0;34m\u001b[0m\n\u001b[1;32m      1\u001b[0m \u001b[0;32mfor\u001b[0m \u001b[0mi\u001b[0m\u001b[0;34m,\u001b[0m \u001b[0;34m(\u001b[0m\u001b[0mQ\u001b[0m\u001b[0;34m,\u001b[0m \u001b[0mfeat_dict\u001b[0m\u001b[0;34m)\u001b[0m \u001b[0;32min\u001b[0m \u001b[0menumerate\u001b[0m\u001b[0;34m(\u001b[0m\u001b[0mtt\u001b[0m\u001b[0;34m.\u001b[0m\u001b[0mnodes\u001b[0m\u001b[0;34m(\u001b[0m\u001b[0mdata\u001b[0m\u001b[0;34m=\u001b[0m\u001b[0;32mTrue\u001b[0m\u001b[0;34m)\u001b[0m\u001b[0;34m)\u001b[0m\u001b[0;34m:\u001b[0m\u001b[0;34m\u001b[0m\u001b[0;34m\u001b[0m\u001b[0m\n\u001b[0;32m----> 2\u001b[0;31m     \u001b[0mprint\u001b[0m\u001b[0;34m(\u001b[0m\u001b[0;34m\"i={}, Q={}, fd={}\"\u001b[0m\u001b[0;34m.\u001b[0m\u001b[0mformat\u001b[0m\u001b[0;34m(\u001b[0m\u001b[0mi\u001b[0m\u001b[0;34m,\u001b[0m \u001b[0mQ\u001b[0m\u001b[0;34m,\u001b[0m \u001b[0mfeat_dict\u001b[0m\u001b[0;34m)\u001b[0m\u001b[0;34m)\u001b[0m\u001b[0;34m\u001b[0m\u001b[0;34m\u001b[0m\u001b[0m\n\u001b[0m\u001b[1;32m      3\u001b[0m     \u001b[0;32mfor\u001b[0m \u001b[0mkey\u001b[0m\u001b[0;34m,\u001b[0m \u001b[0mvalue\u001b[0m \u001b[0;32min\u001b[0m \u001b[0mfeat_dict\u001b[0m\u001b[0;34m.\u001b[0m\u001b[0mitems\u001b[0m\u001b[0;34m(\u001b[0m\u001b[0;34m)\u001b[0m\u001b[0;34m:\u001b[0m\u001b[0;34m\u001b[0m\u001b[0;34m\u001b[0m\u001b[0m\n\u001b[1;32m      4\u001b[0m         \u001b[0mprint\u001b[0m\u001b[0;34m(\u001b[0m\u001b[0;34m\"key={}, value={}\"\u001b[0m\u001b[0;34m.\u001b[0m\u001b[0mformat\u001b[0m\u001b[0;34m(\u001b[0m\u001b[0mkey\u001b[0m\u001b[0;34m,\u001b[0m \u001b[0mvalue\u001b[0m\u001b[0;34m)\u001b[0m\u001b[0;34m)\u001b[0m\u001b[0;34m\u001b[0m\u001b[0;34m\u001b[0m\u001b[0m\n",
      "\u001b[0;31mTypeError\u001b[0m: __str__ returned non-string (type NoneType)"
     ]
    }
   ],
   "source": [
    "for i, (Q, feat_dict) in enumerate(tt.nodes(data=True)):\n",
    "    print(\"i={}, Q={}, fd={}\".format(i, Q, feat_dict))\n",
    "    for key, value in feat_dict.items():\n",
    "        print(\"key={}, value={}\".format(key, value))"
   ]
  },
  {
   "cell_type": "code",
   "execution_count": 18,
   "metadata": {},
   "outputs": [
    {
     "data": {
      "text/plain": [
       "0"
      ]
     },
     "execution_count": 18,
     "metadata": {},
     "output_type": "execute_result"
    }
   ],
   "source": [
    "dd.num_node_features"
   ]
  },
  {
   "cell_type": "code",
   "execution_count": 21,
   "metadata": {},
   "outputs": [
    {
     "data": {
      "text/plain": [
       "9"
      ]
     },
     "execution_count": 21,
     "metadata": {},
     "output_type": "execute_result"
    }
   ],
   "source": [
    "dd.num_nodes"
   ]
  },
  {
   "cell_type": "code",
   "execution_count": 22,
   "metadata": {},
   "outputs": [
    {
     "data": {
      "text/plain": [
       "102"
      ]
     },
     "execution_count": 22,
     "metadata": {},
     "output_type": "execute_result"
    }
   ],
   "source": [
    "dd.num_edges"
   ]
  },
  {
   "cell_type": "code",
   "execution_count": 23,
   "metadata": {},
   "outputs": [
    {
     "data": {
      "text/plain": [
       "True"
      ]
     },
     "execution_count": 23,
     "metadata": {},
     "output_type": "execute_result"
    }
   ],
   "source": [
    "dd.is_directed()"
   ]
  },
  {
   "cell_type": "code",
   "execution_count": 25,
   "metadata": {},
   "outputs": [
    {
     "data": {
      "text/plain": [
       "['edge_index']"
      ]
     },
     "execution_count": 25,
     "metadata": {},
     "output_type": "execute_result"
    }
   ],
   "source": [
    "dd.keys"
   ]
  },
  {
   "cell_type": "code",
   "execution_count": 26,
   "metadata": {},
   "outputs": [
    {
     "data": {
      "text/plain": [
       "tensor([[0, 0, 0, 0, 0, 0, 0, 0, 0, 0, 0, 0, 1, 1, 1, 1, 1, 1, 1, 2, 2, 2, 2, 2,\n",
       "         2, 2, 2, 2, 2, 2, 2, 2, 2, 3, 3, 3, 3, 3, 3, 4, 5, 5, 5, 5, 5, 5, 5, 5,\n",
       "         5, 5, 5, 6, 6, 6, 6, 7, 7, 7, 7, 7, 7, 7, 7, 7, 8, 8, 8, 8, 4, 0, 0, 0,\n",
       "         1, 7, 7, 2, 2, 3, 5, 5, 1, 1, 1, 0, 5, 7, 2, 7, 7, 7, 0, 0, 0, 2, 2, 1,\n",
       "         1, 1, 5, 5, 5, 3],\n",
       "        [0, 0, 0, 5, 7, 0, 5, 5, 5, 5, 5, 5, 8, 0, 0, 2, 1, 7, 7, 7, 6, 7, 7, 7,\n",
       "         1, 0, 0, 2, 2, 6, 5, 5, 5, 8, 0, 0, 1, 2, 0, 0, 1, 0, 1, 0, 0, 1, 0, 1,\n",
       "         2, 0, 0, 0, 0, 0, 1, 2, 0, 1, 2, 0, 1, 0, 1, 2, 0, 1, 2, 0, 0, 1, 2, 0,\n",
       "         0, 0, 0, 1, 2, 3, 4, 5, 0, 0, 1, 0, 0, 0, 1, 2, 0, 0, 1, 2, 0, 0, 1, 0,\n",
       "         1, 0, 0, 1, 2, 0]])"
      ]
     },
     "execution_count": 26,
     "metadata": {},
     "output_type": "execute_result"
    }
   ],
   "source": [
    "dd.edge_index"
   ]
  },
  {
   "cell_type": "code",
   "execution_count": 16,
   "metadata": {},
   "outputs": [],
   "source": [
    "from torch_geometric.nn import GCNConv\n",
    "\n",
    "class Net(torch.nn.Module):\n",
    "    def __init__(self):\n",
    "        super(Net, self).__init__()\n",
    "        self.conv1 = GCNConv(dd.num_node_features, 16)\n",
    "        self.conv2 = GCNConv(16, dd.num_classes)\n",
    "\n",
    "    def forward(self, data):\n",
    "        x, edge_index = data.x, data.edge_index\n",
    "\n",
    "        x = self.conv1(x, edge_index)\n",
    "        x = F.relu(x)\n",
    "        x = F.dropout(x, training=self.training)\n",
    "        x = self.conv2(x, edge_index)\n",
    "\n",
    "        return F.log_softmax(x, dim=1)"
   ]
  },
  {
   "cell_type": "code",
   "execution_count": 17,
   "metadata": {},
   "outputs": [
    {
     "ename": "NameError",
     "evalue": "name 'dataset' is not defined",
     "output_type": "error",
     "traceback": [
      "\u001b[0;31m---------------------------------------------------------------------------\u001b[0m",
      "\u001b[0;31mNameError\u001b[0m                                 Traceback (most recent call last)",
      "\u001b[0;32m<ipython-input-17-ea62abdf8deb>\u001b[0m in \u001b[0;36m<module>\u001b[0;34m\u001b[0m\n\u001b[0;32m----> 1\u001b[0;31m \u001b[0mmodel\u001b[0m \u001b[0;34m=\u001b[0m \u001b[0mNet\u001b[0m\u001b[0;34m(\u001b[0m\u001b[0;34m)\u001b[0m\u001b[0;34m.\u001b[0m\u001b[0mto\u001b[0m\u001b[0;34m(\u001b[0m\u001b[0mdevice\u001b[0m\u001b[0;34m)\u001b[0m\u001b[0;34m\u001b[0m\u001b[0;34m\u001b[0m\u001b[0m\n\u001b[0m",
      "\u001b[0;32m<ipython-input-16-5ff5a4bbf780>\u001b[0m in \u001b[0;36m__init__\u001b[0;34m(self)\u001b[0m\n\u001b[1;32m      4\u001b[0m     \u001b[0;32mdef\u001b[0m \u001b[0m__init__\u001b[0m\u001b[0;34m(\u001b[0m\u001b[0mself\u001b[0m\u001b[0;34m)\u001b[0m\u001b[0;34m:\u001b[0m\u001b[0;34m\u001b[0m\u001b[0;34m\u001b[0m\u001b[0m\n\u001b[1;32m      5\u001b[0m         \u001b[0msuper\u001b[0m\u001b[0;34m(\u001b[0m\u001b[0mNet\u001b[0m\u001b[0;34m,\u001b[0m \u001b[0mself\u001b[0m\u001b[0;34m)\u001b[0m\u001b[0;34m.\u001b[0m\u001b[0m__init__\u001b[0m\u001b[0;34m(\u001b[0m\u001b[0;34m)\u001b[0m\u001b[0;34m\u001b[0m\u001b[0;34m\u001b[0m\u001b[0m\n\u001b[0;32m----> 6\u001b[0;31m         \u001b[0mself\u001b[0m\u001b[0;34m.\u001b[0m\u001b[0mconv1\u001b[0m \u001b[0;34m=\u001b[0m \u001b[0mGCNConv\u001b[0m\u001b[0;34m(\u001b[0m\u001b[0mdataset\u001b[0m\u001b[0;34m.\u001b[0m\u001b[0mnum_node_features\u001b[0m\u001b[0;34m,\u001b[0m \u001b[0;36m16\u001b[0m\u001b[0;34m)\u001b[0m\u001b[0;34m\u001b[0m\u001b[0;34m\u001b[0m\u001b[0m\n\u001b[0m\u001b[1;32m      7\u001b[0m         \u001b[0mself\u001b[0m\u001b[0;34m.\u001b[0m\u001b[0mconv2\u001b[0m \u001b[0;34m=\u001b[0m \u001b[0mGCNConv\u001b[0m\u001b[0;34m(\u001b[0m\u001b[0;36m16\u001b[0m\u001b[0;34m,\u001b[0m \u001b[0mdataset\u001b[0m\u001b[0;34m.\u001b[0m\u001b[0mnum_classes\u001b[0m\u001b[0;34m)\u001b[0m\u001b[0;34m\u001b[0m\u001b[0;34m\u001b[0m\u001b[0m\n\u001b[1;32m      8\u001b[0m \u001b[0;34m\u001b[0m\u001b[0m\n",
      "\u001b[0;31mNameError\u001b[0m: name 'dataset' is not defined"
     ]
    }
   ],
   "source": [
    "model = Net().to(device)"
   ]
  },
  {
   "cell_type": "code",
   "execution_count": null,
   "metadata": {},
   "outputs": [],
   "source": [
    "model.train()\n",
    "out = model(dd)\n",
    "out"
   ]
  }
 ],
 "metadata": {
  "kernelspec": {
   "display_name": "Python 3",
   "language": "python",
   "name": "python3"
  },
  "language_info": {
   "codemirror_mode": {
    "name": "ipython",
    "version": 3
   },
   "file_extension": ".py",
   "mimetype": "text/x-python",
   "name": "python",
   "nbconvert_exporter": "python",
   "pygments_lexer": "ipython3",
   "version": "3.8.8"
  }
 },
 "nbformat": 4,
 "nbformat_minor": 4
}

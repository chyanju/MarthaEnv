{
 "cells": [
  {
   "cell_type": "markdown",
   "metadata": {},
   "source": [
    "## Feature Extraction Functions"
   ]
  },
  {
   "cell_type": "code",
   "execution_count": 1,
   "metadata": {},
   "outputs": [],
   "source": [
    "from xml.dom import minidom\n",
    "from collections import defaultdict \n",
    "import numpy as np\n",
    "import editdistance\n",
    "import random\n",
    "import time\n",
    "\n",
    "EMBEDDING_DIM = 16\n",
    "\n",
    "MAXN_STATE_NODES = 400 # maximum number of state nodes used\n",
    "MAX_TOKEN_LENGTH = 20 # maximum token length padded to\n",
    "\n",
    "NODE_KEY_LIST = [ \n",
    "    # slot names (keys) of a node to add as features\n",
    "    \"index\", # integer\n",
    "    \"checkable\", \"checked\", \"clickable\", \"enabled\", \"focusable\", \"focused\", # boolean\n",
    "    \"scrollable\", \"long-clickable\", \"password\", \"selected\", \"visible-to-user\", # boolean\n",
    "    \"bounds\", # interval\n",
    "    \"content-desc\", # string\n",
    "    \"resource-id\", \"class\", \"package\", # formatted string\n",
    "]\n",
    "NODE_KEY_DICT = {NODE_KEY_LIST[i]:i for i in range(len(NODE_KEY_LIST))}\n",
    "\n",
    "CHAR_LIST = [\"<PAD>\", \"<UNK>\"] +\\\n",
    "list(\"ABCDEFGHIJKLMNOPQRSTUVWXYZ\") +\\\n",
    "list(\"abcdefghijklmnopqrstuvwxyz\") +\\\n",
    "list(\"0123456789\") +\\\n",
    "list(\"`~!@#$%^&*()_+-={}|[]:;'',.<>/?\") +\\\n",
    "[\"\\\\\"] + ['\"']\n",
    "CHAR_DICT = defaultdict(\n",
    "    lambda:CHAR_LIST.index(\"<UNK>\"), \n",
    "    {CHAR_LIST[i]:i for i in range(len(CHAR_LIST))}\n",
    ")\n",
    "\n",
    "PADDING_NODE_VECTOR = [ [CHAR_DICT[\"<PAD>\"] for _ in range(MAX_TOKEN_LENGTH)] for _ in range(len(NODE_KEY_LIST))]"
   ]
  },
  {
   "cell_type": "code",
   "execution_count": 2,
   "metadata": {},
   "outputs": [],
   "source": [
    "# specific method for target encoding\n",
    "# similar to get_node_vector but without the node assumption\n",
    "# arg_node is a list of strings\n",
    "def get_sentence_vector(arg_sent):\n",
    "    sent_vector = []\n",
    "    for j in range(len(arg_sent)):\n",
    "        chars_j = list(arg_sent[j])\n",
    "        # get the indices for every char\n",
    "        inds_j = [CHAR_DICT[chars_j[k]] for k in range( min(MAX_TOKEN_LENGTH,len(chars_j)) )]\n",
    "        # pad the inds\n",
    "        inds_j += [CHAR_DICT[\"<PAD>\"]] * ( MAX_TOKEN_LENGTH-len(inds_j) )\n",
    "        sent_vector.append(inds_j)\n",
    "    return sent_vector\n",
    "\n",
    "# arg_node is a gui element object\n",
    "# (element from action list)\n",
    "def get_element_vector(arg_elem):\n",
    "    elem_vector = []\n",
    "    for j in range(len(NODE_KEY_LIST)):\n",
    "        key_j = NODE_KEY_LIST[j]\n",
    "        str_j = str(arg_elem.attributes[key_j])\n",
    "        chars_j = list(str_j)\n",
    "        # get the indices for every char\n",
    "        inds_j = [CHAR_DICT[chars_j[k]] for k in range( min(MAX_TOKEN_LENGTH,len(chars_j)) )]\n",
    "        # pad the inds\n",
    "        inds_j += [CHAR_DICT[\"<PAD>\"]] * ( MAX_TOKEN_LENGTH-len(inds_j) )\n",
    "        elem_vector.append(inds_j)\n",
    "    return elem_vector\n",
    "\n",
    "# arg_node is a ui element object\n",
    "# (node from state)\n",
    "def get_node_vector(arg_node):\n",
    "    node_vector = []\n",
    "    for j in range(len(NODE_KEY_LIST)):\n",
    "        key_j = NODE_KEY_LIST[j]\n",
    "        str_j = str(arg_node.attributes[key_j].value)\n",
    "        chars_j = list(str_j)\n",
    "        # get the indices for every char\n",
    "        inds_j = [CHAR_DICT[chars_j[k]] for k in range( min(MAX_TOKEN_LENGTH,len(chars_j)) )]\n",
    "        # pad the inds\n",
    "        inds_j += [CHAR_DICT[\"<PAD>\"]] * ( MAX_TOKEN_LENGTH-len(inds_j) )\n",
    "        node_vector.append(inds_j)\n",
    "    return node_vector\n",
    "\n",
    "# a state here is a windows hierarchy string\n",
    "def get_state_matrix(arg_wh):\n",
    "    state_nodes = minidom.parseString(arg_wh).getElementsByTagName('node')\n",
    "    state_matrix = []\n",
    "    for i in range( min(MAXN_STATE_NODES,len(state_nodes)) ):\n",
    "        state_vector = []\n",
    "        node_i = state_nodes[i]\n",
    "        node_vector_i = get_node_vector(node_i)\n",
    "        state_matrix.append(node_vector_i)\n",
    "    # pad the state matrix\n",
    "    state_matrix += [PADDING_NODE_VECTOR] * ( MAXN_STATE_NODES-len(state_matrix) )\n",
    "    return state_matrix"
   ]
  },
  {
   "cell_type": "markdown",
   "metadata": {},
   "source": [
    "## Neural Agent\n",
    "- UniversalTokenEncoder: relu\n",
    "- StateEncoder: relu\n",
    "- TargetEncoder: relu\n",
    "- ActionEncoder: sigmoid"
   ]
  },
  {
   "cell_type": "code",
   "execution_count": 3,
   "metadata": {},
   "outputs": [
    {
     "name": "stdout",
     "output_type": "stream",
     "text": [
      "device: cpu\n",
      "torch version: 1.6.0\n"
     ]
    }
   ],
   "source": [
    "import torch\n",
    "import numpy as np\n",
    "import torch.nn as nn\n",
    "import torch.nn.functional as F\n",
    "from torch.autograd import Variable\n",
    "\n",
    "device = torch.device(\"cuda:0\" if torch.cuda.is_available() else \"cpu\")\n",
    "print(\"device: {}\".format(device))\n",
    "print(\"torch version: {}\".format(torch.__version__))"
   ]
  },
  {
   "cell_type": "code",
   "execution_count": 4,
   "metadata": {},
   "outputs": [],
   "source": [
    "class UniversalTokenEncoder(nn.Module):\n",
    "    def __init__(self, arg_embedding_dim):\n",
    "        super(UniversalTokenEncoder, self).__init__()\n",
    "        self.embedding_dim = arg_embedding_dim\n",
    "        self.char_embedding = nn.Embedding(\n",
    "            num_embeddings=len(CHAR_LIST),\n",
    "            embedding_dim=arg_embedding_dim,\n",
    "        )\n",
    "        self.n_kernels = [10, 10, 10]\n",
    "        self.kernel_sizes = [1, 2, 3]\n",
    "        self.convs = nn.ModuleList([\n",
    "            nn.Conv1d(\n",
    "                in_channels=arg_embedding_dim, \n",
    "                out_channels=self.n_kernels[i], \n",
    "                kernel_size=self.kernel_sizes[i], \n",
    "                padding=0\n",
    "            )\n",
    "            for i in range(len(self.kernel_sizes))\n",
    "        ])\n",
    "        self.pools = nn.ModuleList([\n",
    "            nn.MaxPool1d(MAX_TOKEN_LENGTH+1-self.kernel_sizes[i], padding=0)\n",
    "            for i in range(len(self.kernel_sizes))\n",
    "        ])\n",
    "        self.linear = nn.Linear(sum(self.n_kernels), arg_embedding_dim)\n",
    "        \n",
    "    # input a batch of sequences (high-dimensional)\n",
    "    # arg_seqs: (B=1, ??, len(NODE_KEY_LIST), MAX_TOKEN_LENGTH)\n",
    "    # ??=MAXN_STATE_NODES if encoding state matrix\n",
    "    # ??=1 if encoding the target\n",
    "    # ??=others if encoding an action list\n",
    "    def forward(self, arg_seqs):\n",
    "        B = arg_seqs.shape[0]\n",
    "        tmpn_nodes = arg_seqs.shape[1]\n",
    "        tmp_dim0 = B * tmpn_nodes * len(NODE_KEY_LIST)\n",
    "        assert B==1\n",
    "        # first fold the first 3 dimensions\n",
    "        tmp0 = arg_seqs.view(tmp_dim0, MAX_TOKEN_LENGTH) # (dim0, MAX_TOKEN_LENGTH)\n",
    "        tmp1 = self.char_embedding(tmp0) # (dim0, MAX_TOKEN_LENGTH, embedding_dim)\n",
    "        tmp2 = tmp1.transpose(1,2) # channel goes first for conv, (dim0, embedding_dim, MAX_TOKEN_LENGTH)\n",
    "        # (dim0, n_kernels, MAX_TOKEN_LENGTH-i)\n",
    "        tmp3s = [\n",
    "            F.relu(self.convs[i](tmp2))\n",
    "            for i in range(len(self.convs))\n",
    "        ]\n",
    "        # (dim0, n_kernels, 1)\n",
    "        tmp4s = [\n",
    "            self.pools[i](tmp3s[i])\n",
    "            for i in range(len(tmp3s))\n",
    "        ]\n",
    "        # (dim0, n_kernels)\n",
    "        tmp5s = [\n",
    "            tmp4s[i].view(tmp_dim0, self.n_kernels[i])\n",
    "            for i in range(len(tmp4s))\n",
    "        ]\n",
    "        tmp6 = torch.cat(tmp5s, 1) # (dim0, sum(n_kernels))\n",
    "        tmp7 = F.relu(self.linear(tmp6)) # (dim0, embedding_dim)\n",
    "        # unfold back to original shape\n",
    "        # which is (B=1, ??={MAXN_STATE_NODES,1,others}, len(NODE_KEY_LIST), embedding_dim)\n",
    "        tmp8 = tmp7.view(B, tmpn_nodes, len(NODE_KEY_LIST), self.embedding_dim)\n",
    "        return tmp8\n",
    "        "
   ]
  },
  {
   "cell_type": "code",
   "execution_count": 5,
   "metadata": {},
   "outputs": [],
   "source": [
    "class StateEncoder(nn.Module):\n",
    "    def __init__(self, arg_embedding_dim):\n",
    "        super(StateEncoder, self).__init__()\n",
    "        self.embedding_dim = arg_embedding_dim\n",
    "        self.n_kernels = [10, 10, 10]\n",
    "        self.kernel_sizes = [(1,1), (2,2), (3,3)]\n",
    "        self.convs = nn.ModuleList([\n",
    "            nn.Conv2d(\n",
    "                in_channels=arg_embedding_dim, \n",
    "                out_channels=self.n_kernels[i], \n",
    "                kernel_size=self.kernel_sizes[i], \n",
    "                padding=0\n",
    "            )\n",
    "            for i in range(len(self.kernel_sizes))\n",
    "        ])\n",
    "        self.pools = nn.ModuleList([\n",
    "            nn.MaxPool2d(\n",
    "                kernel_size=(\n",
    "                    MAXN_STATE_NODES+1-self.kernel_sizes[i][0],\n",
    "                    len(NODE_KEY_LIST)+1-self.kernel_sizes[i][1],\n",
    "                ), \n",
    "                padding=0\n",
    "            )\n",
    "            for i in range(len(self.kernel_sizes))\n",
    "        ])\n",
    "        self.linear = nn.Linear(sum(self.n_kernels), arg_embedding_dim)\n",
    "        \n",
    "    # input a batch of sequences (high-dimensional)\n",
    "    # arg_seqs: (B=1, ??, len(NODE_KEY_LIST), embedding_dim)\n",
    "    # ??=MAXN_STATE_NODES since it's encoding state matrix\n",
    "    def forward(self, arg_seqs):\n",
    "        B = arg_seqs.shape[0]\n",
    "        tmpn_nodes = arg_seqs.shape[1]\n",
    "        assert B==1\n",
    "        assert tmpn_nodes==MAXN_STATE_NODES\n",
    "        # permute for conv\n",
    "        tmp0 = arg_seqs.permute(0,3,1,2) # (B=1, embedding_dim, ??, len(NODE_KEY_LIST))\n",
    "        # (B=1, n_kernels, ??-i, len(NODE_KEY_LIST)-i)\n",
    "        tmp1s = [\n",
    "            F.relu(self.convs[i](tmp0))\n",
    "            for i in range(len(self.convs))\n",
    "        ]\n",
    "        # (B=1, n_kernels, 1, 1)\n",
    "        tmp2s = [\n",
    "            self.pools[i](tmp1s[i])\n",
    "            for i in range(len(tmp1s))\n",
    "        ]\n",
    "        # (B=1, n_kernels)\n",
    "        tmp3s = [\n",
    "            tmp2s[i].view(B, self.n_kernels[i])\n",
    "            for i in range(len(tmp2s))\n",
    "        ]\n",
    "        tmp4 = torch.cat(tmp3s, 1) # (B, sum(n_kernels))\n",
    "        tmp5 = F.relu(self.linear(tmp4)) # (B, embedding_dim)\n",
    "        return tmp5"
   ]
  },
  {
   "cell_type": "code",
   "execution_count": 6,
   "metadata": {},
   "outputs": [],
   "source": [
    "class TargetEncoder(nn.Module):\n",
    "    def __init__(self, arg_embedding_dim):\n",
    "        super(TargetEncoder, self).__init__()\n",
    "        self.embedding_dim = arg_embedding_dim\n",
    "        self.n_kernels = [10, 10, 10]\n",
    "        self.kernel_sizes = [1, 2, 3]\n",
    "        self.convs = nn.ModuleList([\n",
    "            nn.Conv1d(\n",
    "                in_channels=arg_embedding_dim, \n",
    "                out_channels=self.n_kernels[i], \n",
    "                kernel_size=self.kernel_sizes[i], \n",
    "                padding=0\n",
    "            )\n",
    "            for i in range(len(self.kernel_sizes))\n",
    "        ])\n",
    "        self.pools = nn.ModuleList([\n",
    "            nn.MaxPool1d(\n",
    "                kernel_size=(\n",
    "                    len(NODE_KEY_LIST)+1-self.kernel_sizes[i],\n",
    "                ), \n",
    "                padding=0\n",
    "            )\n",
    "            for i in range(len(self.kernel_sizes))\n",
    "        ])\n",
    "        self.linear = nn.Linear(sum(self.n_kernels), arg_embedding_dim)\n",
    "        \n",
    "    # input a batch of sequences (high-dimensional)\n",
    "    # arg_seqs: (B=1, ??, len(NODE_KEY_LIST), embedding_dim)\n",
    "    # ??=1 since it's encoding a target\n",
    "    def forward(self, arg_seqs):\n",
    "        B = arg_seqs.shape[0]\n",
    "        tmpn_nodes = arg_seqs.shape[1]\n",
    "        tmp_dim0 = B * tmpn_nodes\n",
    "        assert B==1\n",
    "        assert tmpn_nodes==1\n",
    "        # action nodes are encoded separately, so change the view first\n",
    "        # (dim0, len(NODE_KEY_LIST), embedding_dim)\n",
    "        # -> (dim0, embedding_dim, len(NODE_KEY_LIST))\n",
    "        tmp0 = arg_seqs.view(tmp_dim0, len(NODE_KEY_LIST), self.embedding_dim).transpose(1,2)\n",
    "        # (dim0, n_kernels, len(NODE_KEY_LIST)-i)\n",
    "        tmp1s = [\n",
    "            F.relu(self.convs[i](tmp0))\n",
    "            for i in range(len(self.convs))\n",
    "        ]\n",
    "        # (dim0, n_kernels, 1)\n",
    "        tmp2s = [\n",
    "            self.pools[i](tmp1s[i])\n",
    "            for i in range(len(tmp1s))\n",
    "        ]\n",
    "        # (dim0, n_kernels)\n",
    "        tmp3s = [\n",
    "            tmp2s[i].view(tmp_dim0, self.n_kernels[i])\n",
    "            for i in range(len(tmp2s))\n",
    "        ]\n",
    "        tmp4 = torch.cat(tmp3s, 1) # (dim0, sum(n_kernels))\n",
    "        tmp5 = F.relu(self.linear(tmp4)) # (dim0, embedding_dim)\n",
    "        tmp6 = tmp5.view(B, tmpn_nodes, self.embedding_dim) # (B=1, ??, embedding_dim)\n",
    "        return tmp6"
   ]
  },
  {
   "cell_type": "code",
   "execution_count": 7,
   "metadata": {},
   "outputs": [],
   "source": [
    "# note: ActionEncoder is actually encoding a list of actions\n",
    "#       not a single action\n",
    "class ActionEncoder(nn.Module):\n",
    "    def __init__(self, arg_embedding_dim):\n",
    "        super(ActionEncoder, self).__init__()\n",
    "        self.embedding_dim = arg_embedding_dim\n",
    "        self.n_kernels = [10, 10, 10]\n",
    "        self.kernel_sizes = [1, 2, 3]\n",
    "        self.convs = nn.ModuleList([\n",
    "            nn.Conv1d(\n",
    "                in_channels=arg_embedding_dim, \n",
    "                out_channels=self.n_kernels[i], \n",
    "                kernel_size=self.kernel_sizes[i], \n",
    "                padding=0\n",
    "            )\n",
    "            for i in range(len(self.kernel_sizes))\n",
    "        ])\n",
    "        self.pools = nn.ModuleList([\n",
    "            nn.MaxPool1d(\n",
    "                kernel_size=(\n",
    "                    len(NODE_KEY_LIST)+1-self.kernel_sizes[i],\n",
    "                ), \n",
    "                padding=0\n",
    "            )\n",
    "            for i in range(len(self.kernel_sizes))\n",
    "        ])\n",
    "        self.linear = nn.Linear(sum(self.n_kernels), arg_embedding_dim)\n",
    "        \n",
    "    # input a batch of sequences (high-dimensional)\n",
    "    # arg_seqs: (B=1, ??, len(NODE_KEY_LIST), embedding_dim)\n",
    "    # ??=others since it's encoding an action list\n",
    "    def forward(self, arg_seqs):\n",
    "        B = arg_seqs.shape[0]\n",
    "        tmpn_nodes = arg_seqs.shape[1]\n",
    "        tmp_dim0 = B * tmpn_nodes\n",
    "        assert B==1\n",
    "        # action nodes are encoded separately, so change the view first\n",
    "        # (dim0, len(NODE_KEY_LIST), embedding_dim)\n",
    "        # -> (dim0, embedding_dim, len(NODE_KEY_LIST))\n",
    "        tmp0 = arg_seqs.view(tmp_dim0, len(NODE_KEY_LIST), self.embedding_dim).transpose(1,2)\n",
    "        # (dim0, n_kernels, len(NODE_KEY_LIST)-i)\n",
    "        tmp1s = [\n",
    "            F.relu(self.convs[i](tmp0))\n",
    "            for i in range(len(self.convs))\n",
    "        ]\n",
    "        # (dim0, n_kernels, 1)\n",
    "        tmp2s = [\n",
    "            self.pools[i](tmp1s[i])\n",
    "            for i in range(len(tmp1s))\n",
    "        ]\n",
    "        # (dim0, n_kernels)\n",
    "        tmp3s = [\n",
    "            tmp2s[i].view(tmp_dim0, self.n_kernels[i])\n",
    "            for i in range(len(tmp2s))\n",
    "        ]\n",
    "        tmp4 = torch.cat(tmp3s, 1) # (dim0, sum(n_kernels))\n",
    "        # tmp5 = F.relu(self.linear(tmp4)) # (dim0, embedding_dim)\n",
    "        tmp5 = torch.sigmoid(self.linear(tmp4)) # (dim0, embedding_dim)\n",
    "        tmp6 = tmp5.view(B, tmpn_nodes, self.embedding_dim) # (B=1, ??, embedding_dim)\n",
    "        return tmp6"
   ]
  },
  {
   "cell_type": "code",
   "execution_count": 8,
   "metadata": {},
   "outputs": [],
   "source": [
    "class NeuralAgent(nn.Module):\n",
    "    def __init__(self, arg_embedding_dim):\n",
    "        super(NeuralAgent, self).__init__()\n",
    "        self.embedding_dim = arg_embedding_dim\n",
    "        self.universal_token_encoder = UniversalTokenEncoder(arg_embedding_dim)\n",
    "        self.state_encoder = StateEncoder(arg_embedding_dim)\n",
    "        self.target_encoder = TargetEncoder(arg_embedding_dim)\n",
    "        self.action_encoder = ActionEncoder(arg_embedding_dim)\n",
    "        \n",
    "        self.hidden0 = nn.Linear(arg_embedding_dim*2, arg_embedding_dim)\n",
    "        \n",
    "    # arg_state: (B=1, ??=MAXN_STATE_NODES, len(NODE_KEY_LIST), MAX_TOKEN_LENGTH)\n",
    "    # arg_target: (B=1, ??=1, len(NODE_KEY_LIST), MAX_TOKEN_LENGTH)\n",
    "    def compute_preference(self, arg_state, arg_target):\n",
    "        B_state = arg_state.shape[0]\n",
    "        B_target = arg_target.shape[0]\n",
    "        assert B_state==1\n",
    "        assert B_target==1\n",
    "        \n",
    "        # fixme: only support 1 target at a time\n",
    "        n_targets = arg_target.shape[1]\n",
    "        assert n_targets==1 \n",
    "        \n",
    "        tmp0_state = self.universal_token_encoder(arg_state) # (B=1, ??, len(NODE_KEY_LIST), embedding_dim)\n",
    "        tmp0_target = self.universal_token_encoder(arg_target) # (B=1, ??, len(NODE_KEY_LIST), embedding_dim)\n",
    "        tmp1_state = self.state_encoder(tmp0_state) # (B=1, embedding_dim)\n",
    "        tmp1_target = self.target_encoder(tmp0_target) # (B=1, ??, embedding_dim)\n",
    "        tmp2_state = tmp1_state\n",
    "        \n",
    "        # fixme: only support 1 target at a time\n",
    "        tmp2_target = tmp1_target.view(B_target, self.embedding_dim) # (B=1, embedding_dim)\n",
    "        \n",
    "        tmp3 = torch.cat([tmp2_state, tmp2_target], 1) # (B=1, embedding_dim * 2)\n",
    "        tmp4 = torch.sigmoid(self.hidden0(tmp3)) # (B=1, embedding_dim)\n",
    "        return tmp4\n",
    "\n",
    "    # arg_action: (B=1, ??=others, len(NODE_KEY_LIST), MAX_TOKEN_LENGTH)\n",
    "    def encode_action_list(self, arg_action):\n",
    "        B = arg_action.shape[0]\n",
    "        tmp0 = self.universal_token_encoder(arg_action) # (B=1, ??, len(NODE_KEY_LIST), embedding_dim)\n",
    "        tmp1 = self.action_encoder(tmp0) # (B=1, ??, embedding_dim)\n",
    "        return tmp1"
   ]
  },
  {
   "cell_type": "markdown",
   "metadata": {},
   "source": [
    "## Pipeline Utils"
   ]
  },
  {
   "cell_type": "code",
   "execution_count": null,
   "metadata": {},
   "outputs": [],
   "source": []
  },
  {
   "cell_type": "code",
   "execution_count": 9,
   "metadata": {},
   "outputs": [],
   "source": [
    "# 1. roll out an action sequence\n",
    "# 2. compute reward\n",
    "# 3. policy gradient back propagation\n",
    "def rollout(arg_env, arg_agent, arg_optimizer, arg_maxn_steps, arg_target):\n",
    "    # note: remember to clear the state\n",
    "    arg_env.launch_app()\n",
    "    \n",
    "    for i in range(arg_maxn_steps):\n",
    "        time.sleep(1)\n",
    "        state_i = arg_env.get_current_state()\n",
    "        \n",
    "        action_list = arg_env.get_available_actionable_elements(state_i)\n",
    "        n_actions = len(action_list)\n",
    "        if n_actions == 0:\n",
    "            print(\"# no action is found, terminate.\")\n",
    "            # penalty\n",
    "            final_reward = -1\n",
    "            # no available actions any more\n",
    "            break\n",
    "        \n",
    "        # explore\n",
    "        selected_action_id = random.choice(list(range(len(action_list))))\n",
    "        # print(\"# selected_action_id (rnd): {}\".format(selected_action_id))\n",
    "        print(\"# selected_action_id (rnd): {}, {}, {}, {}\".format(\n",
    "            selected_action_id, \n",
    "            action_list[selected_action_id].text, \n",
    "            action_list[selected_action_id].resource_id,\n",
    "            action_list[selected_action_id].class_name\n",
    "        ))\n",
    "\n",
    "        # perform action\n",
    "        arg_env.perform_action(action_list[selected_action_id])\n",
    "        next_state = arg_env.get_current_state()\n",
    "\n",
    "    # test whether goal states are reached\n",
    "    rlist = arg_env.get_reached_goal_states(\"train\")\n",
    "    if len(rlist)>0:\n",
    "        print(\"# goal state: {}\".format(rlist))\n",
    "        \n",
    "        "
   ]
  },
  {
   "cell_type": "code",
   "execution_count": 10,
   "metadata": {},
   "outputs": [],
   "source": [
    "# # 1. roll out an action sequence\n",
    "# # 2. compute reward\n",
    "# # 3. policy gradient back propagation\n",
    "# def rollout(arg_env, arg_wtg, arg_agent, arg_optimizer, arg_maxn_steps, arg_target, arg_ep):\n",
    "#     # note: remember to clear the state\n",
    "#     arg_env.launch_app()\n",
    "    \n",
    "#     rollout_outputs = []\n",
    "#     rollout_actions = []\n",
    "#     rollout_action_ids = []\n",
    "#     final_reward = 0.0\n",
    "    \n",
    "#     for i in range(arg_maxn_steps):\n",
    "#         time.sleep(1)\n",
    "#         state_i = arg_env.get_current_state()\n",
    "        \n",
    "#         action_list = arg_env.get_available_actionable_elements(state_i)\n",
    "#         n_actions = len(action_list)\n",
    "#         if n_actions == 0:\n",
    "#             print(\"# no action is found, terminate.\")\n",
    "#             # penalty\n",
    "#             final_reward = -3\n",
    "#             # no available actions any more\n",
    "#             break\n",
    "          \n",
    "#         # should wrap [] to make B=1\n",
    "#         # (B=1, ??=MAXN_STATE_NODES, len(NODE_KEY_LIST), MAX_TOKEN_LENGTH)\n",
    "#         state_matrix_i = np.asarray([get_state_matrix(state_i)])\n",
    "#         # (B=1, ??=1, len(NODE_KEY_LIST), MAX_TOKEN_LENGTH)\n",
    "#         target_matrix_i = np.asarray([[\n",
    "#             get_sentence_vector(arg_target)\n",
    "#         ]])\n",
    "#         # (B=1, ??=others, len(NODE_KEY_LIST), MAX_TOKEN_LENGTH)\n",
    "#         action_matrix_i = np.asarray([[\n",
    "#             get_element_vector(action_list[j])\n",
    "#             for j in range(len(action_list))\n",
    "#         ]])\n",
    "        \n",
    "# #         print(\"state: {}\".format(state_matrix_i.shape))\n",
    "# #         print(\"target: {}\".format(target_matrix_i.shape))\n",
    "# #         print(\"action: {}\".format(action_matrix_i.shape))\n",
    "        \n",
    "#         t_state = Variable(torch.tensor(state_matrix_i, dtype=torch.long).to(device))\n",
    "#         t_target = Variable(torch.tensor(target_matrix_i, dtype=torch.long).to(device))\n",
    "#         t_action = Variable(torch.tensor(action_matrix_i, dtype=torch.long).to(device))\n",
    "        \n",
    "#         B_state = t_state.shape[0]\n",
    "#         B_target = t_target.shape[0]\n",
    "#         B_action = t_action.shape[0]\n",
    "#         assert B_state==1\n",
    "#         assert B_target==1\n",
    "#         assert B_action==1\n",
    "        \n",
    "#         arg_agent.train()\n",
    "#         tout_preference = arg_agent.compute_preference(t_state, t_target) # (B=1, embedding_dim)\n",
    "#         tout_action = arg_agent.encode_action_list(t_action) # (B=1, ??, embedding_dim)\n",
    "        \n",
    "# #         print(\"tout_preference.shape={}\".format(tout_preference.shape))\n",
    "# #         print(\"tout_action.shape={}\".format(tout_action.shape))\n",
    "        \n",
    "#         # ====> using cosine similarity\n",
    "#         # (n_actions, spec_dims)\n",
    "#         # t0_output = t_output.expand_as(t_pool)\n",
    "#         # t_cos = F.cosine_similarity(t0_output, t_pool, dim=1)\n",
    "#         # t_act = F.log_softmax(t_cos, dim=0)\n",
    "#         # ====> directly mm similarity\n",
    "#         # note: assuming B=1 already\n",
    "#         tout0_preference = tout_preference.view(-1,1) # (embedding_dim, 1)\n",
    "#         tout0_action = tout_action.view(-1, EMBEDDING_DIM) # (n_actions, embedding_dim)\n",
    "#         tout0_mm = torch.mm(tout0_action, tout0_preference)  # (n_actions, 1)\n",
    "#         tout1_mm = tout0_mm.view(-1) # (n_actions,)\n",
    "#         tout2_mm = F.log_softmax(tout1_mm)\n",
    "# #         print(\"# tout2_mm: {}\".format(tout2_mm))\n",
    "        \n",
    "#         if random.random()<max(0.1, 1.0-ep/20):\n",
    "#             # explore\n",
    "#             selected_action_id = random.choice(list(range(len(action_list))))\n",
    "#             print(\"# [explore] selected_action_id (rnd): {}, log-sim: {}\".format(selected_action_id, tout2_mm[selected_action_id]))\n",
    "#         else:\n",
    "#             # exploit\n",
    "#             probs = tout2_mm.exp().tolist()\n",
    "#             selected_action_id = np.argmax(probs)\n",
    "#             # selected_action_id = torch.argmax(tout2_mm, dim=0).tolist()\n",
    "#             print(\"# [exploit] selected_action_id (mul): {}, log-sim: {}\".format(selected_action_id, tout2_mm[selected_action_id]))\n",
    "# #         else:\n",
    "# #             # exploit\n",
    "# #             probs = tout2_mm.exp().tolist()\n",
    "# #             selected_action_id = random.choices(list(range(len(action_list))), weights=probs, k=1)[0]\n",
    "# #             # selected_action_id = torch.argmax(tout2_mm, dim=0).tolist()\n",
    "# #             print(\"# [exploit] selected_action_id (mul): {}, log-sim: {}\".format(selected_action_id, tout2_mm[selected_action_id]))\n",
    "        \n",
    "#         # perform action\n",
    "#         arg_env.perform_action(action_list[selected_action_id])\n",
    "#         next_state = arg_env.get_current_state()\n",
    "#         dreward = get_reward0(arg_env, arg_wtg, next_state)\n",
    "#         print(\"  # r: {}\".format(dreward))\n",
    "#         final_reward += dreward\n",
    "        \n",
    "#         # store the choices\n",
    "#         rollout_outputs.append(tout2_mm)\n",
    "#         rollout_actions.append(action_list)\n",
    "#         rollout_action_ids.append(selected_action_id)\n",
    "        \n",
    "#         # input(\"PAUSE\")\n",
    "        \n",
    "#     # here we use the final reward as the cumulative reward\n",
    "#     final_state = arg_env.get_current_state()\n",
    "#     # test whether goal states are reached\n",
    "#     rlist = arg_env.get_reached_goal_states(\"train\")\n",
    "#     print(\"# final reward000: {}\".format(final_reward))\n",
    "#     if len(rlist)>0:\n",
    "#         print(\"# goal state: {}\".format(rlist))\n",
    "\n",
    "#     print(\"# final reward: {}\".format(final_reward))\n",
    "    \n",
    "#     rollout_loss = []\n",
    "#     current_reward = final_reward\n",
    "#     # reverse from the last to first\n",
    "#     for i in range(len(rollout_outputs))[::-1]:\n",
    "#         rollout_loss.append( current_reward * (-rollout_outputs[i][rollout_action_ids[i]]) )\n",
    "#         current_reward *= 0.8 # decay\n",
    "#     rollout_loss = rollout_loss[::-1]\n",
    "    \n",
    "#     optimizer.zero_grad()\n",
    "#     loss = sum(rollout_loss)\n",
    "#     loss.backward()\n",
    "#     optimizer.step()\n",
    "        \n",
    "        "
   ]
  },
  {
   "cell_type": "code",
   "execution_count": null,
   "metadata": {},
   "outputs": [],
   "source": []
  },
  {
   "cell_type": "markdown",
   "metadata": {},
   "source": [
    "## Top-Level Control Flow"
   ]
  },
  {
   "cell_type": "code",
   "execution_count": 12,
   "metadata": {},
   "outputs": [
    {
     "name": "stdout",
     "output_type": "stream",
     "text": [
      "\u001b[36m[#] Analysis started at: 2021-09-15 11:40:32 AM\u001b[0m\n"
     ]
    },
    {
     "name": "stderr",
     "output_type": "stream",
     "text": [
      "[INFO] | 2021-09-15 11:40:32 AM | analyzer.00a2d33447e572fff3b0f5ecf40e0c53596f6952c94db385be4720ea249cff5b_instrumented | Adb is running with root priviledges now!\n",
      "[INFO] | 2021-09-15 11:40:32 AM | analyzer.00a2d33447e572fff3b0f5ecf40e0c53596f6952c94db385be4720ea249cff5b_instrumented | Old logcat messages cleared!\n",
      "[INFO] | 2021-09-15 11:40:36 AM | analyzer.00a2d33447e572fff3b0f5ecf40e0c53596f6952c94db385be4720ea249cff5b_instrumented | APK installtion done for 00a2d33447e572fff3b0f5ecf40e0c53596f6952c94db385be4720ea249cff5b_instrumented.apk\n",
      "[INFO] | 2021-09-15 11:40:36 AM | analyzer.00a2d33447e572fff3b0f5ecf40e0c53596f6952c94db385be4720ea249cff5b_instrumented | Kill the current app if already spawned!\n",
      "[INFO] | 2021-09-15 11:40:37 AM | analyzer.00a2d33447e572fff3b0f5ecf40e0c53596f6952c94db385be4720ea249cff5b_instrumented | APK is already killed\n",
      "[INFO] | 2021-09-15 11:40:37 AM | analyzer.00a2d33447e572fff3b0f5ecf40e0c53596f6952c94db385be4720ea249cff5b_instrumented | Spawning the current app\n",
      "[ERROR] | 2021-09-15 11:40:37 AM | analyzer.00a2d33447e572fff3b0f5ecf40e0c53596f6952c94db385be4720ea249cff5b_instrumented | Issue with apk spawning, debug!\n"
     ]
    },
    {
     "ename": "SystemExit",
     "evalue": "1",
     "output_type": "error",
     "traceback": [
      "An exception has occurred, use %tb to see the full traceback.\n",
      "\u001b[0;31mSystemExit\u001b[0m\u001b[0;31m:\u001b[0m 1\n"
     ]
    },
    {
     "name": "stderr",
     "output_type": "stream",
     "text": [
      "/Users/joseph/anaconda3/lib/python3.8/site-packages/IPython/core/interactiveshell.py:3445: UserWarning: To exit: use 'exit', 'quit', or Ctrl-D.\n",
      "  warn(\"To exit: use 'exit', 'quit', or Ctrl-D.\", stacklevel=1)\n"
     ]
    }
   ],
   "source": [
    "from main import *\n",
    "\n",
    "CURR_DIR = os.path.dirname(os.getcwd())\n",
    "OUTPUT_DIR = os.path.join(CURR_DIR, \"results\")\n",
    "\n",
    "args = {\n",
    "    \"path\": \"/Users/joseph/Downloads/00a2d33447e572fff3b0f5ecf40e0c53596f6952c94db385be4720ea249cff5b_instrumented.apk\",\n",
    "#     \"path\": \"../results/test_app_1/testapp_1.apk\",\n",
    "#     \"path\": \"../results/test_app_2/testapp_2.apk\",\n",
    "#     \"path\": \"../test/com.github.cetoolbox_11/app_simple0.apk\",\n",
    "#     \"path\": \"/Users/joseph/Desktop/UCSB/20summer/MarthaEnv/tmp/Wordpress_394/Wordpress_394.apk\",\n",
    "#     \"path\": \"/Users/joseph/Desktop/UCSB/20summer/MarthaEnv/tmp/com.zoffcc.applications.aagtl_31/com.zoffcc.applications.aagtl_31.apk\",\n",
    "#     \"path\": \"/Users/joseph/Desktop/UCSB/20summer/MarthaEnv/tmp/Translate/Translate.apk\",\n",
    "#     \"path\": \"/Users/joseph/Desktop/UCSB/20summer/MarthaEnv/tmp/com.chmod0.manpages_3/com.chmod0.manpages_3.apk\",\n",
    "#     \"path\": \"/Users/joseph/Desktop/UCSB/20summer/MarthaEnv/tmp/Book-Catalogue/Book-Catalogue.apk\",\n",
    "#     \"path\": \"/Users/joseph/Desktop/UCSB/20summer/MarthaEnv/test/out.andFHEM.apk\",\n",
    "#     \"path\": \"/Users/joseph/Desktop/UCSB/20summer/MarthaEnv/test/out.blue-chat.apk\",\n",
    "#     \"path\": \"/Users/joseph/Desktop/UCSB/20summer/MarthaEnv/test/out.CallMeter3G-debug.apk\",\n",
    "#     \"path\": \"/Users/joseph/Desktop/UCSB/20summer/MarthaEnv/test/out.Lucid-Browser.apk\",\n",
    "#     \"path\": \"../results/test_app_3/testapp_3.apk\",\n",
    "#     \"path\": \"/Users/joseph/Downloads/gpp-malicious-0626/9db6cf9bdf2a88f5dc96575abed308e46e38cc6f81c33bfc0b332a0481268d17.apk\",\n",
    "    \"output\": \"../results/\",\n",
    "    \"wtginput\": \"../results/test_app_3/\",\n",
    "    \"goalstates\": \"../results/test_app_3/goals_caller.json\",\n",
    "}\n",
    "\n",
    "if args[\"path\"] is not None:\n",
    "    pyaxmlparser_apk = APK(args[\"path\"])\n",
    "    apk_base_name = os.path.splitext(os.path.basename(args[\"path\"]))[0]\n",
    "else:\n",
    "    parser.print_usage()\n",
    "    sys.exit(1)\n",
    "    \n",
    "goal_states = {}\n",
    "if args[\"goalstates\"] is not None:\n",
    "    with open(args[\"goalstates\"], 'r') as fp:\n",
    "        goal_states = json.load(fp)\n",
    "\n",
    "else:\n",
    "    parser.print_usage()\n",
    "    sys.exit(1)\n",
    "\n",
    "if args[\"output\"] is not None:\n",
    "    OUTPUT_DIR = args[\"output\"]\n",
    "\n",
    "output_dir = os.path.join(OUTPUT_DIR, 'exploration_output', apk_base_name)\n",
    "\n",
    "wtg = None\n",
    "if args[\"wtginput\"]:\n",
    "    wtg = args[\"wtginput\"] #os.path.join(args.wtginput, apk_base_name)\n",
    "\n",
    "if os.path.exists(output_dir):\n",
    "    rmtree(output_dir)\n",
    "\n",
    "os.makedirs(output_dir, exist_ok=True)\n",
    "\n",
    "# Setting the path for log file\n",
    "log_path = os.path.join(output_dir, 'analysis.log')\n",
    "log = init_logging('analyzer.%s' % apk_base_name, log_path, file_mode='w', console=True)\n",
    "\n",
    "# Record analysis start time\n",
    "now = datetime.datetime.now()\n",
    "analysis_start_time = now.strftime(DATE_FORMAT)\n",
    "info('Analysis started at: %s' % analysis_start_time)\n",
    "start_time = time.time()\n",
    "\n",
    "# Get the serial for the device attached to ADB\n",
    "device_serial = get_device_serial(log)\n",
    "\n",
    "if device_serial is None:\n",
    "    log.warning(\"Device is not connected!\")\n",
    "    sys.exit(1)\n",
    "\n",
    "# Initialize the uiautomator device object using the device serial\n",
    "uiautomator_device = u2.connect(device_serial)\n",
    "run_adb_as_root(log, device_serial)\n",
    "apk_obj = Apk(args[\"path\"], uiautomator_device, output_dir, log, device_serial)\n",
    "# wtg_obj = WTG(wtg, log)\n",
    "# wtg_obj.set_goal_nodes(goal_states)\n",
    "apk_obj.launch_app()\n",
    "# to track some goal state at startup, you don't have to do this\n",
    "apk_obj.clean_logcat()"
   ]
  },
  {
   "cell_type": "code",
   "execution_count": 15,
   "metadata": {
    "scrolled": true
   },
   "outputs": [
    {
     "name": "stderr",
     "output_type": "stream",
     "text": [
      "[INFO] | 2021-08-09 10:58:43 AM | analyzer.testapp_1 | Kill the current app if already spawned!\n",
      "[INFO] | 2021-08-09 10:58:43 AM | analyzer.testapp_1 | APK is already killed\n",
      "[INFO] | 2021-08-09 10:58:43 AM | analyzer.testapp_1 | Spawning the current app\n"
     ]
    },
    {
     "name": "stdout",
     "output_type": "stream",
     "text": [
      "# ep0, time elapsed: 0.0001399517059326172\n"
     ]
    },
    {
     "name": "stderr",
     "output_type": "stream",
     "text": [
      "[INFO] | 2021-08-09 10:58:43 AM | analyzer.testapp_1 | Apk spawned successfully!\n"
     ]
    },
    {
     "name": "stdout",
     "output_type": "stream",
     "text": [
      "# selected_action_id (rnd): 5, , , android.widget.ImageView\n",
      "# selected_action_id (rnd): 1, , , android.widget.LinearLayout\n",
      "# selected_action_id (rnd): 1, SET, com.example.priyanka.testapp:id/button2, android.widget.Button\n",
      "# selected_action_id (rnd): 1, SET, com.example.priyanka.testapp:id/button2, android.widget.Button\n"
     ]
    },
    {
     "name": "stderr",
     "output_type": "stream",
     "text": [
      "[INFO] | 2021-08-09 10:58:53 AM | analyzer.testapp_1 | Kill the current app if already spawned!\n",
      "[INFO] | 2021-08-09 10:58:54 AM | analyzer.testapp_1 | APK is already killed\n",
      "[INFO] | 2021-08-09 10:58:54 AM | analyzer.testapp_1 | Spawning the current app\n"
     ]
    },
    {
     "name": "stdout",
     "output_type": "stream",
     "text": [
      "# ep1, time elapsed: 10.786976099014282\n"
     ]
    },
    {
     "name": "stderr",
     "output_type": "stream",
     "text": [
      "[INFO] | 2021-08-09 10:58:54 AM | analyzer.testapp_1 | Apk spawned successfully!\n"
     ]
    },
    {
     "name": "stdout",
     "output_type": "stream",
     "text": [
      "# selected_action_id (rnd): 5, , , android.widget.ImageView\n",
      "# selected_action_id (rnd): 1, , , android.widget.LinearLayout\n",
      "# selected_action_id (rnd): 2, , com.example.priyanka.testapp:id/imageButton1, android.widget.ImageButton\n",
      "# selected_action_id (rnd): 0, SHOW, com.example.priyanka.testapp:id/button6, android.widget.Button\n"
     ]
    },
    {
     "name": "stderr",
     "output_type": "stream",
     "text": [
      "[I 210809 10:59:03 __init__:263] [pid:21860] USB disconnected, fallback to WiFi, ATX_AGENT_URL=http://10.0.0.107:7912\n",
      "[W 210809 10:59:03 __init__:208] [pid:21860] atx-agent has something wrong, auto recovering\n",
      "[I 210809 10:59:03 __init__:336] [pid:21860] wait-for-device, time left(3.0s)\n",
      "[D 210809 10:59:04 __init__:292] [pid:21860] device 93MAYS0020Z is online\n"
     ]
    },
    {
     "ename": "ConnectionError",
     "evalue": "HTTPConnectionPool(host='127.0.0.1', port=64332): Max retries exceeded with url: /jsonrpc/0 (Caused by NewConnectionError('<urllib3.connection.HTTPConnection object at 0x7fb39cce28e0>: Failed to establish a new connection: [Errno 61] Connection refused'))",
     "output_type": "error",
     "traceback": [
      "\u001b[0;31m---------------------------------------------------------------------------\u001b[0m",
      "\u001b[0;31mConnectionRefusedError\u001b[0m                    Traceback (most recent call last)",
      "\u001b[0;32m~/anaconda3/lib/python3.8/site-packages/urllib3/connection.py\u001b[0m in \u001b[0;36m_new_conn\u001b[0;34m(self)\u001b[0m\n\u001b[1;32m    168\u001b[0m         \u001b[0;32mtry\u001b[0m\u001b[0;34m:\u001b[0m\u001b[0;34m\u001b[0m\u001b[0;34m\u001b[0m\u001b[0m\n\u001b[0;32m--> 169\u001b[0;31m             conn = connection.create_connection(\n\u001b[0m\u001b[1;32m    170\u001b[0m                 \u001b[0;34m(\u001b[0m\u001b[0mself\u001b[0m\u001b[0;34m.\u001b[0m\u001b[0m_dns_host\u001b[0m\u001b[0;34m,\u001b[0m \u001b[0mself\u001b[0m\u001b[0;34m.\u001b[0m\u001b[0mport\u001b[0m\u001b[0;34m)\u001b[0m\u001b[0;34m,\u001b[0m \u001b[0mself\u001b[0m\u001b[0;34m.\u001b[0m\u001b[0mtimeout\u001b[0m\u001b[0;34m,\u001b[0m \u001b[0;34m**\u001b[0m\u001b[0mextra_kw\u001b[0m\u001b[0;34m\u001b[0m\u001b[0;34m\u001b[0m\u001b[0m\n",
      "\u001b[0;32m~/anaconda3/lib/python3.8/site-packages/urllib3/util/connection.py\u001b[0m in \u001b[0;36mcreate_connection\u001b[0;34m(address, timeout, source_address, socket_options)\u001b[0m\n\u001b[1;32m     95\u001b[0m     \u001b[0;32mif\u001b[0m \u001b[0merr\u001b[0m \u001b[0;32mis\u001b[0m \u001b[0;32mnot\u001b[0m \u001b[0;32mNone\u001b[0m\u001b[0;34m:\u001b[0m\u001b[0;34m\u001b[0m\u001b[0;34m\u001b[0m\u001b[0m\n\u001b[0;32m---> 96\u001b[0;31m         \u001b[0;32mraise\u001b[0m \u001b[0merr\u001b[0m\u001b[0;34m\u001b[0m\u001b[0;34m\u001b[0m\u001b[0m\n\u001b[0m\u001b[1;32m     97\u001b[0m \u001b[0;34m\u001b[0m\u001b[0m\n",
      "\u001b[0;32m~/anaconda3/lib/python3.8/site-packages/urllib3/util/connection.py\u001b[0m in \u001b[0;36mcreate_connection\u001b[0;34m(address, timeout, source_address, socket_options)\u001b[0m\n\u001b[1;32m     85\u001b[0m                 \u001b[0msock\u001b[0m\u001b[0;34m.\u001b[0m\u001b[0mbind\u001b[0m\u001b[0;34m(\u001b[0m\u001b[0msource_address\u001b[0m\u001b[0;34m)\u001b[0m\u001b[0;34m\u001b[0m\u001b[0;34m\u001b[0m\u001b[0m\n\u001b[0;32m---> 86\u001b[0;31m             \u001b[0msock\u001b[0m\u001b[0;34m.\u001b[0m\u001b[0mconnect\u001b[0m\u001b[0;34m(\u001b[0m\u001b[0msa\u001b[0m\u001b[0;34m)\u001b[0m\u001b[0;34m\u001b[0m\u001b[0;34m\u001b[0m\u001b[0m\n\u001b[0m\u001b[1;32m     87\u001b[0m             \u001b[0;32mreturn\u001b[0m \u001b[0msock\u001b[0m\u001b[0;34m\u001b[0m\u001b[0;34m\u001b[0m\u001b[0m\n",
      "\u001b[0;31mConnectionRefusedError\u001b[0m: [Errno 61] Connection refused",
      "\nDuring handling of the above exception, another exception occurred:\n",
      "\u001b[0;31mNewConnectionError\u001b[0m                        Traceback (most recent call last)",
      "\u001b[0;32m~/anaconda3/lib/python3.8/site-packages/urllib3/connectionpool.py\u001b[0m in \u001b[0;36murlopen\u001b[0;34m(self, method, url, body, headers, retries, redirect, assert_same_host, timeout, pool_timeout, release_conn, chunked, body_pos, **response_kw)\u001b[0m\n\u001b[1;32m    698\u001b[0m             \u001b[0;31m# Make the request on the httplib connection object.\u001b[0m\u001b[0;34m\u001b[0m\u001b[0;34m\u001b[0m\u001b[0;34m\u001b[0m\u001b[0m\n\u001b[0;32m--> 699\u001b[0;31m             httplib_response = self._make_request(\n\u001b[0m\u001b[1;32m    700\u001b[0m                 \u001b[0mconn\u001b[0m\u001b[0;34m,\u001b[0m\u001b[0;34m\u001b[0m\u001b[0;34m\u001b[0m\u001b[0m\n",
      "\u001b[0;32m~/anaconda3/lib/python3.8/site-packages/urllib3/connectionpool.py\u001b[0m in \u001b[0;36m_make_request\u001b[0;34m(self, conn, method, url, timeout, chunked, **httplib_request_kw)\u001b[0m\n\u001b[1;32m    393\u001b[0m             \u001b[0;32melse\u001b[0m\u001b[0;34m:\u001b[0m\u001b[0;34m\u001b[0m\u001b[0;34m\u001b[0m\u001b[0m\n\u001b[0;32m--> 394\u001b[0;31m                 \u001b[0mconn\u001b[0m\u001b[0;34m.\u001b[0m\u001b[0mrequest\u001b[0m\u001b[0;34m(\u001b[0m\u001b[0mmethod\u001b[0m\u001b[0;34m,\u001b[0m \u001b[0murl\u001b[0m\u001b[0;34m,\u001b[0m \u001b[0;34m**\u001b[0m\u001b[0mhttplib_request_kw\u001b[0m\u001b[0;34m)\u001b[0m\u001b[0;34m\u001b[0m\u001b[0;34m\u001b[0m\u001b[0m\n\u001b[0m\u001b[1;32m    395\u001b[0m \u001b[0;34m\u001b[0m\u001b[0m\n",
      "\u001b[0;32m~/anaconda3/lib/python3.8/site-packages/urllib3/connection.py\u001b[0m in \u001b[0;36mrequest\u001b[0;34m(self, method, url, body, headers)\u001b[0m\n\u001b[1;32m    233\u001b[0m             \u001b[0mheaders\u001b[0m\u001b[0;34m[\u001b[0m\u001b[0;34m\"User-Agent\"\u001b[0m\u001b[0;34m]\u001b[0m \u001b[0;34m=\u001b[0m \u001b[0m_get_default_user_agent\u001b[0m\u001b[0;34m(\u001b[0m\u001b[0;34m)\u001b[0m\u001b[0;34m\u001b[0m\u001b[0;34m\u001b[0m\u001b[0m\n\u001b[0;32m--> 234\u001b[0;31m         \u001b[0msuper\u001b[0m\u001b[0;34m(\u001b[0m\u001b[0mHTTPConnection\u001b[0m\u001b[0;34m,\u001b[0m \u001b[0mself\u001b[0m\u001b[0;34m)\u001b[0m\u001b[0;34m.\u001b[0m\u001b[0mrequest\u001b[0m\u001b[0;34m(\u001b[0m\u001b[0mmethod\u001b[0m\u001b[0;34m,\u001b[0m \u001b[0murl\u001b[0m\u001b[0;34m,\u001b[0m \u001b[0mbody\u001b[0m\u001b[0;34m=\u001b[0m\u001b[0mbody\u001b[0m\u001b[0;34m,\u001b[0m \u001b[0mheaders\u001b[0m\u001b[0;34m=\u001b[0m\u001b[0mheaders\u001b[0m\u001b[0;34m)\u001b[0m\u001b[0;34m\u001b[0m\u001b[0;34m\u001b[0m\u001b[0m\n\u001b[0m\u001b[1;32m    235\u001b[0m \u001b[0;34m\u001b[0m\u001b[0m\n",
      "\u001b[0;32m~/anaconda3/lib/python3.8/http/client.py\u001b[0m in \u001b[0;36mrequest\u001b[0;34m(self, method, url, body, headers, encode_chunked)\u001b[0m\n\u001b[1;32m   1254\u001b[0m         \u001b[0;34m\"\"\"Send a complete request to the server.\"\"\"\u001b[0m\u001b[0;34m\u001b[0m\u001b[0;34m\u001b[0m\u001b[0m\n\u001b[0;32m-> 1255\u001b[0;31m         \u001b[0mself\u001b[0m\u001b[0;34m.\u001b[0m\u001b[0m_send_request\u001b[0m\u001b[0;34m(\u001b[0m\u001b[0mmethod\u001b[0m\u001b[0;34m,\u001b[0m \u001b[0murl\u001b[0m\u001b[0;34m,\u001b[0m \u001b[0mbody\u001b[0m\u001b[0;34m,\u001b[0m \u001b[0mheaders\u001b[0m\u001b[0;34m,\u001b[0m \u001b[0mencode_chunked\u001b[0m\u001b[0;34m)\u001b[0m\u001b[0;34m\u001b[0m\u001b[0;34m\u001b[0m\u001b[0m\n\u001b[0m\u001b[1;32m   1256\u001b[0m \u001b[0;34m\u001b[0m\u001b[0m\n",
      "\u001b[0;32m~/anaconda3/lib/python3.8/http/client.py\u001b[0m in \u001b[0;36m_send_request\u001b[0;34m(self, method, url, body, headers, encode_chunked)\u001b[0m\n\u001b[1;32m   1300\u001b[0m             \u001b[0mbody\u001b[0m \u001b[0;34m=\u001b[0m \u001b[0m_encode\u001b[0m\u001b[0;34m(\u001b[0m\u001b[0mbody\u001b[0m\u001b[0;34m,\u001b[0m \u001b[0;34m'body'\u001b[0m\u001b[0;34m)\u001b[0m\u001b[0;34m\u001b[0m\u001b[0;34m\u001b[0m\u001b[0m\n\u001b[0;32m-> 1301\u001b[0;31m         \u001b[0mself\u001b[0m\u001b[0;34m.\u001b[0m\u001b[0mendheaders\u001b[0m\u001b[0;34m(\u001b[0m\u001b[0mbody\u001b[0m\u001b[0;34m,\u001b[0m \u001b[0mencode_chunked\u001b[0m\u001b[0;34m=\u001b[0m\u001b[0mencode_chunked\u001b[0m\u001b[0;34m)\u001b[0m\u001b[0;34m\u001b[0m\u001b[0;34m\u001b[0m\u001b[0m\n\u001b[0m\u001b[1;32m   1302\u001b[0m \u001b[0;34m\u001b[0m\u001b[0m\n",
      "\u001b[0;32m~/anaconda3/lib/python3.8/http/client.py\u001b[0m in \u001b[0;36mendheaders\u001b[0;34m(self, message_body, encode_chunked)\u001b[0m\n\u001b[1;32m   1249\u001b[0m             \u001b[0;32mraise\u001b[0m \u001b[0mCannotSendHeader\u001b[0m\u001b[0;34m(\u001b[0m\u001b[0;34m)\u001b[0m\u001b[0;34m\u001b[0m\u001b[0;34m\u001b[0m\u001b[0m\n\u001b[0;32m-> 1250\u001b[0;31m         \u001b[0mself\u001b[0m\u001b[0;34m.\u001b[0m\u001b[0m_send_output\u001b[0m\u001b[0;34m(\u001b[0m\u001b[0mmessage_body\u001b[0m\u001b[0;34m,\u001b[0m \u001b[0mencode_chunked\u001b[0m\u001b[0;34m=\u001b[0m\u001b[0mencode_chunked\u001b[0m\u001b[0;34m)\u001b[0m\u001b[0;34m\u001b[0m\u001b[0;34m\u001b[0m\u001b[0m\n\u001b[0m\u001b[1;32m   1251\u001b[0m \u001b[0;34m\u001b[0m\u001b[0m\n",
      "\u001b[0;32m~/anaconda3/lib/python3.8/http/client.py\u001b[0m in \u001b[0;36m_send_output\u001b[0;34m(self, message_body, encode_chunked)\u001b[0m\n\u001b[1;32m   1009\u001b[0m         \u001b[0;32mdel\u001b[0m \u001b[0mself\u001b[0m\u001b[0;34m.\u001b[0m\u001b[0m_buffer\u001b[0m\u001b[0;34m[\u001b[0m\u001b[0;34m:\u001b[0m\u001b[0;34m]\u001b[0m\u001b[0;34m\u001b[0m\u001b[0;34m\u001b[0m\u001b[0m\n\u001b[0;32m-> 1010\u001b[0;31m         \u001b[0mself\u001b[0m\u001b[0;34m.\u001b[0m\u001b[0msend\u001b[0m\u001b[0;34m(\u001b[0m\u001b[0mmsg\u001b[0m\u001b[0;34m)\u001b[0m\u001b[0;34m\u001b[0m\u001b[0;34m\u001b[0m\u001b[0m\n\u001b[0m\u001b[1;32m   1011\u001b[0m \u001b[0;34m\u001b[0m\u001b[0m\n",
      "\u001b[0;32m~/anaconda3/lib/python3.8/http/client.py\u001b[0m in \u001b[0;36msend\u001b[0;34m(self, data)\u001b[0m\n\u001b[1;32m    949\u001b[0m             \u001b[0;32mif\u001b[0m \u001b[0mself\u001b[0m\u001b[0;34m.\u001b[0m\u001b[0mauto_open\u001b[0m\u001b[0;34m:\u001b[0m\u001b[0;34m\u001b[0m\u001b[0;34m\u001b[0m\u001b[0m\n\u001b[0;32m--> 950\u001b[0;31m                 \u001b[0mself\u001b[0m\u001b[0;34m.\u001b[0m\u001b[0mconnect\u001b[0m\u001b[0;34m(\u001b[0m\u001b[0;34m)\u001b[0m\u001b[0;34m\u001b[0m\u001b[0;34m\u001b[0m\u001b[0m\n\u001b[0m\u001b[1;32m    951\u001b[0m             \u001b[0;32melse\u001b[0m\u001b[0;34m:\u001b[0m\u001b[0;34m\u001b[0m\u001b[0;34m\u001b[0m\u001b[0m\n",
      "\u001b[0;32m~/anaconda3/lib/python3.8/site-packages/urllib3/connection.py\u001b[0m in \u001b[0;36mconnect\u001b[0;34m(self)\u001b[0m\n\u001b[1;32m    199\u001b[0m     \u001b[0;32mdef\u001b[0m \u001b[0mconnect\u001b[0m\u001b[0;34m(\u001b[0m\u001b[0mself\u001b[0m\u001b[0;34m)\u001b[0m\u001b[0;34m:\u001b[0m\u001b[0;34m\u001b[0m\u001b[0;34m\u001b[0m\u001b[0m\n\u001b[0;32m--> 200\u001b[0;31m         \u001b[0mconn\u001b[0m \u001b[0;34m=\u001b[0m \u001b[0mself\u001b[0m\u001b[0;34m.\u001b[0m\u001b[0m_new_conn\u001b[0m\u001b[0;34m(\u001b[0m\u001b[0;34m)\u001b[0m\u001b[0;34m\u001b[0m\u001b[0;34m\u001b[0m\u001b[0m\n\u001b[0m\u001b[1;32m    201\u001b[0m         \u001b[0mself\u001b[0m\u001b[0;34m.\u001b[0m\u001b[0m_prepare_conn\u001b[0m\u001b[0;34m(\u001b[0m\u001b[0mconn\u001b[0m\u001b[0;34m)\u001b[0m\u001b[0;34m\u001b[0m\u001b[0;34m\u001b[0m\u001b[0m\n",
      "\u001b[0;32m~/anaconda3/lib/python3.8/site-packages/urllib3/connection.py\u001b[0m in \u001b[0;36m_new_conn\u001b[0;34m(self)\u001b[0m\n\u001b[1;32m    180\u001b[0m         \u001b[0;32mexcept\u001b[0m \u001b[0mSocketError\u001b[0m \u001b[0;32mas\u001b[0m \u001b[0me\u001b[0m\u001b[0;34m:\u001b[0m\u001b[0;34m\u001b[0m\u001b[0;34m\u001b[0m\u001b[0m\n\u001b[0;32m--> 181\u001b[0;31m             raise NewConnectionError(\n\u001b[0m\u001b[1;32m    182\u001b[0m                 \u001b[0mself\u001b[0m\u001b[0;34m,\u001b[0m \u001b[0;34m\"Failed to establish a new connection: %s\"\u001b[0m \u001b[0;34m%\u001b[0m \u001b[0me\u001b[0m\u001b[0;34m\u001b[0m\u001b[0;34m\u001b[0m\u001b[0m\n",
      "\u001b[0;31mNewConnectionError\u001b[0m: <urllib3.connection.HTTPConnection object at 0x7fb39cce28e0>: Failed to establish a new connection: [Errno 61] Connection refused",
      "\nDuring handling of the above exception, another exception occurred:\n",
      "\u001b[0;31mMaxRetryError\u001b[0m                             Traceback (most recent call last)",
      "\u001b[0;32m~/anaconda3/lib/python3.8/site-packages/requests/adapters.py\u001b[0m in \u001b[0;36msend\u001b[0;34m(self, request, stream, timeout, verify, cert, proxies)\u001b[0m\n\u001b[1;32m    438\u001b[0m             \u001b[0;32mif\u001b[0m \u001b[0;32mnot\u001b[0m \u001b[0mchunked\u001b[0m\u001b[0;34m:\u001b[0m\u001b[0;34m\u001b[0m\u001b[0;34m\u001b[0m\u001b[0m\n\u001b[0;32m--> 439\u001b[0;31m                 resp = conn.urlopen(\n\u001b[0m\u001b[1;32m    440\u001b[0m                     \u001b[0mmethod\u001b[0m\u001b[0;34m=\u001b[0m\u001b[0mrequest\u001b[0m\u001b[0;34m.\u001b[0m\u001b[0mmethod\u001b[0m\u001b[0;34m,\u001b[0m\u001b[0;34m\u001b[0m\u001b[0;34m\u001b[0m\u001b[0m\n",
      "\u001b[0;32m~/anaconda3/lib/python3.8/site-packages/urllib3/connectionpool.py\u001b[0m in \u001b[0;36murlopen\u001b[0;34m(self, method, url, body, headers, retries, redirect, assert_same_host, timeout, pool_timeout, release_conn, chunked, body_pos, **response_kw)\u001b[0m\n\u001b[1;32m    754\u001b[0m \u001b[0;34m\u001b[0m\u001b[0m\n\u001b[0;32m--> 755\u001b[0;31m             retries = retries.increment(\n\u001b[0m\u001b[1;32m    756\u001b[0m                 \u001b[0mmethod\u001b[0m\u001b[0;34m,\u001b[0m \u001b[0murl\u001b[0m\u001b[0;34m,\u001b[0m \u001b[0merror\u001b[0m\u001b[0;34m=\u001b[0m\u001b[0me\u001b[0m\u001b[0;34m,\u001b[0m \u001b[0m_pool\u001b[0m\u001b[0;34m=\u001b[0m\u001b[0mself\u001b[0m\u001b[0;34m,\u001b[0m \u001b[0m_stacktrace\u001b[0m\u001b[0;34m=\u001b[0m\u001b[0msys\u001b[0m\u001b[0;34m.\u001b[0m\u001b[0mexc_info\u001b[0m\u001b[0;34m(\u001b[0m\u001b[0;34m)\u001b[0m\u001b[0;34m[\u001b[0m\u001b[0;36m2\u001b[0m\u001b[0;34m]\u001b[0m\u001b[0;34m\u001b[0m\u001b[0;34m\u001b[0m\u001b[0m\n",
      "\u001b[0;32m~/anaconda3/lib/python3.8/site-packages/urllib3/util/retry.py\u001b[0m in \u001b[0;36mincrement\u001b[0;34m(self, method, url, response, error, _pool, _stacktrace)\u001b[0m\n\u001b[1;32m    573\u001b[0m         \u001b[0;32mif\u001b[0m \u001b[0mnew_retry\u001b[0m\u001b[0;34m.\u001b[0m\u001b[0mis_exhausted\u001b[0m\u001b[0;34m(\u001b[0m\u001b[0;34m)\u001b[0m\u001b[0;34m:\u001b[0m\u001b[0;34m\u001b[0m\u001b[0;34m\u001b[0m\u001b[0m\n\u001b[0;32m--> 574\u001b[0;31m             \u001b[0;32mraise\u001b[0m \u001b[0mMaxRetryError\u001b[0m\u001b[0;34m(\u001b[0m\u001b[0m_pool\u001b[0m\u001b[0;34m,\u001b[0m \u001b[0murl\u001b[0m\u001b[0;34m,\u001b[0m \u001b[0merror\u001b[0m \u001b[0;32mor\u001b[0m \u001b[0mResponseError\u001b[0m\u001b[0;34m(\u001b[0m\u001b[0mcause\u001b[0m\u001b[0;34m)\u001b[0m\u001b[0;34m)\u001b[0m\u001b[0;34m\u001b[0m\u001b[0;34m\u001b[0m\u001b[0m\n\u001b[0m\u001b[1;32m    575\u001b[0m \u001b[0;34m\u001b[0m\u001b[0m\n",
      "\u001b[0;31mMaxRetryError\u001b[0m: HTTPConnectionPool(host='127.0.0.1', port=64332): Max retries exceeded with url: /jsonrpc/0 (Caused by NewConnectionError('<urllib3.connection.HTTPConnection object at 0x7fb39cce28e0>: Failed to establish a new connection: [Errno 61] Connection refused'))",
      "\nDuring handling of the above exception, another exception occurred:\n",
      "\u001b[0;31mConnectionError\u001b[0m                           Traceback (most recent call last)",
      "\u001b[0;32m<ipython-input-15-b75cb5bcf0ea>\u001b[0m in \u001b[0;36m<module>\u001b[0;34m\u001b[0m\n\u001b[1;32m      7\u001b[0m \u001b[0;32mfor\u001b[0m \u001b[0mep\u001b[0m \u001b[0;32min\u001b[0m \u001b[0mrange\u001b[0m\u001b[0;34m(\u001b[0m\u001b[0;36m100000\u001b[0m\u001b[0;34m)\u001b[0m\u001b[0;34m:\u001b[0m\u001b[0;34m\u001b[0m\u001b[0;34m\u001b[0m\u001b[0m\n\u001b[1;32m      8\u001b[0m     \u001b[0mprint\u001b[0m\u001b[0;34m(\u001b[0m\u001b[0;34m\"# ep{}, time elapsed: {}\"\u001b[0m\u001b[0;34m.\u001b[0m\u001b[0mformat\u001b[0m\u001b[0;34m(\u001b[0m\u001b[0mep\u001b[0m\u001b[0;34m,\u001b[0m \u001b[0mtime\u001b[0m\u001b[0;34m.\u001b[0m\u001b[0mtime\u001b[0m\u001b[0;34m(\u001b[0m\u001b[0;34m)\u001b[0m\u001b[0;34m-\u001b[0m\u001b[0mst\u001b[0m\u001b[0;34m)\u001b[0m\u001b[0;34m)\u001b[0m\u001b[0;34m\u001b[0m\u001b[0;34m\u001b[0m\u001b[0m\n\u001b[0;32m----> 9\u001b[0;31m     \u001b[0mrollout\u001b[0m\u001b[0;34m(\u001b[0m\u001b[0mapk_obj\u001b[0m\u001b[0;34m,\u001b[0m \u001b[0mneural_agent\u001b[0m\u001b[0;34m,\u001b[0m \u001b[0moptimizer\u001b[0m\u001b[0;34m,\u001b[0m \u001b[0mnsteps\u001b[0m\u001b[0;34m,\u001b[0m \u001b[0mtarget\u001b[0m\u001b[0;34m)\u001b[0m\u001b[0;34m\u001b[0m\u001b[0;34m\u001b[0m\u001b[0m\n\u001b[0m\u001b[1;32m     10\u001b[0m \u001b[0;31m#     random_rollout(apk_obj, nsteps, target)\u001b[0m\u001b[0;34m\u001b[0m\u001b[0;34m\u001b[0m\u001b[0;34m\u001b[0m\u001b[0m\n",
      "\u001b[0;32m<ipython-input-13-f143fdc266da>\u001b[0m in \u001b[0;36mrollout\u001b[0;34m(arg_env, arg_agent, arg_optimizer, arg_maxn_steps, arg_target)\u001b[0m\n\u001b[1;32m     31\u001b[0m         \u001b[0;31m# perform action\u001b[0m\u001b[0;34m\u001b[0m\u001b[0;34m\u001b[0m\u001b[0;34m\u001b[0m\u001b[0m\n\u001b[1;32m     32\u001b[0m         \u001b[0marg_env\u001b[0m\u001b[0;34m.\u001b[0m\u001b[0mperform_action\u001b[0m\u001b[0;34m(\u001b[0m\u001b[0maction_list\u001b[0m\u001b[0;34m[\u001b[0m\u001b[0mselected_action_id\u001b[0m\u001b[0;34m]\u001b[0m\u001b[0;34m)\u001b[0m\u001b[0;34m\u001b[0m\u001b[0;34m\u001b[0m\u001b[0m\n\u001b[0;32m---> 33\u001b[0;31m         \u001b[0mnext_state\u001b[0m \u001b[0;34m=\u001b[0m \u001b[0marg_env\u001b[0m\u001b[0;34m.\u001b[0m\u001b[0mget_current_state\u001b[0m\u001b[0;34m(\u001b[0m\u001b[0;34m)\u001b[0m\u001b[0;34m\u001b[0m\u001b[0;34m\u001b[0m\u001b[0m\n\u001b[0m\u001b[1;32m     34\u001b[0m \u001b[0;34m\u001b[0m\u001b[0m\n\u001b[1;32m     35\u001b[0m     \u001b[0;31m# test whether goal states are reached\u001b[0m\u001b[0;34m\u001b[0m\u001b[0;34m\u001b[0m\u001b[0;34m\u001b[0m\u001b[0m\n",
      "\u001b[0;32m~/Desktop/UCSB/20summer/MarthaEnv/backup/uiautomator_helper/apk.py\u001b[0m in \u001b[0;36mget_current_state\u001b[0;34m(self)\u001b[0m\n\u001b[1;32m    218\u001b[0m     \u001b[0;31m# Right now this simply returns the xml window hierarchy\u001b[0m\u001b[0;34m\u001b[0m\u001b[0;34m\u001b[0m\u001b[0;34m\u001b[0m\u001b[0m\n\u001b[1;32m    219\u001b[0m     \u001b[0;32mdef\u001b[0m \u001b[0mget_current_state\u001b[0m\u001b[0;34m(\u001b[0m\u001b[0mself\u001b[0m\u001b[0;34m)\u001b[0m\u001b[0;34m:\u001b[0m\u001b[0;34m\u001b[0m\u001b[0;34m\u001b[0m\u001b[0m\n\u001b[0;32m--> 220\u001b[0;31m         \u001b[0mwindow_hierarchy\u001b[0m \u001b[0;34m=\u001b[0m \u001b[0mself\u001b[0m\u001b[0;34m.\u001b[0m\u001b[0muiautomator_device\u001b[0m\u001b[0;34m.\u001b[0m\u001b[0mdump_hierarchy\u001b[0m\u001b[0;34m(\u001b[0m\u001b[0;34m)\u001b[0m\u001b[0;34m\u001b[0m\u001b[0;34m\u001b[0m\u001b[0m\n\u001b[0m\u001b[1;32m    221\u001b[0m         \u001b[0mself\u001b[0m\u001b[0;34m.\u001b[0m\u001b[0mcurrent_state\u001b[0m \u001b[0;34m=\u001b[0m \u001b[0mwindow_hierarchy\u001b[0m\u001b[0;34m\u001b[0m\u001b[0;34m\u001b[0m\u001b[0m\n\u001b[1;32m    222\u001b[0m         \u001b[0;32mreturn\u001b[0m \u001b[0mself\u001b[0m\u001b[0;34m.\u001b[0m\u001b[0mcurrent_state\u001b[0m\u001b[0;34m\u001b[0m\u001b[0;34m\u001b[0m\u001b[0m\n",
      "\u001b[0;32m~/anaconda3/lib/python3.8/site-packages/decorator.py\u001b[0m in \u001b[0;36mfun\u001b[0;34m(*args, **kw)\u001b[0m\n\u001b[1;32m    229\u001b[0m             \u001b[0;32mif\u001b[0m \u001b[0;32mnot\u001b[0m \u001b[0mkwsyntax\u001b[0m\u001b[0;34m:\u001b[0m\u001b[0;34m\u001b[0m\u001b[0;34m\u001b[0m\u001b[0m\n\u001b[1;32m    230\u001b[0m                 \u001b[0margs\u001b[0m\u001b[0;34m,\u001b[0m \u001b[0mkw\u001b[0m \u001b[0;34m=\u001b[0m \u001b[0mfix\u001b[0m\u001b[0;34m(\u001b[0m\u001b[0margs\u001b[0m\u001b[0;34m,\u001b[0m \u001b[0mkw\u001b[0m\u001b[0;34m,\u001b[0m \u001b[0msig\u001b[0m\u001b[0;34m)\u001b[0m\u001b[0;34m\u001b[0m\u001b[0;34m\u001b[0m\u001b[0m\n\u001b[0;32m--> 231\u001b[0;31m             \u001b[0;32mreturn\u001b[0m \u001b[0mcaller\u001b[0m\u001b[0;34m(\u001b[0m\u001b[0mfunc\u001b[0m\u001b[0;34m,\u001b[0m \u001b[0;34m*\u001b[0m\u001b[0;34m(\u001b[0m\u001b[0mextras\u001b[0m \u001b[0;34m+\u001b[0m \u001b[0margs\u001b[0m\u001b[0;34m)\u001b[0m\u001b[0;34m,\u001b[0m \u001b[0;34m**\u001b[0m\u001b[0mkw\u001b[0m\u001b[0;34m)\u001b[0m\u001b[0;34m\u001b[0m\u001b[0;34m\u001b[0m\u001b[0m\n\u001b[0m\u001b[1;32m    232\u001b[0m     \u001b[0mfun\u001b[0m\u001b[0;34m.\u001b[0m\u001b[0m__name__\u001b[0m \u001b[0;34m=\u001b[0m \u001b[0mfunc\u001b[0m\u001b[0;34m.\u001b[0m\u001b[0m__name__\u001b[0m\u001b[0;34m\u001b[0m\u001b[0;34m\u001b[0m\u001b[0m\n\u001b[1;32m    233\u001b[0m     \u001b[0mfun\u001b[0m\u001b[0;34m.\u001b[0m\u001b[0m__doc__\u001b[0m \u001b[0;34m=\u001b[0m \u001b[0mfunc\u001b[0m\u001b[0;34m.\u001b[0m\u001b[0m__doc__\u001b[0m\u001b[0;34m\u001b[0m\u001b[0;34m\u001b[0m\u001b[0m\n",
      "\u001b[0;32m~/anaconda3/lib/python3.8/site-packages/retry/api.py\u001b[0m in \u001b[0;36mretry_decorator\u001b[0;34m(f, *fargs, **fkwargs)\u001b[0m\n\u001b[1;32m     71\u001b[0m         \u001b[0margs\u001b[0m \u001b[0;34m=\u001b[0m \u001b[0mfargs\u001b[0m \u001b[0;32mif\u001b[0m \u001b[0mfargs\u001b[0m \u001b[0;32melse\u001b[0m \u001b[0mlist\u001b[0m\u001b[0;34m(\u001b[0m\u001b[0;34m)\u001b[0m\u001b[0;34m\u001b[0m\u001b[0;34m\u001b[0m\u001b[0m\n\u001b[1;32m     72\u001b[0m         \u001b[0mkwargs\u001b[0m \u001b[0;34m=\u001b[0m \u001b[0mfkwargs\u001b[0m \u001b[0;32mif\u001b[0m \u001b[0mfkwargs\u001b[0m \u001b[0;32melse\u001b[0m \u001b[0mdict\u001b[0m\u001b[0;34m(\u001b[0m\u001b[0;34m)\u001b[0m\u001b[0;34m\u001b[0m\u001b[0;34m\u001b[0m\u001b[0m\n\u001b[0;32m---> 73\u001b[0;31m         return __retry_internal(partial(f, *args, **kwargs), exceptions, tries, delay, max_delay, backoff, jitter,\n\u001b[0m\u001b[1;32m     74\u001b[0m                                 logger)\n\u001b[1;32m     75\u001b[0m \u001b[0;34m\u001b[0m\u001b[0m\n",
      "\u001b[0;32m~/anaconda3/lib/python3.8/site-packages/retry/api.py\u001b[0m in \u001b[0;36m__retry_internal\u001b[0;34m(f, exceptions, tries, delay, max_delay, backoff, jitter, logger)\u001b[0m\n\u001b[1;32m     31\u001b[0m     \u001b[0;32mwhile\u001b[0m \u001b[0m_tries\u001b[0m\u001b[0;34m:\u001b[0m\u001b[0;34m\u001b[0m\u001b[0;34m\u001b[0m\u001b[0m\n\u001b[1;32m     32\u001b[0m         \u001b[0;32mtry\u001b[0m\u001b[0;34m:\u001b[0m\u001b[0;34m\u001b[0m\u001b[0;34m\u001b[0m\u001b[0m\n\u001b[0;32m---> 33\u001b[0;31m             \u001b[0;32mreturn\u001b[0m \u001b[0mf\u001b[0m\u001b[0;34m(\u001b[0m\u001b[0;34m)\u001b[0m\u001b[0;34m\u001b[0m\u001b[0;34m\u001b[0m\u001b[0m\n\u001b[0m\u001b[1;32m     34\u001b[0m         \u001b[0;32mexcept\u001b[0m \u001b[0mexceptions\u001b[0m \u001b[0;32mas\u001b[0m \u001b[0me\u001b[0m\u001b[0;34m:\u001b[0m\u001b[0;34m\u001b[0m\u001b[0;34m\u001b[0m\u001b[0m\n\u001b[1;32m     35\u001b[0m             \u001b[0m_tries\u001b[0m \u001b[0;34m-=\u001b[0m \u001b[0;36m1\u001b[0m\u001b[0;34m\u001b[0m\u001b[0;34m\u001b[0m\u001b[0m\n",
      "\u001b[0;32m~/anaconda3/lib/python3.8/site-packages/uiautomator2/__init__.py\u001b[0m in \u001b[0;36mdump_hierarchy\u001b[0;34m(self, compressed, pretty)\u001b[0m\n\u001b[1;32m    936\u001b[0m         \u001b[0mv\u001b[0m\u001b[0;34m-\u001b[0m\u001b[0;36m1.3\u001b[0m\u001b[0;36m.4\u001b[0m \u001b[0mchange\u001b[0m \u001b[0mback\u001b[0m \u001b[0mto\u001b[0m \u001b[0mjsonrpc\u001b[0m\u001b[0;34m.\u001b[0m\u001b[0mdumpWindowHierarchy\u001b[0m\u001b[0;34m\u001b[0m\u001b[0;34m\u001b[0m\u001b[0m\n\u001b[1;32m    937\u001b[0m         \"\"\"\n\u001b[0;32m--> 938\u001b[0;31m         \u001b[0mcontent\u001b[0m \u001b[0;34m=\u001b[0m \u001b[0mself\u001b[0m\u001b[0;34m.\u001b[0m\u001b[0mjsonrpc\u001b[0m\u001b[0;34m.\u001b[0m\u001b[0mdumpWindowHierarchy\u001b[0m\u001b[0;34m(\u001b[0m\u001b[0mcompressed\u001b[0m\u001b[0;34m,\u001b[0m \u001b[0;32mNone\u001b[0m\u001b[0;34m)\u001b[0m\u001b[0;34m\u001b[0m\u001b[0;34m\u001b[0m\u001b[0m\n\u001b[0m\u001b[1;32m    939\u001b[0m         \u001b[0;32mif\u001b[0m \u001b[0mcontent\u001b[0m \u001b[0;34m==\u001b[0m \u001b[0;34m\"\"\u001b[0m\u001b[0;34m:\u001b[0m\u001b[0;34m\u001b[0m\u001b[0;34m\u001b[0m\u001b[0m\n\u001b[1;32m    940\u001b[0m             \u001b[0;32mraise\u001b[0m \u001b[0mRetryError\u001b[0m\u001b[0;34m(\u001b[0m\u001b[0;34m\"dump hierarchy is empty\"\u001b[0m\u001b[0;34m)\u001b[0m\u001b[0;34m\u001b[0m\u001b[0;34m\u001b[0m\u001b[0m\n",
      "\u001b[0;32m~/anaconda3/lib/python3.8/site-packages/uiautomator2/__init__.py\u001b[0m in \u001b[0;36m__call__\u001b[0;34m(self, *args, **kwargs)\u001b[0m\n\u001b[1;32m    451\u001b[0m                 \u001b[0mhttp_timeout\u001b[0m \u001b[0;34m=\u001b[0m \u001b[0mkwargs\u001b[0m\u001b[0;34m.\u001b[0m\u001b[0mpop\u001b[0m\u001b[0;34m(\u001b[0m\u001b[0;34m'http_timeout'\u001b[0m\u001b[0;34m,\u001b[0m \u001b[0mHTTP_TIMEOUT\u001b[0m\u001b[0;34m)\u001b[0m\u001b[0;34m\u001b[0m\u001b[0;34m\u001b[0m\u001b[0m\n\u001b[1;32m    452\u001b[0m                 \u001b[0mparams\u001b[0m \u001b[0;34m=\u001b[0m \u001b[0margs\u001b[0m \u001b[0;32mif\u001b[0m \u001b[0margs\u001b[0m \u001b[0;32melse\u001b[0m \u001b[0mkwargs\u001b[0m\u001b[0;34m\u001b[0m\u001b[0;34m\u001b[0m\u001b[0m\n\u001b[0;32m--> 453\u001b[0;31m                 return self.server._jsonrpc_retry_call(self.method, params,\n\u001b[0m\u001b[1;32m    454\u001b[0m                                                        http_timeout)\n\u001b[1;32m    455\u001b[0m \u001b[0;34m\u001b[0m\u001b[0m\n",
      "\u001b[0;32m~/anaconda3/lib/python3.8/site-packages/uiautomator2/__init__.py\u001b[0m in \u001b[0;36m_jsonrpc_retry_call\u001b[0;34m(self, *args, **kwargs)\u001b[0m\n\u001b[1;32m    458\u001b[0m     \u001b[0;32mdef\u001b[0m \u001b[0m_jsonrpc_retry_call\u001b[0m\u001b[0;34m(\u001b[0m\u001b[0mself\u001b[0m\u001b[0;34m,\u001b[0m \u001b[0;34m*\u001b[0m\u001b[0margs\u001b[0m\u001b[0;34m,\u001b[0m \u001b[0;34m**\u001b[0m\u001b[0mkwargs\u001b[0m\u001b[0;34m)\u001b[0m\u001b[0;34m:\u001b[0m\u001b[0;34m\u001b[0m\u001b[0;34m\u001b[0m\u001b[0m\n\u001b[1;32m    459\u001b[0m         \u001b[0;32mtry\u001b[0m\u001b[0;34m:\u001b[0m\u001b[0;34m\u001b[0m\u001b[0;34m\u001b[0m\u001b[0m\n\u001b[0;32m--> 460\u001b[0;31m             \u001b[0;32mreturn\u001b[0m \u001b[0mself\u001b[0m\u001b[0;34m.\u001b[0m\u001b[0m_jsonrpc_call\u001b[0m\u001b[0;34m(\u001b[0m\u001b[0;34m*\u001b[0m\u001b[0margs\u001b[0m\u001b[0;34m,\u001b[0m \u001b[0;34m**\u001b[0m\u001b[0mkwargs\u001b[0m\u001b[0;34m)\u001b[0m\u001b[0;34m\u001b[0m\u001b[0;34m\u001b[0m\u001b[0m\n\u001b[0m\u001b[1;32m    461\u001b[0m         except (requests.ReadTimeout,\n\u001b[1;32m    462\u001b[0m                 \u001b[0mServerError\u001b[0m\u001b[0;34m,\u001b[0m\u001b[0;34m\u001b[0m\u001b[0;34m\u001b[0m\u001b[0m\n",
      "\u001b[0;32m~/anaconda3/lib/python3.8/site-packages/uiautomator2/__init__.py\u001b[0m in \u001b[0;36m_jsonrpc_call\u001b[0;34m(self, method, params, http_timeout)\u001b[0m\n\u001b[1;32m    487\u001b[0m         }\n\u001b[1;32m    488\u001b[0m         \u001b[0mdata\u001b[0m \u001b[0;34m=\u001b[0m \u001b[0mjson\u001b[0m\u001b[0;34m.\u001b[0m\u001b[0mdumps\u001b[0m\u001b[0;34m(\u001b[0m\u001b[0mdata\u001b[0m\u001b[0;34m)\u001b[0m\u001b[0;34m\u001b[0m\u001b[0;34m\u001b[0m\u001b[0m\n\u001b[0;32m--> 489\u001b[0;31m         res = self.http.post(\"/jsonrpc/0\",\n\u001b[0m\u001b[1;32m    490\u001b[0m                              \u001b[0mheaders\u001b[0m\u001b[0;34m=\u001b[0m\u001b[0;34m{\u001b[0m\u001b[0;34m\"Content-Type\"\u001b[0m\u001b[0;34m:\u001b[0m \u001b[0;34m\"application/json\"\u001b[0m\u001b[0;34m}\u001b[0m\u001b[0;34m,\u001b[0m\u001b[0;34m\u001b[0m\u001b[0;34m\u001b[0m\u001b[0m\n\u001b[1;32m    491\u001b[0m                              \u001b[0mdata\u001b[0m\u001b[0;34m=\u001b[0m\u001b[0mdata\u001b[0m\u001b[0;34m,\u001b[0m\u001b[0;34m\u001b[0m\u001b[0;34m\u001b[0m\u001b[0m\n",
      "\u001b[0;32m~/anaconda3/lib/python3.8/site-packages/requests/sessions.py\u001b[0m in \u001b[0;36mpost\u001b[0;34m(self, url, data, json, **kwargs)\u001b[0m\n\u001b[1;32m    588\u001b[0m         \"\"\"\n\u001b[1;32m    589\u001b[0m \u001b[0;34m\u001b[0m\u001b[0m\n\u001b[0;32m--> 590\u001b[0;31m         \u001b[0;32mreturn\u001b[0m \u001b[0mself\u001b[0m\u001b[0;34m.\u001b[0m\u001b[0mrequest\u001b[0m\u001b[0;34m(\u001b[0m\u001b[0;34m'POST'\u001b[0m\u001b[0;34m,\u001b[0m \u001b[0murl\u001b[0m\u001b[0;34m,\u001b[0m \u001b[0mdata\u001b[0m\u001b[0;34m=\u001b[0m\u001b[0mdata\u001b[0m\u001b[0;34m,\u001b[0m \u001b[0mjson\u001b[0m\u001b[0;34m=\u001b[0m\u001b[0mjson\u001b[0m\u001b[0;34m,\u001b[0m \u001b[0;34m**\u001b[0m\u001b[0mkwargs\u001b[0m\u001b[0;34m)\u001b[0m\u001b[0;34m\u001b[0m\u001b[0;34m\u001b[0m\u001b[0m\n\u001b[0m\u001b[1;32m    591\u001b[0m \u001b[0;34m\u001b[0m\u001b[0m\n\u001b[1;32m    592\u001b[0m     \u001b[0;32mdef\u001b[0m \u001b[0mput\u001b[0m\u001b[0;34m(\u001b[0m\u001b[0mself\u001b[0m\u001b[0;34m,\u001b[0m \u001b[0murl\u001b[0m\u001b[0;34m,\u001b[0m \u001b[0mdata\u001b[0m\u001b[0;34m=\u001b[0m\u001b[0;32mNone\u001b[0m\u001b[0;34m,\u001b[0m \u001b[0;34m**\u001b[0m\u001b[0mkwargs\u001b[0m\u001b[0;34m)\u001b[0m\u001b[0;34m:\u001b[0m\u001b[0;34m\u001b[0m\u001b[0;34m\u001b[0m\u001b[0m\n",
      "\u001b[0;32m~/anaconda3/lib/python3.8/site-packages/uiautomator2/__init__.py\u001b[0m in \u001b[0;36mrequest\u001b[0;34m(self, method, url, **kwargs)\u001b[0m\n\u001b[1;32m    213\u001b[0m         \u001b[0mself\u001b[0m\u001b[0;34m.\u001b[0m\u001b[0m__client\u001b[0m\u001b[0;34m.\u001b[0m\u001b[0m_prepare_atx_agent\u001b[0m\u001b[0;34m(\u001b[0m\u001b[0;34m)\u001b[0m\u001b[0;34m\u001b[0m\u001b[0;34m\u001b[0m\u001b[0m\n\u001b[1;32m    214\u001b[0m         \u001b[0murl\u001b[0m \u001b[0;34m=\u001b[0m \u001b[0mself\u001b[0m\u001b[0;34m.\u001b[0m\u001b[0m__client\u001b[0m\u001b[0;34m.\u001b[0m\u001b[0mpath2url\u001b[0m\u001b[0;34m(\u001b[0m\u001b[0murl\u001b[0m\u001b[0;34m)\u001b[0m\u001b[0;34m\u001b[0m\u001b[0;34m\u001b[0m\u001b[0m\n\u001b[0;32m--> 215\u001b[0;31m         \u001b[0;32mreturn\u001b[0m \u001b[0msuper\u001b[0m\u001b[0;34m(\u001b[0m\u001b[0;34m)\u001b[0m\u001b[0;34m.\u001b[0m\u001b[0mrequest\u001b[0m\u001b[0;34m(\u001b[0m\u001b[0mmethod\u001b[0m\u001b[0;34m,\u001b[0m \u001b[0murl\u001b[0m\u001b[0;34m,\u001b[0m \u001b[0;34m**\u001b[0m\u001b[0mkwargs\u001b[0m\u001b[0;34m)\u001b[0m\u001b[0;34m\u001b[0m\u001b[0;34m\u001b[0m\u001b[0m\n\u001b[0m\u001b[1;32m    216\u001b[0m \u001b[0;34m\u001b[0m\u001b[0m\n\u001b[1;32m    217\u001b[0m \u001b[0;34m\u001b[0m\u001b[0m\n",
      "\u001b[0;32m~/anaconda3/lib/python3.8/site-packages/uiautomator2/__init__.py\u001b[0m in \u001b[0;36mrequest\u001b[0;34m(self, method, url, **kwargs)\u001b[0m\n\u001b[1;32m    107\u001b[0m                       method=method, url=url, data=data))  # yaml: disable\n\u001b[1;32m    108\u001b[0m         \u001b[0;32mtry\u001b[0m\u001b[0;34m:\u001b[0m\u001b[0;34m\u001b[0m\u001b[0;34m\u001b[0m\u001b[0m\n\u001b[0;32m--> 109\u001b[0;31m             resp = super(TimeoutRequestsSession,\n\u001b[0m\u001b[1;32m    110\u001b[0m                          self).request(method, url, **kwargs)\n\u001b[1;32m    111\u001b[0m         \u001b[0;32mexcept\u001b[0m \u001b[0mrequests\u001b[0m\u001b[0;34m.\u001b[0m\u001b[0mConnectionError\u001b[0m \u001b[0;32mas\u001b[0m \u001b[0me\u001b[0m\u001b[0;34m:\u001b[0m\u001b[0;34m\u001b[0m\u001b[0;34m\u001b[0m\u001b[0m\n",
      "\u001b[0;32m~/anaconda3/lib/python3.8/site-packages/requests/sessions.py\u001b[0m in \u001b[0;36mrequest\u001b[0;34m(self, method, url, params, data, headers, cookies, files, auth, timeout, allow_redirects, proxies, hooks, stream, verify, cert, json)\u001b[0m\n\u001b[1;32m    540\u001b[0m         }\n\u001b[1;32m    541\u001b[0m         \u001b[0msend_kwargs\u001b[0m\u001b[0;34m.\u001b[0m\u001b[0mupdate\u001b[0m\u001b[0;34m(\u001b[0m\u001b[0msettings\u001b[0m\u001b[0;34m)\u001b[0m\u001b[0;34m\u001b[0m\u001b[0;34m\u001b[0m\u001b[0m\n\u001b[0;32m--> 542\u001b[0;31m         \u001b[0mresp\u001b[0m \u001b[0;34m=\u001b[0m \u001b[0mself\u001b[0m\u001b[0;34m.\u001b[0m\u001b[0msend\u001b[0m\u001b[0;34m(\u001b[0m\u001b[0mprep\u001b[0m\u001b[0;34m,\u001b[0m \u001b[0;34m**\u001b[0m\u001b[0msend_kwargs\u001b[0m\u001b[0;34m)\u001b[0m\u001b[0;34m\u001b[0m\u001b[0;34m\u001b[0m\u001b[0m\n\u001b[0m\u001b[1;32m    543\u001b[0m \u001b[0;34m\u001b[0m\u001b[0m\n\u001b[1;32m    544\u001b[0m         \u001b[0;32mreturn\u001b[0m \u001b[0mresp\u001b[0m\u001b[0;34m\u001b[0m\u001b[0;34m\u001b[0m\u001b[0m\n",
      "\u001b[0;32m~/anaconda3/lib/python3.8/site-packages/requests/sessions.py\u001b[0m in \u001b[0;36msend\u001b[0;34m(self, request, **kwargs)\u001b[0m\n\u001b[1;32m    653\u001b[0m \u001b[0;34m\u001b[0m\u001b[0m\n\u001b[1;32m    654\u001b[0m         \u001b[0;31m# Send the request\u001b[0m\u001b[0;34m\u001b[0m\u001b[0;34m\u001b[0m\u001b[0;34m\u001b[0m\u001b[0m\n\u001b[0;32m--> 655\u001b[0;31m         \u001b[0mr\u001b[0m \u001b[0;34m=\u001b[0m \u001b[0madapter\u001b[0m\u001b[0;34m.\u001b[0m\u001b[0msend\u001b[0m\u001b[0;34m(\u001b[0m\u001b[0mrequest\u001b[0m\u001b[0;34m,\u001b[0m \u001b[0;34m**\u001b[0m\u001b[0mkwargs\u001b[0m\u001b[0;34m)\u001b[0m\u001b[0;34m\u001b[0m\u001b[0;34m\u001b[0m\u001b[0m\n\u001b[0m\u001b[1;32m    656\u001b[0m \u001b[0;34m\u001b[0m\u001b[0m\n\u001b[1;32m    657\u001b[0m         \u001b[0;31m# Total elapsed time of the request (approximately)\u001b[0m\u001b[0;34m\u001b[0m\u001b[0;34m\u001b[0m\u001b[0;34m\u001b[0m\u001b[0m\n",
      "\u001b[0;32m~/anaconda3/lib/python3.8/site-packages/requests/adapters.py\u001b[0m in \u001b[0;36msend\u001b[0;34m(self, request, stream, timeout, verify, cert, proxies)\u001b[0m\n\u001b[1;32m    514\u001b[0m                 \u001b[0;32mraise\u001b[0m \u001b[0mSSLError\u001b[0m\u001b[0;34m(\u001b[0m\u001b[0me\u001b[0m\u001b[0;34m,\u001b[0m \u001b[0mrequest\u001b[0m\u001b[0;34m=\u001b[0m\u001b[0mrequest\u001b[0m\u001b[0;34m)\u001b[0m\u001b[0;34m\u001b[0m\u001b[0;34m\u001b[0m\u001b[0m\n\u001b[1;32m    515\u001b[0m \u001b[0;34m\u001b[0m\u001b[0m\n\u001b[0;32m--> 516\u001b[0;31m             \u001b[0;32mraise\u001b[0m \u001b[0mConnectionError\u001b[0m\u001b[0;34m(\u001b[0m\u001b[0me\u001b[0m\u001b[0;34m,\u001b[0m \u001b[0mrequest\u001b[0m\u001b[0;34m=\u001b[0m\u001b[0mrequest\u001b[0m\u001b[0;34m)\u001b[0m\u001b[0;34m\u001b[0m\u001b[0;34m\u001b[0m\u001b[0m\n\u001b[0m\u001b[1;32m    517\u001b[0m \u001b[0;34m\u001b[0m\u001b[0m\n\u001b[1;32m    518\u001b[0m         \u001b[0;32mexcept\u001b[0m \u001b[0mClosedPoolError\u001b[0m \u001b[0;32mas\u001b[0m \u001b[0me\u001b[0m\u001b[0;34m:\u001b[0m\u001b[0;34m\u001b[0m\u001b[0;34m\u001b[0m\u001b[0m\n",
      "\u001b[0;31mConnectionError\u001b[0m: HTTPConnectionPool(host='127.0.0.1', port=64332): Max retries exceeded with url: /jsonrpc/0 (Caused by NewConnectionError('<urllib3.connection.HTTPConnection object at 0x7fb39cce28e0>: Failed to establish a new connection: [Errno 61] Connection refused'))"
     ]
    }
   ],
   "source": [
    "# nsteps = 4\n",
    "# neural_agent = NeuralAgent(EMBEDDING_DIM).to(device)\n",
    "# optimizer = torch.optim.SGD(neural_agent.parameters(), lr=0.1)\n",
    "# target = [\"com\",\"example\",\"priyanka\",\"testapp\",\"BasicViewsActivity\",\"void\",\"goToMain\",\"android\",\"view\",\"View\"]\n",
    "# target += [[\"\"]] * ( len(NODE_KEY_LIST)-len(target) )\n",
    "# st = time.time()\n",
    "# for ep in range(100000):\n",
    "#     print(\"# ep{}, time elapsed: {}\".format(ep, time.time()-st))\n",
    "#     rollout(apk_obj, neural_agent, optimizer, nsteps, target)\n",
    "# #     random_rollout(apk_obj, nsteps, target)"
   ]
  },
  {
   "cell_type": "code",
   "execution_count": 5,
   "metadata": {},
   "outputs": [
    {
     "data": {
      "text/plain": [
       "'<?xml version=\\'1.0\\' encoding=\\'UTF-8\\' standalone=\\'yes\\' ?>\\r\\n<hierarchy rotation=\"0\">\\r\\n  <node index=\"0\" text=\"\" resource-id=\"\" class=\"android.widget.FrameLayout\" package=\"com.android.systemui\" content-desc=\"\" checkable=\"false\" checked=\"false\" clickable=\"false\" enabled=\"true\" focusable=\"false\" focused=\"false\" scrollable=\"false\" long-clickable=\"false\" password=\"false\" selected=\"false\" visible-to-user=\"true\" bounds=\"[0,0][1080,66]\">\\r\\n    <node index=\"0\" text=\"\" resource-id=\"com.android.systemui:id/scrim_in_front\" class=\"android.view.View\" package=\"com.android.systemui\" content-desc=\"\" checkable=\"false\" checked=\"false\" clickable=\"false\" enabled=\"true\" focusable=\"true\" focused=\"false\" scrollable=\"false\" long-clickable=\"false\" password=\"false\" selected=\"false\" visible-to-user=\"true\" bounds=\"[0,0][1080,66]\" />\\r\\n    <node index=\"1\" text=\"\" resource-id=\"com.android.systemui:id/scrim_behind\" class=\"android.view.View\" package=\"com.android.systemui\" content-desc=\"\" checkable=\"false\" checked=\"false\" clickable=\"false\" enabled=\"true\" focusable=\"true\" focused=\"false\" scrollable=\"false\" long-clickable=\"false\" password=\"false\" selected=\"false\" visible-to-user=\"true\" bounds=\"[0,0][1080,66]\" />\\r\\n    <node index=\"2\" text=\"\" resource-id=\"com.android.systemui:id/status_bar_container\" class=\"android.widget.FrameLayout\" package=\"com.android.systemui\" content-desc=\"\" checkable=\"false\" checked=\"false\" clickable=\"false\" enabled=\"true\" focusable=\"false\" focused=\"false\" scrollable=\"false\" long-clickable=\"false\" password=\"false\" selected=\"false\" visible-to-user=\"true\" bounds=\"[0,0][1080,66]\">\\r\\n      <node index=\"0\" text=\"\" resource-id=\"com.android.systemui:id/status_bar\" class=\"android.widget.FrameLayout\" package=\"com.android.systemui\" content-desc=\"\" checkable=\"false\" checked=\"false\" clickable=\"false\" enabled=\"true\" focusable=\"false\" focused=\"false\" scrollable=\"false\" long-clickable=\"false\" password=\"false\" selected=\"false\" visible-to-user=\"true\" bounds=\"[0,0][1080,66]\">\\r\\n        <node index=\"0\" text=\"\" resource-id=\"com.android.systemui:id/status_bar_contents\" class=\"android.widget.LinearLayout\" package=\"com.android.systemui\" content-desc=\"\" checkable=\"false\" checked=\"false\" clickable=\"false\" enabled=\"true\" focusable=\"false\" focused=\"false\" scrollable=\"false\" long-clickable=\"false\" password=\"false\" selected=\"false\" visible-to-user=\"true\" bounds=\"[22,0][1058,66]\">\\r\\n          <node index=\"0\" text=\"\" resource-id=\"\" class=\"android.widget.FrameLayout\" package=\"com.android.systemui\" content-desc=\"\" checkable=\"false\" checked=\"false\" clickable=\"false\" enabled=\"true\" focusable=\"false\" focused=\"false\" scrollable=\"false\" long-clickable=\"false\" password=\"false\" selected=\"false\" visible-to-user=\"true\" bounds=\"[39,0][540,66]\">\\r\\n            <node index=\"0\" text=\"\" resource-id=\"com.android.systemui:id/status_bar_left_side\" class=\"android.widget.LinearLayout\" package=\"com.android.systemui\" content-desc=\"\" checkable=\"false\" checked=\"false\" clickable=\"false\" enabled=\"true\" focusable=\"false\" focused=\"false\" scrollable=\"false\" long-clickable=\"false\" password=\"false\" selected=\"false\" visible-to-user=\"true\" bounds=\"[39,0][540,66]\">\\r\\n              <node index=\"0\" text=\"1:49\" resource-id=\"com.android.systemui:id/clock\" class=\"android.widget.TextView\" package=\"com.android.systemui\" content-desc=\"1:49 PM\" checkable=\"false\" checked=\"false\" clickable=\"false\" enabled=\"true\" focusable=\"false\" focused=\"false\" scrollable=\"false\" long-clickable=\"false\" password=\"false\" selected=\"false\" visible-to-user=\"true\" bounds=\"[39,0][134,66]\" />\\r\\n              <node index=\"1\" text=\"\" resource-id=\"com.android.systemui:id/notification_icon_area\" class=\"android.widget.FrameLayout\" package=\"com.android.systemui\" content-desc=\"\" checkable=\"false\" checked=\"false\" clickable=\"false\" enabled=\"true\" focusable=\"false\" focused=\"false\" scrollable=\"false\" long-clickable=\"false\" password=\"false\" selected=\"false\" visible-to-user=\"true\" bounds=\"[134,0][540,66]\">\\r\\n                <node index=\"0\" text=\"\" resource-id=\"com.android.systemui:id/notification_icon_area_inner\" class=\"android.widget.LinearLayout\" package=\"com.android.systemui\" content-desc=\"\" checkable=\"false\" checked=\"false\" clickable=\"false\" enabled=\"true\" focusable=\"false\" focused=\"false\" scrollable=\"false\" long-clickable=\"false\" password=\"false\" selected=\"false\" visible-to-user=\"true\" bounds=\"[134,0][540,66]\">\\r\\n                  <node index=\"0\" text=\"\" resource-id=\"com.android.systemui:id/notificationIcons\" class=\"android.widget.FrameLayout\" package=\"com.android.systemui\" content-desc=\"\" checkable=\"false\" checked=\"false\" clickable=\"false\" enabled=\"true\" focusable=\"false\" focused=\"false\" scrollable=\"false\" long-clickable=\"false\" password=\"false\" selected=\"false\" visible-to-user=\"true\" bounds=\"[134,0][540,66]\">\\r\\n                    <node index=\"0\" text=\"\" resource-id=\"\" class=\"android.widget.ImageView\" package=\"com.android.systemui\" content-desc=\"ATX notification: UIAutomator\" checkable=\"false\" checked=\"false\" clickable=\"false\" enabled=\"true\" focusable=\"false\" focused=\"false\" scrollable=\"false\" long-clickable=\"false\" password=\"false\" selected=\"false\" visible-to-user=\"true\" bounds=\"[134,0][195,66]\" />\\r\\n                    <node index=\"1\" text=\"\" resource-id=\"\" class=\"android.widget.ImageView\" package=\"com.android.systemui\" content-desc=\"Android System notification: USB debugging connected\" checkable=\"false\" checked=\"false\" clickable=\"false\" enabled=\"true\" focusable=\"false\" focused=\"false\" scrollable=\"false\" long-clickable=\"false\" password=\"false\" selected=\"false\" visible-to-user=\"true\" bounds=\"[195,0][256,66]\" />\\r\\n                  </node>\\r\\n                </node>\\r\\n              </node>\\r\\n            </node>\\r\\n          </node>\\r\\n          <node index=\"1\" text=\"\" resource-id=\"com.android.systemui:id/system_icon_area\" class=\"android.widget.LinearLayout\" package=\"com.android.systemui\" content-desc=\"\" checkable=\"false\" checked=\"false\" clickable=\"false\" enabled=\"true\" focusable=\"false\" focused=\"false\" scrollable=\"false\" long-clickable=\"false\" password=\"false\" selected=\"false\" visible-to-user=\"true\" bounds=\"[540,0][1041,66]\">\\r\\n            <node index=\"0\" text=\"\" resource-id=\"com.android.systemui:id/system_icons\" class=\"android.widget.LinearLayout\" package=\"com.android.systemui\" content-desc=\"\" checkable=\"false\" checked=\"false\" clickable=\"false\" enabled=\"true\" focusable=\"false\" focused=\"false\" scrollable=\"false\" long-clickable=\"false\" password=\"false\" selected=\"false\" visible-to-user=\"true\" bounds=\"[540,0][1041,66]\">\\r\\n              <node index=\"0\" text=\"\" resource-id=\"com.android.systemui:id/statusIcons\" class=\"android.widget.LinearLayout\" package=\"com.android.systemui\" content-desc=\"\" checkable=\"false\" checked=\"false\" clickable=\"false\" enabled=\"true\" focusable=\"false\" focused=\"false\" scrollable=\"false\" long-clickable=\"false\" password=\"false\" selected=\"false\" visible-to-user=\"true\" bounds=\"[540,0][934,66]\">\\r\\n                <node index=\"0\" text=\"\" resource-id=\"\" class=\"android.widget.ImageView\" package=\"com.android.systemui\" content-desc=\"Ringer vibrate.\" checkable=\"false\" checked=\"false\" clickable=\"false\" enabled=\"true\" focusable=\"false\" focused=\"false\" scrollable=\"false\" long-clickable=\"false\" password=\"false\" selected=\"false\" visible-to-user=\"true\" bounds=\"[801,2][865,63]\" />\\r\\n                <node index=\"1\" text=\"\" resource-id=\"com.android.systemui:id/wifi_combo\" class=\"android.widget.FrameLayout\" package=\"com.android.systemui\" content-desc=\"Wifi signal full.\" checkable=\"false\" checked=\"false\" clickable=\"false\" enabled=\"true\" focusable=\"false\" focused=\"false\" scrollable=\"false\" long-clickable=\"false\" password=\"false\" selected=\"false\" visible-to-user=\"true\" bounds=\"[865,2][917,63]\">\\r\\n                  <node index=\"0\" text=\"\" resource-id=\"com.android.systemui:id/wifi_group\" class=\"android.widget.LinearLayout\" package=\"com.android.systemui\" content-desc=\"\" checkable=\"false\" checked=\"false\" clickable=\"false\" enabled=\"true\" focusable=\"false\" focused=\"false\" scrollable=\"false\" long-clickable=\"false\" password=\"false\" selected=\"false\" visible-to-user=\"true\" bounds=\"[872,2][917,63]\">\\r\\n                    <node index=\"0\" text=\"\" resource-id=\"com.android.systemui:id/wifi_combo\" class=\"android.widget.FrameLayout\" package=\"com.android.systemui\" content-desc=\"\" checkable=\"false\" checked=\"false\" clickable=\"false\" enabled=\"true\" focusable=\"false\" focused=\"false\" scrollable=\"false\" long-clickable=\"false\" password=\"false\" selected=\"false\" visible-to-user=\"true\" bounds=\"[872,12][917,53]\">\\r\\n                      <node index=\"0\" text=\"\" resource-id=\"com.android.systemui:id/wifi_signal\" class=\"android.widget.ImageView\" package=\"com.android.systemui\" content-desc=\"\" checkable=\"false\" checked=\"false\" clickable=\"false\" enabled=\"true\" focusable=\"false\" focused=\"false\" scrollable=\"false\" long-clickable=\"false\" password=\"false\" selected=\"false\" visible-to-user=\"true\" bounds=\"[872,12][917,53]\" />\\r\\n                    </node>\\r\\n                  </node>\\r\\n                </node>\\r\\n              </node>\\r\\n              <node index=\"1\" text=\"\" resource-id=\"com.android.systemui:id/battery\" class=\"android.widget.LinearLayout\" package=\"com.android.systemui\" content-desc=\"Battery charging, 13 percent.\" checkable=\"false\" checked=\"false\" clickable=\"false\" enabled=\"true\" focusable=\"false\" focused=\"false\" scrollable=\"false\" long-clickable=\"false\" password=\"false\" selected=\"false\" visible-to-user=\"true\" bounds=\"[934,0][1041,66]\">\\r\\n                <node index=\"0\" text=\"\" resource-id=\"\" class=\"android.widget.ImageView\" package=\"com.android.systemui\" content-desc=\"\" checkable=\"false\" checked=\"false\" clickable=\"false\" enabled=\"true\" focusable=\"false\" focused=\"false\" scrollable=\"false\" long-clickable=\"false\" password=\"false\" selected=\"false\" visible-to-user=\"true\" bounds=\"[934,15][957,51]\" />\\r\\n                <node index=\"1\" text=\"13%\" resource-id=\"com.android.systemui:id/battery_percentage_view\" class=\"android.widget.TextView\" package=\"com.android.systemui\" content-desc=\"\" checkable=\"false\" checked=\"false\" clickable=\"false\" enabled=\"true\" focusable=\"false\" focused=\"false\" scrollable=\"false\" long-clickable=\"false\" password=\"false\" selected=\"false\" visible-to-user=\"true\" bounds=\"[957,0][1041,66]\" />\\r\\n              </node>\\r\\n            </node>\\r\\n          </node>\\r\\n        </node>\\r\\n      </node>\\r\\n    </node>\\r\\n  </node>\\r\\n  <node index=\"0\" text=\"\" resource-id=\"\" class=\"android.widget.FrameLayout\" package=\"com.example.priyanka.testapp\" content-desc=\"\" checkable=\"false\" checked=\"false\" clickable=\"false\" enabled=\"true\" focusable=\"false\" focused=\"false\" scrollable=\"false\" long-clickable=\"false\" password=\"false\" selected=\"false\" visible-to-user=\"true\" bounds=\"[0,0][1080,2088]\">\\r\\n    <node index=\"0\" text=\"\" resource-id=\"\" class=\"android.widget.LinearLayout\" package=\"com.example.priyanka.testapp\" content-desc=\"\" checkable=\"false\" checked=\"false\" clickable=\"false\" enabled=\"true\" focusable=\"false\" focused=\"false\" scrollable=\"false\" long-clickable=\"false\" password=\"false\" selected=\"false\" visible-to-user=\"true\" bounds=\"[0,0][1080,2088]\">\\r\\n      <node index=\"0\" text=\"\" resource-id=\"\" class=\"android.widget.FrameLayout\" package=\"com.example.priyanka.testapp\" content-desc=\"\" checkable=\"false\" checked=\"false\" clickable=\"false\" enabled=\"true\" focusable=\"false\" focused=\"false\" scrollable=\"false\" long-clickable=\"false\" password=\"false\" selected=\"false\" visible-to-user=\"true\" bounds=\"[0,66][1080,2088]\">\\r\\n        <node index=\"0\" text=\"\" resource-id=\"com.example.priyanka.testapp:id/decor_content_parent\" class=\"android.view.ViewGroup\" package=\"com.example.priyanka.testapp\" content-desc=\"\" checkable=\"false\" checked=\"false\" clickable=\"false\" enabled=\"true\" focusable=\"false\" focused=\"false\" scrollable=\"false\" long-clickable=\"false\" password=\"false\" selected=\"false\" visible-to-user=\"true\" bounds=\"[0,66][1080,2088]\">\\r\\n          <node index=\"0\" text=\"\" resource-id=\"com.example.priyanka.testapp:id/action_bar_container\" class=\"android.widget.FrameLayout\" package=\"com.example.priyanka.testapp\" content-desc=\"\" checkable=\"false\" checked=\"false\" clickable=\"false\" enabled=\"true\" focusable=\"false\" focused=\"false\" scrollable=\"false\" long-clickable=\"false\" password=\"false\" selected=\"false\" visible-to-user=\"true\" bounds=\"[0,66][1080,220]\">\\r\\n            <node index=\"0\" text=\"\" resource-id=\"com.example.priyanka.testapp:id/action_bar\" class=\"android.view.ViewGroup\" package=\"com.example.priyanka.testapp\" content-desc=\"\" checkable=\"false\" checked=\"false\" clickable=\"false\" enabled=\"true\" focusable=\"false\" focused=\"false\" scrollable=\"false\" long-clickable=\"false\" password=\"false\" selected=\"false\" visible-to-user=\"true\" bounds=\"[0,66][1080,220]\">\\r\\n              <node index=\"0\" text=\"testApp\" resource-id=\"\" class=\"android.widget.TextView\" package=\"com.example.priyanka.testapp\" content-desc=\"\" checkable=\"false\" checked=\"false\" clickable=\"false\" enabled=\"true\" focusable=\"false\" focused=\"false\" scrollable=\"false\" long-clickable=\"false\" password=\"false\" selected=\"false\" visible-to-user=\"true\" bounds=\"[44,106][236,180]\" />\\r\\n              <node index=\"1\" text=\"\" resource-id=\"\" class=\"android.support.v7.widget.LinearLayoutCompat\" package=\"com.example.priyanka.testapp\" content-desc=\"\" checkable=\"false\" checked=\"false\" clickable=\"false\" enabled=\"true\" focusable=\"false\" focused=\"false\" scrollable=\"false\" long-clickable=\"false\" password=\"false\" selected=\"false\" visible-to-user=\"true\" bounds=\"[969,66][1080,220]\">\\r\\n                <node index=\"0\" text=\"\" resource-id=\"\" class=\"android.widget.ImageView\" package=\"com.example.priyanka.testapp\" content-desc=\"More options\" checkable=\"false\" checked=\"false\" clickable=\"true\" enabled=\"true\" focusable=\"true\" focused=\"false\" scrollable=\"false\" long-clickable=\"true\" password=\"false\" selected=\"false\" visible-to-user=\"true\" bounds=\"[969,77][1080,209]\" />\\r\\n              </node>\\r\\n            </node>\\r\\n          </node>\\r\\n          <node index=\"1\" text=\"\" resource-id=\"android:id/content\" class=\"android.widget.FrameLayout\" package=\"com.example.priyanka.testapp\" content-desc=\"\" checkable=\"false\" checked=\"false\" clickable=\"false\" enabled=\"true\" focusable=\"false\" focused=\"false\" scrollable=\"false\" long-clickable=\"false\" password=\"false\" selected=\"false\" visible-to-user=\"true\" bounds=\"[0,220][1080,2088]\">\\r\\n            <node index=\"0\" text=\"\" resource-id=\"\" class=\"android.view.ViewGroup\" package=\"com.example.priyanka.testapp\" content-desc=\"\" checkable=\"false\" checked=\"false\" clickable=\"false\" enabled=\"true\" focusable=\"false\" focused=\"false\" scrollable=\"false\" long-clickable=\"false\" password=\"false\" selected=\"false\" visible-to-user=\"true\" bounds=\"[0,220][1080,2088]\">\\r\\n              <node index=\"0\" text=\"CLICKHANDLER\" resource-id=\"com.example.priyanka.testapp:id/button3\" class=\"android.widget.Button\" package=\"com.example.priyanka.testapp\" content-desc=\"\" checkable=\"false\" checked=\"false\" clickable=\"true\" enabled=\"true\" focusable=\"true\" focused=\"false\" scrollable=\"false\" long-clickable=\"false\" password=\"false\" selected=\"false\" visible-to-user=\"true\" bounds=\"[0,437][337,569]\" />\\r\\n              <node index=\"1\" text=\"ACT2\" resource-id=\"com.example.priyanka.testapp:id/button4\" class=\"android.widget.Button\" package=\"com.example.priyanka.testapp\" content-desc=\"\" checkable=\"false\" checked=\"false\" clickable=\"true\" enabled=\"true\" focusable=\"true\" focused=\"false\" scrollable=\"false\" long-clickable=\"false\" password=\"false\" selected=\"false\" visible-to-user=\"true\" bounds=\"[658,446][900,578]\" />\\r\\n              <node index=\"2\" text=\"DISPLAY MESSAGE\" resource-id=\"com.example.priyanka.testapp:id/button1\" class=\"android.widget.Button\" package=\"com.example.priyanka.testapp\" content-desc=\"\" checkable=\"false\" checked=\"false\" clickable=\"true\" enabled=\"true\" focusable=\"true\" focused=\"false\" scrollable=\"false\" long-clickable=\"false\" password=\"false\" selected=\"false\" visible-to-user=\"true\" bounds=\"[336,811][744,943]\" />\\r\\n              <node index=\"3\" text=\"DISPLAY VIEW\" resource-id=\"com.example.priyanka.testapp:id/button\" class=\"android.widget.Button\" package=\"com.example.priyanka.testapp\" content-desc=\"\" checkable=\"false\" checked=\"false\" clickable=\"true\" enabled=\"true\" focusable=\"true\" focused=\"false\" scrollable=\"false\" long-clickable=\"false\" password=\"false\" selected=\"false\" visible-to-user=\"true\" bounds=\"[384,1227][705,1359]\" />\\r\\n              <node index=\"4\" text=\"ACT3\" resource-id=\"com.example.priyanka.testapp:id/button5\" class=\"android.widget.Button\" package=\"com.example.priyanka.testapp\" content-desc=\"\" checkable=\"false\" checked=\"false\" clickable=\"true\" enabled=\"true\" focusable=\"true\" focused=\"false\" scrollable=\"false\" long-clickable=\"false\" password=\"false\" selected=\"false\" visible-to-user=\"true\" bounds=\"[443,1563][685,1695]\" />\\r\\n            </node>\\r\\n          </node>\\r\\n        </node>\\r\\n      </node>\\r\\n    </node>\\r\\n  </node>\\r\\n  <node index=\"0\" text=\"\" resource-id=\"com.android.systemui:id/navigation_bar_frame\" class=\"android.widget.FrameLayout\" package=\"com.android.systemui\" content-desc=\"\" checkable=\"false\" checked=\"false\" clickable=\"false\" enabled=\"true\" focusable=\"false\" focused=\"false\" scrollable=\"false\" long-clickable=\"false\" password=\"false\" selected=\"false\" visible-to-user=\"true\" bounds=\"[0,2088][1080,2220]\">\\r\\n    <node index=\"0\" text=\"\" resource-id=\"\" class=\"android.widget.FrameLayout\" package=\"com.android.systemui\" content-desc=\"\" checkable=\"false\" checked=\"false\" clickable=\"false\" enabled=\"true\" focusable=\"false\" focused=\"false\" scrollable=\"false\" long-clickable=\"false\" password=\"false\" selected=\"false\" visible-to-user=\"true\" bounds=\"[0,2088][1080,2220]\">\\r\\n      <node index=\"0\" text=\"\" resource-id=\"com.android.systemui:id/navigation_inflater\" class=\"android.widget.FrameLayout\" package=\"com.android.systemui\" content-desc=\"\" checkable=\"false\" checked=\"false\" clickable=\"false\" enabled=\"true\" focusable=\"false\" focused=\"false\" scrollable=\"false\" long-clickable=\"false\" password=\"false\" selected=\"false\" visible-to-user=\"true\" bounds=\"[0,2088][1080,2220]\">\\r\\n        <node index=\"0\" text=\"\" resource-id=\"com.android.systemui:id/rot0\" class=\"android.widget.FrameLayout\" package=\"com.android.systemui\" content-desc=\"\" checkable=\"false\" checked=\"false\" clickable=\"false\" enabled=\"true\" focusable=\"false\" focused=\"false\" scrollable=\"false\" long-clickable=\"false\" password=\"false\" selected=\"false\" visible-to-user=\"true\" bounds=\"[22,2088][1058,2220]\">\\r\\n          <node index=\"0\" text=\"\" resource-id=\"com.android.systemui:id/nav_buttons\" class=\"android.widget.FrameLayout\" package=\"com.android.systemui\" content-desc=\"\" checkable=\"false\" checked=\"false\" clickable=\"false\" enabled=\"true\" focusable=\"false\" focused=\"false\" scrollable=\"false\" long-clickable=\"false\" password=\"false\" selected=\"false\" visible-to-user=\"true\" bounds=\"[44,2088][1036,2220]\">\\r\\n            <node index=\"0\" text=\"\" resource-id=\"com.android.systemui:id/ends_group\" class=\"android.widget.LinearLayout\" package=\"com.android.systemui\" content-desc=\"\" checkable=\"false\" checked=\"false\" clickable=\"false\" enabled=\"true\" focusable=\"false\" focused=\"false\" scrollable=\"false\" long-clickable=\"false\" password=\"false\" selected=\"false\" visible-to-user=\"true\" bounds=\"[44,2088][1036,2220]\">\\r\\n              <node index=\"0\" text=\"\" resource-id=\"\" class=\"android.widget.RelativeLayout\" package=\"com.android.systemui\" content-desc=\"\" checkable=\"false\" checked=\"false\" clickable=\"false\" enabled=\"true\" focusable=\"false\" focused=\"false\" scrollable=\"false\" long-clickable=\"false\" password=\"false\" selected=\"false\" visible-to-user=\"true\" bounds=\"[44,2088][427,2220]\">\\r\\n                <node index=\"0\" text=\"\" resource-id=\"com.android.systemui:id/back\" class=\"android.widget.ImageView\" package=\"com.android.systemui\" content-desc=\"Back\" checkable=\"false\" checked=\"false\" clickable=\"true\" enabled=\"true\" focusable=\"true\" focused=\"false\" scrollable=\"false\" long-clickable=\"true\" password=\"false\" selected=\"false\" visible-to-user=\"true\" bounds=\"[125,2088][345,2220]\" />\\r\\n              </node>\\r\\n              <node index=\"1\" text=\"\" resource-id=\"\" class=\"android.widget.RelativeLayout\" package=\"com.android.systemui\" content-desc=\"\" checkable=\"false\" checked=\"false\" clickable=\"false\" enabled=\"true\" focusable=\"false\" focused=\"false\" scrollable=\"false\" long-clickable=\"false\" password=\"false\" selected=\"false\" visible-to-user=\"true\" bounds=\"[652,2088][1036,2220]\">\\r\\n                <node NAF=\"true\" index=\"0\" text=\"\" resource-id=\"com.android.systemui:id/menu_container\" class=\"android.widget.FrameLayout\" package=\"com.android.systemui\" content-desc=\"\" checkable=\"false\" checked=\"false\" clickable=\"true\" enabled=\"true\" focusable=\"true\" focused=\"false\" scrollable=\"false\" long-clickable=\"true\" password=\"false\" selected=\"false\" visible-to-user=\"true\" bounds=\"[734,2088][954,2220]\" />\\r\\n              </node>\\r\\n            </node>\\r\\n            <node index=\"1\" text=\"\" resource-id=\"com.android.systemui:id/center_group\" class=\"android.widget.LinearLayout\" package=\"com.android.systemui\" content-desc=\"\" checkable=\"false\" checked=\"false\" clickable=\"false\" enabled=\"true\" focusable=\"false\" focused=\"false\" scrollable=\"false\" long-clickable=\"false\" password=\"false\" selected=\"false\" visible-to-user=\"true\" bounds=\"[430,2088][650,2220]\">\\r\\n              <node index=\"0\" text=\"\" resource-id=\"com.android.systemui:id/home\" class=\"android.widget.ImageView\" package=\"com.android.systemui\" content-desc=\"Home\" checkable=\"false\" checked=\"false\" clickable=\"true\" enabled=\"true\" focusable=\"true\" focused=\"false\" scrollable=\"false\" long-clickable=\"true\" password=\"false\" selected=\"false\" visible-to-user=\"true\" bounds=\"[430,2088][650,2220]\" />\\r\\n            </node>\\r\\n          </node>\\r\\n        </node>\\r\\n      </node>\\r\\n    </node>\\r\\n  </node>\\r\\n</hierarchy>'"
      ]
     },
     "execution_count": 5,
     "metadata": {},
     "output_type": "execute_result"
    }
   ],
   "source": [
    " apk_obj.get_current_state()"
   ]
  },
  {
   "cell_type": "code",
   "execution_count": 3,
   "metadata": {},
   "outputs": [],
   "source": [
    "tmp_state = apk_obj.get_current_state()\n",
    "tmp_action_list = apk_obj.get_available_actionable_elements(tmp_state)"
   ]
  },
  {
   "cell_type": "code",
   "execution_count": 4,
   "metadata": {},
   "outputs": [
    {
     "data": {
      "text/plain": [
       "[<gui_elements.GuiElements at 0x7fdf4f072b50>,\n",
       " <gui_elements.GuiElements at 0x7fdf4f072e20>,\n",
       " <gui_elements.GuiElements at 0x7fdf4f072fa0>,\n",
       " <gui_elements.GuiElements at 0x7fdf4f072b80>,\n",
       " <gui_elements.GuiElements at 0x7fdf4f072ac0>,\n",
       " <gui_elements.GuiElements at 0x7fdf4f072790>]"
      ]
     },
     "execution_count": 4,
     "metadata": {},
     "output_type": "execute_result"
    }
   ],
   "source": [
    "tmp_action_list"
   ]
  },
  {
   "cell_type": "code",
   "execution_count": 14,
   "metadata": {},
   "outputs": [
    {
     "data": {
      "text/plain": [
       "{'index': '4',\n",
       " 'text': 'ACT3',\n",
       " 'resource-id': 'com.example.priyanka.testapp:id/button5',\n",
       " 'class': 'android.widget.Button',\n",
       " 'package': 'com.example.priyanka.testapp',\n",
       " 'content-desc': '',\n",
       " 'checkable': 'false',\n",
       " 'checked': 'false',\n",
       " 'clickable': 'true',\n",
       " 'enabled': 'true',\n",
       " 'focusable': 'true',\n",
       " 'focused': 'false',\n",
       " 'scrollable': 'false',\n",
       " 'long-clickable': 'false',\n",
       " 'password': 'false',\n",
       " 'selected': 'false',\n",
       " 'visible-to-user': 'true',\n",
       " 'bounds': '[443,1563][685,1695]'}"
      ]
     },
     "execution_count": 14,
     "metadata": {},
     "output_type": "execute_result"
    }
   ],
   "source": [
    "tmp_action_list[0].attributes"
   ]
  },
  {
   "cell_type": "code",
   "execution_count": null,
   "metadata": {},
   "outputs": [],
   "source": [
    "link_action( action, call_graph ) -> node_on_the_callgraph / pointer_to_a_node_of_the_callgraph"
   ]
  },
  {
   "cell_type": "code",
   "execution_count": null,
   "metadata": {},
   "outputs": [],
   "source": []
  },
  {
   "cell_type": "code",
   "execution_count": null,
   "metadata": {},
   "outputs": [],
   "source": []
  },
  {
   "cell_type": "code",
   "execution_count": null,
   "metadata": {},
   "outputs": [],
   "source": [
    "apk_obj.get_reached_goal_states(\"train\")"
   ]
  },
  {
   "cell_type": "code",
   "execution_count": null,
   "metadata": {},
   "outputs": [],
   "source": [
    "print(apk_obj.get_current_state())"
   ]
  },
  {
   "cell_type": "code",
   "execution_count": null,
   "metadata": {},
   "outputs": [],
   "source": [
    "apk_obj.get_available_actionable_elements(apk_obj.get_current_state())"
   ]
  },
  {
   "cell_type": "code",
   "execution_count": null,
   "metadata": {},
   "outputs": [],
   "source": [
    "apk_obj.get_wtg_state(wtg_obj)"
   ]
  },
  {
   "cell_type": "code",
   "execution_count": null,
   "metadata": {},
   "outputs": [],
   "source": [
    "wtg_obj.get_goal_edges()"
   ]
  },
  {
   "cell_type": "code",
   "execution_count": null,
   "metadata": {},
   "outputs": [],
   "source": [
    "wtg_obj.wtg"
   ]
  },
  {
   "cell_type": "code",
   "execution_count": null,
   "metadata": {},
   "outputs": [],
   "source": [
    "nx.all_pairs_shortest_path(wtg_obj.wtg)"
   ]
  },
  {
   "cell_type": "code",
   "execution_count": null,
   "metadata": {},
   "outputs": [],
   "source": [
    "nx.shortest_path(wtg_obj.wtg, apk_obj.get_wtg_state(wtg_obj)[0], apk_obj.get_wtg_state(wtg_obj)[0])"
   ]
  },
  {
   "cell_type": "code",
   "execution_count": null,
   "metadata": {},
   "outputs": [],
   "source": [
    "temp = wtg_obj.get_goal_edges()"
   ]
  },
  {
   "cell_type": "code",
   "execution_count": null,
   "metadata": {},
   "outputs": [],
   "source": [
    "temp[0]"
   ]
  },
  {
   "cell_type": "code",
   "execution_count": null,
   "metadata": {},
   "outputs": [],
   "source": [
    "temp[0][0].node_key"
   ]
  },
  {
   "cell_type": "code",
   "execution_count": null,
   "metadata": {},
   "outputs": [],
   "source": [
    "apk_obj.get_wtg_state(wtg_obj)"
   ]
  },
  {
   "cell_type": "code",
   "execution_count": null,
   "metadata": {},
   "outputs": [],
   "source": [
    "wtg_obj.wtg_graph"
   ]
  },
  {
   "cell_type": "code",
   "execution_count": null,
   "metadata": {},
   "outputs": [],
   "source": [
    "wtg_obj.nodes"
   ]
  },
  {
   "cell_type": "code",
   "execution_count": null,
   "metadata": {},
   "outputs": [],
   "source": [
    "wtg_obj.wtg"
   ]
  },
  {
   "cell_type": "code",
   "execution_count": null,
   "metadata": {},
   "outputs": [],
   "source": [
    "wtg_obj.wtg.nodes"
   ]
  },
  {
   "cell_type": "code",
   "execution_count": null,
   "metadata": {},
   "outputs": [],
   "source": [
    "wtg_obj.wtg_graph"
   ]
  },
  {
   "cell_type": "code",
   "execution_count": null,
   "metadata": {},
   "outputs": [],
   "source": [
    "nx.shortest_path(wtg_obj.wtg_graph, apk_obj.get_wtg_state(wtg_obj)[0], apk_obj.get_wtg_state(wtg_obj)[0])"
   ]
  },
  {
   "cell_type": "code",
   "execution_count": null,
   "metadata": {},
   "outputs": [],
   "source": [
    "nx.shortest_path_length(wtg_obj.wtg_graph, apk_obj.get_wtg_state(wtg_obj)[0], apk_obj.get_wtg_state(wtg_obj)[0])"
   ]
  },
  {
   "cell_type": "code",
   "execution_count": null,
   "metadata": {},
   "outputs": [],
   "source": [
    "wtg_obj.get_goal_edges()"
   ]
  },
  {
   "cell_type": "code",
   "execution_count": null,
   "metadata": {},
   "outputs": [],
   "source": [
    "nx.shortest_path_length(\n",
    "    wtg_obj.wtg_graph, \n",
    "    apk_obj.get_wtg_state(wtg_obj)[0],\n",
    "    wtg_obj.get_goal_edges()[0][1]\n",
    ")"
   ]
  },
  {
   "cell_type": "code",
   "execution_count": 12,
   "metadata": {},
   "outputs": [],
   "source": [
    "import matplotlib.pyplot as plt\n",
    "import xml.etree.ElementTree as ET\n",
    "import numpy as np\n",
    "\n",
    "\n",
    "class Bounds:\n",
    "    def __init__(self,x1,x2,y1,y2):\n",
    "        self.x1 = x1\n",
    "        self.x2 = x2\n",
    "        self.y1 = y1\n",
    "        self.y2 = y2\n",
    "\n",
    "class ScreenObject:\n",
    "    def __init__(self, xmlstr, width, height):\n",
    "        self.xmlstr = xmlstr\n",
    "        self.xmlElemTree = ET.fromstring(self.xmlstr)\n",
    "        self.width = width\n",
    "        self.height = height\n",
    "        self.screen = np.zeros((width, height))\n",
    "        self.attribHash = {}\n",
    "        self.buildAttribHash(self.xmlElemTree)\n",
    "        self.GRAYSCALE = 255\n",
    "        self.tileDimensions = (3,3)\n",
    "        self.tileScreen = None\n",
    "        self.relevantComponents = []\n",
    "        self.screenChannels = None\n",
    "\n",
    "    def buildAttribHash(self, root):\n",
    "        for child in root:\n",
    "            for att in child.attrib:\n",
    "                if att not in self.attribHash:\n",
    "                    self.attribHash[att] = []\n",
    "                if child.attrib[att] == \"true\":\n",
    "                    self.attribHash[att].append(child)\n",
    "            self.buildAttribHash(child)\n",
    "\n",
    "    def setRelevantComponents(self, attrib):\n",
    "        components = []\n",
    "        firstAssign = True\n",
    "        if len(attrib) == 0:\n",
    "            print(\"No attributes passed\")\n",
    "            return\n",
    "        for i in range(len(attrib)):\n",
    "            if attrib[i] not in self.attribHash:\n",
    "                print(str(attrib[i]) + \" is not a Valid attribute\")\n",
    "                continue\n",
    "            if firstAssign:\n",
    "                components = set(self.attribHash[attrib[i]])\n",
    "                firstAssign = False\n",
    "            else:\n",
    "                components = set(self.attribHash[attrib[i]]) & components\n",
    "        self.relevantComponents = components\n",
    "    \n",
    "    def buildScreenFromComponents(self):\n",
    "        self.screen = self.buildGeneralScreenFromComponents() \n",
    "    def buildGeneralScreenFromComponents(self, components =None):\n",
    "        if components is None:\n",
    "            components = self.relevantComponents\n",
    "        if len(components) == 0:\n",
    "            print(\"No components on this screen have these attribute set to true\")\n",
    "            return None\n",
    "        screen = np.zeros((self.width, self.height))\n",
    "        scale = self.GRAYSCALE//len(components)\n",
    "        for elem in components:\n",
    "            bounds = self.parseBounds(elem.attrib[\"bounds\"])\n",
    "            for i in range(bounds.x1,bounds.x2):\n",
    "                for j in range(bounds.y1,bounds.y2):\n",
    "                    screen[i][j] += scale\n",
    "        return screen\n",
    "\n",
    "    def parseBounds(self, bounds):\n",
    "        tempstr = \"\"\n",
    "        boundsdict = {}\n",
    "        firstNumeric = 0\n",
    "        for i in bounds:\n",
    "            if not i.isnumeric():\n",
    "                if firstNumeric == 0:\n",
    "                    continue\n",
    "                elif tempstr != \"\":\n",
    "                    boundsdict[firstNumeric] = int(tempstr)\n",
    "                    tempstr = \"\"\n",
    "                    firstNumeric+=1\n",
    "            else:\n",
    "                if firstNumeric == 0:\n",
    "                    firstNumeric +=1\n",
    "                tempstr += i\n",
    "        if len(boundsdict.keys()) != 4:\n",
    "            print(\"Invalid Bounds string\")\n",
    "            return None\n",
    "        else:\n",
    "            return Bounds(boundsdict[1], boundsdict[3], boundsdict[2], boundsdict[4])\n",
    "\n",
    "    def showScreen(self, screen = None):\n",
    "        if screen is None:\n",
    "            screen = self.screen\n",
    "        plt.imshow(screen.T, cmap='gray_r', vmin=0, vmax=255)\n",
    "        plt.show()\n",
    "\n",
    "    def setTileDimensions(self, dimensionTuple):\n",
    "        self.tileDimensions = dimensionTuple\n",
    "    \n",
    "    def buildTiledScreen(self):\n",
    "        tileScreen = np.full(self.tileDimensions, None)\n",
    "        for comp in self.relevantComponents:\n",
    "            bounds = self.parseBounds(comp.attrib[\"bounds\"])\n",
    "            if tileScreen[int((bounds.x1/self.width)*self.tileDimensions[0])][int((bounds.y1/self.height)*self.tileDimensions[1])] is None:\n",
    "                tileScreen[int((bounds.x1/self.width)*self.tileDimensions[0])][int((bounds.y1/self.height)*self.tileDimensions[1])]=[]\n",
    "            tileScreen[int((bounds.x1/self.width)*self.tileDimensions[0])][int((bounds.y1/self.height)*self.tileDimensions[1])].append(comp)\n",
    "        self.tileScreen = tileScreen\n",
    "    \n",
    "    def showTileinScreen(self, tileTuple):\n",
    "        if self.tileScreen[tileTuple[0]][tileTuple[1]] is None:\n",
    "            print(\"This tile is empty\")\n",
    "            return\n",
    "        tileTemp = self.buildGeneralScreenFromComponents(self.tileScreen[tileTuple[0]][tileTuple[1]])\n",
    "        self.showScreen(tileTemp)\n",
    "\n",
    "    def checkIntersect(self, bound1, bound2):\n",
    "        if bound1.x1 >= bound2.x1 and bound1.x1 <= bound2.x2:\n",
    "            if bound1.y1 >= bound2.y1 and bound1.y1 <=bound2.y2:\n",
    "                return True\n",
    "        elif bound2.x1 >= bound1.x1 and bound2.x1 <= bound1.x2:\n",
    "            if bound2.y1 >= bound1.y1 and bound2.y1 <= bound1.y2:\n",
    "                return True\n",
    "        return False\n",
    "\n",
    "    def createComponentChannels(self, components = None):\n",
    "        if components is None:\n",
    "            components = self.relevantComponents\n",
    "        screenChannels = []\n",
    "        for comp in components:\n",
    "            added = False\n",
    "            bounds = self.parseBounds(comp.attrib[\"bounds\"])\n",
    "            for i in range(len(screenChannels)):\n",
    "                intersects = False\n",
    "                for j in range(len(screenChannels[i])):\n",
    "                    if self.checkIntersect(self.parseBounds(comp.attrib[\"bounds\"]),self.parseBounds(screenChannels[i][j].attrib[\"bounds\"])):\n",
    "                        intersects = True\n",
    "                        break\n",
    "                if not intersects:\n",
    "                    screenChannels[i].append(comp)\n",
    "                    added = True\n",
    "                    break\n",
    "            if not added:\n",
    "                screenChannels.append([])\n",
    "                screenChannels[-1].append(comp)\n",
    "        self.screenChannels = screenChannels\n",
    "        #for screen in screenChannels:\n",
    "        #    self.screenChannels.append(self.buildGeneralScreenFromComponents(screen))\n",
    "\n",
    "    def showScreenChannels(self):\n",
    "        if self.screenChannels is None:\n",
    "            print(\"Channels have not been created yet for this screen\")\n",
    "        screenChannels = []\n",
    "        for screen in self.screenChannels:\n",
    "            screenChannels.append(self.buildGeneralScreenFromComponents(screen))\n",
    "        border = np.full((self.height,2), self.GRAYSCALE)\n",
    "        screen = None\n",
    "        print(\"NUMBER OF CHANNELS: \"+ str(len(screenChannels)))\n",
    "        for i in range(len(screenChannels)):\n",
    "            if screen is None:\n",
    "                screen = np.copy(screenChannels[i]).T\n",
    "            else:\n",
    "                screen = np.concatenate((screen, border), axis=1)\n",
    "                screen = np.concatenate((screen, screenChannels[i].T), axis=1)\n",
    "        plt.imshow(screen, cmap='gray_r', vmin=0, vmax=255)\n",
    "        plt.show()\n",
    "\n",
    "\n",
    "\n"
   ]
  },
  {
   "cell_type": "code",
   "execution_count": 13,
   "metadata": {},
   "outputs": [],
   "source": [
    "arg_env = apk_obj"
   ]
  },
  {
   "cell_type": "code",
   "execution_count": 16,
   "metadata": {},
   "outputs": [
    {
     "data": {
      "image/png": "[encoded data removed]",
      "text/plain": [
       "<Figure size 432x288 with 1 Axes>"
      ]
     },
     "metadata": {
      "needs_background": "light"
     },
     "output_type": "display_data"
    }
   ],
   "source": [
    "xmlstr = arg_env.get_current_state()\n",
    "screen = ScreenObject(xmlstr, 1440, 2960)\n",
    "screen.setRelevantComponents([\"clickable\"]) \n",
    "screen.buildScreenFromComponents()\n",
    "screen.showScreen()\n"
   ]
  },
  {
   "cell_type": "code",
   "execution_count": 18,
   "metadata": {},
   "outputs": [
    {
     "name": "stdout",
     "output_type": "stream",
     "text": [
      "NUMBER OF CHANNELS: 1\n"
     ]
    },
    {
     "data": {
      "image/png": "[encoded data removed]",
      "text/plain": [
       "<Figure size 432x288 with 1 Axes>"
      ]
     },
     "metadata": {
      "needs_background": "light"
     },
     "output_type": "display_data"
    }
   ],
   "source": [
    "xmlstr = arg_env.get_current_state()\n",
    "screen = ScreenObject(xmlstr, 1440, 2960)\n",
    "screen.setRelevantComponents([\"clickable\"]) \n",
    "screen.createComponentChannels()\n",
    "screen.showScreenChannels()"
   ]
  },
  {
   "cell_type": "code",
   "execution_count": 21,
   "metadata": {},
   "outputs": [
    {
     "data": {
      "image/png": "[encoded data removed]",
      "text/plain": [
       "<Figure size 432x288 with 1 Axes>"
      ]
     },
     "metadata": {
      "needs_background": "light"
     },
     "output_type": "display_data"
    }
   ],
   "source": [
    "xmlstr = arg_env.get_current_state()\n",
    "screen = ScreenObject(xmlstr, 1440, 2960)\n",
    "screen.setRelevantComponents([\"clickable\"])\n",
    "screen.setTileDimensions((2,2))\n",
    "screen.buildTiledScreen()\n",
    "screen.showTileinScreen((0,1))\n"
   ]
  },
  {
   "cell_type": "code",
   "execution_count": 22,
   "metadata": {},
   "outputs": [
    {
     "name": "stdout",
     "output_type": "stream",
     "text": [
      "NUMBER OF CHANNELS: 1\n"
     ]
    },
    {
     "data": {
      "image/png": "[encoded data removed]",
      "text/plain": [
       "<Figure size 432x288 with 1 Axes>"
      ]
     },
     "metadata": {
      "needs_background": "light"
     },
     "output_type": "display_data"
    }
   ],
   "source": [
    "xmlstr = arg_env.get_current_state()\n",
    "screen = ScreenObject(xmlstr, 1440, 2960)\n",
    "screen.setRelevantComponents([\"clickable\"])\n",
    "screen.buildTiledScreen()\n",
    "screen.createComponentChannels(screen.tileScreen[2][2])\n",
    "screen.showScreenChannels()\n"
   ]
  },
  {
   "cell_type": "code",
   "execution_count": null,
   "metadata": {},
   "outputs": [],
   "source": []
  }
 ],
 "metadata": {
  "kernelspec": {
   "display_name": "Python 3",
   "language": "python",
   "name": "python3"
  },
  "language_info": {
   "codemirror_mode": {
    "name": "ipython",
    "version": 3
   },
   "file_extension": ".py",
   "mimetype": "text/x-python",
   "name": "python",
   "nbconvert_exporter": "python",
   "pygments_lexer": "ipython3",
   "version": "3.8.8"
  }
 },
 "nbformat": 4,
 "nbformat_minor": 4
}

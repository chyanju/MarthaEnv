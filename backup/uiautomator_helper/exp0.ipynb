{
 "cells": [
  {
   "cell_type": "raw",
   "metadata": {},
   "source": [
    "One node in the windows hierarchy looks like this:\n",
    "\n",
    "<node index=\"1\" text=\"\" resource-id=\"android:id/content\" class=\"android.widget.FrameLayout\" package=\"com.example.validrec\" content-desc=\"\" checkable=\"false\" checked=\"false\" clickable=\"false\" enabled=\"true\" focusable=\"false\" focused=\"false\" scrollable=\"false\" long-clickable=\"false\" password=\"false\" selected=\"false\" visible-to-user=\"true\" bounds=\"[0,210][1080,1794]\">\n",
    "\n",
    "In the current version we only extract the index and those binary fields to construct a single vector representation for every node:\n",
    "- index: 8 bits\n",
    "- checkable: 1 bit\n",
    "- checked: 1 bit\n",
    "- clickable: 1 bit\n",
    "- enabled: 1 bit\n",
    "- focusable: 1 bit\n",
    "- focused: 1 bit\n",
    "- scrollable: 1 bit\n",
    "- long-clickable: 1 bit\n",
    "- password: 1 bit\n",
    "- selected: 1 bit\n",
    "- visible-to-user: 1 bit\n",
    "=== total: 19 bits"
   ]
  },
  {
   "cell_type": "code",
   "execution_count": 1,
   "metadata": {},
   "outputs": [],
   "source": [
    "from xml.dom import minidom\n",
    "import editdistance\n",
    "import random\n",
    "\n",
    "# an action here is a gui element\n",
    "def get_action_vector(arg_action):\n",
    "    str_index = \"{0:08b}\".format(int(arg_action.index))\n",
    "    vec_index = [1 if p == \"1\" else 0 for p in str_index]\n",
    "    vec_checkable = [1 if arg_action.checkable == \"true\" else 0]\n",
    "    vec_checked = [1 if arg_action.checked == \"true\" else 0]\n",
    "    vec_clickable = [1 if arg_action.clickable == \"true\" else 0]\n",
    "    vec_enabled = [1 if arg_action.enabled == \"true\" else 0]\n",
    "    vec_focusable = [1 if arg_action.focusable == \"true\" else 0]\n",
    "    vec_focused = [1 if arg_action.focused == \"true\" else 0]\n",
    "    vec_scrollable = [1 if arg_action.scrollable == \"true\" else 0]\n",
    "    vec_long_clickable = [1 if arg_action.long_clickable == \"true\" else 0]\n",
    "    vec_password = [1 if arg_action.password == \"true\" else 0]\n",
    "    vec_selected = [1 if arg_action.selected == \"true\" else 0]\n",
    "    vec_visible_to_user = [1 if arg_action.visible_to_user == \"true\" else 0]\n",
    "    return vec_index + vec_checkable + vec_checked + vec_clickable + vec_enabled + \\\n",
    "           vec_focusable + vec_focused + vec_scrollable + vec_long_clickable + \\\n",
    "           vec_password + vec_selected + vec_visible_to_user\n",
    "\n",
    "def get_action_pool_matrix(arg_action_pool):\n",
    "    action_pool_matrix = []\n",
    "    for i in range(len(arg_action_pool)):\n",
    "        action_pool_matrix.append( get_action_vector(arg_action_pool[i]) )\n",
    "    return action_pool_matrix\n",
    "\n",
    "# a state here is a windows hierarchy string\n",
    "def get_state_matrix(arg_state, arg_maxn_row):\n",
    "    state_nodes = minidom.parseString(arg_state).getElementsByTagName('node')\n",
    "    state_matrix = []\n",
    "    for i in range(len(state_nodes)):\n",
    "        node_i = state_nodes[i]\n",
    "        str_index = \"{0:08b}\".format(int(node_i.attributes['index'].value))\n",
    "        vec_index = [1 if p == \"1\" else 0 for p in str_index]\n",
    "        vec_checkable = [1 if node_i.attributes[\"checkable\"].value == \"true\" else 0]\n",
    "        vec_checked = [1 if node_i.attributes[\"checked\"].value == \"true\" else 0]\n",
    "        vec_clickable = [1 if node_i.attributes[\"clickable\"].value == \"true\" else 0]\n",
    "        vec_enabled = [1 if node_i.attributes[\"enabled\"].value == \"true\" else 0]\n",
    "        vec_focusable = [1 if node_i.attributes[\"focusable\"].value == \"true\" else 0]\n",
    "        vec_focused = [1 if node_i.attributes[\"focused\"].value == \"true\" else 0]\n",
    "        vec_scrollable = [1 if node_i.attributes[\"scrollable\"].value == \"true\" else 0]\n",
    "        vec_long_clickable = [1 if node_i.attributes[\"long-clickable\"].value == \"true\" else 0]\n",
    "        vec_password = [1 if node_i.attributes[\"password\"].value == \"true\" else 0]\n",
    "        vec_selected = [1 if node_i.attributes[\"selected\"].value == \"true\" else 0]\n",
    "        vec_visible_to_user = [1 if node_i.attributes[\"visible-to-user\"].value == \"true\" else 0]\n",
    "        state_matrix.append( vec_index + vec_checkable + vec_checked + vec_clickable + vec_enabled + \\\n",
    "                             vec_focusable + vec_focused + vec_scrollable + vec_long_clickable + \\\n",
    "                             vec_password + vec_selected + vec_visible_to_user )\n",
    "    assert len(state_matrix)<=arg_maxn_row\n",
    "    for i in range(arg_maxn_row-len(state_matrix)):\n",
    "        state_matrix.append([0 for _ in range(19)])\n",
    "    return state_matrix\n",
    "\n",
    "def get_reward0(arg_state0, arg_state1):\n",
    "    # need to remove system ui, such as clock, since it varies every minute/second\n",
    "    def remove_system_ui(args_dom):\n",
    "        for node in args_dom:\n",
    "            if node.hasAttribute('package') and node.getAttribute('package') == \"com.android.systemui\":\n",
    "                parent = node.parentNode\n",
    "                parent.removeChild(node)\n",
    "    # states should be xml strings\n",
    "    dom0 = minidom.parseString(arg_state0)\n",
    "    dom1 = minidom.parseString(arg_state1)\n",
    "    pre_nodes0 = dom0.getElementsByTagName('node')\n",
    "    pre_nodes1 = dom1.getElementsByTagName('node')\n",
    "    remove_system_ui(pre_nodes0)\n",
    "    remove_system_ui(pre_nodes1)\n",
    "    nodes0 = dom0.getElementsByTagName('node')\n",
    "    nodes1 = dom1.getElementsByTagName('node')\n",
    "    xmls0 = [p.toxml() for p in nodes0]\n",
    "    xmls1 = [p.toxml() for p in nodes1]\n",
    "    # print(\"# xmls0: {}, xmls1: {}, edit: {}\".format(len(xmls0), len(xmls1), editdistance.eval(xmls0, xmls1)))\n",
    "    return 1.0 - float( editdistance.eval(xmls0, xmls1) ) / float( max(len(xmls0), len(xmls1)) )"
   ]
  },
  {
   "cell_type": "code",
   "execution_count": 2,
   "metadata": {},
   "outputs": [
    {
     "name": "stdout",
     "output_type": "stream",
     "text": [
      "device: cpu\n",
      "torch version: 1.6.0\n"
     ]
    }
   ],
   "source": [
    "import torch\n",
    "import numpy as np\n",
    "import torch.nn as nn\n",
    "import torch.nn.functional as F\n",
    "from torch.autograd import Variable\n",
    "\n",
    "device = torch.device(\"cuda:0\" if torch.cuda.is_available() else \"cpu\")\n",
    "print(\"device: {}\".format(device))\n",
    "print(\"torch version: {}\".format(torch.__version__))"
   ]
  },
  {
   "cell_type": "code",
   "execution_count": 3,
   "metadata": {},
   "outputs": [],
   "source": [
    "class NeuralAgent(nn.Module):\n",
    "    def __init__(self, spec_dims=None, maxn_nodes=None):\n",
    "        super(NeuralAgent, self).__init__()\n",
    "        # (kernel size, number of kernels)\n",
    "        self.n_kernels = [10, 10, 10]\n",
    "        self.kernel_sizes = [1, 2, 3]\n",
    "        self.convs = nn.ModuleList([\n",
    "            nn.Conv1d(spec_dims, self.n_kernels[i], self.kernel_sizes[i], padding=0)\n",
    "            for i in range(len(self.kernel_sizes))\n",
    "        ])\n",
    "        self.maxlen = maxn_nodes\n",
    "        self.pools = nn.ModuleList([\n",
    "            nn.MaxPool1d(self.maxlen+1-self.kernel_sizes[i], padding=0)\n",
    "            for i in range(len(self.kernel_sizes))\n",
    "        ])\n",
    "        self.linear = nn.Linear(sum(self.n_kernels), spec_dims)\n",
    "        \n",
    "    def forward(self, node_seq):\n",
    "        # node_seq: (B, n_nodes, spec_dims), usually B=1\n",
    "        B = node_seq.shape[0] # batch size\n",
    "        tmp0 = node_seq.transpose(1,2) # (N,C,L), which is (B, spec_dims, n_nodes)\n",
    "        # print(\"# tmp0: {}\".format(tmp0.shape))\n",
    "        # (B, n_kernels, maxlen-i)\n",
    "        tmp1s = [\n",
    "            F.relu(self.convs[i](tmp0))\n",
    "            for i in range(len(self.convs))\n",
    "        ]\n",
    "        # print(\"# tmp1s: {}\".format(tmp1s[0].shape))\n",
    "        # (B, n_kernels, 1)\n",
    "        tmp2s = [\n",
    "            self.pools[i](tmp1s[i])\n",
    "            for i in range(len(tmp1s))\n",
    "        ]\n",
    "        # (B, n_kernels)\n",
    "        tmp3s = [\n",
    "            tmp2s[i].view(B, self.n_kernels[i])\n",
    "            for i in range(len(tmp2s))\n",
    "        ]\n",
    "        tmp4 = torch.cat(tmp3s, 1) # (B, sum(n_kernels))\n",
    "        tmp5 = torch.sigmoid(self.linear(tmp4)) # (B, spec_dims)\n",
    "        return tmp5"
   ]
  },
  {
   "cell_type": "code",
   "execution_count": 10,
   "metadata": {},
   "outputs": [],
   "source": [
    "# 1. roll out an action sequence\n",
    "# 2. compute reward\n",
    "# 3. policy gradient back propagation\n",
    "def rollout(env, agent, optimizer, maxn_steps, maxn_nodes, target_state):\n",
    "    # note: remember to clear the state\n",
    "    # fixme: it seems not working right now\n",
    "    env.launch_app()\n",
    "    \n",
    "    rollout_outputs = []\n",
    "    rollout_actions = []\n",
    "    rollout_action_ids = []\n",
    "    \n",
    "    for i in range(maxn_steps):\n",
    "        time.sleep(1)\n",
    "        state_i = env.get_current_state()\n",
    "        if get_reward0(state_i, target_state) == 1:\n",
    "            print(\"# reach target state after {} actions\".format(len(rollout_outputs)))\n",
    "            # already reach the target state\n",
    "            break\n",
    "            \n",
    "        pool_i = env.get_available_actionable_elements(state_i)\n",
    "        n_actions = len(pool_i)\n",
    "        if n_actions == 0:\n",
    "            print(\"# no action is found, terminate.\")\n",
    "            # no available actions any more\n",
    "            break\n",
    "        \n",
    "        # (B=1, n_nodes, spec_dims), wrap a [] to make B=1\n",
    "        m_state = np.asarray( [ get_state_matrix(state_i, maxn_nodes) ] )\n",
    "        \n",
    "        # (n_actions, spec_dims)\n",
    "        m_pool = np.asarray( get_action_pool_matrix(pool_i) ) \n",
    "        \n",
    "        t_state = Variable(torch.tensor(m_state, dtype=torch.float).to(device))\n",
    "        t_pool = Variable(torch.tensor(m_pool, dtype=torch.float).to(device))\n",
    "        \n",
    "        # print(t_state.shape)\n",
    "        # print(t_pool.shape)\n",
    "        \n",
    "        agent.train()\n",
    "        # (B=1, spec_dims)\n",
    "        t_output = agent(t_state)\n",
    "        \n",
    "        # ====> using cosine similarity\n",
    "        # (n_actions, spec_dims)\n",
    "        # t0_output = t_output.expand_as(t_pool)\n",
    "        # t_cos = F.cosine_similarity(t0_output, t_pool, dim=1)\n",
    "        # t_act = F.log_softmax(t_cos, dim=0)\n",
    "        # ====> directly mm similarity\n",
    "        t0_output = t_output.view(-1,1)\n",
    "        t_mm = torch.mm(t_pool, t0_output)\n",
    "        t_act = F.log_softmax(t_mm, dim=0)\n",
    "        # print(\"# t_act: {}\".format(t_act))\n",
    "        \n",
    "        if random.random()>0.8:\n",
    "            # explore\n",
    "            selected_action_id = random.choice(list(range(len(pool_i))))\n",
    "            print(\"# selected_action_id (rnd): {}, log-sim: {}\".format(selected_action_id, t_act[selected_action_id]))\n",
    "        else:\n",
    "            # exploit\n",
    "            t_probs = t_act.exp().flatten().tolist()\n",
    "            selected_action_id = random.choices(list(range(len(pool_i))), weights=t_probs, k=1)[0]\n",
    "            # selected_action_id = torch.argmax(t_act, dim=0).tolist()\n",
    "            print(\"# selected_action_id (mul): {}, log-sim: {}\".format(selected_action_id, t_act[selected_action_id]))\n",
    "        \n",
    "        \n",
    "        \n",
    "        # perform action\n",
    "        env.perform_action(pool_i[selected_action_id])\n",
    "        next_state = env.get_current_state()\n",
    "        \n",
    "        # store the choices\n",
    "        rollout_outputs.append(t_act)\n",
    "        rollout_actions.append(pool_i)\n",
    "        rollout_action_ids.append(selected_action_id)\n",
    "        \n",
    "    # here we use the final reward as the cumulative reward\n",
    "    # which is for the present a brute-force version of reward\n",
    "    final_state = env.get_current_state()\n",
    "    # fixme: may need to award shorter paths\n",
    "    # final_reward = ( get_reward0(final_state, target_state) -0.5 ) *2 # scale to [-1,1]\n",
    "    final_reward = ( get_reward0(final_state, target_state) -0.5 ) *2 / len(rollout_outputs) # scale to [-1,1]\n",
    "    print(\"# final reward: {}\".format(final_reward))\n",
    "    \n",
    "    rollout_loss = []\n",
    "    current_reward = final_reward\n",
    "    # reverse from the last to first\n",
    "    for i in range(len(rollout_outputs))[::-1]:\n",
    "        rollout_loss.append( current_reward * (-rollout_outputs[i][rollout_action_ids[i]]) )\n",
    "        current_reward *= 0.8 # decay\n",
    "    rollout_loss = rollout_loss[::-1]\n",
    "    \n",
    "    optimizer.zero_grad()\n",
    "    # loss = sum(rollout_loss) / len(rollout_loss)\n",
    "    loss = sum(rollout_loss)\n",
    "    loss.backward()\n",
    "    optimizer.step()\n",
    "        \n",
    "        "
   ]
  },
  {
   "cell_type": "code",
   "execution_count": 10,
   "metadata": {},
   "outputs": [
    {
     "name": "stderr",
     "output_type": "stream",
     "text": [
      "[INFO] | 2020-12-07 09:52:16 AM | analyzer.com.github.cetoolbox_11_instrumented.signed | Adb is running with root priviledges now!\n"
     ]
    },
    {
     "name": "stdout",
     "output_type": "stream",
     "text": [
      "\u001b[36m[#] Analysis started at: 2020-12-07 09:52:16 AM\u001b[0m\n"
     ]
    },
    {
     "name": "stderr",
     "output_type": "stream",
     "text": [
      "[INFO] | 2020-12-07 09:52:17 AM | analyzer.com.github.cetoolbox_11_instrumented.signed | APK installtion done for com.github.cetoolbox_11_instrumented.signed.apk\n",
      "[INFO] | 2020-12-07 09:52:17 AM | analyzer.com.github.cetoolbox_11_instrumented.signed | Kill the current app if already spawned!\n",
      "Exception in thread Thread-4:\n",
      "Traceback (most recent call last):\n",
      "  File \"/Users/joseph/anaconda3/lib/python3.6/threading.py\", line 916, in _bootstrap_inner\n",
      "    self.run()\n",
      "  File \"/Users/joseph/anaconda3/lib/python3.6/threading.py\", line 864, in run\n",
      "    self._target(*self._args, **self._kwargs)\n",
      "  File \"/Users/joseph/Desktop/UCSB/20summer/MarthaEnv/uiautomator_helper/apk.py\", line 97, in start_logging\n",
      "    if \"TRAIN DATA\" in line or \"TEST DATA\" in line:\n",
      "TypeError: a bytes-like object is required, not 'str'\n",
      "\n",
      "[INFO] | 2020-12-07 09:52:18 AM | analyzer.com.github.cetoolbox_11_instrumented.signed | APK is already killed\n",
      "[INFO] | 2020-12-07 09:52:18 AM | analyzer.com.github.cetoolbox_11_instrumented.signed | Spawning the current app\n"
     ]
    }
   ],
   "source": [
    "from main import *\n",
    "\n",
    "MarthaEnv = os.path.dirname(os.getcwd())\n",
    "OUTPUT_DIR = os.path.join(MarthaEnv, \"results\")\n",
    "\n",
    "args = {\n",
    "    \"path\": \"../test/com.github.cetoolbox_11/com.github.cetoolbox_11_instrumented.signed.apk\",\n",
    "    \"output\": \"../results/\",\n",
    "}\n",
    "\n",
    "if args[\"path\"] is not None:\n",
    "    pyaxmlparser_apk = APK(args[\"path\"])\n",
    "    apk_base_name = os.path.splitext(os.path.basename(args[\"path\"]))[0]\n",
    "\n",
    "else:\n",
    "    parser.print_usage()\n",
    "\n",
    "if args[\"output\"] is not None:\n",
    "    OUTPUT_DIR = args[\"output\"]\n",
    "\n",
    "output_dir = os.path.join(OUTPUT_DIR, apk_base_name)\n",
    "\n",
    "if os.path.exists(output_dir):\n",
    "    rmtree(output_dir)\n",
    "\n",
    "if not os.path.exists(output_dir):\n",
    "    os.mkdir(output_dir)\n",
    "\n",
    "# Setting the path for log file\n",
    "log_path = os.path.join(output_dir, 'analysis.log')\n",
    "log = init_logging('analyzer.%s' % apk_base_name, log_path, file_mode='w', console=True)\n",
    "\n",
    "# Record analysis start time\n",
    "now = datetime.datetime.now()\n",
    "analysis_start_time = now.strftime(DATE_FORMAT)\n",
    "info('Analysis started at: %s' % analysis_start_time)\n",
    "start_time = time.time()\n",
    "\n",
    "# Get the serial for the device attached to ADB\n",
    "device_serial = get_device_serial(log)\n",
    "\n",
    "if device_serial is None:\n",
    "    log.warning(\"Device is not connected!\")\n",
    "    sys.exit(1)\n",
    "\n",
    "# Initialize the uiautomator device object using the device serial\n",
    "uiautomator_device = u2.connect(device_serial)\n",
    "run_adb_as_root(log)\n",
    "apk_obj = Apk(args[\"path\"], uiautomator_device, log)\n",
    "apk_obj.launch_app()"
   ]
  },
  {
   "cell_type": "code",
   "execution_count": 19,
   "metadata": {},
   "outputs": [],
   "source": [
    "wh = apk_obj.get_current_state()\n",
    "aas = apk_obj.get_available_actionable_elements(wh)"
   ]
  },
  {
   "cell_type": "code",
   "execution_count": 20,
   "metadata": {},
   "outputs": [
    {
     "data": {
      "text/plain": [
       "[<gui_elements.GuiElements at 0x7f9b1664f5c0>,\n",
       " <gui_elements.GuiElements at 0x7f9b1664f668>,\n",
       " <gui_elements.GuiElements at 0x7f9b1664f630>,\n",
       " <gui_elements.GuiElements at 0x7f9b1664f5f8>,\n",
       " <gui_elements.GuiElements at 0x7f9b1664f6a0>,\n",
       " <gui_elements.GuiElements at 0x7f9b1664f6d8>,\n",
       " <gui_elements.GuiElements at 0x7f9b1664f710>,\n",
       " <gui_elements.GuiElements at 0x7f9b1664f7b8>,\n",
       " <gui_elements.GuiElements at 0x7f9b1664f828>,\n",
       " <gui_elements.GuiElements at 0x7f9b1664f860>,\n",
       " <gui_elements.GuiElements at 0x7f9b1664f898>,\n",
       " <gui_elements.GuiElements at 0x7f9b1664f7f0>,\n",
       " <gui_elements.GuiElements at 0x7f9b1664f8d0>,\n",
       " <gui_elements.GuiElements at 0x7f9b1664f908>,\n",
       " <gui_elements.GuiElements at 0x7f9b1664f978>,\n",
       " <gui_elements.GuiElements at 0x7f9b1664f9b0>,\n",
       " <gui_elements.GuiElements at 0x7f9b1664f940>,\n",
       " <gui_elements.GuiElements at 0x7f9b1664f9e8>,\n",
       " <gui_elements.GuiElements at 0x7f9b1664fa20>,\n",
       " <gui_elements.GuiElements at 0x7f9b1664f748>,\n",
       " <gui_elements.GuiElements at 0x7f9b1664fa58>,\n",
       " <gui_elements.GuiElements at 0x7f9b1664fa90>,\n",
       " <gui_elements.GuiElements at 0x7f9b1664fac8>,\n",
       " <gui_elements.GuiElements at 0x7f9b1664f780>,\n",
       " <gui_elements.GuiElements at 0x7f9b1664fb00>,\n",
       " <gui_elements.GuiElements at 0x7f9b1664fb70>,\n",
       " <gui_elements.GuiElements at 0x7f9b1664fba8>,\n",
       " <gui_elements.GuiElements at 0x7f9b1664fb38>,\n",
       " <gui_elements.GuiElements at 0x7f9b1664fbe0>,\n",
       " <gui_elements.GuiElements at 0x7f9b1664fc50>,\n",
       " <gui_elements.GuiElements at 0x7f9b1664fc88>,\n",
       " <gui_elements.GuiElements at 0x7f9b1664fc18>,\n",
       " <gui_elements.GuiElements at 0x7f9b1664fcc0>,\n",
       " <gui_elements.GuiElements at 0x7f9b1664fd30>,\n",
       " <gui_elements.GuiElements at 0x7f9b1664fd68>,\n",
       " <gui_elements.GuiElements at 0x7f9b1664fcf8>,\n",
       " <gui_elements.GuiElements at 0x7f9b1664fda0>,\n",
       " <gui_elements.GuiElements at 0x7f9b1664fdd8>,\n",
       " <gui_elements.GuiElements at 0x7f9b1664fe10>]"
      ]
     },
     "execution_count": 20,
     "metadata": {},
     "output_type": "execute_result"
    }
   ],
   "source": [
    "aas"
   ]
  },
  {
   "cell_type": "code",
   "execution_count": 28,
   "metadata": {},
   "outputs": [],
   "source": [
    "apk_obj.perform_action(aas[-2])"
   ]
  },
  {
   "cell_type": "code",
   "execution_count": 24,
   "metadata": {},
   "outputs": [
    {
     "data": {
      "text/plain": [
       "['__class__',\n",
       " '__delattr__',\n",
       " '__dict__',\n",
       " '__dir__',\n",
       " '__doc__',\n",
       " '__eq__',\n",
       " '__format__',\n",
       " '__ge__',\n",
       " '__getattribute__',\n",
       " '__gt__',\n",
       " '__hash__',\n",
       " '__init__',\n",
       " '__init_subclass__',\n",
       " '__le__',\n",
       " '__lt__',\n",
       " '__module__',\n",
       " '__ne__',\n",
       " '__new__',\n",
       " '__reduce__',\n",
       " '__reduce_ex__',\n",
       " '__repr__',\n",
       " '__setattr__',\n",
       " '__sizeof__',\n",
       " '__str__',\n",
       " '__subclasshook__',\n",
       " '__weakref__',\n",
       " 'bounds',\n",
       " 'checkable',\n",
       " 'checked',\n",
       " 'class_name',\n",
       " 'clickable',\n",
       " 'compute_coordinate',\n",
       " 'content_desc',\n",
       " 'enabled',\n",
       " 'focusable',\n",
       " 'focused',\n",
       " 'index',\n",
       " 'long_clickable',\n",
       " 'node',\n",
       " 'package',\n",
       " 'password',\n",
       " 'resource_id',\n",
       " 'scrollable',\n",
       " 'selected',\n",
       " 'setup',\n",
       " 'text',\n",
       " 'visible_to_user',\n",
       " 'x',\n",
       " 'y']"
      ]
     },
     "execution_count": 24,
     "metadata": {},
     "output_type": "execute_result"
    }
   ],
   "source": [
    "dir(aas[-1])"
   ]
  },
  {
   "cell_type": "code",
   "execution_count": 34,
   "metadata": {},
   "outputs": [
    {
     "data": {
      "text/plain": [
       "''"
      ]
     },
     "execution_count": 34,
     "metadata": {},
     "output_type": "execute_result"
    }
   ],
   "source": [
    "aas[-6].content_desc"
   ]
  },
  {
   "cell_type": "code",
   "execution_count": 50,
   "metadata": {},
   "outputs": [
    {
     "data": {
      "text/plain": [
       "['__class__',\n",
       " '__copy__',\n",
       " '__deepcopy__',\n",
       " '__delattr__',\n",
       " '__delitem__',\n",
       " '__dir__',\n",
       " '__doc__',\n",
       " '__eq__',\n",
       " '__format__',\n",
       " '__ge__',\n",
       " '__getattribute__',\n",
       " '__getitem__',\n",
       " '__getstate__',\n",
       " '__gt__',\n",
       " '__hash__',\n",
       " '__init__',\n",
       " '__init_subclass__',\n",
       " '__le__',\n",
       " '__len__',\n",
       " '__lt__',\n",
       " '__ne__',\n",
       " '__new__',\n",
       " '__reduce__',\n",
       " '__reduce_ex__',\n",
       " '__repr__',\n",
       " '__setattr__',\n",
       " '__setitem__',\n",
       " '__setstate__',\n",
       " '__sizeof__',\n",
       " '__str__',\n",
       " '__subclasshook__',\n",
       " 'append',\n",
       " 'attrib',\n",
       " 'clear',\n",
       " 'extend',\n",
       " 'find',\n",
       " 'findall',\n",
       " 'findtext',\n",
       " 'get',\n",
       " 'getchildren',\n",
       " 'getiterator',\n",
       " 'insert',\n",
       " 'items',\n",
       " 'iter',\n",
       " 'iterfind',\n",
       " 'itertext',\n",
       " 'keys',\n",
       " 'makeelement',\n",
       " 'remove',\n",
       " 'set',\n",
       " 'tag',\n",
       " 'tail',\n",
       " 'text']"
      ]
     },
     "execution_count": 50,
     "metadata": {},
     "output_type": "execute_result"
    }
   ],
   "source": [
    "dir(aas[-6].node)"
   ]
  },
  {
   "cell_type": "code",
   "execution_count": 64,
   "metadata": {},
   "outputs": [
    {
     "data": {
      "text/plain": [
       "<Element 'node' at 0x7f9b16613ae8>"
      ]
     },
     "execution_count": 64,
     "metadata": {},
     "output_type": "execute_result"
    }
   ],
   "source": [
    "aas[-5].node"
   ]
  },
  {
   "cell_type": "code",
   "execution_count": 37,
   "metadata": {},
   "outputs": [
    {
     "name": "stderr",
     "output_type": "stream",
     "text": [
      "[INFO] | 2020-12-07 10:26:25 AM | analyzer.com.github.cetoolbox_11_instrumented.signed | Old logcat messages cleared!\n"
     ]
    },
    {
     "data": {
      "text/plain": [
       "[]"
      ]
     },
     "execution_count": 37,
     "metadata": {},
     "output_type": "execute_result"
    }
   ],
   "source": [
    "apk_obj.get_reached_goal_states(\"train\")"
   ]
  },
  {
   "cell_type": "code",
   "execution_count": null,
   "metadata": {},
   "outputs": [],
   "source": []
  },
  {
   "cell_type": "code",
   "execution_count": 38,
   "metadata": {},
   "outputs": [
    {
     "data": {
      "text/plain": [
       "'<?xml version=\\'1.0\\' encoding=\\'UTF-8\\' standalone=\\'yes\\' ?>\\r\\n<hierarchy rotation=\"0\">\\r\\n  <node index=\"0\" text=\"\" resource-id=\"com.android.systemui:id/navigation_bar_frame\" class=\"android.widget.FrameLayout\" package=\"com.android.systemui\" content-desc=\"\" checkable=\"false\" checked=\"false\" clickable=\"false\" enabled=\"true\" focusable=\"false\" focused=\"false\" scrollable=\"false\" long-clickable=\"false\" password=\"false\" selected=\"false\" visible-to-user=\"true\" bounds=\"[0,2040][1080,2160]\">\\r\\n    <node index=\"0\" text=\"\" resource-id=\"\" class=\"android.widget.FrameLayout\" package=\"com.android.systemui\" content-desc=\"\" checkable=\"false\" checked=\"false\" clickable=\"false\" enabled=\"true\" focusable=\"false\" focused=\"false\" scrollable=\"false\" long-clickable=\"false\" password=\"false\" selected=\"false\" visible-to-user=\"true\" bounds=\"[0,2040][1080,2160]\">\\r\\n      <node index=\"0\" text=\"\" resource-id=\"com.android.systemui:id/navigation_inflater\" class=\"android.widget.FrameLayout\" package=\"com.android.systemui\" content-desc=\"\" checkable=\"false\" checked=\"false\" clickable=\"false\" enabled=\"true\" focusable=\"false\" focused=\"false\" scrollable=\"false\" long-clickable=\"false\" password=\"false\" selected=\"false\" visible-to-user=\"true\" bounds=\"[0,2040][1080,2160]\">\\r\\n        <node index=\"0\" text=\"\" resource-id=\"com.android.systemui:id/rot0\" class=\"android.widget.FrameLayout\" package=\"com.android.systemui\" content-desc=\"\" checkable=\"false\" checked=\"false\" clickable=\"false\" enabled=\"true\" focusable=\"false\" focused=\"false\" scrollable=\"false\" long-clickable=\"false\" password=\"false\" selected=\"false\" visible-to-user=\"true\" bounds=\"[0,2040][1080,2160]\">\\r\\n          <node index=\"0\" text=\"\" resource-id=\"com.android.systemui:id/nav_buttons\" class=\"android.widget.FrameLayout\" package=\"com.android.systemui\" content-desc=\"\" checkable=\"false\" checked=\"false\" clickable=\"false\" enabled=\"true\" focusable=\"false\" focused=\"false\" scrollable=\"false\" long-clickable=\"false\" password=\"false\" selected=\"false\" visible-to-user=\"true\" bounds=\"[0,2040][1080,2160]\">\\r\\n            <node index=\"0\" text=\"\" resource-id=\"com.android.systemui:id/ends_group\" class=\"android.widget.LinearLayout\" package=\"com.android.systemui\" content-desc=\"\" checkable=\"false\" checked=\"false\" clickable=\"false\" enabled=\"true\" focusable=\"false\" focused=\"false\" scrollable=\"false\" long-clickable=\"false\" password=\"false\" selected=\"false\" visible-to-user=\"true\" bounds=\"[20,2040][1060,2160]\">\\r\\n              <node index=\"0\" text=\"\" resource-id=\"\" class=\"android.widget.RelativeLayout\" package=\"com.android.systemui\" content-desc=\"\" checkable=\"false\" checked=\"false\" clickable=\"false\" enabled=\"true\" focusable=\"false\" focused=\"false\" scrollable=\"false\" long-clickable=\"false\" password=\"false\" selected=\"false\" visible-to-user=\"true\" bounds=\"[40,2040][140,2160]\" />\\r\\n              <node index=\"1\" text=\"\" resource-id=\"\" class=\"android.widget.RelativeLayout\" package=\"com.android.systemui\" content-desc=\"\" checkable=\"false\" checked=\"false\" clickable=\"false\" enabled=\"true\" focusable=\"false\" focused=\"false\" scrollable=\"false\" long-clickable=\"false\" password=\"false\" selected=\"false\" visible-to-user=\"true\" bounds=\"[140,2040][340,2160]\">\\r\\n                <node index=\"0\" text=\"\" resource-id=\"com.android.systemui:id/back\" class=\"android.widget.ImageView\" package=\"com.android.systemui\" content-desc=\"Back\" checkable=\"false\" checked=\"false\" clickable=\"true\" enabled=\"true\" focusable=\"true\" focused=\"false\" scrollable=\"false\" long-clickable=\"true\" password=\"false\" selected=\"false\" visible-to-user=\"true\" bounds=\"[140,2040][340,2160]\" />\\r\\n              </node>\\r\\n              <node index=\"2\" text=\"\" resource-id=\"\" class=\"android.widget.RelativeLayout\" package=\"com.android.systemui\" content-desc=\"\" checkable=\"false\" checked=\"false\" clickable=\"false\" enabled=\"true\" focusable=\"false\" focused=\"false\" scrollable=\"false\" long-clickable=\"false\" password=\"false\" selected=\"false\" visible-to-user=\"true\" bounds=\"[740,2040][940,2160]\">\\r\\n                <node index=\"0\" text=\"\" resource-id=\"com.android.systemui:id/recent_apps\" class=\"android.widget.ImageView\" package=\"com.android.systemui\" content-desc=\"Overview\" checkable=\"false\" checked=\"false\" clickable=\"true\" enabled=\"true\" focusable=\"true\" focused=\"false\" scrollable=\"false\" long-clickable=\"true\" password=\"false\" selected=\"false\" visible-to-user=\"true\" bounds=\"[740,2040][940,2160]\" />\\r\\n              </node>\\r\\n              <node index=\"3\" text=\"\" resource-id=\"\" class=\"android.widget.RelativeLayout\" package=\"com.android.systemui\" content-desc=\"\" checkable=\"false\" checked=\"false\" clickable=\"false\" enabled=\"true\" focusable=\"false\" focused=\"false\" scrollable=\"false\" long-clickable=\"false\" password=\"false\" selected=\"false\" visible-to-user=\"true\" bounds=\"[940,2040][1040,2160]\">\\r\\n                <node index=\"0\" text=\"\" resource-id=\"com.android.systemui:id/menu_container\" class=\"android.widget.FrameLayout\" package=\"com.android.systemui\" content-desc=\"\" checkable=\"false\" checked=\"false\" clickable=\"true\" enabled=\"true\" focusable=\"true\" focused=\"false\" scrollable=\"false\" long-clickable=\"true\" password=\"false\" selected=\"false\" visible-to-user=\"true\" bounds=\"[940,2040][1040,2160]\">\\r\\n                  <node index=\"0\" text=\"\" resource-id=\"com.android.systemui:id/ime_switcher\" class=\"android.widget.ImageView\" package=\"com.android.systemui\" content-desc=\"Switch input method\" checkable=\"false\" checked=\"false\" clickable=\"true\" enabled=\"true\" focusable=\"true\" focused=\"false\" scrollable=\"false\" long-clickable=\"true\" password=\"false\" selected=\"false\" visible-to-user=\"true\" bounds=\"[940,2040][1040,2160]\" />\\r\\n                </node>\\r\\n              </node>\\r\\n            </node>\\r\\n            <node index=\"1\" text=\"\" resource-id=\"com.android.systemui:id/center_group\" class=\"android.widget.LinearLayout\" package=\"com.android.systemui\" content-desc=\"\" checkable=\"false\" checked=\"false\" clickable=\"false\" enabled=\"true\" focusable=\"false\" focused=\"false\" scrollable=\"false\" long-clickable=\"false\" password=\"false\" selected=\"false\" visible-to-user=\"true\" bounds=\"[420,2040][660,2160]\">\\r\\n              <node index=\"0\" text=\"\" resource-id=\"com.android.systemui:id/home\" class=\"android.widget.FrameLayout\" package=\"com.android.systemui\" content-desc=\"\" checkable=\"false\" checked=\"false\" clickable=\"true\" enabled=\"true\" focusable=\"true\" focused=\"false\" scrollable=\"false\" long-clickable=\"false\" password=\"false\" selected=\"false\" visible-to-user=\"true\" bounds=\"[440,2040][640,2160]\">\\r\\n                <node index=\"0\" text=\"\" resource-id=\"com.android.systemui:id/home_button\" class=\"android.widget.ImageView\" package=\"com.android.systemui\" content-desc=\"Home\" checkable=\"false\" checked=\"false\" clickable=\"true\" enabled=\"true\" focusable=\"true\" focused=\"false\" scrollable=\"false\" long-clickable=\"true\" password=\"false\" selected=\"false\" visible-to-user=\"true\" bounds=\"[440,2040][640,2160]\" />\\r\\n                <node index=\"1\" text=\"\" resource-id=\"\" class=\"android.widget.RelativeLayout\" package=\"com.android.systemui\" content-desc=\"\" checkable=\"false\" checked=\"false\" clickable=\"false\" enabled=\"true\" focusable=\"false\" focused=\"false\" scrollable=\"false\" long-clickable=\"false\" password=\"false\" selected=\"false\" visible-to-user=\"true\" bounds=\"[440,2040][640,2160]\" />\\r\\n                <node index=\"2\" text=\"\" resource-id=\"com.android.systemui:id/white_cutout\" class=\"android.widget.ImageView\" package=\"com.android.systemui\" content-desc=\"\" checkable=\"false\" checked=\"false\" clickable=\"false\" enabled=\"true\" focusable=\"false\" focused=\"false\" scrollable=\"false\" long-clickable=\"false\" password=\"false\" selected=\"false\" visible-to-user=\"true\" bounds=\"[517,2077][562,2122]\" />\\r\\n                <node index=\"3\" text=\"\" resource-id=\"com.android.systemui:id/white\" class=\"android.widget.ImageView\" package=\"com.android.systemui\" content-desc=\"\" checkable=\"false\" checked=\"false\" clickable=\"false\" enabled=\"true\" focusable=\"false\" focused=\"false\" scrollable=\"false\" long-clickable=\"false\" password=\"false\" selected=\"false\" visible-to-user=\"true\" bounds=\"[517,2077][562,2122]\" />\\r\\n              </node>\\r\\n            </node>\\r\\n          </node>\\r\\n        </node>\\r\\n      </node>\\r\\n    </node>\\r\\n  </node>\\r\\n  <node index=\"0\" text=\"\" resource-id=\"\" class=\"android.widget.FrameLayout\" package=\"com.android.systemui\" content-desc=\"\" checkable=\"false\" checked=\"false\" clickable=\"false\" enabled=\"true\" focusable=\"false\" focused=\"false\" scrollable=\"false\" long-clickable=\"false\" password=\"false\" selected=\"false\" visible-to-user=\"true\" bounds=\"[0,0][1080,60]\">\\r\\n    <node index=\"0\" text=\"\" resource-id=\"com.android.systemui:id/scrim_in_front\" class=\"android.view.View\" package=\"com.android.systemui\" content-desc=\"\" checkable=\"false\" checked=\"false\" clickable=\"false\" enabled=\"true\" focusable=\"true\" focused=\"false\" scrollable=\"false\" long-clickable=\"false\" password=\"false\" selected=\"false\" visible-to-user=\"true\" bounds=\"[0,0][1080,60]\" />\\r\\n    <node index=\"1\" text=\"\" resource-id=\"com.android.systemui:id/scrim_behind\" class=\"android.view.View\" package=\"com.android.systemui\" content-desc=\"\" checkable=\"false\" checked=\"false\" clickable=\"false\" enabled=\"true\" focusable=\"true\" focused=\"false\" scrollable=\"false\" long-clickable=\"false\" password=\"false\" selected=\"false\" visible-to-user=\"true\" bounds=\"[0,0][1080,60]\" />\\r\\n    <node index=\"2\" text=\"\" resource-id=\"com.android.systemui:id/status_bar_container\" class=\"android.widget.FrameLayout\" package=\"com.android.systemui\" content-desc=\"\" checkable=\"false\" checked=\"false\" clickable=\"false\" enabled=\"true\" focusable=\"false\" focused=\"false\" scrollable=\"false\" long-clickable=\"false\" password=\"false\" selected=\"false\" visible-to-user=\"true\" bounds=\"[0,0][1080,60]\">\\r\\n      <node index=\"0\" text=\"\" resource-id=\"com.android.systemui:id/status_bar\" class=\"android.widget.FrameLayout\" package=\"com.android.systemui\" content-desc=\"\" checkable=\"false\" checked=\"false\" clickable=\"false\" enabled=\"true\" focusable=\"false\" focused=\"false\" scrollable=\"false\" long-clickable=\"false\" password=\"false\" selected=\"false\" visible-to-user=\"true\" bounds=\"[0,0][1080,60]\">\\r\\n        <node index=\"0\" text=\"\" resource-id=\"com.android.systemui:id/status_bar_contents\" class=\"android.widget.LinearLayout\" package=\"com.android.systemui\" content-desc=\"\" checkable=\"false\" checked=\"false\" clickable=\"false\" enabled=\"true\" focusable=\"false\" focused=\"false\" scrollable=\"false\" long-clickable=\"false\" password=\"false\" selected=\"false\" visible-to-user=\"true\" bounds=\"[20,0][1060,60]\">\\r\\n          <node index=\"0\" text=\"\" resource-id=\"\" class=\"android.widget.FrameLayout\" package=\"com.android.systemui\" content-desc=\"\" checkable=\"false\" checked=\"false\" clickable=\"false\" enabled=\"true\" focusable=\"false\" focused=\"false\" scrollable=\"false\" long-clickable=\"false\" password=\"false\" selected=\"false\" visible-to-user=\"true\" bounds=\"[35,0][540,60]\">\\r\\n            <node index=\"0\" text=\"\" resource-id=\"com.android.systemui:id/status_bar_left_side\" class=\"android.widget.LinearLayout\" package=\"com.android.systemui\" content-desc=\"\" checkable=\"false\" checked=\"false\" clickable=\"false\" enabled=\"true\" focusable=\"false\" focused=\"false\" scrollable=\"false\" long-clickable=\"false\" password=\"false\" selected=\"false\" visible-to-user=\"true\" bounds=\"[35,0][540,60]\">\\r\\n              <node index=\"0\" text=\"9:58\" resource-id=\"com.android.systemui:id/clock\" class=\"android.widget.TextView\" package=\"com.android.systemui\" content-desc=\"9:58 AM\" checkable=\"false\" checked=\"false\" clickable=\"false\" enabled=\"true\" focusable=\"false\" focused=\"false\" scrollable=\"false\" long-clickable=\"false\" password=\"false\" selected=\"false\" visible-to-user=\"true\" bounds=\"[35,0][122,60]\" />\\r\\n              <node index=\"1\" text=\"\" resource-id=\"com.android.systemui:id/notification_icon_area\" class=\"android.widget.FrameLayout\" package=\"com.android.systemui\" content-desc=\"\" checkable=\"false\" checked=\"false\" clickable=\"false\" enabled=\"true\" focusable=\"false\" focused=\"false\" scrollable=\"false\" long-clickable=\"false\" password=\"false\" selected=\"false\" visible-to-user=\"true\" bounds=\"[122,0][540,60]\">\\r\\n                <node index=\"0\" text=\"\" resource-id=\"com.android.systemui:id/notification_icon_area_inner\" class=\"android.widget.LinearLayout\" package=\"com.android.systemui\" content-desc=\"\" checkable=\"false\" checked=\"false\" clickable=\"false\" enabled=\"true\" focusable=\"false\" focused=\"false\" scrollable=\"false\" long-clickable=\"false\" password=\"false\" selected=\"false\" visible-to-user=\"true\" bounds=\"[122,0][540,60]\">\\r\\n                  <node index=\"0\" text=\"\" resource-id=\"com.android.systemui:id/notificationIcons\" class=\"android.widget.FrameLayout\" package=\"com.android.systemui\" content-desc=\"\" checkable=\"false\" checked=\"false\" clickable=\"false\" enabled=\"true\" focusable=\"false\" focused=\"false\" scrollable=\"false\" long-clickable=\"false\" password=\"false\" selected=\"false\" visible-to-user=\"true\" bounds=\"[122,0][540,60]\">\\r\\n                    <node index=\"0\" text=\"\" resource-id=\"\" class=\"android.widget.ImageView\" package=\"com.android.systemui\" content-desc=\"Android Setup notification: Preparing for setup…\" checkable=\"false\" checked=\"false\" clickable=\"false\" enabled=\"true\" focusable=\"false\" focused=\"false\" scrollable=\"false\" long-clickable=\"false\" password=\"false\" selected=\"false\" visible-to-user=\"true\" bounds=\"[122,0][177,60]\" />\\r\\n                    <node index=\"1\" text=\"\" resource-id=\"\" class=\"android.widget.ImageView\" package=\"com.android.systemui\" content-desc=\"ATX notification: UIAutomator\" checkable=\"false\" checked=\"false\" clickable=\"false\" enabled=\"true\" focusable=\"false\" focused=\"false\" scrollable=\"false\" long-clickable=\"false\" password=\"false\" selected=\"false\" visible-to-user=\"true\" bounds=\"[177,0][232,60]\" />\\r\\n                    <node index=\"2\" text=\"\" resource-id=\"\" class=\"android.widget.ImageView\" package=\"com.android.systemui\" content-desc=\"Settings notification: Virtual SD card\" checkable=\"false\" checked=\"false\" clickable=\"false\" enabled=\"true\" focusable=\"false\" focused=\"false\" scrollable=\"false\" long-clickable=\"false\" password=\"false\" selected=\"false\" visible-to-user=\"true\" bounds=\"[232,0][287,60]\" />\\r\\n                  </node>\\r\\n                </node>\\r\\n              </node>\\r\\n            </node>\\r\\n          </node>\\r\\n          <node index=\"1\" text=\"\" resource-id=\"com.android.systemui:id/system_icon_area\" class=\"android.widget.LinearLayout\" package=\"com.android.systemui\" content-desc=\"\" checkable=\"false\" checked=\"false\" clickable=\"false\" enabled=\"true\" focusable=\"false\" focused=\"false\" scrollable=\"false\" long-clickable=\"false\" password=\"false\" selected=\"false\" visible-to-user=\"true\" bounds=\"[540,0][1045,60]\">\\r\\n            <node index=\"0\" text=\"\" resource-id=\"com.android.systemui:id/system_icons\" class=\"android.widget.LinearLayout\" package=\"com.android.systemui\" content-desc=\"\" checkable=\"false\" checked=\"false\" clickable=\"false\" enabled=\"true\" focusable=\"false\" focused=\"false\" scrollable=\"false\" long-clickable=\"false\" password=\"false\" selected=\"false\" visible-to-user=\"true\" bounds=\"[540,0][1045,60]\">\\r\\n              <node index=\"0\" text=\"\" resource-id=\"com.android.systemui:id/statusIcons\" class=\"android.widget.LinearLayout\" package=\"com.android.systemui\" content-desc=\"\" checkable=\"false\" checked=\"false\" clickable=\"false\" enabled=\"true\" focusable=\"false\" focused=\"false\" scrollable=\"false\" long-clickable=\"false\" password=\"false\" selected=\"false\" visible-to-user=\"true\" bounds=\"[540,0][1024,60]\">\\r\\n                <node index=\"0\" text=\"\" resource-id=\"com.android.systemui:id/wifi_combo\" class=\"android.widget.FrameLayout\" package=\"com.android.systemui\" content-desc=\"Wifi signal full.\" checkable=\"false\" checked=\"false\" clickable=\"false\" enabled=\"true\" focusable=\"false\" focused=\"false\" scrollable=\"false\" long-clickable=\"false\" password=\"false\" selected=\"false\" visible-to-user=\"true\" bounds=\"[924,2][971,57]\">\\r\\n                  <node index=\"0\" text=\"\" resource-id=\"com.android.systemui:id/wifi_group\" class=\"android.widget.LinearLayout\" package=\"com.android.systemui\" content-desc=\"\" checkable=\"false\" checked=\"false\" clickable=\"false\" enabled=\"true\" focusable=\"false\" focused=\"false\" scrollable=\"false\" long-clickable=\"false\" password=\"false\" selected=\"false\" visible-to-user=\"true\" bounds=\"[930,2][971,57]\">\\r\\n                    <node index=\"0\" text=\"\" resource-id=\"com.android.systemui:id/wifi_combo\" class=\"android.widget.FrameLayout\" package=\"com.android.systemui\" content-desc=\"\" checkable=\"false\" checked=\"false\" clickable=\"false\" enabled=\"true\" focusable=\"false\" focused=\"false\" scrollable=\"false\" long-clickable=\"false\" password=\"false\" selected=\"false\" visible-to-user=\"true\" bounds=\"[930,10][971,48]\">\\r\\n                      <node index=\"0\" text=\"\" resource-id=\"com.android.systemui:id/wifi_signal\" class=\"android.widget.ImageView\" package=\"com.android.systemui\" content-desc=\"\" checkable=\"false\" checked=\"false\" clickable=\"false\" enabled=\"true\" focusable=\"false\" focused=\"false\" scrollable=\"false\" long-clickable=\"false\" password=\"false\" selected=\"false\" visible-to-user=\"true\" bounds=\"[930,10][971,48]\" />\\r\\n                    </node>\\r\\n                  </node>\\r\\n                </node>\\r\\n                <node index=\"1\" text=\"\" resource-id=\"com.android.systemui:id/mobile_combo\" class=\"android.widget.FrameLayout\" package=\"com.android.systemui\" content-desc=\"Phone two bars.\" checkable=\"false\" checked=\"false\" clickable=\"false\" enabled=\"true\" focusable=\"false\" focused=\"false\" scrollable=\"false\" long-clickable=\"false\" password=\"false\" selected=\"false\" visible-to-user=\"true\" bounds=\"[971,2][1009,57]\">\\r\\n                  <node index=\"0\" text=\"\" resource-id=\"com.android.systemui:id/mobile_group\" class=\"android.widget.LinearLayout\" package=\"com.android.systemui\" content-desc=\"\" checkable=\"false\" checked=\"false\" clickable=\"false\" enabled=\"true\" focusable=\"false\" focused=\"false\" scrollable=\"false\" long-clickable=\"false\" password=\"false\" selected=\"false\" visible-to-user=\"true\" bounds=\"[971,2][1009,57]\">\\r\\n                    <node index=\"0\" text=\"\" resource-id=\"\" class=\"android.widget.FrameLayout\" package=\"com.android.systemui\" content-desc=\"\" checkable=\"false\" checked=\"false\" clickable=\"false\" enabled=\"true\" focusable=\"false\" focused=\"false\" scrollable=\"false\" long-clickable=\"false\" password=\"false\" selected=\"false\" visible-to-user=\"true\" bounds=\"[971,10][1009,48]\">\\r\\n                      <node index=\"0\" text=\"\" resource-id=\"com.android.systemui:id/mobile_signal\" class=\"android.widget.ImageView\" package=\"com.android.systemui\" content-desc=\"\" checkable=\"false\" checked=\"false\" clickable=\"false\" enabled=\"true\" focusable=\"false\" focused=\"false\" scrollable=\"false\" long-clickable=\"false\" password=\"false\" selected=\"false\" visible-to-user=\"true\" bounds=\"[971,10][1009,48]\" />\\r\\n                    </node>\\r\\n                  </node>\\r\\n                </node>\\r\\n              </node>\\r\\n              <node index=\"1\" text=\"\" resource-id=\"com.android.systemui:id/battery\" class=\"android.widget.LinearLayout\" package=\"com.android.systemui\" content-desc=\"Battery 100 percent.\" checkable=\"false\" checked=\"false\" clickable=\"false\" enabled=\"true\" focusable=\"false\" focused=\"false\" scrollable=\"false\" long-clickable=\"false\" password=\"false\" selected=\"false\" visible-to-user=\"true\" bounds=\"[1024,0][1045,60]\">\\r\\n                <node index=\"0\" text=\"\" resource-id=\"\" class=\"android.widget.ImageView\" package=\"com.android.systemui\" content-desc=\"\" checkable=\"false\" checked=\"false\" clickable=\"false\" enabled=\"true\" focusable=\"false\" focused=\"false\" scrollable=\"false\" long-clickable=\"false\" password=\"false\" selected=\"false\" visible-to-user=\"true\" bounds=\"[1024,13][1045,46]\" />\\r\\n              </node>\\r\\n            </node>\\r\\n          </node>\\r\\n        </node>\\r\\n      </node>\\r\\n    </node>\\r\\n  </node>\\r\\n  <node index=\"0\" text=\"\" resource-id=\"\" class=\"android.widget.FrameLayout\" package=\"com.google.android.inputmethod.latin\" content-desc=\"\" checkable=\"false\" checked=\"false\" clickable=\"false\" enabled=\"true\" focusable=\"false\" focused=\"false\" scrollable=\"false\" long-clickable=\"false\" password=\"false\" selected=\"false\" visible-to-user=\"true\" bounds=\"[0,1445][1080,2040]\">\\r\\n    <node index=\"0\" text=\"\" resource-id=\"\" class=\"android.widget.LinearLayout\" package=\"com.google.android.inputmethod.latin\" content-desc=\"\" checkable=\"false\" checked=\"false\" clickable=\"false\" enabled=\"true\" focusable=\"false\" focused=\"false\" scrollable=\"false\" long-clickable=\"false\" password=\"false\" selected=\"false\" visible-to-user=\"true\" bounds=\"[0,1445][1080,2040]\">\\r\\n      <node index=\"0\" text=\"\" resource-id=\"android:id/content\" class=\"android.widget.FrameLayout\" package=\"com.google.android.inputmethod.latin\" content-desc=\"\" checkable=\"false\" checked=\"false\" clickable=\"false\" enabled=\"true\" focusable=\"false\" focused=\"false\" scrollable=\"false\" long-clickable=\"false\" password=\"false\" selected=\"false\" visible-to-user=\"true\" bounds=\"[0,1445][1080,2040]\">\\r\\n        <node index=\"0\" text=\"\" resource-id=\"android:id/parentPanel\" class=\"android.widget.LinearLayout\" package=\"com.google.android.inputmethod.latin\" content-desc=\"\" checkable=\"false\" checked=\"false\" clickable=\"false\" enabled=\"true\" focusable=\"false\" focused=\"false\" scrollable=\"false\" long-clickable=\"false\" password=\"false\" selected=\"false\" visible-to-user=\"true\" bounds=\"[0,1445][1080,2040]\">\\r\\n          <node index=\"1\" text=\"\" resource-id=\"android:id/inputArea\" class=\"android.widget.FrameLayout\" package=\"com.google.android.inputmethod.latin\" content-desc=\"\" checkable=\"false\" checked=\"false\" clickable=\"false\" enabled=\"true\" focusable=\"false\" focused=\"false\" scrollable=\"false\" long-clickable=\"false\" password=\"false\" selected=\"false\" visible-to-user=\"true\" bounds=\"[0,1445][1080,2040]\">\\r\\n            <node index=\"0\" text=\"\" resource-id=\"\" class=\"android.widget.FrameLayout\" package=\"com.google.android.inputmethod.latin\" content-desc=\"\" checkable=\"false\" checked=\"false\" clickable=\"false\" enabled=\"true\" focusable=\"false\" focused=\"false\" scrollable=\"false\" long-clickable=\"false\" password=\"false\" selected=\"false\" visible-to-user=\"true\" bounds=\"[0,1445][1080,2040]\">\\r\\n              <node index=\"0\" text=\"\" resource-id=\"com.google.android.inputmethod.latin:id/keyboard_area\" class=\"android.widget.FrameLayout\" package=\"com.google.android.inputmethod.latin\" content-desc=\"\" checkable=\"false\" checked=\"false\" clickable=\"false\" enabled=\"true\" focusable=\"false\" focused=\"false\" scrollable=\"false\" long-clickable=\"false\" password=\"false\" selected=\"false\" visible-to-user=\"true\" bounds=\"[0,1445][1080,2040]\">\\r\\n                <node index=\"0\" text=\"\" resource-id=\"com.google.android.inputmethod.latin:id/keyboard_holder\" class=\"android.widget.LinearLayout\" package=\"com.google.android.inputmethod.latin\" content-desc=\"\" checkable=\"false\" checked=\"false\" clickable=\"false\" enabled=\"true\" focusable=\"false\" focused=\"false\" scrollable=\"false\" long-clickable=\"false\" password=\"false\" selected=\"false\" visible-to-user=\"true\" bounds=\"[0,1445][1080,2040]\">\\r\\n                  <node index=\"1\" text=\"\" resource-id=\"com.google.android.inputmethod.latin:id/body_group_view\" class=\"android.widget.FrameLayout\" package=\"com.google.android.inputmethod.latin\" content-desc=\"\" checkable=\"false\" checked=\"false\" clickable=\"false\" enabled=\"true\" focusable=\"false\" focused=\"false\" scrollable=\"false\" long-clickable=\"false\" password=\"false\" selected=\"false\" visible-to-user=\"true\" bounds=\"[0,1445][1080,2040]\">\\r\\n                    <node index=\"0\" text=\"\" resource-id=\"com.google.android.inputmethod.latin:id/keyboard_body_view_holder\" class=\"android.widget.FrameLayout\" package=\"com.google.android.inputmethod.latin\" content-desc=\"\" checkable=\"false\" checked=\"false\" clickable=\"false\" enabled=\"true\" focusable=\"false\" focused=\"false\" scrollable=\"false\" long-clickable=\"false\" password=\"false\" selected=\"false\" visible-to-user=\"true\" bounds=\"[0,1445][1080,2040]\">\\r\\n                      <node index=\"0\" text=\"\" resource-id=\"\" class=\"android.widget.FrameLayout\" package=\"com.google.android.inputmethod.latin\" content-desc=\"\" checkable=\"false\" checked=\"false\" clickable=\"false\" enabled=\"true\" focusable=\"false\" focused=\"false\" scrollable=\"false\" long-clickable=\"false\" password=\"false\" selected=\"false\" visible-to-user=\"true\" bounds=\"[0,1445][1080,2040]\">\\r\\n                        <node index=\"0\" text=\"\" resource-id=\"\" class=\"android.widget.LinearLayout\" package=\"com.google.android.inputmethod.latin\" content-desc=\"\" checkable=\"false\" checked=\"false\" clickable=\"false\" enabled=\"true\" focusable=\"false\" focused=\"false\" scrollable=\"false\" long-clickable=\"false\" password=\"false\" selected=\"false\" visible-to-user=\"true\" bounds=\"[0,1445][1080,2040]\">\\r\\n                          <node index=\"0\" text=\"\" resource-id=\"\" class=\"android.widget.LinearLayout\" package=\"com.google.android.inputmethod.latin\" content-desc=\"\" checkable=\"false\" checked=\"false\" clickable=\"false\" enabled=\"true\" focusable=\"false\" focused=\"false\" scrollable=\"false\" long-clickable=\"false\" password=\"false\" selected=\"false\" visible-to-user=\"true\" bounds=\"[5,1460][1075,1605]\">\\r\\n                            <node index=\"0\" text=\"\" resource-id=\"com.google.android.inputmethod.latin:id/key_pos_number_line1_1\" class=\"android.widget.FrameLayout\" package=\"com.google.android.inputmethod.latin\" content-desc=\"1\" checkable=\"false\" checked=\"false\" clickable=\"true\" enabled=\"true\" focusable=\"true\" focused=\"true\" scrollable=\"false\" long-clickable=\"true\" password=\"false\" selected=\"false\" visible-to-user=\"true\" bounds=\"[5,1460][272,1605]\">\\r\\n                              <node index=\"0\" text=\"1\" resource-id=\"com.google.android.inputmethod.latin:id/label\" class=\"android.widget.TextView\" package=\"com.google.android.inputmethod.latin\" content-desc=\"\" checkable=\"false\" checked=\"false\" clickable=\"false\" enabled=\"true\" focusable=\"false\" focused=\"false\" scrollable=\"false\" long-clickable=\"false\" password=\"false\" selected=\"false\" visible-to-user=\"true\" bounds=\"[117,1482][159,1583]\" />\\r\\n                            </node>\\r\\n                            <node index=\"1\" text=\"\" resource-id=\"com.google.android.inputmethod.latin:id/key_pos_number_line1_2\" class=\"android.widget.FrameLayout\" package=\"com.google.android.inputmethod.latin\" content-desc=\"2\" checkable=\"false\" checked=\"false\" clickable=\"true\" enabled=\"true\" focusable=\"true\" focused=\"false\" scrollable=\"false\" long-clickable=\"true\" password=\"false\" selected=\"false\" visible-to-user=\"true\" bounds=\"[272,1460][539,1605]\">\\r\\n                              <node index=\"0\" text=\"2\" resource-id=\"com.google.android.inputmethod.latin:id/label\" class=\"android.widget.TextView\" package=\"com.google.android.inputmethod.latin\" content-desc=\"\" checkable=\"false\" checked=\"false\" clickable=\"false\" enabled=\"true\" focusable=\"false\" focused=\"false\" scrollable=\"false\" long-clickable=\"false\" password=\"false\" selected=\"false\" visible-to-user=\"true\" bounds=\"[384,1482][426,1583]\" />\\r\\n                            </node>\\r\\n                            <node index=\"2\" text=\"\" resource-id=\"com.google.android.inputmethod.latin:id/key_pos_number_line1_3\" class=\"android.widget.FrameLayout\" package=\"com.google.android.inputmethod.latin\" content-desc=\"3\" checkable=\"false\" checked=\"false\" clickable=\"true\" enabled=\"true\" focusable=\"true\" focused=\"false\" scrollable=\"false\" long-clickable=\"true\" password=\"false\" selected=\"false\" visible-to-user=\"true\" bounds=\"[539,1460][807,1605]\">\\r\\n                              <node index=\"0\" text=\"3\" resource-id=\"com.google.android.inputmethod.latin:id/label\" class=\"android.widget.TextView\" package=\"com.google.android.inputmethod.latin\" content-desc=\"\" checkable=\"false\" checked=\"false\" clickable=\"false\" enabled=\"true\" focusable=\"false\" focused=\"false\" scrollable=\"false\" long-clickable=\"false\" password=\"false\" selected=\"false\" visible-to-user=\"true\" bounds=\"[652,1482][694,1583]\" />\\r\\n                            </node>\\r\\n                            <node index=\"3\" text=\"\" resource-id=\"com.google.android.inputmethod.latin:id/key_pos_number_line1_4\" class=\"android.widget.FrameLayout\" package=\"com.google.android.inputmethod.latin\" content-desc=\"Dash\" checkable=\"false\" checked=\"false\" clickable=\"true\" enabled=\"true\" focusable=\"true\" focused=\"false\" scrollable=\"false\" long-clickable=\"true\" password=\"false\" selected=\"false\" visible-to-user=\"true\" bounds=\"[807,1460][1075,1605]\">\\r\\n                              <node index=\"0\" text=\"−\" resource-id=\"com.google.android.inputmethod.latin:id/label\" class=\"android.widget.TextView\" package=\"com.google.android.inputmethod.latin\" content-desc=\"\" checkable=\"false\" checked=\"false\" clickable=\"false\" enabled=\"true\" focusable=\"false\" focused=\"false\" scrollable=\"false\" long-clickable=\"false\" password=\"false\" selected=\"false\" visible-to-user=\"true\" bounds=\"[919,1482][962,1583]\" />\\r\\n                            </node>\\r\\n                          </node>\\r\\n                          <node index=\"1\" text=\"\" resource-id=\"\" class=\"android.widget.LinearLayout\" package=\"com.google.android.inputmethod.latin\" content-desc=\"\" checkable=\"false\" checked=\"false\" clickable=\"false\" enabled=\"true\" focusable=\"false\" focused=\"false\" scrollable=\"false\" long-clickable=\"false\" password=\"false\" selected=\"false\" visible-to-user=\"true\" bounds=\"[5,1605][1075,1750]\">\\r\\n                            <node index=\"0\" text=\"\" resource-id=\"com.google.android.inputmethod.latin:id/key_pos_number_line2_1\" class=\"android.widget.FrameLayout\" package=\"com.google.android.inputmethod.latin\" content-desc=\"4\" checkable=\"false\" checked=\"false\" clickable=\"true\" enabled=\"true\" focusable=\"true\" focused=\"false\" scrollable=\"false\" long-clickable=\"true\" password=\"false\" selected=\"false\" visible-to-user=\"true\" bounds=\"[5,1605][272,1750]\">\\r\\n                              <node index=\"0\" text=\"4\" resource-id=\"com.google.android.inputmethod.latin:id/label\" class=\"android.widget.TextView\" package=\"com.google.android.inputmethod.latin\" content-desc=\"\" checkable=\"false\" checked=\"false\" clickable=\"false\" enabled=\"true\" focusable=\"false\" focused=\"false\" scrollable=\"false\" long-clickable=\"false\" password=\"false\" selected=\"false\" visible-to-user=\"true\" bounds=\"[117,1627][159,1728]\" />\\r\\n                            </node>\\r\\n                            <node index=\"1\" text=\"\" resource-id=\"com.google.android.inputmethod.latin:id/key_pos_number_line2_2\" class=\"android.widget.FrameLayout\" package=\"com.google.android.inputmethod.latin\" content-desc=\"5\" checkable=\"false\" checked=\"false\" clickable=\"true\" enabled=\"true\" focusable=\"true\" focused=\"false\" scrollable=\"false\" long-clickable=\"true\" password=\"false\" selected=\"false\" visible-to-user=\"true\" bounds=\"[272,1605][539,1750]\">\\r\\n                              <node index=\"0\" text=\"5\" resource-id=\"com.google.android.inputmethod.latin:id/label\" class=\"android.widget.TextView\" package=\"com.google.android.inputmethod.latin\" content-desc=\"\" checkable=\"false\" checked=\"false\" clickable=\"false\" enabled=\"true\" focusable=\"false\" focused=\"false\" scrollable=\"false\" long-clickable=\"false\" password=\"false\" selected=\"false\" visible-to-user=\"true\" bounds=\"[384,1627][426,1728]\" />\\r\\n                            </node>\\r\\n                            <node index=\"2\" text=\"\" resource-id=\"com.google.android.inputmethod.latin:id/key_pos_number_line2_3\" class=\"android.widget.FrameLayout\" package=\"com.google.android.inputmethod.latin\" content-desc=\"6\" checkable=\"false\" checked=\"false\" clickable=\"true\" enabled=\"true\" focusable=\"true\" focused=\"false\" scrollable=\"false\" long-clickable=\"true\" password=\"false\" selected=\"false\" visible-to-user=\"true\" bounds=\"[539,1605][807,1750]\">\\r\\n                              <node index=\"0\" text=\"6\" resource-id=\"com.google.android.inputmethod.latin:id/label\" class=\"android.widget.TextView\" package=\"com.google.android.inputmethod.latin\" content-desc=\"\" checkable=\"false\" checked=\"false\" clickable=\"false\" enabled=\"true\" focusable=\"false\" focused=\"false\" scrollable=\"false\" long-clickable=\"false\" password=\"false\" selected=\"false\" visible-to-user=\"true\" bounds=\"[652,1627][694,1728]\" />\\r\\n                            </node>\\r\\n                            <node index=\"3\" text=\"\" resource-id=\"com.google.android.inputmethod.latin:id/key_pos_number_line2_4\" class=\"android.widget.FrameLayout\" package=\"com.google.android.inputmethod.latin\" content-desc=\"Space\" checkable=\"false\" checked=\"false\" clickable=\"true\" enabled=\"true\" focusable=\"true\" focused=\"false\" scrollable=\"false\" long-clickable=\"true\" password=\"false\" selected=\"false\" visible-to-user=\"true\" bounds=\"[807,1605][1075,1750]\">\\r\\n                              <node index=\"0\" text=\"\" resource-id=\"com.google.android.inputmethod.latin:id/icon\" class=\"android.widget.ImageView\" package=\"com.google.android.inputmethod.latin\" content-desc=\"\" checkable=\"false\" checked=\"false\" clickable=\"false\" enabled=\"true\" focusable=\"false\" focused=\"false\" scrollable=\"false\" long-clickable=\"false\" password=\"false\" selected=\"false\" visible-to-user=\"true\" bounds=\"[906,1642][976,1712]\" />\\r\\n                            </node>\\r\\n                          </node>\\r\\n                          <node index=\"2\" text=\"\" resource-id=\"\" class=\"android.widget.LinearLayout\" package=\"com.google.android.inputmethod.latin\" content-desc=\"\" checkable=\"false\" checked=\"false\" clickable=\"false\" enabled=\"true\" focusable=\"false\" focused=\"false\" scrollable=\"false\" long-clickable=\"false\" password=\"false\" selected=\"false\" visible-to-user=\"true\" bounds=\"[5,1750][1075,1895]\">\\r\\n                            <node index=\"0\" text=\"\" resource-id=\"com.google.android.inputmethod.latin:id/key_pos_number_line3_1\" class=\"android.widget.FrameLayout\" package=\"com.google.android.inputmethod.latin\" content-desc=\"7\" checkable=\"false\" checked=\"false\" clickable=\"true\" enabled=\"true\" focusable=\"true\" focused=\"false\" scrollable=\"false\" long-clickable=\"true\" password=\"false\" selected=\"false\" visible-to-user=\"true\" bounds=\"[5,1750][272,1895]\">\\r\\n                              <node index=\"0\" text=\"7\" resource-id=\"com.google.android.inputmethod.latin:id/label\" class=\"android.widget.TextView\" package=\"com.google.android.inputmethod.latin\" content-desc=\"\" checkable=\"false\" checked=\"false\" clickable=\"false\" enabled=\"true\" focusable=\"false\" focused=\"false\" scrollable=\"false\" long-clickable=\"false\" password=\"false\" selected=\"false\" visible-to-user=\"true\" bounds=\"[117,1772][159,1873]\" />\\r\\n                            </node>\\r\\n                            <node index=\"1\" text=\"\" resource-id=\"com.google.android.inputmethod.latin:id/key_pos_number_line3_2\" class=\"android.widget.FrameLayout\" package=\"com.google.android.inputmethod.latin\" content-desc=\"8\" checkable=\"false\" checked=\"false\" clickable=\"true\" enabled=\"true\" focusable=\"true\" focused=\"false\" scrollable=\"false\" long-clickable=\"true\" password=\"false\" selected=\"false\" visible-to-user=\"true\" bounds=\"[272,1750][539,1895]\">\\r\\n                              <node index=\"0\" text=\"8\" resource-id=\"com.google.android.inputmethod.latin:id/label\" class=\"android.widget.TextView\" package=\"com.google.android.inputmethod.latin\" content-desc=\"\" checkable=\"false\" checked=\"false\" clickable=\"false\" enabled=\"true\" focusable=\"false\" focused=\"false\" scrollable=\"false\" long-clickable=\"false\" password=\"false\" selected=\"false\" visible-to-user=\"true\" bounds=\"[384,1772][426,1873]\" />\\r\\n                            </node>\\r\\n                            <node index=\"2\" text=\"\" resource-id=\"com.google.android.inputmethod.latin:id/key_pos_number_line3_3\" class=\"android.widget.FrameLayout\" package=\"com.google.android.inputmethod.latin\" content-desc=\"9\" checkable=\"false\" checked=\"false\" clickable=\"true\" enabled=\"true\" focusable=\"true\" focused=\"false\" scrollable=\"false\" long-clickable=\"true\" password=\"false\" selected=\"false\" visible-to-user=\"true\" bounds=\"[539,1750][807,1895]\">\\r\\n                              <node index=\"0\" text=\"9\" resource-id=\"com.google.android.inputmethod.latin:id/label\" class=\"android.widget.TextView\" package=\"com.google.android.inputmethod.latin\" content-desc=\"\" checkable=\"false\" checked=\"false\" clickable=\"false\" enabled=\"true\" focusable=\"false\" focused=\"false\" scrollable=\"false\" long-clickable=\"false\" password=\"false\" selected=\"false\" visible-to-user=\"true\" bounds=\"[652,1772][694,1873]\" />\\r\\n                            </node>\\r\\n                            <node index=\"3\" text=\"\" resource-id=\"com.google.android.inputmethod.latin:id/key_pos_number_line3_4\" class=\"android.widget.FrameLayout\" package=\"com.google.android.inputmethod.latin\" content-desc=\"Delete\" checkable=\"false\" checked=\"false\" clickable=\"true\" enabled=\"true\" focusable=\"true\" focused=\"false\" scrollable=\"false\" long-clickable=\"true\" password=\"false\" selected=\"false\" visible-to-user=\"true\" bounds=\"[807,1750][1075,1895]\">\\r\\n                              <node index=\"0\" text=\"\" resource-id=\"com.google.android.inputmethod.latin:id/icon\" class=\"android.widget.ImageView\" package=\"com.google.android.inputmethod.latin\" content-desc=\"\" checkable=\"false\" checked=\"false\" clickable=\"false\" enabled=\"true\" focusable=\"false\" focused=\"false\" scrollable=\"false\" long-clickable=\"false\" password=\"false\" selected=\"false\" visible-to-user=\"true\" bounds=\"[906,1787][976,1857]\" />\\r\\n                            </node>\\r\\n                          </node>\\r\\n                          <node index=\"3\" text=\"\" resource-id=\"\" class=\"android.widget.LinearLayout\" package=\"com.google.android.inputmethod.latin\" content-desc=\"\" checkable=\"false\" checked=\"false\" clickable=\"false\" enabled=\"true\" focusable=\"false\" focused=\"false\" scrollable=\"false\" long-clickable=\"false\" password=\"false\" selected=\"false\" visible-to-user=\"true\" bounds=\"[5,1895][1075,2040]\">\\r\\n                            <node index=\"0\" text=\"\" resource-id=\"com.google.android.inputmethod.latin:id/key_pos_number_line4_1\" class=\"android.widget.FrameLayout\" package=\"com.google.android.inputmethod.latin\" content-desc=\",\" checkable=\"false\" checked=\"false\" clickable=\"true\" enabled=\"true\" focusable=\"true\" focused=\"false\" scrollable=\"false\" long-clickable=\"true\" password=\"false\" selected=\"false\" visible-to-user=\"true\" bounds=\"[5,1895][272,2040]\">\\r\\n                              <node index=\"0\" text=\",\" resource-id=\"com.google.android.inputmethod.latin:id/label\" class=\"android.widget.TextView\" package=\"com.google.android.inputmethod.latin\" content-desc=\"\" checkable=\"false\" checked=\"false\" clickable=\"false\" enabled=\"true\" focusable=\"false\" focused=\"false\" scrollable=\"false\" long-clickable=\"false\" password=\"false\" selected=\"false\" visible-to-user=\"true\" bounds=\"[131,1917][146,2018]\" />\\r\\n                            </node>\\r\\n                            <node index=\"1\" text=\"\" resource-id=\"com.google.android.inputmethod.latin:id/key_pos_number_line4_2\" class=\"android.widget.FrameLayout\" package=\"com.google.android.inputmethod.latin\" content-desc=\"0\" checkable=\"false\" checked=\"false\" clickable=\"true\" enabled=\"true\" focusable=\"true\" focused=\"false\" scrollable=\"false\" long-clickable=\"true\" password=\"false\" selected=\"false\" visible-to-user=\"true\" bounds=\"[272,1895][539,2040]\">\\r\\n                              <node index=\"0\" text=\"0\" resource-id=\"com.google.android.inputmethod.latin:id/label\" class=\"android.widget.TextView\" package=\"com.google.android.inputmethod.latin\" content-desc=\"\" checkable=\"false\" checked=\"false\" clickable=\"false\" enabled=\"true\" focusable=\"false\" focused=\"false\" scrollable=\"false\" long-clickable=\"false\" password=\"false\" selected=\"false\" visible-to-user=\"true\" bounds=\"[384,1917][426,2018]\" />\\r\\n                            </node>\\r\\n                            <node index=\"2\" text=\"\" resource-id=\"com.google.android.inputmethod.latin:id/key_pos_number_line4_3\" class=\"android.widget.FrameLayout\" package=\"com.google.android.inputmethod.latin\" content-desc=\".\" checkable=\"false\" checked=\"false\" clickable=\"true\" enabled=\"true\" focusable=\"true\" focused=\"false\" scrollable=\"false\" long-clickable=\"true\" password=\"false\" selected=\"false\" visible-to-user=\"true\" bounds=\"[539,1895][807,2040]\">\\r\\n                              <node index=\"0\" text=\".\" resource-id=\"com.google.android.inputmethod.latin:id/label\" class=\"android.widget.TextView\" package=\"com.google.android.inputmethod.latin\" content-desc=\"\" checkable=\"false\" checked=\"false\" clickable=\"false\" enabled=\"true\" focusable=\"false\" focused=\"false\" scrollable=\"false\" long-clickable=\"false\" password=\"false\" selected=\"false\" visible-to-user=\"true\" bounds=\"[663,1917][683,2018]\" />\\r\\n                            </node>\\r\\n                            <node index=\"3\" text=\"\" resource-id=\"com.google.android.inputmethod.latin:id/key_pos_ime_action\" class=\"android.widget.FrameLayout\" package=\"com.google.android.inputmethod.latin\" content-desc=\"Next\" checkable=\"false\" checked=\"false\" clickable=\"true\" enabled=\"true\" focusable=\"true\" focused=\"false\" scrollable=\"false\" long-clickable=\"true\" password=\"false\" selected=\"false\" visible-to-user=\"true\" bounds=\"[807,1895][1075,2040]\">\\r\\n                              <node index=\"0\" text=\"\" resource-id=\"\" class=\"android.widget.FrameLayout\" package=\"com.google.android.inputmethod.latin\" content-desc=\"\" checkable=\"false\" checked=\"false\" clickable=\"false\" enabled=\"true\" focusable=\"false\" focused=\"false\" scrollable=\"false\" long-clickable=\"false\" password=\"false\" selected=\"false\" visible-to-user=\"true\" bounds=\"[807,1895][1075,2040]\">\\r\\n                                <node index=\"0\" text=\"\" resource-id=\"\" class=\"android.widget.ImageView\" package=\"com.google.android.inputmethod.latin\" content-desc=\"\" checkable=\"false\" checked=\"false\" clickable=\"false\" enabled=\"true\" focusable=\"false\" focused=\"false\" scrollable=\"false\" long-clickable=\"false\" password=\"false\" selected=\"false\" visible-to-user=\"true\" bounds=\"[888,1902][993,2007]\" />\\r\\n                                <node index=\"1\" text=\"\" resource-id=\"com.google.android.inputmethod.latin:id/icon\" class=\"android.widget.ImageView\" package=\"com.google.android.inputmethod.latin\" content-desc=\"\" checkable=\"false\" checked=\"false\" clickable=\"false\" enabled=\"true\" focusable=\"false\" focused=\"false\" scrollable=\"false\" long-clickable=\"false\" password=\"false\" selected=\"false\" visible-to-user=\"true\" bounds=\"[911,1924][971,1984]\" />\\r\\n                              </node>\\r\\n                            </node>\\r\\n                          </node>\\r\\n                        </node>\\r\\n                      </node>\\r\\n                    </node>\\r\\n                  </node>\\r\\n                </node>\\r\\n                <node index=\"1\" text=\"\" resource-id=\"\" class=\"android.widget.FrameLayout\" package=\"com.google.android.inputmethod.latin\" content-desc=\"\" checkable=\"false\" checked=\"false\" clickable=\"false\" enabled=\"true\" focusable=\"false\" focused=\"false\" scrollable=\"false\" long-clickable=\"false\" password=\"false\" selected=\"false\" visible-to-user=\"true\" bounds=\"[0,1445][1080,2040]\">\\r\\n                  <node index=\"0\" text=\"\" resource-id=\"\" class=\"android.widget.ImageView\" package=\"com.google.android.inputmethod.latin\" content-desc=\"\" checkable=\"false\" checked=\"false\" clickable=\"false\" enabled=\"true\" focusable=\"false\" focused=\"false\" scrollable=\"false\" long-clickable=\"false\" password=\"false\" selected=\"false\" visible-to-user=\"true\" bounds=\"[0,1445][1080,1448]\" />\\r\\n                </node>\\r\\n              </node>\\r\\n            </node>\\r\\n          </node>\\r\\n        </node>\\r\\n      </node>\\r\\n    </node>\\r\\n  </node>\\r\\n  <node index=\"0\" text=\"\" resource-id=\"\" class=\"android.widget.FrameLayout\" package=\"com.github.cetoolbox\" content-desc=\"\" checkable=\"false\" checked=\"false\" clickable=\"false\" enabled=\"true\" focusable=\"false\" focused=\"false\" scrollable=\"false\" long-clickable=\"false\" password=\"false\" selected=\"false\" visible-to-user=\"true\" bounds=\"[0,0][1080,2040]\">\\r\\n    <node index=\"0\" text=\"\" resource-id=\"android:id/decor_content_parent\" class=\"android.view.ViewGroup\" package=\"com.github.cetoolbox\" content-desc=\"\" checkable=\"false\" checked=\"false\" clickable=\"false\" enabled=\"true\" focusable=\"false\" focused=\"false\" scrollable=\"false\" long-clickable=\"false\" password=\"false\" selected=\"false\" visible-to-user=\"true\" bounds=\"[0,0][1080,2040]\">\\r\\n      <node index=\"0\" text=\"\" resource-id=\"android:id/action_bar_container\" class=\"android.widget.FrameLayout\" package=\"com.github.cetoolbox\" content-desc=\"\" checkable=\"false\" checked=\"false\" clickable=\"false\" enabled=\"true\" focusable=\"false\" focused=\"false\" scrollable=\"false\" long-clickable=\"false\" password=\"false\" selected=\"false\" visible-to-user=\"true\" bounds=\"[0,60][1080,200]\">\\r\\n        <node index=\"0\" text=\"\" resource-id=\"android:id/action_bar\" class=\"android.view.ViewGroup\" package=\"com.github.cetoolbox\" content-desc=\"\" checkable=\"false\" checked=\"false\" clickable=\"false\" enabled=\"true\" focusable=\"false\" focused=\"false\" scrollable=\"false\" long-clickable=\"false\" password=\"false\" selected=\"false\" visible-to-user=\"true\" bounds=\"[0,60][1080,200]\">\\r\\n          <node index=\"0\" text=\"CEToolbox\" resource-id=\"\" class=\"android.widget.TextView\" package=\"com.github.cetoolbox\" content-desc=\"\" checkable=\"false\" checked=\"false\" clickable=\"false\" enabled=\"true\" focusable=\"false\" focused=\"false\" scrollable=\"false\" long-clickable=\"false\" password=\"false\" selected=\"false\" visible-to-user=\"true\" bounds=\"[40,96][275,163]\" />\\r\\n        </node>\\r\\n      </node>\\r\\n      <node index=\"1\" text=\"\" resource-id=\"android:id/content\" class=\"android.widget.FrameLayout\" package=\"com.github.cetoolbox\" content-desc=\"\" checkable=\"false\" checked=\"false\" clickable=\"false\" enabled=\"true\" focusable=\"false\" focused=\"false\" scrollable=\"false\" long-clickable=\"false\" password=\"false\" selected=\"false\" visible-to-user=\"true\" bounds=\"[0,200][1080,1445]\">\\r\\n        <node index=\"0\" text=\"\" resource-id=\"android:id/tabhost\" class=\"android.widget.TabHost\" package=\"com.github.cetoolbox\" content-desc=\"\" checkable=\"false\" checked=\"false\" clickable=\"false\" enabled=\"true\" focusable=\"true\" focused=\"false\" scrollable=\"false\" long-clickable=\"false\" password=\"false\" selected=\"false\" visible-to-user=\"true\" bounds=\"[0,200][1080,1445]\">\\r\\n          <node index=\"0\" text=\"\" resource-id=\"\" class=\"android.widget.LinearLayout\" package=\"com.github.cetoolbox\" content-desc=\"\" checkable=\"false\" checked=\"false\" clickable=\"false\" enabled=\"true\" focusable=\"false\" focused=\"false\" scrollable=\"false\" long-clickable=\"false\" password=\"false\" selected=\"false\" visible-to-user=\"true\" bounds=\"[0,200][1080,1445]\">\\r\\n            <node index=\"0\" text=\"\" resource-id=\"\" class=\"android.widget.HorizontalScrollView\" package=\"com.github.cetoolbox\" content-desc=\"\" checkable=\"false\" checked=\"false\" clickable=\"false\" enabled=\"true\" focusable=\"true\" focused=\"false\" scrollable=\"true\" long-clickable=\"false\" password=\"false\" selected=\"false\" visible-to-user=\"true\" bounds=\"[0,200][1080,340]\">\\r\\n              <node index=\"0\" text=\"\" resource-id=\"android:id/tabs\" class=\"android.widget.TabWidget\" package=\"com.github.cetoolbox\" content-desc=\"\" checkable=\"false\" checked=\"false\" clickable=\"false\" enabled=\"true\" focusable=\"false\" focused=\"false\" scrollable=\"false\" long-clickable=\"false\" password=\"false\" selected=\"false\" visible-to-user=\"true\" bounds=\"[0,200][1080,340]\">\\r\\n                <node index=\"0\" text=\"\" resource-id=\"\" class=\"android.widget.LinearLayout\" package=\"com.github.cetoolbox\" content-desc=\"\" checkable=\"false\" checked=\"false\" clickable=\"true\" enabled=\"true\" focusable=\"true\" focused=\"false\" scrollable=\"false\" long-clickable=\"false\" password=\"false\" selected=\"true\" visible-to-user=\"true\" bounds=\"[0,200][327,340]\">\\r\\n                  <node index=\"0\" text=\"INJECTION\" resource-id=\"android:id/title\" class=\"android.widget.TextView\" package=\"com.github.cetoolbox\" content-desc=\"\" checkable=\"false\" checked=\"false\" clickable=\"false\" enabled=\"true\" focusable=\"false\" focused=\"false\" scrollable=\"false\" long-clickable=\"false\" password=\"false\" selected=\"true\" visible-to-user=\"true\" bounds=\"[75,200][252,340]\" />\\r\\n                </node>\\r\\n                <node index=\"1\" text=\"\" resource-id=\"\" class=\"android.widget.LinearLayout\" package=\"com.github.cetoolbox\" content-desc=\"\" checkable=\"false\" checked=\"false\" clickable=\"true\" enabled=\"true\" focusable=\"true\" focused=\"false\" scrollable=\"false\" long-clickable=\"false\" password=\"false\" selected=\"false\" visible-to-user=\"true\" bounds=\"[330,200][657,340]\">\\r\\n                  <node index=\"0\" text=\"CONDUCTIVITY\" resource-id=\"android:id/title\" class=\"android.widget.TextView\" package=\"com.github.cetoolbox\" content-desc=\"\" checkable=\"false\" checked=\"false\" clickable=\"false\" enabled=\"true\" focusable=\"false\" focused=\"false\" scrollable=\"false\" long-clickable=\"false\" password=\"false\" selected=\"false\" visible-to-user=\"true\" bounds=\"[370,200][617,340]\" />\\r\\n                </node>\\r\\n                <node index=\"2\" text=\"\" resource-id=\"\" class=\"android.widget.LinearLayout\" package=\"com.github.cetoolbox\" content-desc=\"\" checkable=\"false\" checked=\"false\" clickable=\"true\" enabled=\"true\" focusable=\"true\" focused=\"false\" scrollable=\"false\" long-clickable=\"false\" password=\"false\" selected=\"false\" visible-to-user=\"true\" bounds=\"[660,200][987,340]\">\\r\\n                  <node index=\"0\" text=\"FLOWRATE\" resource-id=\"android:id/title\" class=\"android.widget.TextView\" package=\"com.github.cetoolbox\" content-desc=\"\" checkable=\"false\" checked=\"false\" clickable=\"false\" enabled=\"true\" focusable=\"false\" focused=\"false\" scrollable=\"false\" long-clickable=\"false\" password=\"false\" selected=\"false\" visible-to-user=\"true\" bounds=\"[735,200][911,340]\" />\\r\\n                </node>\\r\\n                <node index=\"3\" text=\"\" resource-id=\"\" class=\"android.widget.LinearLayout\" package=\"com.github.cetoolbox\" content-desc=\"\" checkable=\"false\" checked=\"false\" clickable=\"true\" enabled=\"true\" focusable=\"true\" focused=\"false\" scrollable=\"false\" long-clickable=\"false\" password=\"false\" selected=\"false\" visible-to-user=\"true\" bounds=\"[990,200][1080,340]\">\\r\\n                  <node index=\"0\" text=\"MOBILITY\" resource-id=\"android:id/title\" class=\"android.widget.TextView\" package=\"com.github.cetoolbox\" content-desc=\"\" checkable=\"false\" checked=\"false\" clickable=\"false\" enabled=\"true\" focusable=\"false\" focused=\"false\" scrollable=\"false\" long-clickable=\"false\" password=\"false\" selected=\"false\" visible-to-user=\"true\" bounds=\"[1074,200][1080,340]\" />\\r\\n                </node>\\r\\n              </node>\\r\\n            </node>\\r\\n            <node index=\"1\" text=\"\" resource-id=\"android:id/tabcontent\" class=\"android.widget.FrameLayout\" package=\"com.github.cetoolbox\" content-desc=\"\" checkable=\"false\" checked=\"false\" clickable=\"false\" enabled=\"true\" focusable=\"false\" focused=\"false\" scrollable=\"false\" long-clickable=\"false\" password=\"false\" selected=\"false\" visible-to-user=\"true\" bounds=\"[0,340][1080,1445]\">\\r\\n              <node index=\"0\" text=\"\" resource-id=\"\" class=\"android.widget.FrameLayout\" package=\"com.github.cetoolbox\" content-desc=\"\" checkable=\"false\" checked=\"false\" clickable=\"false\" enabled=\"true\" focusable=\"true\" focused=\"false\" scrollable=\"false\" long-clickable=\"false\" password=\"false\" selected=\"false\" visible-to-user=\"true\" bounds=\"[13,353][1067,1432]\">\\r\\n                <node index=\"0\" text=\"\" resource-id=\"\" class=\"android.widget.LinearLayout\" package=\"com.github.cetoolbox\" content-desc=\"\" checkable=\"false\" checked=\"false\" clickable=\"false\" enabled=\"true\" focusable=\"false\" focused=\"false\" scrollable=\"false\" long-clickable=\"false\" password=\"false\" selected=\"false\" visible-to-user=\"true\" bounds=\"[13,353][1067,1432]\">\\r\\n                  <node index=\"0\" text=\"\" resource-id=\"android:id/content\" class=\"android.widget.FrameLayout\" package=\"com.github.cetoolbox\" content-desc=\"\" checkable=\"false\" checked=\"false\" clickable=\"false\" enabled=\"true\" focusable=\"false\" focused=\"false\" scrollable=\"false\" long-clickable=\"false\" password=\"false\" selected=\"false\" visible-to-user=\"true\" bounds=\"[13,353][1067,1432]\">\\r\\n                    <node index=\"0\" text=\"\" resource-id=\"\" class=\"android.widget.ScrollView\" package=\"com.github.cetoolbox\" content-desc=\"\" checkable=\"false\" checked=\"false\" clickable=\"false\" enabled=\"true\" focusable=\"true\" focused=\"false\" scrollable=\"true\" long-clickable=\"false\" password=\"false\" selected=\"false\" visible-to-user=\"true\" bounds=\"[13,353][1067,1432]\">\\r\\n                      <node index=\"0\" text=\"\" resource-id=\"\" class=\"android.widget.TableLayout\" package=\"com.github.cetoolbox\" content-desc=\"\" checkable=\"false\" checked=\"false\" clickable=\"false\" enabled=\"true\" focusable=\"false\" focused=\"false\" scrollable=\"false\" long-clickable=\"false\" password=\"false\" selected=\"false\" visible-to-user=\"true\" bounds=\"[13,353][1067,1432]\">\\r\\n                        <node index=\"0\" text=\"\" resource-id=\"\" class=\"android.widget.TableRow\" package=\"com.github.cetoolbox\" content-desc=\"\" checkable=\"false\" checked=\"false\" clickable=\"false\" enabled=\"true\" focusable=\"false\" focused=\"false\" scrollable=\"false\" long-clickable=\"false\" password=\"false\" selected=\"false\" visible-to-user=\"true\" bounds=\"[13,353][1067,466]\">\\r\\n                          <node index=\"0\" text=\"Capillary length\" resource-id=\"\" class=\"android.widget.TextView\" package=\"com.github.cetoolbox\" content-desc=\"\" checkable=\"false\" checked=\"false\" clickable=\"false\" enabled=\"true\" focusable=\"false\" focused=\"false\" scrollable=\"false\" long-clickable=\"false\" password=\"false\" selected=\"false\" visible-to-user=\"true\" bounds=\"[13,389][374,436]\" />\\r\\n                          <node index=\"1\" text=\"100.0\" resource-id=\"com.github.cetoolbox:id/capillaryLengthValue\" class=\"android.widget.EditText\" package=\"com.github.cetoolbox\" content-desc=\"\" checkable=\"false\" checked=\"false\" clickable=\"true\" enabled=\"true\" focusable=\"true\" focused=\"false\" scrollable=\"false\" long-clickable=\"true\" password=\"false\" selected=\"false\" visible-to-user=\"true\" bounds=\"[374,353][679,466]\" />\\r\\n                          <node index=\"2\" text=\"cm\" resource-id=\"\" class=\"android.widget.TextView\" package=\"com.github.cetoolbox\" content-desc=\"\" checkable=\"false\" checked=\"false\" clickable=\"false\" enabled=\"true\" focusable=\"false\" focused=\"false\" scrollable=\"false\" long-clickable=\"false\" password=\"false\" selected=\"false\" visible-to-user=\"true\" bounds=\"[679,389][1067,436]\" />\\r\\n                        </node>\\r\\n                        <node index=\"1\" text=\"\" resource-id=\"\" class=\"android.widget.TableRow\" package=\"com.github.cetoolbox\" content-desc=\"\" checkable=\"false\" checked=\"false\" clickable=\"false\" enabled=\"true\" focusable=\"false\" focused=\"false\" scrollable=\"false\" long-clickable=\"false\" password=\"false\" selected=\"false\" visible-to-user=\"true\" bounds=\"[13,466][1067,579]\">\\r\\n                          <node index=\"0\" text=\"Length to window\" resource-id=\"\" class=\"android.widget.TextView\" package=\"com.github.cetoolbox\" content-desc=\"\" checkable=\"false\" checked=\"false\" clickable=\"false\" enabled=\"true\" focusable=\"false\" focused=\"false\" scrollable=\"false\" long-clickable=\"false\" password=\"false\" selected=\"false\" visible-to-user=\"true\" bounds=\"[13,502][374,549]\" />\\r\\n                          <node index=\"1\" text=\"90.0\" resource-id=\"com.github.cetoolbox:id/toWindowLengthValue\" class=\"android.widget.EditText\" package=\"com.github.cetoolbox\" content-desc=\"\" checkable=\"false\" checked=\"false\" clickable=\"true\" enabled=\"true\" focusable=\"true\" focused=\"false\" scrollable=\"false\" long-clickable=\"true\" password=\"false\" selected=\"false\" visible-to-user=\"true\" bounds=\"[374,466][679,579]\" />\\r\\n                          <node index=\"2\" text=\"cm\" resource-id=\"\" class=\"android.widget.TextView\" package=\"com.github.cetoolbox\" content-desc=\"\" checkable=\"false\" checked=\"false\" clickable=\"false\" enabled=\"true\" focusable=\"false\" focused=\"false\" scrollable=\"false\" long-clickable=\"false\" password=\"false\" selected=\"false\" visible-to-user=\"true\" bounds=\"[679,502][1067,549]\" />\\r\\n                        </node>\\r\\n                        <node index=\"2\" text=\"\" resource-id=\"\" class=\"android.widget.TableRow\" package=\"com.github.cetoolbox\" content-desc=\"\" checkable=\"false\" checked=\"false\" clickable=\"false\" enabled=\"true\" focusable=\"false\" focused=\"false\" scrollable=\"false\" long-clickable=\"false\" password=\"false\" selected=\"false\" visible-to-user=\"true\" bounds=\"[13,579][1067,692]\">\\r\\n                          <node index=\"0\" text=\"Inside diameter\" resource-id=\"\" class=\"android.widget.TextView\" package=\"com.github.cetoolbox\" content-desc=\"\" checkable=\"false\" checked=\"false\" clickable=\"false\" enabled=\"true\" focusable=\"false\" focused=\"false\" scrollable=\"false\" long-clickable=\"false\" password=\"false\" selected=\"false\" visible-to-user=\"true\" bounds=\"[13,615][374,662]\" />\\r\\n                          <node index=\"1\" text=\"30.0\" resource-id=\"com.github.cetoolbox:id/diameterValue\" class=\"android.widget.EditText\" package=\"com.github.cetoolbox\" content-desc=\"\" checkable=\"false\" checked=\"false\" clickable=\"true\" enabled=\"true\" focusable=\"true\" focused=\"true\" scrollable=\"false\" long-clickable=\"true\" password=\"false\" selected=\"false\" visible-to-user=\"true\" bounds=\"[374,579][679,692]\" />\\r\\n                          <node index=\"2\" text=\"μm\" resource-id=\"\" class=\"android.widget.TextView\" package=\"com.github.cetoolbox\" content-desc=\"\" checkable=\"false\" checked=\"false\" clickable=\"false\" enabled=\"true\" focusable=\"false\" focused=\"false\" scrollable=\"false\" long-clickable=\"false\" password=\"false\" selected=\"false\" visible-to-user=\"true\" bounds=\"[679,615][1067,662]\" />\\r\\n                        </node>\\r\\n                        <node index=\"3\" text=\"\" resource-id=\"\" class=\"android.widget.TableRow\" package=\"com.github.cetoolbox\" content-desc=\"\" checkable=\"false\" checked=\"false\" clickable=\"false\" enabled=\"true\" focusable=\"false\" focused=\"false\" scrollable=\"false\" long-clickable=\"false\" password=\"false\" selected=\"false\" visible-to-user=\"true\" bounds=\"[13,692][1067,805]\">\\r\\n                          <node index=\"0\" text=\"Pressure\" resource-id=\"\" class=\"android.widget.TextView\" package=\"com.github.cetoolbox\" content-desc=\"\" checkable=\"false\" checked=\"false\" clickable=\"false\" enabled=\"true\" focusable=\"false\" focused=\"false\" scrollable=\"false\" long-clickable=\"false\" password=\"false\" selected=\"false\" visible-to-user=\"true\" bounds=\"[13,728][374,775]\" />\\r\\n                          <node index=\"1\" text=\"30.0\" resource-id=\"com.github.cetoolbox:id/pressureValue\" class=\"android.widget.EditText\" package=\"com.github.cetoolbox\" content-desc=\"\" checkable=\"false\" checked=\"false\" clickable=\"true\" enabled=\"true\" focusable=\"true\" focused=\"false\" scrollable=\"false\" long-clickable=\"true\" password=\"false\" selected=\"false\" visible-to-user=\"true\" bounds=\"[374,692][679,805]\" />\\r\\n                          <node index=\"2\" text=\"\" resource-id=\"com.github.cetoolbox:id/pressureSpin\" class=\"android.widget.Spinner\" package=\"com.github.cetoolbox\" content-desc=\"\" checkable=\"false\" checked=\"false\" clickable=\"true\" enabled=\"true\" focusable=\"true\" focused=\"false\" scrollable=\"true\" long-clickable=\"true\" password=\"false\" selected=\"false\" visible-to-user=\"true\" bounds=\"[679,719][1067,779]\">\\r\\n                            <node index=\"0\" text=\"mbar\" resource-id=\"android:id/text1\" class=\"android.widget.TextView\" package=\"com.github.cetoolbox\" content-desc=\"\" checkable=\"false\" checked=\"false\" clickable=\"false\" enabled=\"true\" focusable=\"false\" focused=\"false\" scrollable=\"false\" long-clickable=\"false\" password=\"false\" selected=\"false\" visible-to-user=\"true\" bounds=\"[679,722][947,776]\" />\\r\\n                          </node>\\r\\n                        </node>\\r\\n                        <node index=\"4\" text=\"\" resource-id=\"\" class=\"android.widget.TableRow\" package=\"com.github.cetoolbox\" content-desc=\"\" checkable=\"false\" checked=\"false\" clickable=\"false\" enabled=\"true\" focusable=\"false\" focused=\"false\" scrollable=\"false\" long-clickable=\"false\" password=\"false\" selected=\"false\" visible-to-user=\"true\" bounds=\"[13,805][1067,918]\">\\r\\n                          <node index=\"0\" text=\"Time\" resource-id=\"\" class=\"android.widget.TextView\" package=\"com.github.cetoolbox\" content-desc=\"\" checkable=\"false\" checked=\"false\" clickable=\"false\" enabled=\"true\" focusable=\"false\" focused=\"false\" scrollable=\"false\" long-clickable=\"false\" password=\"false\" selected=\"false\" visible-to-user=\"true\" bounds=\"[13,841][374,888]\" />\\r\\n                          <node index=\"1\" text=\"21.0\" resource-id=\"com.github.cetoolbox:id/durationValue\" class=\"android.widget.EditText\" package=\"com.github.cetoolbox\" content-desc=\"\" checkable=\"false\" checked=\"false\" clickable=\"true\" enabled=\"true\" focusable=\"true\" focused=\"false\" scrollable=\"false\" long-clickable=\"true\" password=\"false\" selected=\"false\" visible-to-user=\"true\" bounds=\"[374,805][679,918]\" />\\r\\n                          <node index=\"2\" text=\"s\" resource-id=\"\" class=\"android.widget.TextView\" package=\"com.github.cetoolbox\" content-desc=\"\" checkable=\"false\" checked=\"false\" clickable=\"false\" enabled=\"true\" focusable=\"false\" focused=\"false\" scrollable=\"false\" long-clickable=\"false\" password=\"false\" selected=\"false\" visible-to-user=\"true\" bounds=\"[679,841][1067,888]\" />\\r\\n                        </node>\\r\\n                        <node index=\"5\" text=\"\" resource-id=\"\" class=\"android.widget.TableRow\" package=\"com.github.cetoolbox\" content-desc=\"\" checkable=\"false\" checked=\"false\" clickable=\"false\" enabled=\"true\" focusable=\"false\" focused=\"false\" scrollable=\"false\" long-clickable=\"false\" password=\"false\" selected=\"false\" visible-to-user=\"true\" bounds=\"[13,918][1067,1031]\">\\r\\n                          <node index=\"0\" text=\"Viscosity\" resource-id=\"\" class=\"android.widget.TextView\" package=\"com.github.cetoolbox\" content-desc=\"\" checkable=\"false\" checked=\"false\" clickable=\"false\" enabled=\"true\" focusable=\"false\" focused=\"false\" scrollable=\"false\" long-clickable=\"false\" password=\"false\" selected=\"false\" visible-to-user=\"true\" bounds=\"[13,954][374,1001]\" />\\r\\n                          <node index=\"1\" text=\"1.0\" resource-id=\"com.github.cetoolbox:id/viscosityValue\" class=\"android.widget.EditText\" package=\"com.github.cetoolbox\" content-desc=\"\" checkable=\"false\" checked=\"false\" clickable=\"true\" enabled=\"true\" focusable=\"true\" focused=\"false\" scrollable=\"false\" long-clickable=\"true\" password=\"false\" selected=\"false\" visible-to-user=\"true\" bounds=\"[374,918][679,1031]\" />\\r\\n                          <node index=\"2\" text=\"cp\" resource-id=\"\" class=\"android.widget.TextView\" package=\"com.github.cetoolbox\" content-desc=\"\" checkable=\"false\" checked=\"false\" clickable=\"false\" enabled=\"true\" focusable=\"false\" focused=\"false\" scrollable=\"false\" long-clickable=\"false\" password=\"false\" selected=\"false\" visible-to-user=\"true\" bounds=\"[679,954][1067,1001]\" />\\r\\n                        </node>\\r\\n                        <node index=\"6\" text=\"\" resource-id=\"\" class=\"android.widget.TableRow\" package=\"com.github.cetoolbox\" content-desc=\"\" checkable=\"false\" checked=\"false\" clickable=\"false\" enabled=\"true\" focusable=\"false\" focused=\"false\" scrollable=\"false\" long-clickable=\"false\" password=\"false\" selected=\"false\" visible-to-user=\"true\" bounds=\"[13,1031][1067,1144]\">\\r\\n                          <node index=\"0\" text=\"Concentration\" resource-id=\"\" class=\"android.widget.TextView\" package=\"com.github.cetoolbox\" content-desc=\"\" checkable=\"false\" checked=\"false\" clickable=\"false\" enabled=\"true\" focusable=\"false\" focused=\"false\" scrollable=\"false\" long-clickable=\"false\" password=\"false\" selected=\"false\" visible-to-user=\"true\" bounds=\"[13,1067][374,1114]\" />\\r\\n                          <node index=\"1\" text=\"21.0\" resource-id=\"com.github.cetoolbox:id/concentrationValue\" class=\"android.widget.EditText\" package=\"com.github.cetoolbox\" content-desc=\"\" checkable=\"false\" checked=\"false\" clickable=\"true\" enabled=\"true\" focusable=\"true\" focused=\"false\" scrollable=\"false\" long-clickable=\"true\" password=\"false\" selected=\"false\" visible-to-user=\"true\" bounds=\"[374,1031][679,1144]\" />\\r\\n                          <node index=\"2\" text=\"\" resource-id=\"com.github.cetoolbox:id/concentrationSpin\" class=\"android.widget.Spinner\" package=\"com.github.cetoolbox\" content-desc=\"\" checkable=\"false\" checked=\"false\" clickable=\"true\" enabled=\"true\" focusable=\"true\" focused=\"false\" scrollable=\"true\" long-clickable=\"true\" password=\"false\" selected=\"false\" visible-to-user=\"true\" bounds=\"[679,1058][1067,1118]\">\\r\\n                            <node index=\"0\" text=\"g/L\" resource-id=\"android:id/text1\" class=\"android.widget.TextView\" package=\"com.github.cetoolbox\" content-desc=\"\" checkable=\"false\" checked=\"false\" clickable=\"false\" enabled=\"true\" focusable=\"false\" focused=\"false\" scrollable=\"false\" long-clickable=\"false\" password=\"false\" selected=\"false\" visible-to-user=\"true\" bounds=\"[679,1061][947,1115]\" />\\r\\n                          </node>\\r\\n                        </node>\\r\\n                        <node index=\"7\" text=\"\" resource-id=\"\" class=\"android.widget.TableRow\" package=\"com.github.cetoolbox\" content-desc=\"\" checkable=\"false\" checked=\"false\" clickable=\"false\" enabled=\"true\" focusable=\"false\" focused=\"false\" scrollable=\"false\" long-clickable=\"false\" password=\"false\" selected=\"false\" visible-to-user=\"true\" bounds=\"[13,1144][1067,1257]\">\\r\\n                          <node index=\"0\" text=\"Molecular weight\" resource-id=\"\" class=\"android.widget.TextView\" package=\"com.github.cetoolbox\" content-desc=\"\" checkable=\"false\" checked=\"false\" clickable=\"false\" enabled=\"true\" focusable=\"false\" focused=\"false\" scrollable=\"false\" long-clickable=\"false\" password=\"false\" selected=\"false\" visible-to-user=\"true\" bounds=\"[13,1180][374,1227]\" />\\r\\n                          <node index=\"1\" text=\"150000.0\" resource-id=\"com.github.cetoolbox:id/molecularWeightValue\" class=\"android.widget.EditText\" package=\"com.github.cetoolbox\" content-desc=\"\" checkable=\"false\" checked=\"false\" clickable=\"true\" enabled=\"true\" focusable=\"true\" focused=\"false\" scrollable=\"false\" long-clickable=\"true\" password=\"false\" selected=\"false\" visible-to-user=\"true\" bounds=\"[374,1144][679,1257]\" />\\r\\n                          <node index=\"2\" text=\"g/mol\" resource-id=\"\" class=\"android.widget.TextView\" package=\"com.github.cetoolbox\" content-desc=\"\" checkable=\"false\" checked=\"false\" clickable=\"false\" enabled=\"true\" focusable=\"false\" focused=\"false\" scrollable=\"false\" long-clickable=\"false\" password=\"false\" selected=\"false\" visible-to-user=\"true\" bounds=\"[679,1180][1067,1227]\" />\\r\\n                        </node>\\r\\n                        <node index=\"8\" text=\"\" resource-id=\"\" class=\"android.widget.TableRow\" package=\"com.github.cetoolbox\" content-desc=\"\" checkable=\"false\" checked=\"false\" clickable=\"false\" enabled=\"true\" focusable=\"false\" focused=\"false\" scrollable=\"false\" long-clickable=\"false\" password=\"false\" selected=\"false\" visible-to-user=\"true\" bounds=\"[13,1257][1067,1370]\">\\r\\n                          <node index=\"0\" text=\"Voltage\" resource-id=\"\" class=\"android.widget.TextView\" package=\"com.github.cetoolbox\" content-desc=\"\" checkable=\"false\" checked=\"false\" clickable=\"false\" enabled=\"true\" focusable=\"false\" focused=\"false\" scrollable=\"false\" long-clickable=\"false\" password=\"false\" selected=\"false\" visible-to-user=\"true\" bounds=\"[13,1293][374,1340]\" />\\r\\n                          <node index=\"1\" text=\"30000.0\" resource-id=\"com.github.cetoolbox:id/voltageValue\" class=\"android.widget.EditText\" package=\"com.github.cetoolbox\" content-desc=\"\" checkable=\"false\" checked=\"false\" clickable=\"true\" enabled=\"true\" focusable=\"true\" focused=\"false\" scrollable=\"false\" long-clickable=\"true\" password=\"false\" selected=\"false\" visible-to-user=\"true\" bounds=\"[374,1257][679,1370]\" />\\r\\n                          <node index=\"2\" text=\"V\" resource-id=\"\" class=\"android.widget.TextView\" package=\"com.github.cetoolbox\" content-desc=\"\" checkable=\"false\" checked=\"false\" clickable=\"false\" enabled=\"true\" focusable=\"false\" focused=\"false\" scrollable=\"false\" long-clickable=\"false\" password=\"false\" selected=\"false\" visible-to-user=\"true\" bounds=\"[679,1293][1067,1340]\" />\\r\\n                        </node>\\r\\n                        <node index=\"9\" text=\"\" resource-id=\"\" class=\"android.widget.TableRow\" package=\"com.github.cetoolbox\" content-desc=\"\" checkable=\"false\" checked=\"false\" clickable=\"false\" enabled=\"true\" focusable=\"false\" focused=\"false\" scrollable=\"false\" long-clickable=\"false\" password=\"false\" selected=\"false\" visible-to-user=\"true\" bounds=\"[13,1370][1067,1432]\">\\r\\n                          <node index=\"0\" text=\"CALCULATE\" resource-id=\"com.github.cetoolbox:id/button1\" class=\"android.widget.Button\" package=\"com.github.cetoolbox\" content-desc=\"\" checkable=\"false\" checked=\"false\" clickable=\"true\" enabled=\"true\" focusable=\"true\" focused=\"false\" scrollable=\"false\" long-clickable=\"false\" password=\"false\" selected=\"false\" visible-to-user=\"true\" bounds=\"[292,1370][568,1432]\" />\\r\\n                          <node index=\"1\" text=\"RESET\" resource-id=\"com.github.cetoolbox:id/button2\" class=\"android.widget.Button\" package=\"com.github.cetoolbox\" content-desc=\"\" checkable=\"false\" checked=\"false\" clickable=\"true\" enabled=\"true\" focusable=\"true\" focused=\"false\" scrollable=\"false\" long-clickable=\"false\" password=\"false\" selected=\"false\" visible-to-user=\"true\" bounds=\"[568,1377][788,1432]\" />\\r\\n                        </node>\\r\\n                      </node>\\r\\n                    </node>\\r\\n                  </node>\\r\\n                </node>\\r\\n              </node>\\r\\n            </node>\\r\\n          </node>\\r\\n        </node>\\r\\n      </node>\\r\\n    </node>\\r\\n  </node>\\r\\n</hierarchy>'"
      ]
     },
     "execution_count": 38,
     "metadata": {},
     "output_type": "execute_result"
    }
   ],
   "source": [
    "wh"
   ]
  },
  {
   "cell_type": "code",
   "execution_count": null,
   "metadata": {},
   "outputs": [],
   "source": []
  },
  {
   "cell_type": "code",
   "execution_count": null,
   "metadata": {},
   "outputs": [],
   "source": []
  },
  {
   "cell_type": "code",
   "execution_count": null,
   "metadata": {},
   "outputs": [],
   "source": []
  },
  {
   "cell_type": "code",
   "execution_count": null,
   "metadata": {},
   "outputs": [],
   "source": []
  },
  {
   "cell_type": "code",
   "execution_count": null,
   "metadata": {},
   "outputs": [],
   "source": [
    "uiautomator_device = u2.connect(device_serial)\n",
    "run_adb_as_root(log)\n",
    "apk_obj = Apk(APK_PATH, uiautomator_device, log)\n",
    "apk_obj.launch_app()"
   ]
  },
  {
   "cell_type": "code",
   "execution_count": 8,
   "metadata": {},
   "outputs": [],
   "source": [
    "debug_final_state = \"\"\"<?xml version=\\'1.0\\' encoding=\\'UTF-8\\' standalone=\\'yes\\' ?>\\r\\n<hierarchy rotation=\"0\">\\r\\n  <node index=\"0\" text=\"\" resource-id=\"\" class=\"android.widget.FrameLayout\" package=\"com.example.validrec\" content-desc=\"\" checkable=\"false\" checked=\"false\" clickable=\"false\" enabled=\"true\" focusable=\"false\" focused=\"false\" scrollable=\"false\" long-clickable=\"false\" password=\"false\" selected=\"false\" visible-to-user=\"true\" bounds=\"[0,0][1080,2040]\">\\r\\n    <node index=\"0\" text=\"\" resource-id=\"\" class=\"android.widget.LinearLayout\" package=\"com.example.validrec\" content-desc=\"\" checkable=\"false\" checked=\"false\" clickable=\"false\" enabled=\"true\" focusable=\"false\" focused=\"false\" scrollable=\"false\" long-clickable=\"false\" password=\"false\" selected=\"false\" visible-to-user=\"true\" bounds=\"[0,0][1080,2040]\">\\r\\n      <node index=\"0\" text=\"\" resource-id=\"\" class=\"android.widget.FrameLayout\" package=\"com.example.validrec\" content-desc=\"\" checkable=\"false\" checked=\"false\" clickable=\"false\" enabled=\"true\" focusable=\"false\" focused=\"false\" scrollable=\"false\" long-clickable=\"false\" password=\"false\" selected=\"false\" visible-to-user=\"true\" bounds=\"[0,60][1080,2040]\">\\r\\n        <node index=\"0\" text=\"\" resource-id=\"com.example.validrec:id/action_bar_root\" class=\"android.widget.LinearLayout\" package=\"com.example.validrec\" content-desc=\"\" checkable=\"false\" checked=\"false\" clickable=\"false\" enabled=\"true\" focusable=\"false\" focused=\"false\" scrollable=\"false\" long-clickable=\"false\" password=\"false\" selected=\"false\" visible-to-user=\"true\" bounds=\"[0,60][1080,2040]\">\\r\\n          <node index=\"0\" text=\"\" resource-id=\"android:id/content\" class=\"android.widget.FrameLayout\" package=\"com.example.validrec\" content-desc=\"\" checkable=\"false\" checked=\"false\" clickable=\"false\" enabled=\"true\" focusable=\"false\" focused=\"false\" scrollable=\"false\" long-clickable=\"false\" password=\"false\" selected=\"false\" visible-to-user=\"true\" bounds=\"[0,60][1080,2040]\">\\r\\n            <node index=\"0\" text=\"\" resource-id=\"com.example.validrec:id/coordinator\" class=\"android.view.ViewGroup\" package=\"com.example.validrec\" content-desc=\"\" checkable=\"false\" checked=\"false\" clickable=\"false\" enabled=\"true\" focusable=\"false\" focused=\"false\" scrollable=\"false\" long-clickable=\"false\" password=\"false\" selected=\"false\" visible-to-user=\"true\" bounds=\"[0,60][1080,2040]\">\\r\\n              <node index=\"0\" text=\"enter secret message\" resource-id=\"com.example.validrec:id/textView\" class=\"android.widget.TextView\" package=\"com.example.validrec\" content-desc=\"\" checkable=\"false\" checked=\"false\" clickable=\"false\" enabled=\"true\" focusable=\"false\" focused=\"false\" scrollable=\"false\" long-clickable=\"false\" password=\"false\" selected=\"false\" visible-to-user=\"true\" bounds=\"[0,60][1080,1698]\" />\\r\\n            </node>\\r\\n          </node>\\r\\n        </node>\\r\\n      </node>\\r\\n    </node>\\r\\n  </node>\\r\\n  <node index=\"0\" text=\"\" resource-id=\"\" class=\"android.widget.FrameLayout\" package=\"com.android.systemui\" content-desc=\"\" checkable=\"false\" checked=\"false\" clickable=\"false\" enabled=\"true\" focusable=\"false\" focused=\"false\" scrollable=\"false\" long-clickable=\"false\" password=\"false\" selected=\"false\" visible-to-user=\"true\" bounds=\"[0,0][1080,60]\">\\r\\n    <node index=\"0\" text=\"\" resource-id=\"com.android.systemui:id/scrim_in_front\" class=\"android.view.View\" package=\"com.android.systemui\" content-desc=\"\" checkable=\"false\" checked=\"false\" clickable=\"false\" enabled=\"true\" focusable=\"true\" focused=\"false\" scrollable=\"false\" long-clickable=\"false\" password=\"false\" selected=\"false\" visible-to-user=\"true\" bounds=\"[0,0][1080,60]\" />\\r\\n    <node index=\"1\" text=\"\" resource-id=\"com.android.systemui:id/scrim_behind\" class=\"android.view.View\" package=\"com.android.systemui\" content-desc=\"\" checkable=\"false\" checked=\"false\" clickable=\"false\" enabled=\"true\" focusable=\"true\" focused=\"false\" scrollable=\"false\" long-clickable=\"false\" password=\"false\" selected=\"false\" visible-to-user=\"true\" bounds=\"[0,0][1080,60]\" />\\r\\n    <node index=\"2\" text=\"\" resource-id=\"com.android.systemui:id/status_bar_container\" class=\"android.widget.FrameLayout\" package=\"com.android.systemui\" content-desc=\"\" checkable=\"false\" checked=\"false\" clickable=\"false\" enabled=\"true\" focusable=\"false\" focused=\"false\" scrollable=\"false\" long-clickable=\"false\" password=\"false\" selected=\"false\" visible-to-user=\"true\" bounds=\"[0,0][1080,60]\">\\r\\n      <node index=\"0\" text=\"\" resource-id=\"com.android.systemui:id/status_bar\" class=\"android.widget.FrameLayout\" package=\"com.android.systemui\" content-desc=\"\" checkable=\"false\" checked=\"false\" clickable=\"false\" enabled=\"true\" focusable=\"false\" focused=\"false\" scrollable=\"false\" long-clickable=\"false\" password=\"false\" selected=\"false\" visible-to-user=\"true\" bounds=\"[0,0][1080,60]\">\\r\\n        <node index=\"0\" text=\"\" resource-id=\"com.android.systemui:id/status_bar_contents\" class=\"android.widget.LinearLayout\" package=\"com.android.systemui\" content-desc=\"\" checkable=\"false\" checked=\"false\" clickable=\"false\" enabled=\"true\" focusable=\"false\" focused=\"false\" scrollable=\"false\" long-clickable=\"false\" password=\"false\" selected=\"false\" visible-to-user=\"true\" bounds=\"[20,0][1060,60]\">\\r\\n          <node index=\"0\" text=\"\" resource-id=\"\" class=\"android.widget.FrameLayout\" package=\"com.android.systemui\" content-desc=\"\" checkable=\"false\" checked=\"false\" clickable=\"false\" enabled=\"true\" focusable=\"false\" focused=\"false\" scrollable=\"false\" long-clickable=\"false\" password=\"false\" selected=\"false\" visible-to-user=\"true\" bounds=\"[35,0][540,60]\">\\r\\n            <node index=\"0\" text=\"\" resource-id=\"com.android.systemui:id/status_bar_left_side\" class=\"android.widget.LinearLayout\" package=\"com.android.systemui\" content-desc=\"\" checkable=\"false\" checked=\"false\" clickable=\"false\" enabled=\"true\" focusable=\"false\" focused=\"false\" scrollable=\"false\" long-clickable=\"false\" password=\"false\" selected=\"false\" visible-to-user=\"true\" bounds=\"[35,0][540,60]\">\\r\\n              <node index=\"0\" text=\"10:55\" resource-id=\"com.android.systemui:id/clock\" class=\"android.widget.TextView\" package=\"com.android.systemui\" content-desc=\"10:55 PM\" checkable=\"false\" checked=\"false\" clickable=\"false\" enabled=\"true\" focusable=\"false\" focused=\"false\" scrollable=\"false\" long-clickable=\"false\" password=\"false\" selected=\"false\" visible-to-user=\"true\" bounds=\"[35,0][142,60]\" />\\r\\n              <node index=\"1\" text=\"\" resource-id=\"com.android.systemui:id/notification_icon_area\" class=\"android.widget.FrameLayout\" package=\"com.android.systemui\" content-desc=\"\" checkable=\"false\" checked=\"false\" clickable=\"false\" enabled=\"true\" focusable=\"false\" focused=\"false\" scrollable=\"false\" long-clickable=\"false\" password=\"false\" selected=\"false\" visible-to-user=\"true\" bounds=\"[142,0][540,60]\">\\r\\n                <node index=\"0\" text=\"\" resource-id=\"com.android.systemui:id/notification_icon_area_inner\" class=\"android.widget.LinearLayout\" package=\"com.android.systemui\" content-desc=\"\" checkable=\"false\" checked=\"false\" clickable=\"false\" enabled=\"true\" focusable=\"false\" focused=\"false\" scrollable=\"false\" long-clickable=\"false\" password=\"false\" selected=\"false\" visible-to-user=\"true\" bounds=\"[142,0][540,60]\">\\r\\n                  <node index=\"0\" text=\"\" resource-id=\"com.android.systemui:id/notificationIcons\" class=\"android.widget.FrameLayout\" package=\"com.android.systemui\" content-desc=\"\" checkable=\"false\" checked=\"false\" clickable=\"false\" enabled=\"true\" focusable=\"false\" focused=\"false\" scrollable=\"false\" long-clickable=\"false\" password=\"false\" selected=\"false\" visible-to-user=\"true\" bounds=\"[142,0][540,60]\">\\r\\n                    <node index=\"0\" text=\"\" resource-id=\"\" class=\"android.widget.ImageView\" package=\"com.android.systemui\" content-desc=\"Android Setup notification: Preparing for setup…\" checkable=\"false\" checked=\"false\" clickable=\"false\" enabled=\"true\" focusable=\"false\" focused=\"false\" scrollable=\"false\" long-clickable=\"false\" password=\"false\" selected=\"false\" visible-to-user=\"true\" bounds=\"[142,0][197,60]\" />\\r\\n                    <node index=\"1\" text=\"\" resource-id=\"\" class=\"android.widget.ImageView\" package=\"com.android.systemui\" content-desc=\"ATX notification: UIAutomator\" checkable=\"false\" checked=\"false\" clickable=\"false\" enabled=\"true\" focusable=\"false\" focused=\"false\" scrollable=\"false\" long-clickable=\"false\" password=\"false\" selected=\"false\" visible-to-user=\"true\" bounds=\"[197,0][252,60]\" />\\r\\n                    <node index=\"2\" text=\"\" resource-id=\"\" class=\"android.widget.ImageView\" package=\"com.android.systemui\" content-desc=\"Settings notification: Virtual SD card\" checkable=\"false\" checked=\"false\" clickable=\"false\" enabled=\"true\" focusable=\"false\" focused=\"false\" scrollable=\"false\" long-clickable=\"false\" password=\"false\" selected=\"false\" visible-to-user=\"true\" bounds=\"[252,0][307,60]\" />\\r\\n                  </node>\\r\\n                </node>\\r\\n              </node>\\r\\n            </node>\\r\\n          </node>\\r\\n          <node index=\"1\" text=\"\" resource-id=\"com.android.systemui:id/system_icon_area\" class=\"android.widget.LinearLayout\" package=\"com.android.systemui\" content-desc=\"\" checkable=\"false\" checked=\"false\" clickable=\"false\" enabled=\"true\" focusable=\"false\" focused=\"false\" scrollable=\"false\" long-clickable=\"false\" password=\"false\" selected=\"false\" visible-to-user=\"true\" bounds=\"[540,0][1045,60]\">\\r\\n            <node index=\"0\" text=\"\" resource-id=\"com.android.systemui:id/system_icons\" class=\"android.widget.LinearLayout\" package=\"com.android.systemui\" content-desc=\"\" checkable=\"false\" checked=\"false\" clickable=\"false\" enabled=\"true\" focusable=\"false\" focused=\"false\" scrollable=\"false\" long-clickable=\"false\" password=\"false\" selected=\"false\" visible-to-user=\"true\" bounds=\"[540,0][1045,60]\">\\r\\n              <node index=\"0\" text=\"\" resource-id=\"com.android.systemui:id/statusIcons\" class=\"android.widget.LinearLayout\" package=\"com.android.systemui\" content-desc=\"\" checkable=\"false\" checked=\"false\" clickable=\"false\" enabled=\"true\" focusable=\"false\" focused=\"false\" scrollable=\"false\" long-clickable=\"false\" password=\"false\" selected=\"false\" visible-to-user=\"true\" bounds=\"[540,0][1024,60]\">\\r\\n                <node index=\"0\" text=\"\" resource-id=\"com.android.systemui:id/wifi_combo\" class=\"android.widget.FrameLayout\" package=\"com.android.systemui\" content-desc=\"Wifi signal full.\" checkable=\"false\" checked=\"false\" clickable=\"false\" enabled=\"true\" focusable=\"false\" focused=\"false\" scrollable=\"false\" long-clickable=\"false\" password=\"false\" selected=\"false\" visible-to-user=\"true\" bounds=\"[924,2][971,57]\">\\r\\n                  <node index=\"0\" text=\"\" resource-id=\"com.android.systemui:id/wifi_group\" class=\"android.widget.LinearLayout\" package=\"com.android.systemui\" content-desc=\"\" checkable=\"false\" checked=\"false\" clickable=\"false\" enabled=\"true\" focusable=\"false\" focused=\"false\" scrollable=\"false\" long-clickable=\"false\" password=\"false\" selected=\"false\" visible-to-user=\"true\" bounds=\"[930,2][971,57]\">\\r\\n                    <node index=\"0\" text=\"\" resource-id=\"com.android.systemui:id/wifi_combo\" class=\"android.widget.FrameLayout\" package=\"com.android.systemui\" content-desc=\"\" checkable=\"false\" checked=\"false\" clickable=\"false\" enabled=\"true\" focusable=\"false\" focused=\"false\" scrollable=\"false\" long-clickable=\"false\" password=\"false\" selected=\"false\" visible-to-user=\"true\" bounds=\"[930,10][971,48]\">\\r\\n                      <node index=\"0\" text=\"\" resource-id=\"com.android.systemui:id/wifi_signal\" class=\"android.widget.ImageView\" package=\"com.android.systemui\" content-desc=\"\" checkable=\"false\" checked=\"false\" clickable=\"false\" enabled=\"true\" focusable=\"false\" focused=\"false\" scrollable=\"false\" long-clickable=\"false\" password=\"false\" selected=\"false\" visible-to-user=\"true\" bounds=\"[930,10][971,48]\" />\\r\\n                    </node>\\r\\n                  </node>\\r\\n                </node>\\r\\n                <node index=\"1\" text=\"\" resource-id=\"com.android.systemui:id/mobile_combo\" class=\"android.widget.FrameLayout\" package=\"com.android.systemui\" content-desc=\"Phone two bars.\" checkable=\"false\" checked=\"false\" clickable=\"false\" enabled=\"true\" focusable=\"false\" focused=\"false\" scrollable=\"false\" long-clickable=\"false\" password=\"false\" selected=\"false\" visible-to-user=\"true\" bounds=\"[971,2][1009,57]\">\\r\\n                  <node index=\"0\" text=\"\" resource-id=\"com.android.systemui:id/mobile_group\" class=\"android.widget.LinearLayout\" package=\"com.android.systemui\" content-desc=\"\" checkable=\"false\" checked=\"false\" clickable=\"false\" enabled=\"true\" focusable=\"false\" focused=\"false\" scrollable=\"false\" long-clickable=\"false\" password=\"false\" selected=\"false\" visible-to-user=\"true\" bounds=\"[971,2][1009,57]\">\\r\\n                    <node index=\"0\" text=\"\" resource-id=\"\" class=\"android.widget.FrameLayout\" package=\"com.android.systemui\" content-desc=\"\" checkable=\"false\" checked=\"false\" clickable=\"false\" enabled=\"true\" focusable=\"false\" focused=\"false\" scrollable=\"false\" long-clickable=\"false\" password=\"false\" selected=\"false\" visible-to-user=\"true\" bounds=\"[971,10][1009,48]\">\\r\\n                      <node index=\"0\" text=\"\" resource-id=\"com.android.systemui:id/mobile_signal\" class=\"android.widget.ImageView\" package=\"com.android.systemui\" content-desc=\"\" checkable=\"false\" checked=\"false\" clickable=\"false\" enabled=\"true\" focusable=\"false\" focused=\"false\" scrollable=\"false\" long-clickable=\"false\" password=\"false\" selected=\"false\" visible-to-user=\"true\" bounds=\"[971,10][1009,48]\" />\\r\\n                    </node>\\r\\n                  </node>\\r\\n                </node>\\r\\n              </node>\\r\\n              <node index=\"1\" text=\"\" resource-id=\"com.android.systemui:id/battery\" class=\"android.widget.LinearLayout\" package=\"com.android.systemui\" content-desc=\"Battery 100 percent.\" checkable=\"false\" checked=\"false\" clickable=\"false\" enabled=\"true\" focusable=\"false\" focused=\"false\" scrollable=\"false\" long-clickable=\"false\" password=\"false\" selected=\"false\" visible-to-user=\"true\" bounds=\"[1024,0][1045,60]\">\\r\\n                <node index=\"0\" text=\"\" resource-id=\"\" class=\"android.widget.ImageView\" package=\"com.android.systemui\" content-desc=\"\" checkable=\"false\" checked=\"false\" clickable=\"false\" enabled=\"true\" focusable=\"false\" focused=\"false\" scrollable=\"false\" long-clickable=\"false\" password=\"false\" selected=\"false\" visible-to-user=\"true\" bounds=\"[1024,13][1045,46]\" />\\r\\n              </node>\\r\\n            </node>\\r\\n          </node>\\r\\n        </node>\\r\\n      </node>\\r\\n    </node>\\r\\n  </node>\\r\\n  <node index=\"0\" text=\"\" resource-id=\"com.android.systemui:id/navigation_bar_frame\" class=\"android.widget.FrameLayout\" package=\"com.android.systemui\" content-desc=\"\" checkable=\"false\" checked=\"false\" clickable=\"false\" enabled=\"true\" focusable=\"false\" focused=\"false\" scrollable=\"false\" long-clickable=\"false\" password=\"false\" selected=\"false\" visible-to-user=\"true\" bounds=\"[0,2040][1080,2160]\">\\r\\n    <node index=\"0\" text=\"\" resource-id=\"\" class=\"android.widget.FrameLayout\" package=\"com.android.systemui\" content-desc=\"\" checkable=\"false\" checked=\"false\" clickable=\"false\" enabled=\"true\" focusable=\"false\" focused=\"false\" scrollable=\"false\" long-clickable=\"false\" password=\"false\" selected=\"false\" visible-to-user=\"true\" bounds=\"[0,2040][1080,2160]\">\\r\\n      <node index=\"0\" text=\"\" resource-id=\"com.android.systemui:id/navigation_inflater\" class=\"android.widget.FrameLayout\" package=\"com.android.systemui\" content-desc=\"\" checkable=\"false\" checked=\"false\" clickable=\"false\" enabled=\"true\" focusable=\"false\" focused=\"false\" scrollable=\"false\" long-clickable=\"false\" password=\"false\" selected=\"false\" visible-to-user=\"true\" bounds=\"[0,2040][1080,2160]\">\\r\\n        <node index=\"0\" text=\"\" resource-id=\"com.android.systemui:id/rot0\" class=\"android.widget.FrameLayout\" package=\"com.android.systemui\" content-desc=\"\" checkable=\"false\" checked=\"false\" clickable=\"false\" enabled=\"true\" focusable=\"false\" focused=\"false\" scrollable=\"false\" long-clickable=\"false\" password=\"false\" selected=\"false\" visible-to-user=\"true\" bounds=\"[0,2040][1080,2160]\">\\r\\n          <node index=\"0\" text=\"\" resource-id=\"com.android.systemui:id/nav_buttons\" class=\"android.widget.FrameLayout\" package=\"com.android.systemui\" content-desc=\"\" checkable=\"false\" checked=\"false\" clickable=\"false\" enabled=\"true\" focusable=\"false\" focused=\"false\" scrollable=\"false\" long-clickable=\"false\" password=\"false\" selected=\"false\" visible-to-user=\"true\" bounds=\"[0,2040][1080,2160]\">\\r\\n            <node index=\"0\" text=\"\" resource-id=\"com.android.systemui:id/ends_group\" class=\"android.widget.LinearLayout\" package=\"com.android.systemui\" content-desc=\"\" checkable=\"false\" checked=\"false\" clickable=\"false\" enabled=\"true\" focusable=\"false\" focused=\"false\" scrollable=\"false\" long-clickable=\"false\" password=\"false\" selected=\"false\" visible-to-user=\"true\" bounds=\"[20,2040][1060,2160]\">\\r\\n              <node index=\"0\" text=\"\" resource-id=\"\" class=\"android.widget.RelativeLayout\" package=\"com.android.systemui\" content-desc=\"\" checkable=\"false\" checked=\"false\" clickable=\"false\" enabled=\"true\" focusable=\"false\" focused=\"false\" scrollable=\"false\" long-clickable=\"false\" password=\"false\" selected=\"false\" visible-to-user=\"true\" bounds=\"[40,2040][140,2160]\" />\\r\\n              <node index=\"1\" text=\"\" resource-id=\"\" class=\"android.widget.RelativeLayout\" package=\"com.android.systemui\" content-desc=\"\" checkable=\"false\" checked=\"false\" clickable=\"false\" enabled=\"true\" focusable=\"false\" focused=\"false\" scrollable=\"false\" long-clickable=\"false\" password=\"false\" selected=\"false\" visible-to-user=\"true\" bounds=\"[140,2040][340,2160]\">\\r\\n                <node index=\"0\" text=\"\" resource-id=\"com.android.systemui:id/back\" class=\"android.widget.ImageView\" package=\"com.android.systemui\" content-desc=\"Back\" checkable=\"false\" checked=\"false\" clickable=\"true\" enabled=\"true\" focusable=\"true\" focused=\"false\" scrollable=\"false\" long-clickable=\"true\" password=\"false\" selected=\"false\" visible-to-user=\"true\" bounds=\"[140,2040][340,2160]\" />\\r\\n              </node>\\r\\n              <node index=\"2\" text=\"\" resource-id=\"\" class=\"android.widget.RelativeLayout\" package=\"com.android.systemui\" content-desc=\"\" checkable=\"false\" checked=\"false\" clickable=\"false\" enabled=\"true\" focusable=\"false\" focused=\"false\" scrollable=\"false\" long-clickable=\"false\" password=\"false\" selected=\"false\" visible-to-user=\"true\" bounds=\"[740,2040][940,2160]\">\\r\\n                <node index=\"0\" text=\"\" resource-id=\"com.android.systemui:id/recent_apps\" class=\"android.widget.ImageView\" package=\"com.android.systemui\" content-desc=\"Overview\" checkable=\"false\" checked=\"false\" clickable=\"true\" enabled=\"true\" focusable=\"true\" focused=\"false\" scrollable=\"false\" long-clickable=\"true\" password=\"false\" selected=\"false\" visible-to-user=\"true\" bounds=\"[740,2040][940,2160]\" />\\r\\n              </node>\\r\\n              <node index=\"3\" text=\"\" resource-id=\"\" class=\"android.widget.RelativeLayout\" package=\"com.android.systemui\" content-desc=\"\" checkable=\"false\" checked=\"false\" clickable=\"false\" enabled=\"true\" focusable=\"false\" focused=\"false\" scrollable=\"false\" long-clickable=\"false\" password=\"false\" selected=\"false\" visible-to-user=\"true\" bounds=\"[940,2040][1040,2160]\">\\r\\n                <node NAF=\"true\" index=\"0\" text=\"\" resource-id=\"com.android.systemui:id/menu_container\" class=\"android.widget.FrameLayout\" package=\"com.android.systemui\" content-desc=\"\" checkable=\"false\" checked=\"false\" clickable=\"true\" enabled=\"true\" focusable=\"true\" focused=\"false\" scrollable=\"false\" long-clickable=\"true\" password=\"false\" selected=\"false\" visible-to-user=\"true\" bounds=\"[940,2040][1040,2160]\" />\\r\\n              </node>\\r\\n            </node>\\r\\n            <node index=\"1\" text=\"\" resource-id=\"com.android.systemui:id/center_group\" class=\"android.widget.LinearLayout\" package=\"com.android.systemui\" content-desc=\"\" checkable=\"false\" checked=\"false\" clickable=\"false\" enabled=\"true\" focusable=\"false\" focused=\"false\" scrollable=\"false\" long-clickable=\"false\" password=\"false\" selected=\"false\" visible-to-user=\"true\" bounds=\"[420,2040][660,2160]\">\\r\\n              <node index=\"0\" text=\"\" resource-id=\"com.android.systemui:id/home\" class=\"android.widget.FrameLayout\" package=\"com.android.systemui\" content-desc=\"\" checkable=\"false\" checked=\"false\" clickable=\"true\" enabled=\"true\" focusable=\"true\" focused=\"false\" scrollable=\"false\" long-clickable=\"false\" password=\"false\" selected=\"false\" visible-to-user=\"true\" bounds=\"[440,2040][640,2160]\">\\r\\n                <node index=\"0\" text=\"\" resource-id=\"com.android.systemui:id/home_button\" class=\"android.widget.ImageView\" package=\"com.android.systemui\" content-desc=\"Home\" checkable=\"false\" checked=\"false\" clickable=\"true\" enabled=\"true\" focusable=\"true\" focused=\"false\" scrollable=\"false\" long-clickable=\"true\" password=\"false\" selected=\"false\" visible-to-user=\"true\" bounds=\"[440,2040][640,2160]\" />\\r\\n                <node index=\"1\" text=\"\" resource-id=\"\" class=\"android.widget.RelativeLayout\" package=\"com.android.systemui\" content-desc=\"\" checkable=\"false\" checked=\"false\" clickable=\"false\" enabled=\"true\" focusable=\"false\" focused=\"false\" scrollable=\"false\" long-clickable=\"false\" password=\"false\" selected=\"false\" visible-to-user=\"true\" bounds=\"[440,2040][640,2160]\" />\\r\\n                <node index=\"2\" text=\"\" resource-id=\"com.android.systemui:id/white_cutout\" class=\"android.widget.ImageView\" package=\"com.android.systemui\" content-desc=\"\" checkable=\"false\" checked=\"false\" clickable=\"false\" enabled=\"true\" focusable=\"false\" focused=\"false\" scrollable=\"false\" long-clickable=\"false\" password=\"false\" selected=\"false\" visible-to-user=\"true\" bounds=\"[517,2077][562,2122]\" />\\r\\n                <node index=\"3\" text=\"\" resource-id=\"com.android.systemui:id/white\" class=\"android.widget.ImageView\" package=\"com.android.systemui\" content-desc=\"\" checkable=\"false\" checked=\"false\" clickable=\"false\" enabled=\"true\" focusable=\"false\" focused=\"false\" scrollable=\"false\" long-clickable=\"false\" password=\"false\" selected=\"false\" visible-to-user=\"true\" bounds=\"[517,2077][562,2122]\" />\\r\\n              </node>\\r\\n            </node>\\r\\n          </node>\\r\\n        </node>\\r\\n      </node>\\r\\n    </node>\\r\\n  </node>\\r\\n</hierarchy>\"\"\""
   ]
  },
  {
   "cell_type": "code",
   "execution_count": null,
   "metadata": {},
   "outputs": [],
   "source": [
    "hypn_nodes = 200\n",
    "hypn_steps = 2\n",
    "agent_obj = NeuralAgent(spec_dims=19, maxn_nodes=hypn_nodes).to(device)\n",
    "optimizer_obj = torch.optim.SGD(agent_obj.parameters(), lr=0.1)\n",
    "for ep in range(100):\n",
    "    print(\"# ep{}\".format(ep))\n",
    "    rollout(apk_obj, agent_obj, optimizer_obj, hypn_steps, hypn_nodes, debug_final_state)"
   ]
  },
  {
   "cell_type": "code",
   "execution_count": null,
   "metadata": {},
   "outputs": [],
   "source": []
  }
 ],
 "metadata": {
  "kernelspec": {
   "display_name": "Python 3",
   "language": "python",
   "name": "python3"
  },
  "language_info": {
   "codemirror_mode": {
    "name": "ipython",
    "version": 3
   },
   "file_extension": ".py",
   "mimetype": "text/x-python",
   "name": "python",
   "nbconvert_exporter": "python",
   "pygments_lexer": "ipython3",
   "version": "3.6.9"
  }
 },
 "nbformat": 4,
 "nbformat_minor": 4
}

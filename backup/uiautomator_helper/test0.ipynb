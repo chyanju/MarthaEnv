{
 "cells": [
  {
   "cell_type": "markdown",
   "metadata": {},
   "source": [
    "### test0\n",
    "This demonstrates some potential issue with the action-edge matching."
   ]
  },
  {
   "cell_type": "code",
   "execution_count": 1,
   "metadata": {},
   "outputs": [],
   "source": [
    "import networkx as nx"
   ]
  },
  {
   "cell_type": "code",
   "execution_count": 3,
   "metadata": {},
   "outputs": [
    {
     "name": "stderr",
     "output_type": "stream",
     "text": [
      "[INFO] | 2021-03-28 03:59:27 PM | analyzer.testapp_3 | Adb is running with root priviledges now!\n",
      "[INFO] | 2021-03-28 03:59:27 PM | analyzer.testapp_3 | Adb is running with root priviledges now!\n"
     ]
    },
    {
     "name": "stdout",
     "output_type": "stream",
     "text": [
      "\u001b[36m[#] Analysis started at: 2021-03-28 03:59:27 PM\u001b[0m\n"
     ]
    },
    {
     "name": "stderr",
     "output_type": "stream",
     "text": [
      "[INFO] | 2021-03-28 03:59:27 PM | analyzer.testapp_3 | Old logcat messages cleared!\n",
      "[INFO] | 2021-03-28 03:59:27 PM | analyzer.testapp_3 | Old logcat messages cleared!\n",
      "[INFO] | 2021-03-28 03:59:28 PM | analyzer.testapp_3 | APK installtion done for testapp_3.apk\n",
      "[INFO] | 2021-03-28 03:59:28 PM | analyzer.testapp_3 | APK installtion done for testapp_3.apk\n",
      "[INFO] | 2021-03-28 03:59:29 PM | analyzer.testapp_3 | Kill the current app if already spawned!\n",
      "[INFO] | 2021-03-28 03:59:29 PM | analyzer.testapp_3 | Kill the current app if already spawned!\n",
      "[INFO] | 2021-03-28 03:59:29 PM | analyzer.testapp_3 | APK is already killed\n",
      "[INFO] | 2021-03-28 03:59:29 PM | analyzer.testapp_3 | APK is already killed\n",
      "[INFO] | 2021-03-28 03:59:29 PM | analyzer.testapp_3 | Spawning the current app\n",
      "[INFO] | 2021-03-28 03:59:29 PM | analyzer.testapp_3 | Spawning the current app\n",
      "[INFO] | 2021-03-28 03:59:30 PM | analyzer.testapp_3 | Apk spawned successfully!\n",
      "[INFO] | 2021-03-28 03:59:30 PM | analyzer.testapp_3 | Apk spawned successfully!\n",
      "[INFO] | 2021-03-28 03:59:32 PM | analyzer.testapp_3 | Old logcat messages cleared!\n",
      "[INFO] | 2021-03-28 03:59:32 PM | analyzer.testapp_3 | Old logcat messages cleared!\n"
     ]
    }
   ],
   "source": [
    "from main import *\n",
    "\n",
    "CURR_DIR = os.path.dirname(os.getcwd())\n",
    "OUTPUT_DIR = os.path.join(CURR_DIR, \"results\")\n",
    "\n",
    "args = {\n",
    "#     \"path\": \"../results/test_app_1/testapp_1.apk\",\n",
    "#     \"path\": \"../results/test_app_2/testapp_2.apk\",\n",
    "#     \"path\": \"../test/com.github.cetoolbox_11/app_simple0.apk\",\n",
    "#     \"path\": \"/Users/joseph/Desktop/UCSB/20summer/MarthaEnv/tmp/Wordpress_394/Wordpress_394.apk\",\n",
    "#     \"path\": \"/Users/joseph/Desktop/UCSB/20summer/MarthaEnv/tmp/com.zoffcc.applications.aagtl_31/com.zoffcc.applications.aagtl_31.apk\",\n",
    "#     \"path\": \"/Users/joseph/Desktop/UCSB/20summer/MarthaEnv/tmp/Translate/Translate.apk\",\n",
    "#     \"path\": \"/Users/joseph/Desktop/UCSB/20summer/MarthaEnv/tmp/com.chmod0.manpages_3/com.chmod0.manpages_3.apk\",\n",
    "#     \"path\": \"/Users/joseph/Desktop/UCSB/20summer/MarthaEnv/tmp/Book-Catalogue/Book-Catalogue.apk\",\n",
    "#     \"path\": \"/Users/joseph/Desktop/UCSB/20summer/MarthaEnv/test/out.andFHEM.apk\",\n",
    "#     \"path\": \"/Users/joseph/Desktop/UCSB/20summer/MarthaEnv/test/out.blue-chat.apk\",\n",
    "#     \"path\": \"/Users/joseph/Desktop/UCSB/20summer/MarthaEnv/test/out.CallMeter3G-debug.apk\",\n",
    "#     \"path\": \"/Users/joseph/Desktop/UCSB/20summer/MarthaEnv/test/out.Lucid-Browser.apk\",\n",
    "    \"path\": \"../results/test_app_3/testapp_3.apk\",\n",
    "    \"output\": \"../results/\",\n",
    "    \"wtginput\": \"../results/test_app_3/\",\n",
    "    \"goalstates\": \"../results/test_app_3/goals_caller.json\",\n",
    "}\n",
    "\n",
    "if args[\"path\"] is not None:\n",
    "    pyaxmlparser_apk = APK(args[\"path\"])\n",
    "    apk_base_name = os.path.splitext(os.path.basename(args[\"path\"]))[0]\n",
    "else:\n",
    "    parser.print_usage()\n",
    "    sys.exit(1)\n",
    "    \n",
    "goal_states = {}\n",
    "if args[\"goalstates\"] is not None:\n",
    "    with open(args[\"goalstates\"], 'r') as fp:\n",
    "        goal_states = json.load(fp)\n",
    "\n",
    "else:\n",
    "    parser.print_usage()\n",
    "    sys.exit(1)\n",
    "\n",
    "if args[\"output\"] is not None:\n",
    "    OUTPUT_DIR = args[\"output\"]\n",
    "\n",
    "output_dir = os.path.join(OUTPUT_DIR, 'exploration_output', apk_base_name)\n",
    "\n",
    "wtg = None\n",
    "if args[\"wtginput\"]:\n",
    "    wtg = args[\"wtginput\"] #os.path.join(args.wtginput, apk_base_name)\n",
    "\n",
    "if os.path.exists(output_dir):\n",
    "    rmtree(output_dir)\n",
    "\n",
    "os.makedirs(output_dir, exist_ok=True)\n",
    "\n",
    "# Setting the path for log file\n",
    "log_path = os.path.join(output_dir, 'analysis.log')\n",
    "log = init_logging('analyzer.%s' % apk_base_name, log_path, file_mode='w', console=True)\n",
    "\n",
    "# Record analysis start time\n",
    "now = datetime.datetime.now()\n",
    "analysis_start_time = now.strftime(DATE_FORMAT)\n",
    "info('Analysis started at: %s' % analysis_start_time)\n",
    "start_time = time.time()\n",
    "\n",
    "# Get the serial for the device attached to ADB\n",
    "device_serial = get_device_serial(log)\n",
    "\n",
    "if device_serial is None:\n",
    "    log.warning(\"Device is not connected!\")\n",
    "    sys.exit(1)\n",
    "\n",
    "# Initialize the uiautomator device object using the device serial\n",
    "uiautomator_device = u2.connect(device_serial)\n",
    "run_adb_as_root(log, device_serial)\n",
    "apk_obj = Apk(args[\"path\"], uiautomator_device, output_dir, log, device_serial)\n",
    "wtg_obj = WTG(wtg, log)\n",
    "wtg_obj.set_goal_nodes(goal_states)\n",
    "apk_obj.launch_app()\n",
    "# to track some goal state at startup, you don't have to do this\n",
    "apk_obj.clean_logcat()"
   ]
  },
  {
   "cell_type": "code",
   "execution_count": 9,
   "metadata": {},
   "outputs": [],
   "source": [
    "state = apk_obj.get_current_state()\n",
    "wtg_state = apk_obj.get_wtg_state(wtg_obj)\n",
    "all_actions = apk_obj.get_available_actionable_elements(state)"
   ]
  },
  {
   "cell_type": "code",
   "execution_count": 10,
   "metadata": {},
   "outputs": [
    {
     "data": {
      "text/plain": [
       "[(<wtg_node.WTGNode at 0x7fc932ac5c50>,\n",
       "  <wtg_node.WTGNode at 0x7fc932ad0668>,\n",
       "  0),\n",
       " (<wtg_node.WTGNode at 0x7fc932ac5c50>,\n",
       "  <wtg_node.WTGNode at 0x7fc932ad0470>,\n",
       "  0),\n",
       " (<wtg_node.WTGNode at 0x7fc932ac5c50>,\n",
       "  <wtg_node.WTGNode at 0x7fc932ad0588>,\n",
       "  0),\n",
       " (<wtg_node.WTGNode at 0x7fc932ac5c50>,\n",
       "  <wtg_node.WTGNode at 0x7fc932ad0358>,\n",
       "  0),\n",
       " (<wtg_node.WTGNode at 0x7fc932ac5c50>,\n",
       "  <wtg_node.WTGNode at 0x7fc932ad0400>,\n",
       "  0),\n",
       " (<wtg_node.WTGNode at 0x7fc932ac5c50>,\n",
       "  <wtg_node.WTGNode at 0x7fc932ad0400>,\n",
       "  1)]"
      ]
     },
     "execution_count": 10,
     "metadata": {},
     "output_type": "execute_result"
    }
   ],
   "source": [
    "apk_obj.get_matching_dynamic_action_to_static_action(all_actions[0], wtg_obj)"
   ]
  },
  {
   "cell_type": "code",
   "execution_count": 11,
   "metadata": {},
   "outputs": [
    {
     "data": {
      "text/plain": [
       "[(<wtg_node.WTGNode at 0x7fc932ac5c50>,\n",
       "  <wtg_node.WTGNode at 0x7fc932ad0668>,\n",
       "  0),\n",
       " (<wtg_node.WTGNode at 0x7fc932ac5c50>,\n",
       "  <wtg_node.WTGNode at 0x7fc932ad0470>,\n",
       "  0),\n",
       " (<wtg_node.WTGNode at 0x7fc932ac5c50>,\n",
       "  <wtg_node.WTGNode at 0x7fc932ad0588>,\n",
       "  0),\n",
       " (<wtg_node.WTGNode at 0x7fc932ac5c50>,\n",
       "  <wtg_node.WTGNode at 0x7fc932ad0358>,\n",
       "  0),\n",
       " (<wtg_node.WTGNode at 0x7fc932ac5c50>,\n",
       "  <wtg_node.WTGNode at 0x7fc932ad0400>,\n",
       "  0),\n",
       " (<wtg_node.WTGNode at 0x7fc932ac5c50>,\n",
       "  <wtg_node.WTGNode at 0x7fc932ad0400>,\n",
       "  1)]"
      ]
     },
     "execution_count": 11,
     "metadata": {},
     "output_type": "execute_result"
    }
   ],
   "source": [
    "apk_obj.get_matching_dynamic_action_to_static_action(all_actions[1], wtg_obj)"
   ]
  },
  {
   "cell_type": "code",
   "execution_count": 13,
   "metadata": {},
   "outputs": [
    {
     "data": {
      "text/plain": [
       "[(<wtg_node.WTGNode at 0x7fc932ac5c50>,\n",
       "  <wtg_node.WTGNode at 0x7fc932ad0668>,\n",
       "  0),\n",
       " (<wtg_node.WTGNode at 0x7fc932ac5c50>,\n",
       "  <wtg_node.WTGNode at 0x7fc932ad0470>,\n",
       "  0),\n",
       " (<wtg_node.WTGNode at 0x7fc932ac5c50>,\n",
       "  <wtg_node.WTGNode at 0x7fc932ad0588>,\n",
       "  0),\n",
       " (<wtg_node.WTGNode at 0x7fc932ac5c50>,\n",
       "  <wtg_node.WTGNode at 0x7fc932ad0358>,\n",
       "  0),\n",
       " (<wtg_node.WTGNode at 0x7fc932ac5c50>,\n",
       "  <wtg_node.WTGNode at 0x7fc932ad0400>,\n",
       "  0),\n",
       " (<wtg_node.WTGNode at 0x7fc932ac5c50>,\n",
       "  <wtg_node.WTGNode at 0x7fc932ad0400>,\n",
       "  1)]"
      ]
     },
     "execution_count": 13,
     "metadata": {},
     "output_type": "execute_result"
    }
   ],
   "source": [
    "apk_obj.get_matching_dynamic_action_to_static_action(all_actions[2], wtg_obj)"
   ]
  },
  {
   "cell_type": "code",
   "execution_count": 14,
   "metadata": {},
   "outputs": [
    {
     "data": {
      "text/plain": [
       "[(<wtg_node.WTGNode at 0x7fc932ac5c50>,\n",
       "  <wtg_node.WTGNode at 0x7fc932ad0668>,\n",
       "  0),\n",
       " (<wtg_node.WTGNode at 0x7fc932ac5c50>,\n",
       "  <wtg_node.WTGNode at 0x7fc932ad0470>,\n",
       "  0),\n",
       " (<wtg_node.WTGNode at 0x7fc932ac5c50>,\n",
       "  <wtg_node.WTGNode at 0x7fc932ad0588>,\n",
       "  0),\n",
       " (<wtg_node.WTGNode at 0x7fc932ac5c50>,\n",
       "  <wtg_node.WTGNode at 0x7fc932ad0358>,\n",
       "  0),\n",
       " (<wtg_node.WTGNode at 0x7fc932ac5c50>,\n",
       "  <wtg_node.WTGNode at 0x7fc932ad0400>,\n",
       "  0),\n",
       " (<wtg_node.WTGNode at 0x7fc932ac5c50>,\n",
       "  <wtg_node.WTGNode at 0x7fc932ad0400>,\n",
       "  1)]"
      ]
     },
     "execution_count": 14,
     "metadata": {},
     "output_type": "execute_result"
    }
   ],
   "source": [
    "apk_obj.get_matching_dynamic_action_to_static_action(all_actions[3], wtg_obj)"
   ]
  },
  {
   "cell_type": "code",
   "execution_count": 15,
   "metadata": {},
   "outputs": [
    {
     "data": {
      "text/plain": [
       "[(<wtg_node.WTGNode at 0x7fc932ac5c50>,\n",
       "  <wtg_node.WTGNode at 0x7fc932ad0668>,\n",
       "  0),\n",
       " (<wtg_node.WTGNode at 0x7fc932ac5c50>,\n",
       "  <wtg_node.WTGNode at 0x7fc932ad0470>,\n",
       "  0),\n",
       " (<wtg_node.WTGNode at 0x7fc932ac5c50>,\n",
       "  <wtg_node.WTGNode at 0x7fc932ad0588>,\n",
       "  0),\n",
       " (<wtg_node.WTGNode at 0x7fc932ac5c50>,\n",
       "  <wtg_node.WTGNode at 0x7fc932ad0358>,\n",
       "  0),\n",
       " (<wtg_node.WTGNode at 0x7fc932ac5c50>,\n",
       "  <wtg_node.WTGNode at 0x7fc932ad0400>,\n",
       "  0),\n",
       " (<wtg_node.WTGNode at 0x7fc932ac5c50>,\n",
       "  <wtg_node.WTGNode at 0x7fc932ad0400>,\n",
       "  1)]"
      ]
     },
     "execution_count": 15,
     "metadata": {},
     "output_type": "execute_result"
    }
   ],
   "source": [
    "apk_obj.get_matching_dynamic_action_to_static_action(all_actions[4], wtg_obj)"
   ]
  },
  {
   "cell_type": "code",
   "execution_count": 16,
   "metadata": {},
   "outputs": [
    {
     "data": {
      "text/plain": [
       "[(<wtg_node.WTGNode at 0x7fc932ac5c50>,\n",
       "  <wtg_node.WTGNode at 0x7fc932ad0668>,\n",
       "  0),\n",
       " (<wtg_node.WTGNode at 0x7fc932ac5c50>,\n",
       "  <wtg_node.WTGNode at 0x7fc932ad0470>,\n",
       "  0),\n",
       " (<wtg_node.WTGNode at 0x7fc932ac5c50>,\n",
       "  <wtg_node.WTGNode at 0x7fc932ad0588>,\n",
       "  0),\n",
       " (<wtg_node.WTGNode at 0x7fc932ac5c50>,\n",
       "  <wtg_node.WTGNode at 0x7fc932ad0358>,\n",
       "  0),\n",
       " (<wtg_node.WTGNode at 0x7fc932ac5c50>,\n",
       "  <wtg_node.WTGNode at 0x7fc932ad0400>,\n",
       "  0),\n",
       " (<wtg_node.WTGNode at 0x7fc932ac5c50>,\n",
       "  <wtg_node.WTGNode at 0x7fc932ad0400>,\n",
       "  1)]"
      ]
     },
     "execution_count": 16,
     "metadata": {},
     "output_type": "execute_result"
    }
   ],
   "source": [
    "apk_obj.get_matching_dynamic_action_to_static_action(all_actions[5], wtg_obj)"
   ]
  },
  {
   "cell_type": "code",
   "execution_count": null,
   "metadata": {},
   "outputs": [],
   "source": []
  }
 ],
 "metadata": {
  "kernelspec": {
   "display_name": "Python 3",
   "language": "python",
   "name": "python3"
  },
  "language_info": {
   "codemirror_mode": {
    "name": "ipython",
    "version": 3
   },
   "file_extension": ".py",
   "mimetype": "text/x-python",
   "name": "python",
   "nbconvert_exporter": "python",
   "pygments_lexer": "ipython3",
   "version": "3.6.9"
  }
 },
 "nbformat": 4,
 "nbformat_minor": 4
}

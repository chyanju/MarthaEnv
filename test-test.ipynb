{
 "cells": [
  {
   "cell_type": "code",
   "execution_count": 1,
   "id": "03050fda-ecdb-446f-8deb-1078356f5016",
   "metadata": {},
   "outputs": [],
   "source": [
    "import pickle"
   ]
  },
  {
   "cell_type": "code",
   "execution_count": 2,
   "id": "e7458a90-d408-4c34-b97b-4d06fe84a52f",
   "metadata": {},
   "outputs": [],
   "source": [
    "with open(\"./benchmarks/00a2d33447e572fff3b0f5ecf40e0c53596f6952c94db385be4720ea249cff5b_onclicks.p\", \"rb\") as f:\n",
    "    dt = pickle.load(f)"
   ]
  },
  {
   "cell_type": "code",
   "execution_count": 4,
   "id": "b5ef7317-c246-419a-9327-ccff1c25614e",
   "metadata": {},
   "outputs": [],
   "source": [
    "import os"
   ]
  },
  {
   "cell_type": "code",
   "execution_count": 8,
   "id": "589fb138-2b48-4c2f-a4ce-2a4c4c59cc9c",
   "metadata": {},
   "outputs": [
    {
     "data": {
      "text/plain": [
       "'/Users/joseph/Desktop/UCSB/20summer/MarthaEnv'"
      ]
     },
     "execution_count": 8,
     "metadata": {},
     "output_type": "execute_result"
    }
   ],
   "source": [
    "os.getcwd()"
   ]
  },
  {
   "cell_type": "code",
   "execution_count": null,
   "id": "b4059e43-b32d-4dcb-a2bb-3594bcbb95f8",
   "metadata": {},
   "outputs": [],
   "source": []
  }
 ],
 "metadata": {
  "kernelspec": {
   "display_name": "venti",
   "language": "python",
   "name": "venti"
  },
  "language_info": {
   "codemirror_mode": {
    "name": "ipython",
    "version": 3
   },
   "file_extension": ".py",
   "mimetype": "text/x-python",
   "name": "python",
   "nbconvert_exporter": "python",
   "pygments_lexer": "ipython3",
   "version": "3.9.5"
  }
 },
 "nbformat": 4,
 "nbformat_minor": 5
}
